{
 "cells": [
  {
   "cell_type": "markdown",
   "id": "570bb1fd-8a95-4b45-ba4e-663495589a3b",
   "metadata": {
    "tags": []
   },
   "source": [
    "# Задача 1"
   ]
  },
  {
   "cell_type": "code",
   "execution_count": 1,
   "id": "f5f63454-2375-4b60-84f3-8164fbdff678",
   "metadata": {},
   "outputs": [],
   "source": [
    "import numpy as np"
   ]
  },
  {
   "cell_type": "code",
   "execution_count": 89,
   "id": "c3e83841-9295-4a59-8f03-1fccf215c120",
   "metadata": {},
   "outputs": [],
   "source": [
    "def F(X, a, b):\n",
    "    return np.sum((X - b.reshape(-1, 1) @ a.reshape(1, -1)) ** 2)\n",
    "\n",
    "def svd_minimize_step(X, max_iterations=1000):\n",
    "    m, n = X.shape\n",
    "    q = min(n, m)\n",
    "    a = np.random.uniform(-1, 1, n)\n",
    "    a = a / np.linalg.norm(a)\n",
    "    f = F(X, np.zeros(n), np.zeros(m))\n",
    "    \n",
    "    for i in range(max_iterations):\n",
    "        b = X @ a.T / np.sum(a ** 2)\n",
    "        a = X.T @ b.T / np.sum(b ** 2)\n",
    "        f_new = F(X, a, b)\n",
    "        delta_f = (f - f_new) / f\n",
    "        f = f_new\n",
    "        if delta_f == 0.0:\n",
    "            break\n",
    "        \n",
    "    return a, b\n",
    "\n",
    "\n",
    "def svd_iterative(X):\n",
    "    m, n = X.shape\n",
    "    q = min(n, m)\n",
    "    U = np.zeros((m, q))\n",
    "    V = np.zeros((q, n))\n",
    "    S = np.zeros(q)\n",
    "    \n",
    "    for i in range(q):\n",
    "        a, b = svd_minimize_step(X)\n",
    "        S[i] = np.linalg.norm(a) * np.linalg.norm(b)\n",
    "        U[:, i] = b / np.linalg.norm(b)\n",
    "        V[:, i] = a / np.linalg.norm(a)\n",
    "        X = X - b.reshape(-1, 1) @ a.reshape(1, -1)\n",
    "        \n",
    "    return U, S, V.T\n",
    "\n",
    "    "
   ]
  },
  {
   "cell_type": "code",
   "execution_count": 98,
   "id": "e572ff19-66ce-4ba6-879a-be74f520e134",
   "metadata": {},
   "outputs": [
    {
     "name": "stdout",
     "output_type": "stream",
     "text": [
      "[[1.29933084 0.88190324 1.36347884 1.83066987]\n",
      " [0.8107555  1.56428435 2.59171208 1.318777  ]\n",
      " [1.76426115 0.7716473  0.63843848 0.78938012]\n",
      " [1.12174617 1.46437685 0.52081694 0.71775385]\n",
      " [1.27080094 0.67150518 0.71006088 0.63437681]]\n",
      "[5.2467462  1.58766865 0.87570519 0.56691193]\n",
      "[5.2467462  1.58766865 0.87570519 0.56691193]\n",
      "True\n",
      "[[1.29933084 0.88190324 1.36347884 1.83066987]\n",
      " [0.8107555  1.56428435 2.59171208 1.318777  ]\n",
      " [1.76426115 0.7716473  0.63843848 0.78938012]\n",
      " [1.12174617 1.46437685 0.52081694 0.71775385]\n",
      " [1.27080094 0.67150518 0.71006088 0.63437681]]\n",
      "[[1.29933084 0.88190324 1.36347884 1.83066987]\n",
      " [0.8107555  1.56428435 2.59171208 1.318777  ]\n",
      " [1.76426115 0.7716473  0.63843848 0.78938012]\n",
      " [1.12174617 1.46437685 0.52081694 0.71775385]\n",
      " [1.27080094 0.67150518 0.71006088 0.63437681]]\n",
      "True\n",
      "True\n"
     ]
    }
   ],
   "source": [
    "m, n = 5, 4\n",
    "q = min(m, n)\n",
    "A = np.random.normal(1, 0.5, size=(m, n))\n",
    "print(A)\n",
    "U_np, S_np, Vh_np = np.linalg.svd(A)\n",
    "U, S, Vh = svd_iterative(A)\n",
    "print(S)\n",
    "print(S_np)\n",
    "print(np.allclose(S, S_np))\n",
    "\n",
    "A_restored = U @ np.diag(S) @ Vh\n",
    "A_np = U_np[:, :q] @ np.diag(S_np) @ Vh_np\n",
    "print(A_restored)\n",
    "print(A_np)\n",
    "print(np.allclose(A_restored, A))\n",
    "print(np.allclose(A_restored, A_np))"
   ]
  },
  {
   "cell_type": "markdown",
   "id": "246ba91c-2dd3-4bb3-bb79-8fb1e56d0718",
   "metadata": {},
   "source": [
    "Видим, что итерационный метод работает"
   ]
  },
  {
   "cell_type": "code",
   "execution_count": 68,
   "id": "6cf1f41b-b5e9-4a46-b537-98ddcd68d062",
   "metadata": {},
   "outputs": [
    {
     "name": "stdout",
     "output_type": "stream",
     "text": [
      "7.02 ms ± 1.12 ms per loop (mean ± std. dev. of 7 runs, 100 loops each)\n"
     ]
    }
   ],
   "source": [
    "%%timeit\n",
    "svd_iterative(A)"
   ]
  },
  {
   "cell_type": "code",
   "execution_count": 66,
   "id": "bd8061d3-31a0-44ae-ba69-4e24ad98dcee",
   "metadata": {},
   "outputs": [
    {
     "name": "stdout",
     "output_type": "stream",
     "text": [
      "12.6 µs ± 48.9 ns per loop (mean ± std. dev. of 7 runs, 100,000 loops each)\n"
     ]
    }
   ],
   "source": [
    "%%timeit\n",
    "np.linalg.svd(A)"
   ]
  },
  {
   "cell_type": "markdown",
   "id": "c5ce9e0f-bc40-4962-8cdf-813af4d2cc34",
   "metadata": {},
   "source": [
    "Видим, что наша реализация алгоритма на три морядка медленнее встроенной"
   ]
  },
  {
   "cell_type": "markdown",
   "id": "8e22eb1a-db87-4f69-b7c9-6a95924058ad",
   "metadata": {},
   "source": [
    "# Задача 2"
   ]
  },
  {
   "cell_type": "code",
   "execution_count": 113,
   "id": "03495e67-ee53-4bca-a500-7f52abc46743",
   "metadata": {},
   "outputs": [],
   "source": [
    "import scipy.sparse as sparse\n",
    "import matplotlib.pyplot as plt"
   ]
  },
  {
   "cell_type": "code",
   "execution_count": 126,
   "id": "64e2fd0d-b2c4-4920-9cf8-bdc810154351",
   "metadata": {},
   "outputs": [
    {
     "data": {
      "text/plain": [
       "[<matplotlib.lines.Line2D at 0x7f93e75a3130>]"
      ]
     },
     "execution_count": 126,
     "metadata": {},
     "output_type": "execute_result"
    },
    {
     "data": {
      "image/png": "[encoded data removed]",
      "text/plain": [
       "<Figure size 432x288 with 1 Axes>"
      ]
     },
     "metadata": {
      "needs_background": "light"
     },
     "output_type": "display_data"
    }
   ],
   "source": [
    "m, n = 100, 100\n",
    "d = 0.1\n",
    "k = 99\n",
    "A = sparse.random(m, n, density=d)\n",
    "U, S, V = sparse.linalg.svds(A, k=k)\n",
    "plt.plot(np.arange(1, k + 1), S[::-1])"
   ]
  },
  {
   "cell_type": "markdown",
   "id": "e206da4d-df49-4fa4-87b0-b4915233b9a4",
   "metadata": {},
   "source": [
    "видим, что сингулярные числа убывают почти линейно с определённого момента  \n",
    "попытаеся уменьшить плотность матрицы"
   ]
  },
  {
   "cell_type": "code",
   "execution_count": 124,
   "id": "3c13b152-bf10-4b2f-b3a8-4442690e821d",
   "metadata": {},
   "outputs": [
    {
     "data": {
      "text/plain": [
       "[<matplotlib.lines.Line2D at 0x7f93e787ebc0>]"
      ]
     },
     "execution_count": 124,
     "metadata": {},
     "output_type": "execute_result"
    },
    {
     "data": {
      "image/png": "[encoded data removed]",
      "text/plain": [
       "<Figure size 432x288 with 1 Axes>"
      ]
     },
     "metadata": {
      "needs_background": "light"
     },
     "output_type": "display_data"
    }
   ],
   "source": [
    "m, n = 100, 100\n",
    "d = 0.01\n",
    "k = 99\n",
    "A = sparse.random(m, n, density=d)\n",
    "U, S, V = sparse.linalg.svds(A, k=k)\n",
    "plt.plot(np.arange(1, k + 1), S[::-1])"
   ]
  },
  {
   "cell_type": "markdown",
   "id": "c1090ac8-edd8-4dad-8018-01cdf7d84be2",
   "metadata": {},
   "source": [
    "Видим, что при достаточно низкой плотности сигулярные числа быстро достигают нуля  \n",
    "Попытаеся увеличить размер матрицы"
   ]
  },
  {
   "cell_type": "code",
   "execution_count": 128,
   "id": "07cf61fd-0166-42f1-8d2d-553c4ef99c2c",
   "metadata": {},
   "outputs": [
    {
     "data": {
      "text/plain": [
       "[<matplotlib.lines.Line2D at 0x7f93e74a0f70>]"
      ]
     },
     "execution_count": 128,
     "metadata": {},
     "output_type": "execute_result"
    },
    {
     "data": {
      "image/png": "[encoded data removed]",
      "text/plain": [
       "<Figure size 432x288 with 1 Axes>"
      ]
     },
     "metadata": {
      "needs_background": "light"
     },
     "output_type": "display_data"
    }
   ],
   "source": [
    "m, n = 500, 500\n",
    "d = 0.01\n",
    "k = 499\n",
    "A = sparse.random(m, n, density=d)\n",
    "U, S, V = sparse.linalg.svds(A, k=k)\n",
    "plt.plot(np.arange(1, k + 1), S[::-1])"
   ]
  },
  {
   "cell_type": "markdown",
   "id": "eb13f347-d0b2-4a3c-85c7-502e8244fc6f",
   "metadata": {},
   "source": [
    "Видим, что сингулырные числа убывают по некоторой функции, похожей на логарифм"
   ]
  },
  {
   "cell_type": "code",
   "execution_count": 135,
   "id": "59c22079-18b0-41da-a2c7-00003d5d8872",
   "metadata": {},
   "outputs": [
    {
     "data": {
      "text/plain": [
       "[<matplotlib.lines.Line2D at 0x7f93e7341ab0>]"
      ]
     },
     "execution_count": 135,
     "metadata": {},
     "output_type": "execute_result"
    },
    {
     "data": {
      "image/png": "[encoded data removed]",
      "text/plain": [
       "<Figure size 432x288 with 1 Axes>"
      ]
     },
     "metadata": {
      "needs_background": "light"
     },
     "output_type": "display_data"
    }
   ],
   "source": [
    "plt.plot(np.log(np.arange(1, k + 1)), S[::-1])"
   ]
  },
  {
   "cell_type": "markdown",
   "id": "9ba4febd-7875-47a8-912c-612c63ecf22e",
   "metadata": {},
   "source": [
    "похоже, что сингулярные числа убывают с лограифмом их номера"
   ]
  },
  {
   "cell_type": "markdown",
   "id": "43695bf1-0ee5-4bf5-a401-6ccd50822433",
   "metadata": {},
   "source": [
    "построим график плотности сингулярных чисел"
   ]
  },
  {
   "cell_type": "code",
   "execution_count": 143,
   "id": "65aab1fb-2d47-4e58-8dc6-0c5094b23c13",
   "metadata": {},
   "outputs": [
    {
     "data": {
      "image/png": "[encoded data removed]",
      "text/plain": [
       "<Figure size 432x288 with 1 Axes>"
      ]
     },
     "metadata": {
      "needs_background": "light"
     },
     "output_type": "display_data"
    }
   ],
   "source": [
    "m, n = 500, 500\n",
    "d = 0.01\n",
    "k = 499\n",
    "for i in range(100):\n",
    "    A = sparse.random(m, n, density=d)\n",
    "    U, S, V = sparse.linalg.svds(A, k=k)\n",
    "    plt.scatter(np.arange(1, k + 1), S[::-1], color=\"teal\", alpha=0.01)"
   ]
  },
  {
   "cell_type": "markdown",
   "id": "8b8aba83-6962-4171-b51c-d818c0a0a15d",
   "metadata": {},
   "source": [
    "# Задача 3"
   ]
  },
  {
   "cell_type": "code",
   "execution_count": 193,
   "id": "35f04273-804d-4f5b-8347-0f2548a86091",
   "metadata": {},
   "outputs": [],
   "source": [
    "def pseudo_inverse(A):\n",
    "    m, n = A.shape\n",
    "    U, S, Vh = np.linalg.svd(A)\n",
    "    Uh = np.conjugate(U.T)\n",
    "    V = np.conjugate(Vh.T)\n",
    "    Sp = np.diag(1/S)\n",
    "    if m < n:\n",
    "        Sp = np.vstack((Sp, np.zeros((m, n-m))))\n",
    "    elif m > n:\n",
    "        Sp = np.hstack((Sp, np.zeros((m - n, n))))\n",
    "    Ap = V\n",
    "    return V @ Sp @ Uh\n",
    "    "
   ]
  },
  {
   "cell_type": "code",
   "execution_count": 194,
   "id": "70c2b474-ba69-4dee-837a-7e7e82212515",
   "metadata": {},
   "outputs": [
    {
     "name": "stdout",
     "output_type": "stream",
     "text": [
      "Матрица А\n",
      "[[ 0.95880555  0.73940781  0.55174938 -0.74741293  0.70442817 -0.69673871]\n",
      " [ 0.67309058  0.13221007 -0.80864547 -0.88435513  0.89144368 -0.27214247]\n",
      " [-0.31995069  0.81007521  0.63210194 -0.58603446  0.42945925 -0.52664341]]\n",
      "Матрица A+\n",
      "[[ 0.8351959  -0.15817456 -0.87248401]\n",
      " [ 0.0394394  -0.03661552  0.38539917]\n",
      " [ 0.46873251 -0.5964048   0.0336357 ]\n",
      " [ 0.16450735 -0.36795352 -0.3653296 ]\n",
      " [-0.09132598  0.34512613  0.22535289]\n",
      " [-0.14167776  0.01482817 -0.14527669]]\n",
      "Произведение AA+\n",
      "[[ 1.00000000e+00  2.68363680e-16  3.74828640e-16]\n",
      " [ 3.21296769e-16  1.00000000e+00 -1.09545362e-16]\n",
      " [-2.97978345e-16  1.91079864e-16  1.00000000e+00]]\n",
      "Равенство AA+ = I: True\n",
      "Произведение AA+A\n",
      "[[ 0.95880555  0.73940781  0.55174938 -0.74741293  0.70442817 -0.69673871]\n",
      " [ 0.67309058  0.13221007 -0.80864547 -0.88435513  0.89144368 -0.27214247]\n",
      " [-0.31995069  0.81007521  0.63210194 -0.58603446  0.42945925 -0.52664341]]\n",
      "Равенство AA+A = A: True\n",
      "Произведение A+AA+\n",
      "[[ 0.8351959  -0.15817456 -0.87248401]\n",
      " [ 0.0394394  -0.03661552  0.38539917]\n",
      " [ 0.46873251 -0.5964048   0.0336357 ]\n",
      " [ 0.16450735 -0.36795352 -0.3653296 ]\n",
      " [-0.09132598  0.34512613  0.22535289]\n",
      " [-0.14167776  0.01482817 -0.14527669]]\n",
      "Равенство A+AA+ = A+: True\n"
     ]
    }
   ],
   "source": [
    "m, n = 3, 6\n",
    "A = np.random.uniform(-1, 1, size=(m, n))\n",
    "Ap = pseudo_inverse(A)\n",
    "print(\"Матрица А\")\n",
    "print(A)\n",
    "print(\"Матрица A+\")\n",
    "print(Ap)\n",
    "print(\"Произведение AA+\")\n",
    "print(A @ Ap)\n",
    "print(\"Равенство AA+ = I:\", np.allclose(A @ Ap, np.eye(m)))\n",
    "print(\"Произведение AA+A\")\n",
    "print(A @ Ap @ A)\n",
    "print(\"Равенство AA+A = A:\", np.allclose(A @ Ap @ A, A))\n",
    "print(\"Произведение A+AA+\")\n",
    "print(Ap @ A @ Ap)\n",
    "print(\"Равенство A+AA+ = A+:\", np.allclose(Ap @ A @ Ap, Ap))"
   ]
  },
  {
   "cell_type": "markdown",
   "id": "453b84c5-4574-4dfa-b382-5ced14ecb7bf",
   "metadata": {},
   "source": [
    "Видим, что наша функция правильно находит псевдообратную матрицу  \n",
    "Посмотрим, что происходит с числом обусловленности"
   ]
  },
  {
   "cell_type": "code",
   "execution_count": 206,
   "id": "ce0e82da-d50d-470a-b931-b74b2f64bfec",
   "metadata": {},
   "outputs": [
    {
     "name": "stdout",
     "output_type": "stream",
     "text": [
      "Матрица А\n",
      "[[ 0.43361689  0.12045504 -0.0607145 ]\n",
      " [ 0.12045504  0.59546576  0.14628111]\n",
      " [-0.0607145   0.14628111  0.07223162]]\n",
      "Число обусловленности матрицы A: 47.117043431978196\n",
      "Матрица А+\n",
      "[[  5.41795124  -4.40741063  13.47981742]\n",
      " [ -4.40741063   6.92735252 -17.73370798]\n",
      " [ 13.47981742 -17.73370798  61.08857278]]\n",
      "Число обусловленности матрицы A+: 47.117043431978175\n",
      "Произведение ||A|| ||A+|| 55.090486355888785\n"
     ]
    }
   ],
   "source": [
    "A = np.random.uniform(-1, 1, size=(3, 3))\n",
    "A = A @ A.T / 2\n",
    "print(\"Матрица А\")\n",
    "print(A)\n",
    "print(\"Число обусловленности матрицы A:\", np.linalg.cond(A))\n",
    "Ap = pseudo_inverse(A)\n",
    "print(\"Матрица А+\")\n",
    "print(Ap)\n",
    "print(\"Число обусловленности матрицы A+:\", np.linalg.cond(Ap))\n",
    "print(\"Произведение ||A|| ||A+||\", np.linalg.norm(Ap) * np.linalg.norm(A))"
   ]
  },
  {
   "cell_type": "markdown",
   "id": "2d234114-b3b9-4d61-83e3-d2e00d9d0c9f",
   "metadata": {},
   "source": [
    "Видим,что число обусловленности матриц $A$ и $A^{+}$ равны.  \n",
    "Число $||A|| \\cdot ||A^{+}|| \\approx ||A|| \\cdot ||A^{-1}||$  "
   ]
  },
  {
   "cell_type": "markdown",
   "id": "4e75be49-9360-42a2-a151-eb18d6085a70",
   "metadata": {},
   "source": [
    "# Задача 4"
   ]
  },
  {
   "cell_type": "code",
   "execution_count": 236,
   "id": "d3b092e9-aa63-4680-9acd-8cbac635eb05",
   "metadata": {},
   "outputs": [],
   "source": [
    "def qr_solution(A, b):\n",
    "    Q, R = np.linalg.qr(A)\n",
    "    return np.linalg.inv(R) @ Q.T @ b\n",
    "\n",
    "def pseudo_inverse_solution(A, b):\n",
    "    Ap = np.linalg.pinv(A)\n",
    "    return Ap @ b \n",
    "    "
   ]
  },
  {
   "cell_type": "code",
   "execution_count": 250,
   "id": "83b0067d-d6aa-4b1f-a407-5c4dc0e3091c",
   "metadata": {},
   "outputs": [
    {
     "name": "stdout",
     "output_type": "stream",
     "text": [
      "Матрица А:\n",
      "[[ 0.22862157  0.05990612  0.72214908 -0.3163899   0.78908149]\n",
      " [ 0.77155291  0.60974797 -0.73719229  0.78394364 -0.99021265]\n",
      " [-0.53214782 -0.48010192  0.7796416   0.46929153 -0.16735955]\n",
      " [ 0.30264503  0.42303997  0.29841597  0.07164516 -0.44165265]\n",
      " [-0.06313733  0.08042442 -0.85478803 -0.51848151 -0.33441134]]\n",
      "Решение через QR: [ 6.35135283 -6.92637681  1.05512938 -2.33128348 -1.94742768]\n",
      "Решение через псевдо-обратную [ 6.35135283 -6.92637681  1.05512938 -2.33128348 -1.94742768]\n",
      "Решения равны: True\n"
     ]
    }
   ],
   "source": [
    "A = np.random.uniform(-1, 1, size=(5, 5))\n",
    "b = np.array([1, 0, 0, 0, 0])\n",
    "print(\"Матрица А:\")\n",
    "print(A)\n",
    "x_qr = qr_solution(A, b)\n",
    "x_pinv = pseudo_inverse_solution(A, b)\n",
    "print(\"Решение через QR:\", x_qr)\n",
    "print(\"Решение через псевдо-обратную\", x_pinv)\n",
    "print(\"Решения равны:\", np.allclose(x_qr, x_pinv))"
   ]
  },
  {
   "cell_type": "code",
   "execution_count": 259,
   "id": "52e7f769-34c4-4daa-992d-cdba8ee5696d",
   "metadata": {},
   "outputs": [],
   "source": [
    "A = np.random.uniform(-1, 1, size=(1000, 1000))\n",
    "b = np.random.uniform(-1, 1, size=(1000))"
   ]
  },
  {
   "cell_type": "code",
   "execution_count": 262,
   "id": "6a0b6bcc-8af7-447b-83be-4442652aace1",
   "metadata": {},
   "outputs": [
    {
     "name": "stdout",
     "output_type": "stream",
     "text": [
      "175 ms ± 20.9 ms per loop (mean ± std. dev. of 5 runs, 10 loops each)\n"
     ]
    }
   ],
   "source": [
    "%%timeit -n 10 -r5\n",
    "x_qr = qr_solution(A, b)"
   ]
  },
  {
   "cell_type": "code",
   "execution_count": 263,
   "id": "75cf8cef-f103-4b1b-9340-6f38ad909f97",
   "metadata": {},
   "outputs": [
    {
     "name": "stdout",
     "output_type": "stream",
     "text": [
      "420 ms ± 46.6 ms per loop (mean ± std. dev. of 5 runs, 10 loops each)\n"
     ]
    }
   ],
   "source": [
    "%%timeit -n 10 -r5\n",
    "x_pinv = pseudo_inverse_solution(A, b)"
   ]
  },
  {
   "cell_type": "markdown",
   "id": "dbb30327-95aa-4e7a-9c21-2b3404cb0139",
   "metadata": {},
   "source": [
    "Видим, что со встроенным методом, решение через QR немного быстрее решения через псевдообратную"
   ]
  },
  {
   "cell_type": "code",
   "execution_count": null,
   "id": "c76499c3-0dba-4af8-abbb-783e099d61d0",
   "metadata": {},
   "outputs": [],
   "source": []
  }
 ],
 "metadata": {
  "kernelspec": {
   "display_name": "Python 3 (ipykernel)",
   "language": "python",
   "name": "python3"
  },
  "language_info": {
   "codemirror_mode": {
    "name": "ipython",
    "version": 3
   },
   "file_extension": ".py",
   "mimetype": "text/x-python",
   "name": "python",
   "nbconvert_exporter": "python",
   "pygments_lexer": "ipython3",
   "version": "3.10.6"
  }
 },
 "nbformat": 4,
 "nbformat_minor": 5
}
