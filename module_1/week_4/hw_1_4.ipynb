{
 "cells": [
  {
   "cell_type": "code",
   "execution_count": 1,
   "metadata": {
    "executionInfo": {
     "elapsed": 415,
     "status": "ok",
     "timestamp": 1663848256251,
     "user": {
      "displayName": "Coastal",
      "userId": "06636131027998241700"
     },
     "user_tz": -180
    },
    "id": "ZtoJQYB7BRNG"
   },
   "outputs": [],
   "source": [
    "import numpy as np\n",
    "import matplotlib.pyplot as plt\n",
    "import scipy.stats as sps\n"
   ]
  },
  {
   "cell_type": "markdown",
   "metadata": {
    "id": "Kv_h2OFEDYDT"
   },
   "source": [
    "# Задание 1"
   ]
  },
  {
   "cell_type": "code",
   "execution_count": 2,
   "metadata": {
    "colab": {
     "base_uri": "https://localhost:8080/"
    },
    "executionInfo": {
     "elapsed": 5,
     "status": "ok",
     "timestamp": 1663847709020,
     "user": {
      "displayName": "Coastal",
      "userId": "06636131027998241700"
     },
     "user_tz": -180
    },
    "id": "Ml1hDDLYCzKc",
    "outputId": "601c2584-30f5-4670-9d39-a0ee80a64064"
   },
   "outputs": [
    {
     "name": "stdout",
     "output_type": "stream",
     "text": [
      "[[1.         0.5        0.33333333 0.25       0.2       ]\n",
      " [0.5        0.33333333 0.25       0.2        0.16666667]\n",
      " [0.33333333 0.25       0.2        0.16666667 0.14285714]\n",
      " [0.25       0.2        0.16666667 0.14285714 0.125     ]\n",
      " [0.2        0.16666667 0.14285714 0.125      0.11111111]]\n"
     ]
    }
   ],
   "source": [
    "def hilbert(n):\n",
    "  x = np.arange(1, n+1) + np.arange(0, n)[:, np.newaxis]\n",
    "  return 1/x\n",
    "\n",
    "print(hilbert(5))"
   ]
  },
  {
   "cell_type": "code",
   "execution_count": 3,
   "metadata": {
    "colab": {
     "base_uri": "https://localhost:8080/"
    },
    "executionInfo": {
     "elapsed": 11,
     "status": "ok",
     "timestamp": 1663847795864,
     "user": {
      "displayName": "Coastal",
      "userId": "06636131027998241700"
     },
     "user_tz": -180
    },
    "id": "l84MrgceDTXE",
    "outputId": "c169d7c5-78f9-45cb-a0e9-4713881b1e43"
   },
   "outputs": [
    {
     "name": "stdout",
     "output_type": "stream",
     "text": [
      "1.5670506910982314 0.20853421861101337 0.011407491623419799 0.0003058980401511861 3.2879287721716932e-06\n"
     ]
    }
   ],
   "source": [
    "u, s, v = np.linalg.svd(hilbert(5))\n",
    "print(*s)"
   ]
  },
  {
   "cell_type": "code",
   "execution_count": 4,
   "metadata": {},
   "outputs": [
    {
     "name": "stdout",
     "output_type": "stream",
     "text": [
      "[ 6.40000013e+01 -2.01600006e+03  2.01600008e+04 -9.24000041e+04\n",
      "  2.21760011e+05 -2.88288015e+05  1.92192010e+05 -5.14800029e+04]  - встроенный метод\n",
      "7 - порядок усечения\n",
      "[ 6.40000000e+01 -2.01600000e+03  2.01600000e+04 -9.23999999e+04\n",
      "  2.21760000e+05 -2.88287999e+05  1.92191999e+05 -5.14799998e+04]  - полный метод\n",
      "[    43.99599289   -940.76465378   6087.22658646 -16094.98930291\n",
      "  15992.70286759   3271.43405364 -15546.76108272   7193.95533925]  - усеченный метод\n",
      "424224.8969482116  - норма TSVS и обычного решения\n",
      "[ 6.40000004e+01 -2.01600002e+03  2.01600002e+04 -9.24000012e+04\n",
      "  2.21760003e+05 -2.88288004e+05  1.92192003e+05 -5.14800008e+04]  - с добавкой\n",
      "0.007456925270384918  - норма TSVD с добавкой и решения\n"
     ]
    }
   ],
   "source": [
    "b_8 = np.zeros(8)\n",
    "b_8[0] = 1\n",
    "H_8 = hilbert(8)\n",
    "print(np.linalg.solve(H_8, b_8), \" - встроенный метод\")\n",
    "\n",
    "# решим TSVD\n",
    "u, s, vh = np.linalg.svd(H_8)\n",
    "eps = 1e-8\n",
    "r = np.sum(s > eps)\n",
    "print(r, \"- порядок усечения\")\n",
    "s_8 = s[:r]\n",
    "u_8 = u[:, :r]\n",
    "vh_8 = vh[:r, :]\n",
    "\n",
    "x_8 = (vh.T @ np.diag(1/s) @ u.T) @ b_8\n",
    "x_8_tsvd = (vh_8.T @ np.diag(1/s_8) @ u_8.T) @ b_8\n",
    "print(x_8, \" - полный метод\")\n",
    "print(x_8_tsvd, \" - усеченный метод\")\n",
    "print(np.linalg.norm(x_8 - x_8_tsvd), \" - норма TSVS и обычного решения\")\n",
    "\n",
    "# добавим добавку\n",
    "u_8_add = u[:, r:]\n",
    "vh_8_add = vh[r:, :]\n",
    "c_add = u_8_add.T @ H_8 @ vh_8_add.T\n",
    "b_8_add = u_8_add.T @ b_8\n",
    "z_add = np.linalg.solve(c_add, b_8_add)\n",
    "x_add = vh_8_add.T @ z_add\n",
    "\n",
    "print(x_8_tsvd + x_add, \" - с добавкой\")\n",
    "print(np.linalg.norm(x_8 - x_8_tsvd - x_add), \" - норма TSVD с добавкой и решения\")\n",
    "\n",
    "\n"
   ]
  },
  {
   "cell_type": "markdown",
   "metadata": {},
   "source": [
    "**Видим, что если использовать TSVD на гильбертовой матрице, то решение значительно отличается от правильного**  \n",
    "Мы также убедились что с добавкой решение возвращается к изначальному (с погрешностью округления)"
   ]
  },
  {
   "cell_type": "code",
   "execution_count": 5,
   "metadata": {},
   "outputs": [
    {
     "name": "stdout",
     "output_type": "stream",
     "text": [
      "[ 9.99994494e+01 -4.94995167e+03  7.91989588e+04 -6.00590451e+05\n",
      "  2.52247413e+06 -6.30617316e+06  9.60939088e+06 -8.75139707e+06\n",
      "  4.37569308e+06 -9.23756412e+05]  - встроенный метод\n",
      "7 - порядок усечения\n",
      "[ 9.99968864e+01 -4.94973061e+03  7.91942572e+04 -6.00547762e+05\n",
      "  2.52227074e+06 -6.30561458e+06  9.60847522e+06 -8.75051288e+06\n",
      "  4.37522921e+06 -9.23654467e+05]  - полный метод\n",
      "[   37.19542075  -665.08496775  3429.5518983  -6275.88330729\n",
      "  1734.56259276  4319.93524724   714.74715541 -3306.84170314\n",
      " -3182.02965972  3200.39524876]  - усеченный метод\n",
      "15342083.09086296  - норма разности решений\n",
      "[ 9.99977742e+01 -4.94980687e+03  7.91958742e+04 -6.00562412e+05\n",
      "  2.52234042e+06 -6.30580568e+06  9.60878814e+06 -8.75081477e+06\n",
      "  4.37538747e+06 -9.23689225e+05]  - с добавкой\n",
      "506.85639906895614  - норма TSVD с добавкой и решения\n"
     ]
    }
   ],
   "source": [
    "b_10 = np.zeros(10)\n",
    "b_10[0] = 1\n",
    "H_10 = hilbert(10)\n",
    "print(np.linalg.solve(H_10, b_10), \" - встроенный метод\")\n",
    "\n",
    "u, s, vh = np.linalg.svd(H_10)\n",
    "eps = 1e-8\n",
    "r = np.sum(s > eps)\n",
    "print(r, \"- порядок усечения\")\n",
    "s_10 = s[:r]\n",
    "u_10 = u[:, :r]\n",
    "vh_10 = vh[:r, :]\n",
    "\n",
    "x_10 = (vh.T @ np.diag(1/s) @ u.T) @ b_10\n",
    "x_10_tsvd = (vh_10.T @ np.diag(1/s_10) @ u_10.T) @ b_10\n",
    "print(x_10, \" - полный метод\")\n",
    "print(x_10_tsvd, \" - усеченный метод\")\n",
    "print(np.linalg.norm(x_10 - x_10_tsvd), \" - норма разности решений\")\n",
    "\n",
    "\n",
    "# добавим добавку\n",
    "u_10_add = u[:, r:]\n",
    "vh_10_add = vh[r:, :]\n",
    "c_add = u_10_add.T @ H_10 @ vh_10_add.T\n",
    "b_10_add = u_10_add.T @ b_10\n",
    "z_add = np.linalg.solve(c_add, b_10_add)\n",
    "x_add = vh_10_add.T @ z_add\n",
    "\n",
    "print(x_10_tsvd + x_add, \" - с добавкой\")\n",
    "print(np.linalg.norm(x_10 - x_10_tsvd - x_add), \" - норма TSVD с добавкой и решения\")"
   ]
  },
  {
   "cell_type": "markdown",
   "metadata": {},
   "source": [
    "**Видим, что различие между TSVD и обычным решением стала ещё больше, чем с $H(8)$**"
   ]
  },
  {
   "cell_type": "markdown",
   "metadata": {
    "id": "LdymHu4MEXCT"
   },
   "source": [
    "# Задание 2"
   ]
  },
  {
   "cell_type": "code",
   "execution_count": 47,
   "metadata": {
    "executionInfo": {
     "elapsed": 311,
     "status": "ok",
     "timestamp": 1663848939063,
     "user": {
      "displayName": "Coastal",
      "userId": "06636131027998241700"
     },
     "user_tz": -180
    },
    "id": "SYo2FOCDEYEn"
   },
   "outputs": [],
   "source": [
    "def random_from_cov(cov):\n",
    "  n = cov.shape[0]\n",
    "  a = np.linalg.cholesky(cov)\n",
    "  # print(a)\n",
    "  z = sps.norm.rvs(size=n)\n",
    "  # print(z)\n",
    "  return a @ z\n"
   ]
  },
  {
   "cell_type": "code",
   "execution_count": 64,
   "metadata": {
    "colab": {
     "base_uri": "https://localhost:8080/"
    },
    "executionInfo": {
     "elapsed": 4,
     "status": "ok",
     "timestamp": 1663849601179,
     "user": {
      "displayName": "Coastal",
      "userId": "06636131027998241700"
     },
     "user_tz": -180
    },
    "id": "cFR3-RO-FXGg",
    "outputId": "00ed9bbf-582d-439a-d09c-7c2bd429ba75"
   },
   "outputs": [
    {
     "name": "stdout",
     "output_type": "stream",
     "text": [
      "[ 0.20988836  1.19598562 -0.26745531]\n"
     ]
    },
    {
     "data": {
      "text/plain": [
       "array([[1.01654794, 0.16469328, 0.72466442],\n",
       "       [0.16469328, 0.96147203, 0.16572841],\n",
       "       [0.72466442, 0.16572841, 1.02602784]])"
      ]
     },
     "execution_count": 64,
     "metadata": {},
     "output_type": "execute_result"
    }
   ],
   "source": [
    "# проверка \n",
    "\n",
    "cov = np.array([[1, 0.2, 0.7], [0.2, 1, 0.2], [0.7, 0.2, 1]])\n",
    "print(random_from_cov(cov))\n",
    "\n",
    "vals = random_from_cov(cov)\n",
    "for i in range(999):\n",
    "  vals = np.vstack((vals, random_from_cov(cov)))\n",
    "\n",
    "np.cov(vals.T)"
   ]
  },
  {
   "cell_type": "markdown",
   "metadata": {
    "id": "HFYjb9ieFXpU"
   },
   "source": [
    "Видим, что полученная матрица ковариции близка к изначальной, а значит метод работает."
   ]
  },
  {
   "cell_type": "markdown",
   "metadata": {},
   "source": [
    "# Задание 3"
   ]
  },
  {
   "cell_type": "code",
   "execution_count": 3,
   "metadata": {},
   "outputs": [
    {
     "data": {
      "text/plain": [
       "<matplotlib.collections.PathCollection at 0x7fa4d3d0f640>"
      ]
     },
     "execution_count": 3,
     "metadata": {},
     "output_type": "execute_result"
    },
    {
     "data": {
      "image/png": "[encoded data removed]",
      "text/plain": [
       "<Figure size 432x288 with 1 Axes>"
      ]
     },
     "metadata": {
      "needs_background": "light"
     },
     "output_type": "display_data"
    }
   ],
   "source": [
    "# создаём множества точек\n",
    "x = np.linspace(-5, 5, 20)\n",
    "y = x ** 2\n",
    "X_0 = np.vstack((x,y))\n",
    "\n",
    "phi = np.pi * 0.345\n",
    "rot = np.array([[np.cos(phi), -np.sin(phi)],[np.sin(phi), np.cos(phi)]])\n",
    "trans = np.array([[4.56], [-1.33]])\n",
    "\n",
    "X_1 = rot @ X_0 + trans\n",
    "\n",
    "plt.scatter(X_0[0, :], X_0[1, :])\n",
    "plt.scatter(X_1[0, :], X_1[1, :])"
   ]
  },
  {
   "cell_type": "code",
   "execution_count": 90,
   "metadata": {},
   "outputs": [
    {
     "name": "stdout",
     "output_type": "stream",
     "text": [
      "[-1.77635684e-16  9.21052632e+00] [-3.57994659  2.97987987]\n",
      "Вектор трансляции найден правильно: True \n",
      "Матрица поворота найдена правильно True\n"
     ]
    },
    {
     "data": {
      "image/png": "[encoded data removed]",
      "text/plain": [
       "<Figure size 432x288 with 1 Axes>"
      ]
     },
     "metadata": {
      "needs_background": "light"
     },
     "output_type": "display_data"
    }
   ],
   "source": [
    "# решаем задачу\n",
    "\n",
    "x_0 = np.mean(X_0, axis=1)\n",
    "x_1 = np.mean(X_1, axis=1)\n",
    "    \n",
    "print(x_0, x_1)\n",
    "\n",
    "Xc_0 = X_0 - x_0.reshape(-1, 1) @ np.ones((1, 20))\n",
    "Xc_1 = X_1 - x_1.reshape(-1, 1) @ np.ones((1, 20))\n",
    "u, s, vh = np.linalg.svd(Xc_0 @ Xc_1.T)\n",
    "R = u @ vh\n",
    "mu = x_1.reshape(-1, 1) - R.T @ x_0.reshape(-1, 1)\n",
    "Xr = R @ (X_1 - mu)\n",
    "Xrt = Xr \n",
    "plt.scatter(Xrt[0, :], Xrt[1, :])\n",
    "plt.scatter(X_0[0, :], X_0[1, :])\n",
    "\n",
    "print(\"Вектор трансляции найден правильно:\", np.allclose(mu, trans),\"\\nМатрица поворота найдена правильно\", np.allclose(R.T, rot))\n"
   ]
  },
  {
   "cell_type": "markdown",
   "metadata": {},
   "source": [
    "**Видим, что параболы идеально наложились друг на друга**  \n",
    "Теперь добавим шумы в изначльные данные"
   ]
  },
  {
   "cell_type": "code",
   "execution_count": 76,
   "metadata": {},
   "outputs": [
    {
     "data": {
      "text/plain": [
       "<matplotlib.collections.PathCollection at 0x7fa4d1c28c10>"
      ]
     },
     "execution_count": 76,
     "metadata": {},
     "output_type": "execute_result"
    },
    {
     "data": {
      "image/png": "[encoded data removed]",
      "text/plain": [
       "<Figure size 432x288 with 1 Axes>"
      ]
     },
     "metadata": {
      "needs_background": "light"
     },
     "output_type": "display_data"
    }
   ],
   "source": [
    "Xn_0 = X_0 + sps.norm.rvs(size=(2, 20), scale=0.2)\n",
    "Xn_1 = X_1 + sps.norm.rvs(size=(2, 20), scale=0.2)\n",
    "\n",
    "plt.scatter(Xn_0[0], Xn_0[1])\n",
    "plt.scatter(Xn_1[0], Xn_1[1])"
   ]
  },
  {
   "cell_type": "code",
   "execution_count": 91,
   "metadata": {},
   "outputs": [
    {
     "name": "stdout",
     "output_type": "stream",
     "text": [
      "[-0.02902136  9.30247459] [-3.67389343  2.91682259]\n",
      "Норма разности векторов трансляции: 0.06369117416960592 \n",
      "Норма разности матриц поворота: 0.003011923642528982\n"
     ]
    },
    {
     "data": {
      "image/png": "[encoded data removed]",
      "text/plain": [
       "<Figure size 432x288 with 1 Axes>"
      ]
     },
     "metadata": {
      "needs_background": "light"
     },
     "output_type": "display_data"
    }
   ],
   "source": [
    "x_0 = np.mean(Xn_0, axis=1)\n",
    "x_1 = np.mean(Xn_1, axis=1)\n",
    "    \n",
    "print(x_0, x_1)\n",
    "\n",
    "Xc_0 = Xn_0 - x_0.reshape(-1, 1) @ np.ones((1, 20))\n",
    "Xc_1 = Xn_1 - x_1.reshape(-1, 1) @ np.ones((1, 20))\n",
    "u, s, vh = np.linalg.svd(Xc_0 @ Xc_1.T)\n",
    "R = u @ vh\n",
    "mu = x_1.reshape(-1, 1) - R.T @ x_0.reshape(-1, 1)\n",
    "Xr = R @ (Xn_1 - mu)\n",
    "Xrt = Xr \n",
    "plt.scatter(Xrt[0, :], Xrt[1, :])\n",
    "plt.scatter(Xn_0[0, :], Xn_0[1, :])\n",
    "\n",
    "print(\"Норма разности векторов трансляции:\", np.linalg.norm(mu - trans),\"\\nНорма разности матриц поворота:\", np.linalg.norm(R.T - rot))\n"
   ]
  },
  {
   "cell_type": "markdown",
   "metadata": {},
   "source": [
    "**Видим, что метод работает хорошо для данных с шумами**  \n",
    "Теперь испытаем метод на двух разных формах"
   ]
  },
  {
   "cell_type": "code",
   "execution_count": 112,
   "metadata": {},
   "outputs": [
    {
     "data": {
      "text/plain": [
       "<matplotlib.collections.PathCollection at 0x7fa4d141cfa0>"
      ]
     },
     "execution_count": 112,
     "metadata": {},
     "output_type": "execute_result"
    },
    {
     "data": {
      "image/png": "[encoded data removed]",
      "text/plain": [
       "<Figure size 432x288 with 1 Axes>"
      ]
     },
     "metadata": {
      "needs_background": "light"
     },
     "output_type": "display_data"
    }
   ],
   "source": [
    "phi = np.linspace(0, 2*np.pi, 50)\n",
    "xs_0 = np.cos(phi)\n",
    "ys_0 = np.sin(phi) * 2\n",
    "xs_1 = (1 + 0.3 * np.cos(5 * phi) * np.cos(2 * phi) ) * np.cos(phi + 1) + 2.2\n",
    "ys_1 = (1 + 0.3 * np.cos(5 * phi)) * np.sin(phi + 1) - 1.3\n",
    "\n",
    "Xs_0 = np.vstack((xs_0, ys_0))\n",
    "Xs_1 = np.vstack((xs_1, ys_1))\n",
    "\n",
    "plt.scatter(Xs_0[0], Xs_0[1])\n",
    "plt.scatter(Xs_1[0], Xs_1[1])"
   ]
  },
  {
   "cell_type": "code",
   "execution_count": 115,
   "metadata": {},
   "outputs": [
    {
     "name": "stdout",
     "output_type": "stream",
     "text": [
      "[ 2.00000000e-02 -2.53402967e-17] [ 2.21404786 -1.27812175]\n",
      "Вектор трансляции\n",
      "[[ 2.2026746 ]\n",
      " [-1.29457317]]\n",
      "Матрица поворота:\n",
      "[[ 0.56866284  0.82257071]\n",
      " [-0.82257071  0.56866284]]\n"
     ]
    },
    {
     "data": {
      "image/png": "[encoded data removed]",
      "text/plain": [
       "<Figure size 432x288 with 1 Axes>"
      ]
     },
     "metadata": {
      "needs_background": "light"
     },
     "output_type": "display_data"
    }
   ],
   "source": [
    "x_0 = np.mean(Xs_0, axis=1)\n",
    "x_1 = np.mean(Xs_1, axis=1)\n",
    "    \n",
    "print(x_0, x_1)\n",
    "\n",
    "Xc_0 = Xn_0 - x_0.reshape(-1, 1) @ np.ones((1, 20))\n",
    "Xc_1 = Xn_1 - x_1.reshape(-1, 1) @ np.ones((1, 20))\n",
    "u, s, vh = np.linalg.svd(Xs_0 @ Xs_1.T)\n",
    "R = u @ vh\n",
    "mu = x_1.reshape(-1, 1) - R.T @ x_0.reshape(-1, 1)\n",
    "Xr = R @ (Xs_1 - mu)\n",
    "Xrt = Xr \n",
    "plt.scatter(Xrt[0, :], Xrt[1, :])\n",
    "plt.scatter(Xs_0[0, :], Xs_0[1, :])\n",
    "\n",
    "print(\"Вектор трансляции\", mu ,\"Матрица поворота:\", R, sep='\\n')\n"
   ]
  },
  {
   "cell_type": "markdown",
   "metadata": {},
   "source": [
    "**Видим, что странная форма передвинулась ближе к эллипсу**"
   ]
  },
  {
   "cell_type": "markdown",
   "metadata": {},
   "source": [
    "# Задание 5"
   ]
  },
  {
   "cell_type": "code",
   "execution_count": 116,
   "metadata": {},
   "outputs": [
    {
     "name": "stdout",
     "output_type": "stream",
     "text": [
      "с.з. матрицы C: [2.35363603 0.03034736 0.6160166 ]\n",
      "с.з. матрицы C0: [ 2.29672779 -0.00735244  0.71062465]\n"
     ]
    }
   ],
   "source": [
    "C = np.array([[1, 0.9, 0.7],\n",
    "              [0.9, 1, 0.4],\n",
    "              [0.7, 0.4, 1]])\n",
    "\n",
    "C_0 = np.array([[1, 0.9, 0.7],\n",
    "                [0.9, 1, 0.3],\n",
    "                [0.7, 0.3, 1]])\n",
    "\n",
    "print(\"с.з. матрицы C:\", np.linalg.eigvals(C))\n",
    "print(\"с.з. матрицы C0:\", np.linalg.eigvals(C_0))"
   ]
  },
  {
   "cell_type": "code",
   "execution_count": 136,
   "metadata": {},
   "outputs": [
    {
     "name": "stdout",
     "output_type": "stream",
     "text": [
      "[[1.         0.96153494 0.87605522]\n",
      " [0.96153494 1.         0.70990276]\n",
      " [0.87605522 0.70990276 1.        ]]\n"
     ]
    }
   ],
   "source": [
    "def change_corr(x):\n",
    "    vals, vects = np.linalg.eig(x)\n",
    "    vals[vals < 0] = 0\n",
    "    B = vects * vals.reshape(1, -1)\n",
    "    B = B / np.linalg.norm(B, axis=1).reshape(-1, 1)\n",
    "    x_new = B @ B.T\n",
    "    return x_new\n",
    "    \n",
    "print(change_corr(C_0))"
   ]
  },
  {
   "cell_type": "code",
   "execution_count": null,
   "metadata": {},
   "outputs": [],
   "source": []
  }
 ],
 "metadata": {
  "colab": {
   "authorship_tag": "ABX9TyPzoG9blbALoE+6eqLeEA3R",
   "provenance": []
  },
  "kernelspec": {
   "display_name": "Python 3 (ipykernel)",
   "language": "python",
   "name": "python3"
  },
  "language_info": {
   "codemirror_mode": {
    "name": "ipython",
    "version": 3
   },
   "file_extension": ".py",
   "mimetype": "text/x-python",
   "name": "python",
   "nbconvert_exporter": "python",
   "pygments_lexer": "ipython3",
   "version": "3.10.6"
  }
 },
 "nbformat": 4,
 "nbformat_minor": 4
}
