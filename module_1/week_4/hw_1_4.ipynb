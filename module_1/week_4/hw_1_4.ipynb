{
 "cells": [
  {
   "cell_type": "code",
   "execution_count": 6,
   "metadata": {
    "executionInfo": {
     "elapsed": 415,
     "status": "ok",
     "timestamp": 1663848256251,
     "user": {
      "displayName": "Coastal",
      "userId": "06636131027998241700"
     },
     "user_tz": -180
    },
    "id": "ZtoJQYB7BRNG"
   },
   "outputs": [],
   "source": [
    "import numpy as np\n",
    "import matplotlib.pyplot as plt\n",
    "import scipy.stats as sps\n"
   ]
  },
  {
   "cell_type": "markdown",
   "metadata": {
    "id": "Kv_h2OFEDYDT"
   },
   "source": [
    "# Задание 1"
   ]
  },
  {
   "cell_type": "code",
   "execution_count": 2,
   "metadata": {
    "colab": {
     "base_uri": "https://localhost:8080/"
    },
    "executionInfo": {
     "elapsed": 5,
     "status": "ok",
     "timestamp": 1663847709020,
     "user": {
      "displayName": "Coastal",
      "userId": "06636131027998241700"
     },
     "user_tz": -180
    },
    "id": "Ml1hDDLYCzKc",
    "outputId": "601c2584-30f5-4670-9d39-a0ee80a64064"
   },
   "outputs": [
    {
     "name": "stdout",
     "output_type": "stream",
     "text": [
      "[[1.         0.5        0.33333333]\n",
      " [0.5        0.33333333 0.25      ]\n",
      " [0.33333333 0.25       0.2       ]]\n"
     ]
    }
   ],
   "source": [
    "def hilbert(n):\n",
    "  x = np.arange(1, n+1) + np.arange(0, n)[:, np.newaxis]\n",
    "  return 1/x\n",
    "\n",
    "print(hilbert(3))"
   ]
  },
  {
   "cell_type": "code",
   "execution_count": 4,
   "metadata": {
    "colab": {
     "base_uri": "https://localhost:8080/"
    },
    "executionInfo": {
     "elapsed": 11,
     "status": "ok",
     "timestamp": 1663847795864,
     "user": {
      "displayName": "Coastal",
      "userId": "06636131027998241700"
     },
     "user_tz": -180
    },
    "id": "l84MrgceDTXE",
    "outputId": "c169d7c5-78f9-45cb-a0e9-4713881b1e43"
   },
   "outputs": [
    {
     "name": "stdout",
     "output_type": "stream",
     "text": [
      "[[-0.76785474  0.60187148 -0.21421362  0.04716181  0.00617386]\n",
      " [-0.44579106 -0.27591342  0.72410213 -0.43266733 -0.11669275]\n",
      " [-0.32157829 -0.42487662  0.12045328  0.66735044  0.50616366]\n",
      " [-0.25343894 -0.44390304 -0.30957397  0.23302452 -0.76719119]\n",
      " [-0.20982264 -0.42901335 -0.56519341 -0.55759995  0.37624555]]\n",
      "[1.56705069e+00 2.08534219e-01 1.14074916e-02 3.05898040e-04\n",
      " 3.28792877e-06]\n",
      "[[-0.76785474 -0.44579106 -0.32157829 -0.25343894 -0.20982264]\n",
      " [ 0.60187148 -0.27591342 -0.42487662 -0.44390304 -0.42901335]\n",
      " [-0.21421362  0.72410213  0.12045328 -0.30957397 -0.56519341]\n",
      " [ 0.04716181 -0.43266733  0.66735044  0.23302452 -0.55759995]\n",
      " [ 0.00617386 -0.11669275  0.50616366 -0.76719119  0.37624555]]\n"
     ]
    }
   ],
   "source": [
    "u, s, v = np.linalg.svd(hilbert(5))\n",
    "print(u, s, v, sep='\\n')"
   ]
  },
  {
   "cell_type": "code",
   "execution_count": null,
   "metadata": {
    "id": "6fyfrDpUDk7d"
   },
   "outputs": [],
   "source": []
  },
  {
   "cell_type": "markdown",
   "metadata": {
    "id": "LdymHu4MEXCT"
   },
   "source": [
    "# Задание 2"
   ]
  },
  {
   "cell_type": "code",
   "execution_count": 47,
   "metadata": {
    "executionInfo": {
     "elapsed": 311,
     "status": "ok",
     "timestamp": 1663848939063,
     "user": {
      "displayName": "Coastal",
      "userId": "06636131027998241700"
     },
     "user_tz": -180
    },
    "id": "SYo2FOCDEYEn"
   },
   "outputs": [],
   "source": [
    "def random_from_cov(cov):\n",
    "  n = cov.shape[0]\n",
    "  a = np.linalg.cholesky(cov)\n",
    "  # print(a)\n",
    "  z = sps.norm.rvs(size=n)\n",
    "  # print(z)\n",
    "  return a @ z\n"
   ]
  },
  {
   "cell_type": "code",
   "execution_count": 64,
   "metadata": {
    "colab": {
     "base_uri": "https://localhost:8080/"
    },
    "executionInfo": {
     "elapsed": 4,
     "status": "ok",
     "timestamp": 1663849601179,
     "user": {
      "displayName": "Coastal",
      "userId": "06636131027998241700"
     },
     "user_tz": -180
    },
    "id": "cFR3-RO-FXGg",
    "outputId": "00ed9bbf-582d-439a-d09c-7c2bd429ba75"
   },
   "outputs": [
    {
     "name": "stdout",
     "output_type": "stream",
     "text": [
      "[ 0.20988836  1.19598562 -0.26745531]\n"
     ]
    },
    {
     "data": {
      "text/plain": [
       "array([[1.01654794, 0.16469328, 0.72466442],\n",
       "       [0.16469328, 0.96147203, 0.16572841],\n",
       "       [0.72466442, 0.16572841, 1.02602784]])"
      ]
     },
     "execution_count": 64,
     "metadata": {},
     "output_type": "execute_result"
    }
   ],
   "source": [
    "# проверка \n",
    "\n",
    "cov = np.array([[1, 0.2, 0.7], [0.2, 1, 0.2], [0.7, 0.2, 1]])\n",
    "print(random_from_cov(cov))\n",
    "\n",
    "vals = random_from_cov(cov)\n",
    "for i in range(999):\n",
    "  vals = np.vstack((vals, random_from_cov(cov)))\n",
    "\n",
    "np.cov(vals.T)"
   ]
  },
  {
   "cell_type": "markdown",
   "metadata": {
    "id": "HFYjb9ieFXpU"
   },
   "source": [
    "Видим, что полученная матрица ковариции близка к изначальной, а значит метод работает."
   ]
  }
 ],
 "metadata": {
  "colab": {
   "authorship_tag": "ABX9TyPzoG9blbALoE+6eqLeEA3R",
   "provenance": []
  },
  "kernelspec": {
   "display_name": "Python 3 (ipykernel)",
   "language": "python",
   "name": "python3"
  },
  "language_info": {
   "codemirror_mode": {
    "name": "ipython",
    "version": 3
   },
   "file_extension": ".py",
   "mimetype": "text/x-python",
   "name": "python",
   "nbconvert_exporter": "python",
   "pygments_lexer": "ipython3",
   "version": "3.10.4"
  }
 },
 "nbformat": 4,
 "nbformat_minor": 4
}
