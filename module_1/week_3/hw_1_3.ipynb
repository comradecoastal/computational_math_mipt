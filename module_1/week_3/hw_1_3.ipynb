{
 "cells": [
  {
   "cell_type": "markdown",
   "id": "f99e071e-3dc2-4a6c-b289-dd6ae710f1a7",
   "metadata": {},
   "source": [
    "# Задача 1"
   ]
  },
  {
   "cell_type": "code",
   "execution_count": 1,
   "id": "f9d974ed-f6bd-4e49-b712-cfe6f3676e60",
   "metadata": {},
   "outputs": [],
   "source": [
    "import numpy as np\n",
    "import scipy.stats as sps\n",
    "import matplotlib.pyplot as plt"
   ]
  },
  {
   "cell_type": "markdown",
   "id": "577595d7-3ea8-40e6-9e64-be40c3a3315b",
   "metadata": {},
   "source": [
    "### Генератор случайной матрицы $n \\times m$"
   ]
  },
  {
   "cell_type": "code",
   "execution_count": 2,
   "id": "a129faef-eb4b-4b75-a6a1-48dee0e2009c",
   "metadata": {},
   "outputs": [
    {
     "data": {
      "text/plain": [
       "array([[ 3.62998994, -0.55055174, -2.3538234 ],\n",
       "       [-4.71285689, -1.22500572,  2.00966277]])"
      ]
     },
     "execution_count": 2,
     "metadata": {},
     "output_type": "execute_result"
    }
   ],
   "source": [
    "def random_matrix(n, m, lower=0, upper=1):\n",
    "    return sps.uniform.rvs(size=(n, m), loc=lower, scale=(upper - lower))\n",
    "\n",
    "random_matrix(2, 3, -5, 5)"
   ]
  },
  {
   "cell_type": "markdown",
   "id": "809792bf-2ead-4220-9d47-e11f02396a61",
   "metadata": {},
   "source": [
    "### Генератор случайной диагональной матрицы "
   ]
  },
  {
   "cell_type": "code",
   "execution_count": 3,
   "id": "eeb8c88e-f972-440c-8965-144a45f2a8f3",
   "metadata": {},
   "outputs": [
    {
     "data": {
      "text/plain": [
       "array([[0.15592288, 0.        , 0.        , 0.        , 0.        ],\n",
       "       [0.        , 0.24249926, 0.        , 0.        , 0.        ],\n",
       "       [0.        , 0.        , 0.68103209, 0.        , 0.        ],\n",
       "       [0.        , 0.        , 0.        , 0.21794448, 0.        ],\n",
       "       [0.        , 0.        , 0.        , 0.        , 0.63795183]])"
      ]
     },
     "execution_count": 3,
     "metadata": {},
     "output_type": "execute_result"
    }
   ],
   "source": [
    "def random_diagonal(n, lower=0, upper=1):\n",
    "    return np.diag(sps.uniform.rvs(size=n, loc=lower, scale=(upper - lower)))\n",
    "\n",
    "random_diagonal(5)"
   ]
  },
  {
   "cell_type": "markdown",
   "id": "56be5555-eb13-433f-9032-2ace849f7ffc",
   "metadata": {},
   "source": [
    "### Генератор случайной верхней треугольной матрицы"
   ]
  },
  {
   "cell_type": "code",
   "execution_count": 4,
   "id": "46d5f162-0636-46cd-81da-dc3c92806b0c",
   "metadata": {},
   "outputs": [
    {
     "data": {
      "text/plain": [
       "array([[ 2.43483689, -1.53529711, -2.15822797, -0.47457331, -1.10135986],\n",
       "       [ 0.        , -2.78190834, -1.4802548 ,  1.9490083 ,  2.59174548],\n",
       "       [ 0.        ,  0.        ,  1.28402296, -0.88039451, -1.21955723],\n",
       "       [ 0.        ,  0.        ,  0.        , -0.84386643,  0.07852274],\n",
       "       [ 0.        ,  0.        ,  0.        ,  0.        ,  2.0074523 ]])"
      ]
     },
     "execution_count": 4,
     "metadata": {},
     "output_type": "execute_result"
    }
   ],
   "source": [
    "def random_upper_triangle(n, lower=0, upper=1):\n",
    "    return np.triu(random_matrix(n, n, lower=lower, upper=upper))\n",
    "                   \n",
    "random_upper_triangle(5, -3, 3)"
   ]
  },
  {
   "cell_type": "markdown",
   "id": "8fb07bea-37c5-41ad-bdcc-7bc8966e5b1b",
   "metadata": {},
   "source": [
    "### Генератор случайной нижней треугольной матрицы"
   ]
  },
  {
   "cell_type": "code",
   "execution_count": 5,
   "id": "83973daf-5452-4009-99fe-c6372b3fb05f",
   "metadata": {},
   "outputs": [
    {
     "data": {
      "text/plain": [
       "array([[-1.25217577,  0.        ,  0.        ,  0.        ,  0.        ],\n",
       "       [-0.86853437, -1.22058456,  0.        ,  0.        ,  0.        ],\n",
       "       [-1.12238136, -0.87457203, -1.61352361,  0.        ,  0.        ],\n",
       "       [-1.11020881, -1.71775351, -1.53540888, -1.92668101,  0.        ],\n",
       "       [-0.62325662, -0.25501159,  0.53940506,  0.8097094 ,  1.97183095]])"
      ]
     },
     "execution_count": 5,
     "metadata": {},
     "output_type": "execute_result"
    }
   ],
   "source": [
    "def random_lower_triangle(n, lower=0, upper=1):\n",
    "    return random_upper_triangle(n, lower=lower, upper=upper).T\n",
    "\n",
    "random_lower_triangle(5, -2, 2)"
   ]
  },
  {
   "cell_type": "markdown",
   "id": "e632bd0e-61f7-49b2-9703-89f4b226ac67",
   "metadata": {},
   "source": [
    "### Генератор случайной симметричной матрицы"
   ]
  },
  {
   "cell_type": "code",
   "execution_count": 6,
   "id": "da5704f3-9e17-4ceb-b8c6-4532bb167ba5",
   "metadata": {},
   "outputs": [
    {
     "data": {
      "text/plain": [
       "array([[0.99680443, 0.68529366, 0.2799695 , 0.52788296, 0.23445703],\n",
       "       [0.68529366, 0.77785868, 0.57939465, 0.30179846, 0.31774323],\n",
       "       [0.2799695 , 0.57939465, 0.90148605, 0.54742063, 0.87348854],\n",
       "       [0.52788296, 0.30179846, 0.54742063, 0.68085372, 0.33699129],\n",
       "       [0.23445703, 0.31774323, 0.87348854, 0.33699129, 0.26160464]])"
      ]
     },
     "execution_count": 6,
     "metadata": {},
     "output_type": "execute_result"
    }
   ],
   "source": [
    "def random_symmetrical(n, lower=0, upper=1):\n",
    "    x = random_matrix(n, n, lower=lower, upper=upper)\n",
    "    return((x + x.T) / 2)\n",
    "\n",
    "random_symmetrical(5)"
   ]
  },
  {
   "cell_type": "markdown",
   "id": "c2de11c0-6e1c-4f19-9adf-2532b3b24c53",
   "metadata": {},
   "source": [
    "### Генератор случайной вырожденной матрицы"
   ]
  },
  {
   "cell_type": "code",
   "execution_count": 7,
   "id": "ce855610-bc88-4f66-9c31-181977293564",
   "metadata": {},
   "outputs": [
    {
     "name": "stdout",
     "output_type": "stream",
     "text": [
      "[[0.46812909 0.72803042 0.32868707 0.26381994 0.50391511 0.61589466]\n",
      " [0.61929353 0.3267099  0.36397952 0.82822693 0.78933572 0.44879761]\n",
      " [0.57717138 0.48117955 0.66987328 0.29464631 0.33598539 0.87468016]\n",
      " [0.80629581 0.22726387 0.93047264 0.60485346 0.89036047 0.93130764]\n",
      " [0.72758705 0.75101124 0.25332274 0.48537186 0.89944894 0.91255796]\n",
      " [0.51785786 0.25225399 0.67312002 0.10685976 0.54653885 0.80192091]]\n",
      "det == 0: True\n"
     ]
    }
   ],
   "source": [
    "def random_degenerate(n, lower=0, upper=1):\n",
    "    x = random_matrix(n, n, lower=lower, upper=upper)\n",
    "    # заменым k-ый столбец линейной комбинацией других столбцов\n",
    "    k = sps.randint(0, n).rvs()\n",
    "    x[:, k] *= 0\n",
    "    distr = sps.uniform().rvs(n - 1)\n",
    "    weights = distr / sum(distr)\n",
    "    x[:, k] = np.delete(x, (k), axis=1) @ weights.T\n",
    "    return x\n",
    "    \n",
    "\n",
    "r = random_degenerate(6)\n",
    "print(r)\n",
    "print(\"det == 0:\", np.allclose(np.linalg.det(r), 0))"
   ]
  },
  {
   "cell_type": "markdown",
   "id": "bdfcab5f-4e58-4acc-94d0-17e178392340",
   "metadata": {},
   "source": [
    "### Генератор матрицы $n \\times m$ ступенчатого вида ранга $m$"
   ]
  },
  {
   "cell_type": "code",
   "execution_count": 8,
   "id": "14f2c992-118a-4c4e-bbde-dfaef518c572",
   "metadata": {},
   "outputs": [
    {
     "name": "stdout",
     "output_type": "stream",
     "text": [
      "[[0.1864709  0.99990646 0.19470851 ... 0.3840525  0.57477903 0.9447806 ]\n",
      " [0.         0.92826529 0.48011695 ... 0.6878812  0.17134241 0.23246268]\n",
      " [0.         0.         0.         ... 0.2043993  0.02117943 0.13664954]\n",
      " ...\n",
      " [0.         0.         0.         ... 0.         0.         0.        ]\n",
      " [0.         0.         0.         ... 0.         0.         0.        ]\n",
      " [0.         0.         0.         ... 0.         0.         0.        ]]\n",
      "87\n"
     ]
    }
   ],
   "source": [
    "def random_row_echelon(n, m, lower=0, upper=1):\n",
    "    x = random_upper_triangle(n, lower=lower, upper=upper)\n",
    "    # удалим n-m строк\n",
    "    k = np.random.choice(np.arange(1, n), size=(n - m), replace=False)\n",
    "    x = np.delete(x, k, axis=0)\n",
    "    x = np.vstack((x, np.zeros((n - m, n))))\n",
    "    # ленивая проверка ранга\n",
    "    if np.linalg.matrix_rank(x) != m:\n",
    "        return random_row_echelon(n, m, lower=lower, upper=upper)\n",
    "    return x\n",
    "\n",
    "r = random_row_echelon(100, 87)\n",
    "print(r)\n",
    "print(np.linalg.matrix_rank(r))"
   ]
  },
  {
   "cell_type": "markdown",
   "id": "969267fd-1375-4d7a-8999-ffe4a1c12412",
   "metadata": {},
   "source": [
    "### Генератор матрицы возмущений $n \\times m$"
   ]
  },
  {
   "cell_type": "code",
   "execution_count": 9,
   "id": "b26eab35-6b10-4192-9509-6be873e01645",
   "metadata": {},
   "outputs": [
    {
     "name": "stdout",
     "output_type": "stream",
     "text": [
      "[[-0.08419881 -0.00906722  0.05263531  0.03687555  0.05658753 -0.04375738]\n",
      " [-0.03424392 -0.06924386 -0.05641448  0.00922166  0.04912081 -0.09199427]\n",
      " [ 0.04570696 -0.00520225 -0.05779297  0.00520949 -0.08052711 -0.05126333]\n",
      " [-0.01116372 -0.03384878  0.08189126  0.0103879   0.07035603 -0.09525301]\n",
      " [-0.03025103  0.01706183  0.0850764  -0.02673789 -0.0944066   0.0619095 ]]\n"
     ]
    }
   ],
   "source": [
    "def random_perturbation(n, m, eps):\n",
    "    return random_matrix(n, m, lower=-eps, upper=eps)\n",
    "\n",
    "print(random_perturbation(5, 6, 0.1))"
   ]
  },
  {
   "cell_type": "markdown",
   "id": "ff4fd863-976e-47b9-8e3b-972169736ec1",
   "metadata": {},
   "source": [
    "Оценим вероятность генерации вырожденной матрицы возмущений."
   ]
  },
  {
   "cell_type": "code",
   "execution_count": 10,
   "id": "cb3f089b-7993-4171-b600-48809c2333c2",
   "metadata": {},
   "outputs": [
    {
     "name": "stdout",
     "output_type": "stream",
     "text": [
      "Из 10000 сгенерированных матриц вырожденными оказались 10000. Вероятность = 1.0\n",
      "Из 10000 сгенерированных матриц вырожденными оказались 0. Вероятность = 0.0\n"
     ]
    }
   ],
   "source": [
    "N = 10000\n",
    "n = 10\n",
    "eps = 0.0001\n",
    "count = 0\n",
    "acount = 0\n",
    "\n",
    "for _ in range(N):\n",
    "    r = np.linalg.det(random_perturbation(n, n, eps))\n",
    "    if np.allclose(0, r,  atol=1e-16):\n",
    "        count += 1\n",
    "    if r == 0.0:\n",
    "        acount += 1\n",
    "\n",
    "        \n",
    "print(f\"Из {N} сгенерированных матриц вырожденными оказались {count}. Вероятность = {count / N}\")\n",
    "print(f\"Из {N} сгенерированных матриц вырожденными оказались {acount}. Вероятность = {acount / N}\")"
   ]
  },
  {
   "cell_type": "markdown",
   "id": "01203cfb-4b97-4900-9b4b-06ce7c18d649",
   "metadata": {},
   "source": [
    "**Из-за малости чисел оценить вырожденность матриы представялется сложным.**"
   ]
  },
  {
   "cell_type": "code",
   "execution_count": null,
   "id": "91d48e2c-5bd1-44e0-87ad-105db487cafa",
   "metadata": {},
   "outputs": [],
   "source": [
    "N = 100\n",
    "M = 100\n",
    "eps = np.logspace(1e-10, 1, M)\n",
    "norms = np.zeros(M)\n",
    "n = 10\n",
    "\n",
    "for i in range(M):\n",
    "    for _ in range(N):\n",
    "        norms[i] += np.linalg.norm(random_perturbation(n, n, eps[i]))\n",
    "    norms[i] /= N\n",
    "\n",
    "plt.figure(figsize=(10, 7))\n",
    "    \n",
    "plt.scatter(eps, norms)\n",
    "plt.xscale(\"log\")\n",
    "plt.yscale(\"log\")\n",
    "\n",
    "args = np.polyfit(eps, norms, 1)\n",
    "plt.plot(eps, np.polyval(args, eps), color=\"orange\", label=f\"$y = {args[0]:.10f} x {args[1]:+.10f}$\")\n",
    "plt.legend()"
   ]
  },
  {
   "cell_type": "markdown",
   "id": "50f5b01d-6468-4fc8-b1ee-b25dce8ab068",
   "metadata": {},
   "source": [
    "Видим, что зависимость средней нормы от $\\varepsilon$ прямая проходящая через ноль.  \n",
    "При увеличении размера матрицы $n$ увеличиваеться наклон прямой.  \n",
    "Оценим максимумы:"
   ]
  },
  {
   "cell_type": "code",
   "execution_count": null,
   "id": "3565f7c4-76c8-4480-af1f-ff167cd14410",
   "metadata": {},
   "outputs": [],
   "source": [
    "max_norms = np.zeros(M)\n",
    "\n",
    "for i in range(M):\n",
    "    for _ in range(N):\n",
    "        max_norms[i] = max(np.linalg.norm(random_perturbation(n, n, eps[i])), max_norms[i])\n",
    "\n",
    "\n",
    "plt.figure(figsize=(10, 7))\n",
    "    \n",
    "plt.scatter(eps, norms, label=\"Средняя норма\")\n",
    "plt.scatter(eps, max_norms, label=\"Максимальная норма\")\n",
    "plt.xscale(\"log\")\n",
    "plt.yscale(\"log\")\n",
    "\n",
    "args_max = np.polyfit(eps, max_norms, 1)\n",
    "plt.plot(eps, np.polyval(args, eps), label=f\"$y = {args[0]:.10f} x {args[1]:+.10f}$\")\n",
    "plt.plot(eps, np.polyval(args_max, eps), label=f\"$y = {args_max[0]:.10f} x {args_max[1]:+.10f}$\")\n",
    "plt.legend()"
   ]
  },
  {
   "cell_type": "markdown",
   "id": "72a10def-b877-44b2-8486-4bd525d39e1f",
   "metadata": {},
   "source": [
    "Видим, что зависимость максимальной нормы от $\\varepsilon$ также прямая проходящая через ноль.  \n",
    "Наколн этой прямой немного больше наклона "
   ]
  },
  {
   "cell_type": "markdown",
   "id": "db533328-a734-45ba-b814-a67053902910",
   "metadata": {},
   "source": [
    "# Задачи 2, 3, 4\n",
    "\n",
    "[Решение](hw_1_3_1.pdf)"
   ]
  },
  {
   "cell_type": "markdown",
   "id": "dad430d9-e39d-4158-bcf2-9f11c07c07e3",
   "metadata": {},
   "source": [
    "# Задача 5"
   ]
  },
  {
   "cell_type": "code",
   "execution_count": null,
   "id": "55338c3f-8265-4022-8dab-fc15f031e462",
   "metadata": {},
   "outputs": [],
   "source": [
    "chi = 5\n",
    "lambda_1 = np.arange(chi*chi).reshape((chi, chi))\n",
    "lambda_2 = np.arange(chi*chi).reshape((chi, chi))\n",
    "lambda_3 = np.arange(chi*chi).reshape((chi, chi))\n",
    "gamma_1 = np.arange(chi ** 3).reshape((chi, chi, chi))\n",
    "gamma_2 = np.arange(chi ** 3).reshape((chi, chi, chi))\n",
    "U = np.arange(chi ** 4).reshape((chi, chi, chi, chi))"
   ]
  },
  {
   "cell_type": "code",
   "execution_count": null,
   "id": "a6cd80a6-e30c-4804-8232-b4d287f0229f",
   "metadata": {},
   "outputs": [],
   "source": [
    "%%timeit\n",
    "Z = np.einsum(\"ab,cbd,de,feg,gh,ijef->ahij\",lambda_1, gamma_1, lambda_2, gamma_2, lambda_3, U, optimize=\"optimal\")"
   ]
  },
  {
   "cell_type": "code",
   "execution_count": null,
   "id": "1cefba8b-0438-43e5-85d4-fd1f597e9692",
   "metadata": {},
   "outputs": [],
   "source": [
    "Z = np.einsum(\"ab,cbd,de,feg,gh,ijef->ahij\",lambda_1, gamma_1, lambda_2, gamma_2, lambda_3, U, optimize=\"optimal\")"
   ]
  },
  {
   "cell_type": "code",
   "execution_count": null,
   "id": "78f2bc96-a266-41f8-88a9-6695f2b8423a",
   "metadata": {},
   "outputs": [],
   "source": [
    "path_info = np.einsum_path(\"ab,cbd,de,feg,gh,ijef->ahij\",lambda_1, gamma_1, lambda_2, gamma_2, lambda_3, U, optimize=\"optimal\")\n",
    "print(path_info[0])\n",
    "print(path_info[1])"
   ]
  },
  {
   "cell_type": "markdown",
   "id": "b13df6cf-856f-4b8e-a875-47daa49ff2a4",
   "metadata": {},
   "source": [
    "Реализуем то же при помощи простых функций"
   ]
  },
  {
   "cell_type": "code",
   "execution_count": null,
   "id": "2558df4d-4d8a-4754-ba7f-375aebb73a72",
   "metadata": {},
   "outputs": [],
   "source": [
    "T_1 = np.sum(np.tensordot(gamma_1, lambda_1, axes=(1,1)), axis=0).T\n",
    "print(np.array_equal(T_1, np.einsum(\"cbd,ab->ad\", gamma_1, lambda_1)))\n",
    "T_2 = np.tensordot(T_1, lambda_2, axes=(1, 0))\n",
    "print(np.array_equal(T_2, np.einsum(\"ad,de->ae\", T_1, lambda_2)))\n",
    "T_3 = np.swapaxes(np.tensordot(gamma_2, lambda_3, axes=(2, 0)), 0, 1)\n",
    "print(np.array_equal(T_3, np.einsum(\"gh,feg->efh\", lambda_3, gamma_2)))\n",
    "T_4 = np.moveaxis(np.diagonal(np.tensordot(T_3, U, axes=(1, 3)), axis1=0, axis2=4), -1, 0)\n",
    "print(np.array_equal(T_4, np.einsum(\"efh,ijef->ehij\", T_3, U)))\n",
    "T_5 = np.tensordot(T_2, T_4, axes=(1, 0))\n",
    "print(np.array_equal(T_5, Z))"
   ]
  },
  {
   "cell_type": "code",
   "execution_count": null,
   "id": "ce8b65e6-6ed1-4592-8504-bbfcd6697240",
   "metadata": {},
   "outputs": [],
   "source": [
    "%%timeit\n",
    "T_1 = np.sum(np.tensordot(gamma_1, lambda_1, axes=(1,1)), axis=0).T\n",
    "T_2 = np.tensordot(T_1, lambda_2, axes=(1, 0))\n",
    "T_3 = np.swapaxes(np.tensordot(gamma_2, lambda_3, axes=(2, 0)), 0, 1)\n",
    "T_4 = np.moveaxis(np.diagonal(np.tensordot(T_3, U, axes=(1, 3)), axis1=0, axis2=4), -1, 0)\n",
    "T_5 = np.tensordot(T_2, T_4, axes=(1, 0))"
   ]
  },
  {
   "cell_type": "code",
   "execution_count": null,
   "id": "5379a508-1db3-42ec-8077-b1ed441d1d5e",
   "metadata": {},
   "outputs": [],
   "source": [
    "%%timeit\n",
    "np.tensordot(np.tensordot(np.sum(np.tensordot(gamma_1, lambda_1, axes=(1,1)), axis=0).T, lambda_2, axes=(1, 0)), np.moveaxis(np.diagonal(np.tensordot(np.swapaxes(np.tensordot(gamma_2, lambda_3, axes=(2, 0)), 0, 1), U, axes=(1, 3)), axis1=0, axis2=4), -1, 0), axes=(1, 0))"
   ]
  },
  {
   "cell_type": "markdown",
   "id": "efdfc368-22df-4661-87be-2d31662bbcf6",
   "metadata": {},
   "source": [
    "Видим, что всё не очень красиво"
   ]
  },
  {
   "cell_type": "markdown",
   "id": "8e64f2df-9d48-48b5-84bf-d960bda95491",
   "metadata": {},
   "source": [
    "# Задача 6"
   ]
  },
  {
   "cell_type": "code",
   "execution_count": null,
   "id": "caaae66a-2396-45aa-9977-48dd24221b9a",
   "metadata": {},
   "outputs": [],
   "source": []
  }
 ],
 "metadata": {
  "kernelspec": {
   "display_name": "Python 3 (ipykernel)",
   "language": "python",
   "name": "python3"
  },
  "language_info": {
   "codemirror_mode": {
    "name": "ipython",
    "version": 3
   },
   "file_extension": ".py",
   "mimetype": "text/x-python",
   "name": "python",
   "nbconvert_exporter": "python",
   "pygments_lexer": "ipython3",
   "version": "3.10.6"
  }
 },
 "nbformat": 4,
 "nbformat_minor": 5
}
