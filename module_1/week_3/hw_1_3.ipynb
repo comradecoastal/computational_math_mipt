{
 "cells": [
  {
   "cell_type": "markdown",
   "id": "f99e071e-3dc2-4a6c-b289-dd6ae710f1a7",
   "metadata": {},
   "source": [
    "# Задача 1"
   ]
  },
  {
   "cell_type": "markdown",
   "id": "db533328-a734-45ba-b814-a67053902910",
   "metadata": {},
   "source": [
    "# Задачи 2, 3, 4\n",
    "\n",
    "[Решение](hw_1_3_1.pdf)"
   ]
  },
  {
   "cell_type": "code",
   "execution_count": null,
   "id": "0fdd3c74-db35-4d60-b16a-ad1892e7b58c",
   "metadata": {},
   "outputs": [],
   "source": []
  }
 ],
 "metadata": {
  "kernelspec": {
   "display_name": "Python 3 (ipykernel)",
   "language": "python",
   "name": "python3"
  },
  "language_info": {
   "codemirror_mode": {
    "name": "ipython",
    "version": 3
   },
   "file_extension": ".py",
   "mimetype": "text/x-python",
   "name": "python",
   "nbconvert_exporter": "python",
   "pygments_lexer": "ipython3",
   "version": "3.10.4"
  }
 },
 "nbformat": 4,
 "nbformat_minor": 5
}
