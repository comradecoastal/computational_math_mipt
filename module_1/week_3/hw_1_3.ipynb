{
 "cells": [
  {
   "cell_type": "markdown",
   "id": "f99e071e-3dc2-4a6c-b289-dd6ae710f1a7",
   "metadata": {},
   "source": [
    "# Задача 1"
   ]
  },
  {
   "cell_type": "code",
   "execution_count": 1,
   "id": "f9d974ed-f6bd-4e49-b712-cfe6f3676e60",
   "metadata": {},
   "outputs": [],
   "source": [
    "import numpy as np\n",
    "import scipy.stats as sps\n",
    "import matplotlib.pyplot as plt"
   ]
  },
  {
   "cell_type": "code",
   "execution_count": 10,
   "id": "a129faef-eb4b-4b75-a6a1-48dee0e2009c",
   "metadata": {},
   "outputs": [
    {
     "data": {
      "text/plain": [
       "array([[-0.34141064, -0.53500503,  3.56123804],\n",
       "       [-1.09327666,  1.48513268,  2.50466517]])"
      ]
     },
     "execution_count": 10,
     "metadata": {},
     "output_type": "execute_result"
    }
   ],
   "source": [
    "def random_matrix(n, m, lower=0, upper=1):\n",
    "    return sps.uniform.rvs(size=(n, m), loc=lower, scale=(upper - lower))\n",
    "\n",
    "random_matrix(2, 3, -5, 5)"
   ]
  },
  {
   "cell_type": "code",
   "execution_count": 12,
   "id": "eeb8c88e-f972-440c-8965-144a45f2a8f3",
   "metadata": {},
   "outputs": [
    {
     "data": {
      "text/plain": [
       "array([[0.20283488, 0.        , 0.        , 0.        , 0.        ],\n",
       "       [0.        , 0.12560051, 0.        , 0.        , 0.        ],\n",
       "       [0.        , 0.        , 0.58625959, 0.        , 0.        ],\n",
       "       [0.        , 0.        , 0.        , 0.43550511, 0.        ],\n",
       "       [0.        , 0.        , 0.        , 0.        , 0.23654224]])"
      ]
     },
     "execution_count": 12,
     "metadata": {},
     "output_type": "execute_result"
    }
   ],
   "source": [
    "def random_diagonal(n, lower=0, upper=1):\n",
    "    return np.diag(sps.uniform.rvs(size=n, loc=lower, scale=(upper - lower)))\n",
    "\n",
    "random_diagonal(5)"
   ]
  },
  {
   "cell_type": "code",
   "execution_count": 20,
   "id": "46d5f162-0636-46cd-81da-dc3c92806b0c",
   "metadata": {},
   "outputs": [
    {
     "data": {
      "text/plain": [
       "array([[ 1.92754008, -2.328208  ,  0.49039532, -0.89846331,  1.4442346 ],\n",
       "       [ 0.        , -0.71697344,  2.08436856, -2.0779628 ,  1.56399259],\n",
       "       [ 0.        ,  0.        , -1.19945791,  1.66144564,  2.55610355],\n",
       "       [ 0.        ,  0.        ,  0.        ,  0.0032087 , -1.80349418],\n",
       "       [ 0.        ,  0.        ,  0.        ,  0.        ,  0.80059967]])"
      ]
     },
     "execution_count": 20,
     "metadata": {},
     "output_type": "execute_result"
    }
   ],
   "source": [
    "def random_upper_triangle(n, lower=0, upper=1):\n",
    "    return np.triu(random_matrix(n, n, lower=lower, upper=upper))\n",
    "                   \n",
    "random_upper_triangle(5, -3, 3)"
   ]
  },
  {
   "cell_type": "code",
   "execution_count": 23,
   "id": "83973daf-5452-4009-99fe-c6372b3fb05f",
   "metadata": {},
   "outputs": [
    {
     "data": {
      "text/plain": [
       "array([[-0.96609331,  0.        ,  0.        ,  0.        ,  0.        ],\n",
       "       [ 0.47445188,  0.6311682 ,  0.        ,  0.        ,  0.        ],\n",
       "       [ 0.91149784,  1.00480846,  0.36805823,  0.        ,  0.        ],\n",
       "       [-1.33329789,  0.68800842, -1.98864867, -1.64330495,  0.        ],\n",
       "       [ 1.93505898, -0.43456789,  1.1528668 , -1.47860847,  1.08464121]])"
      ]
     },
     "execution_count": 23,
     "metadata": {},
     "output_type": "execute_result"
    }
   ],
   "source": [
    "def random_lower_triangle(n, lower=0, upper=1):\n",
    "    return random_upper_triangle(n, lower=lower, upper=upper).T\n",
    "\n",
    "random_lower_triangle(5, -2, 2)"
   ]
  },
  {
   "cell_type": "code",
   "execution_count": 24,
   "id": "da5704f3-9e17-4ceb-b8c6-4532bb167ba5",
   "metadata": {},
   "outputs": [
    {
     "data": {
      "text/plain": [
       "array([[0.42126152, 0.46234986, 0.31957721, 0.85463852, 0.55231658],\n",
       "       [0.46234986, 0.37097196, 0.54902731, 0.5714095 , 0.68430021],\n",
       "       [0.31957721, 0.54902731, 0.90359489, 0.6266679 , 0.86019018],\n",
       "       [0.85463852, 0.5714095 , 0.6266679 , 0.08681551, 0.21088824],\n",
       "       [0.55231658, 0.68430021, 0.86019018, 0.21088824, 0.03104485]])"
      ]
     },
     "execution_count": 24,
     "metadata": {},
     "output_type": "execute_result"
    }
   ],
   "source": [
    "def random_symmetrical(n, lower=0, upper=1):\n",
    "    x = random_matrix(n, n, lower=lower, upper=upper)\n",
    "    return((x + x.T) / 2)\n",
    "\n",
    "random_symmetrical(5)"
   ]
  },
  {
   "cell_type": "markdown",
   "id": "db533328-a734-45ba-b814-a67053902910",
   "metadata": {},
   "source": [
    "# Задачи 2, 3, 4\n",
    "\n",
    "[Решение](hw_1_3_1.pdf)"
   ]
  },
  {
   "cell_type": "code",
   "execution_count": null,
   "id": "0fdd3c74-db35-4d60-b16a-ad1892e7b58c",
   "metadata": {},
   "outputs": [],
   "source": []
  }
 ],
 "metadata": {
  "kernelspec": {
   "display_name": "Python 3 (ipykernel)",
   "language": "python",
   "name": "python3"
  },
  "language_info": {
   "codemirror_mode": {
    "name": "ipython",
    "version": 3
   },
   "file_extension": ".py",
   "mimetype": "text/x-python",
   "name": "python",
   "nbconvert_exporter": "python",
   "pygments_lexer": "ipython3",
   "version": "3.10.4"
  }
 },
 "nbformat": 4,
 "nbformat_minor": 5
}
