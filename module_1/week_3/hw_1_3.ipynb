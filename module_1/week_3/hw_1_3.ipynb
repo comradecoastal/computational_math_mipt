{
 "cells": [
  {
   "cell_type": "markdown",
   "id": "f99e071e-3dc2-4a6c-b289-dd6ae710f1a7",
   "metadata": {},
   "source": [
    "# Задача 1"
   ]
  },
  {
   "cell_type": "code",
   "execution_count": 4,
   "id": "f9d974ed-f6bd-4e49-b712-cfe6f3676e60",
   "metadata": {},
   "outputs": [],
   "source": [
    "import numpy as np\n",
    "import scipy.stats as sps\n",
    "import matplotlib.pyplot as plt"
   ]
  },
  {
   "cell_type": "markdown",
   "id": "577595d7-3ea8-40e6-9e64-be40c3a3315b",
   "metadata": {},
   "source": [
    "### Генератор случайной матрицы $n \\times m$"
   ]
  },
  {
   "cell_type": "code",
   "execution_count": 5,
   "id": "a129faef-eb4b-4b75-a6a1-48dee0e2009c",
   "metadata": {},
   "outputs": [
    {
     "data": {
      "text/plain": [
       "array([[ 4.18041069, -3.0137213 , -2.41349558],\n",
       "       [-0.28711824, -1.65109554, -0.43169239]])"
      ]
     },
     "execution_count": 5,
     "metadata": {},
     "output_type": "execute_result"
    }
   ],
   "source": [
    "def random_matrix(n, m, lower=0, upper=1):\n",
    "    return sps.uniform.rvs(size=(n, m), loc=lower, scale=(upper - lower))\n",
    "\n",
    "random_matrix(2, 3, -5, 5)"
   ]
  },
  {
   "cell_type": "markdown",
   "id": "809792bf-2ead-4220-9d47-e11f02396a61",
   "metadata": {},
   "source": [
    "### Генератор случайной диагональной матрицы "
   ]
  },
  {
   "cell_type": "code",
   "execution_count": 6,
   "id": "eeb8c88e-f972-440c-8965-144a45f2a8f3",
   "metadata": {},
   "outputs": [
    {
     "data": {
      "text/plain": [
       "array([[0.02277234, 0.        , 0.        , 0.        , 0.        ],\n",
       "       [0.        , 0.91217055, 0.        , 0.        , 0.        ],\n",
       "       [0.        , 0.        , 0.63965575, 0.        , 0.        ],\n",
       "       [0.        , 0.        , 0.        , 0.42220692, 0.        ],\n",
       "       [0.        , 0.        , 0.        , 0.        , 0.81813188]])"
      ]
     },
     "execution_count": 6,
     "metadata": {},
     "output_type": "execute_result"
    }
   ],
   "source": [
    "def random_diagonal(n, lower=0, upper=1):\n",
    "    return np.diag(sps.uniform.rvs(size=n, loc=lower, scale=(upper - lower)))\n",
    "\n",
    "random_diagonal(5)"
   ]
  },
  {
   "cell_type": "markdown",
   "id": "56be5555-eb13-433f-9032-2ace849f7ffc",
   "metadata": {},
   "source": [
    "### Генератор случайной верхней треугольной матрицы"
   ]
  },
  {
   "cell_type": "code",
   "execution_count": 7,
   "id": "46d5f162-0636-46cd-81da-dc3c92806b0c",
   "metadata": {},
   "outputs": [
    {
     "data": {
      "text/plain": [
       "array([[-0.82526363,  0.96831414,  2.92335461, -1.02311957,  2.24731878],\n",
       "       [ 0.        , -0.49884477, -1.64680183, -1.16149654, -2.84298923],\n",
       "       [ 0.        ,  0.        , -2.8365639 , -1.39781463, -0.36182325],\n",
       "       [ 0.        ,  0.        ,  0.        , -1.35203765,  1.14878708],\n",
       "       [ 0.        ,  0.        ,  0.        ,  0.        ,  1.98601722]])"
      ]
     },
     "execution_count": 7,
     "metadata": {},
     "output_type": "execute_result"
    }
   ],
   "source": [
    "def random_upper_triangle(n, lower=0, upper=1):\n",
    "    return np.triu(random_matrix(n, n, lower=lower, upper=upper))\n",
    "                   \n",
    "random_upper_triangle(5, -3, 3)"
   ]
  },
  {
   "cell_type": "markdown",
   "id": "8fb07bea-37c5-41ad-bdcc-7bc8966e5b1b",
   "metadata": {},
   "source": [
    "### Генератор случайной нижней треугольной матрицы"
   ]
  },
  {
   "cell_type": "code",
   "execution_count": 8,
   "id": "83973daf-5452-4009-99fe-c6372b3fb05f",
   "metadata": {},
   "outputs": [
    {
     "data": {
      "text/plain": [
       "array([[ 1.15887385,  0.        ,  0.        ,  0.        ,  0.        ],\n",
       "       [ 0.27739078,  1.03580284,  0.        ,  0.        ,  0.        ],\n",
       "       [-0.24350279, -0.77931443, -0.15626549,  0.        ,  0.        ],\n",
       "       [ 1.48213307, -0.98144057,  1.12430285, -0.86794061,  0.        ],\n",
       "       [-1.71969113,  1.052852  ,  0.89492731,  1.00441228,  1.86123497]])"
      ]
     },
     "execution_count": 8,
     "metadata": {},
     "output_type": "execute_result"
    }
   ],
   "source": [
    "def random_lower_triangle(n, lower=0, upper=1):\n",
    "    return random_upper_triangle(n, lower=lower, upper=upper).T\n",
    "\n",
    "random_lower_triangle(5, -2, 2)"
   ]
  },
  {
   "cell_type": "markdown",
   "id": "e632bd0e-61f7-49b2-9703-89f4b226ac67",
   "metadata": {},
   "source": [
    "### Генератор случайной симметричной матрицы"
   ]
  },
  {
   "cell_type": "code",
   "execution_count": 9,
   "id": "da5704f3-9e17-4ceb-b8c6-4532bb167ba5",
   "metadata": {},
   "outputs": [
    {
     "data": {
      "text/plain": [
       "array([[0.90365976, 0.60983663, 0.59820126, 0.24629581, 0.13472527],\n",
       "       [0.60983663, 0.08383242, 0.20069317, 0.32078639, 0.69026174],\n",
       "       [0.59820126, 0.20069317, 0.65460954, 0.68143596, 0.42196579],\n",
       "       [0.24629581, 0.32078639, 0.68143596, 0.67042756, 0.19606417],\n",
       "       [0.13472527, 0.69026174, 0.42196579, 0.19606417, 0.86766903]])"
      ]
     },
     "execution_count": 9,
     "metadata": {},
     "output_type": "execute_result"
    }
   ],
   "source": [
    "def random_symmetrical(n, lower=0, upper=1):\n",
    "    x = random_matrix(n, n, lower=lower, upper=upper)\n",
    "    return((x + x.T) / 2)\n",
    "\n",
    "random_symmetrical(5)"
   ]
  },
  {
   "cell_type": "markdown",
   "id": "c2de11c0-6e1c-4f19-9adf-2532b3b24c53",
   "metadata": {},
   "source": [
    "### Генератор случайной вырожденной матрицы"
   ]
  },
  {
   "cell_type": "code",
   "execution_count": 52,
   "id": "ce855610-bc88-4f66-9c31-181977293564",
   "metadata": {},
   "outputs": [
    {
     "name": "stdout",
     "output_type": "stream",
     "text": [
      "[[0.08882765 0.49774011 0.54293588 0.48290431 0.65357435 0.6978239 ]\n",
      " [0.84382531 0.5551607  0.94179192 0.67778289 0.27190797 0.52621928]\n",
      " [0.59990668 0.85520594 0.57723614 0.95365525 0.99724371 0.89145267]\n",
      " [0.86946847 0.39962459 0.86398391 0.76010177 0.00523303 0.21546053]\n",
      " [0.44326033 0.39657816 0.72760167 0.79260312 0.48870333 0.07834592]\n",
      " [0.44826953 0.49690061 0.07266492 0.70156142 0.00775907 0.93320374]]\n",
      "det == 0: True\n"
     ]
    }
   ],
   "source": [
    "def random_degenerate(n, lower=0, upper=1):\n",
    "    x = random_matrix(n, n, lower=lower, upper=upper)\n",
    "    # заменым k-ый столбец линейной комбинацией других столбцов\n",
    "    k = sps.randint(0, n).rvs()\n",
    "    x[:, k] *= 0\n",
    "    distr = sps.uniform().rvs(n - 1)\n",
    "    weights = distr / sum(distr)\n",
    "    x[:, k] = np.delete(x, (k), axis=1) @ weights.T\n",
    "    return x\n",
    "    \n",
    "\n",
    "r = random_degenerate(6)\n",
    "print(r)\n",
    "print(\"det == 0:\", np.allclose(np.linalg.det(r), 0))"
   ]
  },
  {
   "cell_type": "markdown",
   "id": "bdfcab5f-4e58-4acc-94d0-17e178392340",
   "metadata": {},
   "source": [
    "### Генератор матрицы $n \\times m$ ступенчатого вида ранга $m$"
   ]
  },
  {
   "cell_type": "code",
   "execution_count": 115,
   "id": "14f2c992-118a-4c4e-bbde-dfaef518c572",
   "metadata": {},
   "outputs": [
    {
     "name": "stdout",
     "output_type": "stream",
     "text": [
      "[[0.25471447 0.84675838 0.33205005 ... 0.78781843 0.08216749 0.23047661]\n",
      " [0.         0.84584739 0.13166367 ... 0.96862034 0.29160135 0.2819669 ]\n",
      " [0.         0.         0.72468298 ... 0.80459445 0.23293916 0.69125578]\n",
      " ...\n",
      " [0.         0.         0.         ... 0.         0.         0.        ]\n",
      " [0.         0.         0.         ... 0.         0.         0.        ]\n",
      " [0.         0.         0.         ... 0.         0.         0.        ]]\n",
      "87\n"
     ]
    }
   ],
   "source": [
    "def random_row_echelon(n, m, lower=0, upper=1):\n",
    "    x = random_upper_triangle(n, lower=lower, upper=upper)\n",
    "    # удалим n-m строк\n",
    "    k = np.random.choice(np.arange(1, n), size=(n - m), replace=False)\n",
    "    x = np.delete(x, k, axis=0)\n",
    "    x = np.vstack((x, np.zeros((n - m, n))))\n",
    "    # ленивая проверка ранга\n",
    "    if np.linalg.matrix_rank(x) != m:\n",
    "        return random_row_echelon(n, m, lower=lower, upper=upper)\n",
    "    return x\n",
    "\n",
    "r = random_row_echelon(100, 87)\n",
    "print(r)\n",
    "print(np.linalg.matrix_rank(r))"
   ]
  },
  {
   "cell_type": "markdown",
   "id": "969267fd-1375-4d7a-8999-ffe4a1c12412",
   "metadata": {},
   "source": [
    "### Генератор матрицы возмущений $n \\times m$"
   ]
  },
  {
   "cell_type": "code",
   "execution_count": 119,
   "id": "b26eab35-6b10-4192-9509-6be873e01645",
   "metadata": {},
   "outputs": [
    {
     "name": "stdout",
     "output_type": "stream",
     "text": [
      "[[ 0.04475063  0.09309518  0.04774409  0.06285605  0.06878476  0.07828028]\n",
      " [-0.0605428   0.04008107  0.06293578  0.05644963 -0.0399297   0.09869908]\n",
      " [ 0.06842567  0.03507982 -0.0666941  -0.06823529  0.01062417 -0.07689233]\n",
      " [ 0.01053791  0.03767427 -0.0250409  -0.06899915 -0.03089686  0.08063321]\n",
      " [ 0.07876545  0.04906506  0.04394    -0.07628331  0.00684548 -0.03865419]]\n"
     ]
    }
   ],
   "source": [
    "def random_perturbation(n, m, eps):\n",
    "    return random_matrix(n, m, lower=-eps, upper=eps)\n",
    "\n",
    "print(random_perturbation(5, 6, 0.1))"
   ]
  },
  {
   "cell_type": "markdown",
   "id": "ff4fd863-976e-47b9-8e3b-972169736ec1",
   "metadata": {},
   "source": [
    "Оценим вероятность генерации вырожденной матрицы возмущений."
   ]
  },
  {
   "cell_type": "code",
   "execution_count": 132,
   "id": "cb3f089b-7993-4171-b600-48809c2333c2",
   "metadata": {},
   "outputs": [
    {
     "name": "stdout",
     "output_type": "stream",
     "text": [
      "Из 10000 сгенерированных матриц вырожденными оказались 10000. Вероятность = 1.0\n",
      "Из 10000 сгенерированных матриц вырожденными оказались 0. Вероятность = 0.0\n"
     ]
    }
   ],
   "source": [
    "N = 10000\n",
    "n = 10\n",
    "eps = 0.0001\n",
    "count = 0\n",
    "acount = 0\n",
    "\n",
    "for _ in range(N):\n",
    "    r = np.linalg.det(random_perturbation(n, n, eps))\n",
    "    if np.allclose(0, r,  atol=1e-16):\n",
    "        count += 1\n",
    "    if r == 0.0:\n",
    "        acount += 1\n",
    "\n",
    "        \n",
    "print(f\"Из {N} сгенерированных матриц вырожденными оказались {count}. Вероятность = {count / N}\")\n",
    "print(f\"Из {N} сгенерированных матриц вырожденными оказались {acount}. Вероятность = {acount / N}\")"
   ]
  },
  {
   "cell_type": "markdown",
   "id": "01203cfb-4b97-4900-9b4b-06ce7c18d649",
   "metadata": {},
   "source": [
    "**Из-за малости чисел оценить вырожденность матриы представялется сложным.**"
   ]
  },
  {
   "cell_type": "code",
   "execution_count": 166,
   "id": "91d48e2c-5bd1-44e0-87ad-105db487cafa",
   "metadata": {},
   "outputs": [
    {
     "data": {
      "text/plain": [
       "<matplotlib.legend.Legend at 0x7f5c63e5d7e0>"
      ]
     },
     "execution_count": 166,
     "metadata": {},
     "output_type": "execute_result"
    },
    {
     "data": {
      "image/png": "[encoded data removed]",
      "text/plain": [
       "<Figure size 720x504 with 1 Axes>"
      ]
     },
     "metadata": {
      "needs_background": "light"
     },
     "output_type": "display_data"
    }
   ],
   "source": [
    "N = 100\n",
    "M = 100\n",
    "eps = np.logspace(1e-10, 1, M)\n",
    "norms = np.zeros(M)\n",
    "n = 10\n",
    "\n",
    "for i in range(M):\n",
    "    for _ in range(N):\n",
    "        norms[i] += np.linalg.norm(random_perturbation(n, n, eps[i]))\n",
    "    norms[i] /= N\n",
    "\n",
    "plt.figure(figsize=(10, 7))\n",
    "    \n",
    "plt.scatter(eps, norms)\n",
    "plt.xscale(\"log\")\n",
    "plt.yscale(\"log\")\n",
    "\n",
    "args = np.polyfit(eps, norms, 1)\n",
    "plt.plot(eps, np.polyval(args, eps), color=\"orange\", label=f\"$y = {args[0]:.10f} x {args[1]:+.10f}$\")\n",
    "plt.legend()"
   ]
  },
  {
   "cell_type": "markdown",
   "id": "50f5b01d-6468-4fc8-b1ee-b25dce8ab068",
   "metadata": {},
   "source": [
    "Видим, что зависимость средней нормы от $\\varepsilon$ прямая проходящая через ноль.  \n",
    "При увеличении размера матрицы $n$ увеличиваеться наклон прямой.  \n",
    "Оценим максимумы:"
   ]
  },
  {
   "cell_type": "code",
   "execution_count": 168,
   "id": "3565f7c4-76c8-4480-af1f-ff167cd14410",
   "metadata": {},
   "outputs": [
    {
     "data": {
      "text/plain": [
       "<matplotlib.legend.Legend at 0x7f5c63cf39d0>"
      ]
     },
     "execution_count": 168,
     "metadata": {},
     "output_type": "execute_result"
    },
    {
     "data": {
      "image/png": "[encoded data removed]",
      "text/plain": [
       "<Figure size 720x504 with 1 Axes>"
      ]
     },
     "metadata": {
      "needs_background": "light"
     },
     "output_type": "display_data"
    }
   ],
   "source": [
    "max_norms = np.zeros(M)\n",
    "\n",
    "for i in range(M):\n",
    "    for _ in range(N):\n",
    "        max_norms[i] = max(np.linalg.norm(random_perturbation(n, n, eps[i])), max_norms[i])\n",
    "\n",
    "\n",
    "plt.figure(figsize=(10, 7))\n",
    "    \n",
    "plt.scatter(eps, norms, label=\"Средняя норма\")\n",
    "plt.scatter(eps, max_norms, label=\"Максимальная норма\")\n",
    "plt.xscale(\"log\")\n",
    "plt.yscale(\"log\")\n",
    "\n",
    "args_max = np.polyfit(eps, max_norms, 1)\n",
    "plt.plot(eps, np.polyval(args, eps), label=f\"$y = {args[0]:.10f} x {args[1]:+.10f}$\")\n",
    "plt.plot(eps, np.polyval(args_max, eps), label=f\"$y = {args_max[0]:.10f} x {args_max[1]:+.10f}$\")\n",
    "plt.legend()"
   ]
  },
  {
   "cell_type": "markdown",
   "id": "72a10def-b877-44b2-8486-4bd525d39e1f",
   "metadata": {},
   "source": [
    "Видим, что зависимость максимальной нормы от $\\varepsilon$ также прямая проходящая через ноль.  \n",
    "Наколн этой прямой немного больше наклона "
   ]
  },
  {
   "cell_type": "markdown",
   "id": "db533328-a734-45ba-b814-a67053902910",
   "metadata": {},
   "source": [
    "# Задачи 2, 3, 4\n",
    "\n",
    "[Решение](hw_1_3_1.pdf)"
   ]
  },
  {
   "cell_type": "markdown",
   "id": "dad430d9-e39d-4158-bcf2-9f11c07c07e3",
   "metadata": {},
   "source": [
    "# Задача 5"
   ]
  },
  {
   "cell_type": "code",
   "execution_count": 173,
   "id": "55338c3f-8265-4022-8dab-fc15f031e462",
   "metadata": {},
   "outputs": [],
   "source": [
    "chi = 5\n",
    "lambda_1 = np.arange(chi*chi).reshape((chi, chi))\n",
    "lambda_2 = np.arange(chi*chi).reshape((chi, chi))\n",
    "lambda_3 = np.arange(chi*chi).reshape((chi, chi))\n",
    "gamma_1 = np.arange(chi ** 3).reshape((chi, chi, chi))\n",
    "gamma_2 = np.arange(chi ** 3).reshape((chi, chi, chi))\n",
    "U = np.arange(chi ** 4).reshape((chi, chi, chi, chi))"
   ]
  },
  {
   "cell_type": "code",
   "execution_count": 229,
   "id": "a6cd80a6-e30c-4804-8232-b4d287f0229f",
   "metadata": {},
   "outputs": [
    {
     "name": "stdout",
     "output_type": "stream",
     "text": [
      "3.74 ms ± 153 µs per loop (mean ± std. dev. of 7 runs, 100 loops each)\n"
     ]
    }
   ],
   "source": [
    "%%timeit\n",
    "Z = np.einsum(\"ab,cbd,de,feg,gh,ijef->ahij\",lambda_1, gamma_1, lambda_2, gamma_2, lambda_3, U, optimize=\"optimal\")"
   ]
  },
  {
   "cell_type": "code",
   "execution_count": 254,
   "id": "1cefba8b-0438-43e5-85d4-fd1f597e9692",
   "metadata": {},
   "outputs": [
    {
     "name": "stdout",
     "output_type": "stream",
     "text": [
      "  Complete contraction:  ab,cb,db->ac\n",
      "         Naive scaling:  4\n",
      "     Optimized scaling:  3\n",
      "      Naive FLOP count:  1.875e+03\n",
      "  Optimized FLOP count:  5.010e+02\n",
      "   Theoretical speedup:  3.743\n",
      "  Largest intermediate:  2.500e+01 elements\n",
      "--------------------------------------------------------------------------\n",
      "scaling                  current                                remaining\n",
      "--------------------------------------------------------------------------\n",
      "   3                   db,ab->ab                                cb,ab->ac\n",
      "   3                   ab,cb->ac                                   ac->ac\n",
      "[[   0   55  120  195  280]\n",
      " [ 250  330  420  520  630]\n",
      " [ 500  605  720  845  980]\n",
      " [ 750  880 1020 1170 1330]\n",
      " [1000 1155 1320 1495 1680]]\n",
      "[[ 750  800  850  900  950]\n",
      " [ 800  855  910  965 1020]\n",
      " [ 850  910  970 1030 1090]\n",
      " [ 900  965 1030 1095 1160]\n",
      " [ 950 1020 1090 1160 1230]]\n"
     ]
    }
   ],
   "source": [
    "l = np.einsum(\"ab, cb, db->ac\", lambda_1, lambda_2, lambda_3)\n",
    "print(np.einsum_path(\"ab, cb, db->ac\", lambda_1, lambda_2, lambda_3)[1])\n",
    "print(np.einsum(\"db,ab->ab\", lambda_3, lambda_1))\n",
    "print(np.tensordot(lambda_3, lambda_1, axes=((0),(0))))"
   ]
  },
  {
   "cell_type": "code",
   "execution_count": 197,
   "id": "78f2bc96-a266-41f8-88a9-6695f2b8423a",
   "metadata": {},
   "outputs": [
    {
     "name": "stdout",
     "output_type": "stream",
     "text": [
      "['einsum_path', (0, 1), (0, 4), (0, 1), (0, 2), (0, 1)]\n",
      "  Complete contraction:  ab,cbd,de,feg,gh,ijef->ahij\n",
      "         Naive scaling:  10\n",
      "     Optimized scaling:  5\n",
      "      Naive FLOP count:  5.859e+07\n",
      "  Optimized FLOP count:  1.525e+04\n",
      "   Theoretical speedup:  3841.961\n",
      "  Largest intermediate:  6.250e+02 elements\n",
      "--------------------------------------------------------------------------\n",
      "scaling                  current                                remaining\n",
      "--------------------------------------------------------------------------\n",
      "   4                  cbd,ab->ad                  de,feg,gh,ijef,ad->ahij\n",
      "   3                   ad,de->ae                     feg,gh,ijef,ae->ahij\n",
      "   4                 gh,feg->efh                        ijef,ae,efh->ahij\n",
      "   5              efh,ijef->ehij                            ae,ehij->ahij\n",
      "   5               ehij,ae->ahij                               ahij->ahij\n"
     ]
    }
   ],
   "source": [
    "path_info = np.einsum_path(\"ab,cbd,de,feg,gh,ijef->ahij\",lambda_1, gamma_1, lambda_2, gamma_2, lambda_3, U, optimize=\"optimal\")\n",
    "print(path_info[0])\n",
    "print(path_info[1])"
   ]
  },
  {
   "cell_type": "markdown",
   "id": "b13df6cf-856f-4b8e-a875-47daa49ff2a4",
   "metadata": {},
   "source": [
    "Реализуем то же при помощи простых функций"
   ]
  },
  {
   "cell_type": "code",
   "execution_count": 228,
   "id": "2558df4d-4d8a-4754-ba7f-375aebb73a72",
   "metadata": {},
   "outputs": [
    {
     "data": {
      "text/plain": [
       "array([[[[False, False, False, False, False],\n",
       "         [False, False, False, False, False],\n",
       "         [False, False, False, False, False],\n",
       "         [False, False, False, False, False],\n",
       "         [False, False, False, False, False]],\n",
       "\n",
       "        [[False, False, False, False, False],\n",
       "         [False, False, False, False, False],\n",
       "         [False, False, False, False, False],\n",
       "         [False, False, False, False, False],\n",
       "         [False, False, False, False, False]],\n",
       "\n",
       "        [[False, False, False, False, False],\n",
       "         [False, False, False, False, False],\n",
       "         [False, False, False, False, False],\n",
       "         [False, False, False, False, False],\n",
       "         [False, False, False, False, False]],\n",
       "\n",
       "        [[False, False, False, False, False],\n",
       "         [False, False, False, False, False],\n",
       "         [False, False, False, False, False],\n",
       "         [False, False, False, False, False],\n",
       "         [False, False, False, False, False]],\n",
       "\n",
       "        [[False, False, False, False, False],\n",
       "         [False, False, False, False, False],\n",
       "         [False, False, False, False, False],\n",
       "         [False, False, False, False, False],\n",
       "         [False, False, False, False, False]]],\n",
       "\n",
       "\n",
       "       [[[False, False, False, False, False],\n",
       "         [False, False, False, False, False],\n",
       "         [False, False, False, False, False],\n",
       "         [False, False, False, False, False],\n",
       "         [False, False, False, False, False]],\n",
       "\n",
       "        [[False, False, False, False, False],\n",
       "         [False, False, False, False, False],\n",
       "         [False, False, False, False, False],\n",
       "         [False, False, False, False, False],\n",
       "         [False, False, False, False, False]],\n",
       "\n",
       "        [[False, False, False, False, False],\n",
       "         [False, False, False, False, False],\n",
       "         [False, False, False, False, False],\n",
       "         [False, False, False, False, False],\n",
       "         [False, False, False, False, False]],\n",
       "\n",
       "        [[False, False, False, False, False],\n",
       "         [False, False, False, False, False],\n",
       "         [False, False, False, False, False],\n",
       "         [False, False, False, False, False],\n",
       "         [False, False, False, False, False]],\n",
       "\n",
       "        [[False, False, False, False, False],\n",
       "         [False, False, False, False, False],\n",
       "         [False, False, False, False, False],\n",
       "         [False, False, False, False, False],\n",
       "         [False, False, False, False, False]]],\n",
       "\n",
       "\n",
       "       [[[False, False, False, False, False],\n",
       "         [False, False, False, False, False],\n",
       "         [False, False, False, False, False],\n",
       "         [False, False, False, False, False],\n",
       "         [False, False, False, False, False]],\n",
       "\n",
       "        [[False, False, False, False, False],\n",
       "         [False, False, False, False, False],\n",
       "         [False, False, False, False, False],\n",
       "         [False, False, False, False, False],\n",
       "         [False, False, False, False, False]],\n",
       "\n",
       "        [[False, False, False, False, False],\n",
       "         [False, False, False, False, False],\n",
       "         [False, False, False, False, False],\n",
       "         [False, False, False, False, False],\n",
       "         [False, False, False, False, False]],\n",
       "\n",
       "        [[False, False, False, False, False],\n",
       "         [False, False, False, False, False],\n",
       "         [False, False, False, False, False],\n",
       "         [False, False, False, False, False],\n",
       "         [False, False, False, False, False]],\n",
       "\n",
       "        [[False, False, False, False, False],\n",
       "         [False, False, False, False, False],\n",
       "         [False, False, False, False, False],\n",
       "         [False, False, False, False, False],\n",
       "         [False, False, False, False, False]]],\n",
       "\n",
       "\n",
       "       [[[False, False, False, False, False],\n",
       "         [False, False, False, False, False],\n",
       "         [False, False, False, False, False],\n",
       "         [False, False, False, False, False],\n",
       "         [False, False, False, False, False]],\n",
       "\n",
       "        [[False, False, False, False, False],\n",
       "         [False, False, False, False, False],\n",
       "         [False, False, False, False, False],\n",
       "         [False, False, False, False, False],\n",
       "         [False, False, False, False, False]],\n",
       "\n",
       "        [[False, False, False, False, False],\n",
       "         [False, False, False, False, False],\n",
       "         [False, False, False, False, False],\n",
       "         [False, False, False, False, False],\n",
       "         [False, False, False, False, False]],\n",
       "\n",
       "        [[False, False, False, False, False],\n",
       "         [False, False, False, False, False],\n",
       "         [False, False, False, False, False],\n",
       "         [False, False, False, False, False],\n",
       "         [False, False, False, False, False]],\n",
       "\n",
       "        [[False, False, False, False, False],\n",
       "         [False, False, False, False, False],\n",
       "         [False, False, False, False, False],\n",
       "         [False, False, False, False, False],\n",
       "         [False, False, False, False, False]]],\n",
       "\n",
       "\n",
       "       [[[False, False, False, False, False],\n",
       "         [False, False, False, False, False],\n",
       "         [False, False, False, False, False],\n",
       "         [False, False, False, False, False],\n",
       "         [False, False, False, False, False]],\n",
       "\n",
       "        [[False, False, False, False, False],\n",
       "         [False, False, False, False, False],\n",
       "         [False, False, False, False, False],\n",
       "         [False, False, False, False, False],\n",
       "         [False, False, False, False, False]],\n",
       "\n",
       "        [[False, False, False, False, False],\n",
       "         [False, False, False, False, False],\n",
       "         [False, False, False, False, False],\n",
       "         [False, False, False, False, False],\n",
       "         [False, False, False, False, False]],\n",
       "\n",
       "        [[False, False, False, False, False],\n",
       "         [False, False, False, False, False],\n",
       "         [False, False, False, False, False],\n",
       "         [False, False, False, False, False],\n",
       "         [False, False, False, False, False]],\n",
       "\n",
       "        [[False, False, False, False, False],\n",
       "         [False, False, False, False, False],\n",
       "         [False, False, False, False, False],\n",
       "         [False, False, False, False, False],\n",
       "         [False, False, False, False, False]]]])"
      ]
     },
     "execution_count": 228,
     "metadata": {},
     "output_type": "execute_result"
    }
   ],
   "source": [
    "T_1, = np.tensordot(np.sum(gamma_1, axis=0), lambda_1, axes=(0,1)),\n",
    "T_2 = np.tensordot(T_1, lambda_2, axes=(1, 0))\n",
    "T_3 = np.tensordot(lambda_3, gamma_2, axes=(0, 2))\n",
    "T_4 = np.tensordot(T_3, np.sum(U, axis=2), axes=(1, 2))\n",
    "T_5 = np.tensordot(T_4, T_2, axes=(0, 1))\n",
    "T_5 == Z"
   ]
  },
  {
   "cell_type": "code",
   "execution_count": null,
   "id": "ce8b65e6-6ed1-4592-8504-bbfcd6697240",
   "metadata": {},
   "outputs": [],
   "source": []
  }
 ],
 "metadata": {
  "kernelspec": {
   "display_name": "Python 3 (ipykernel)",
   "language": "python",
   "name": "python3"
  },
  "language_info": {
   "codemirror_mode": {
    "name": "ipython",
    "version": 3
   },
   "file_extension": ".py",
   "mimetype": "text/x-python",
   "name": "python",
   "nbconvert_exporter": "python",
   "pygments_lexer": "ipython3",
   "version": "3.10.6"
  }
 },
 "nbformat": 4,
 "nbformat_minor": 5
}
