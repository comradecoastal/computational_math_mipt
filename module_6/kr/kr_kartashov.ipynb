{
 "cells": [
  {
   "cell_type": "markdown",
   "id": "bbf18fca-19ab-40d2-9fc8-d4c041d9701b",
   "metadata": {},
   "source": [
    "## Вариант 2"
   ]
  },
  {
   "cell_type": "markdown",
   "id": "e212c554-6e31-4c64-9efd-3bdb34f900e8",
   "metadata": {
    "tags": []
   },
   "source": [
    "### Задача 1  \n",
    "[task_1.pdf - файл](task_1.pdf)"
   ]
  },
  {
   "cell_type": "markdown",
   "id": "d4aee3a9-2701-4c0b-963f-e9443c03b0aa",
   "metadata": {
    "tags": []
   },
   "source": [
    "### Задача 2\n",
    "[task_2.pdf - файл](task_2.pdf)"
   ]
  },
  {
   "cell_type": "code",
   "execution_count": 8,
   "id": "6ac36ce8-d3bd-44fe-a348-92b826aa27c2",
   "metadata": {
    "tags": []
   },
   "outputs": [],
   "source": [
    "from math import pi as PI\n",
    "\n",
    "def integrator(f):\n",
    "    return PI/ 8 * (0.151958 * f(0.114979) + 0.471404 * f(0.392699) + \\\n",
    "                    0.649116 * f(0.670418))"
   ]
  },
  {
   "cell_type": "markdown",
   "id": "7f2fce90-5d49-48c9-8905-fa67a047107d",
   "metadata": {
    "tags": []
   },
   "source": [
    "проверим работу функции для различных $f(x)$:  \n",
    "при $f_1(x) = 1, \\; I_1 = 0.5$;  \n",
    "при $f_2(x) = x, \\; I_2 = 0.25$;  \n",
    "при $f_3(x) = cos(4x), \\; I_3 = -1/6 \\approx -0.167$;  "
   ]
  },
  {
   "cell_type": "code",
   "execution_count": 11,
   "id": "2d358f21-7d5e-4a82-b051-b5a0caa7b64e",
   "metadata": {
    "tags": []
   },
   "outputs": [
    {
     "name": "stdout",
     "output_type": "stream",
     "text": [
      "I_1 = 0.4997009420818291\n",
      "I_1 = 0.25045205020656897\n",
      "I_1 = -0.17494614929248825\n"
     ]
    }
   ],
   "source": [
    "from math import cos\n",
    "\n",
    "print(\"I_1 =\", integrator(lambda x: 1))\n",
    "print(\"I_1 =\", integrator(lambda x: x))\n",
    "print(\"I_1 =\", integrator(lambda x: cos(4 * x)))"
   ]
  },
  {
   "cell_type": "markdown",
   "id": "9048cfaa-82b7-44a2-89c3-fc56d44a1121",
   "metadata": {},
   "source": [
    "видим, что результаты близки"
   ]
  },
  {
   "cell_type": "markdown",
   "id": "e25f4b6f-3478-4406-ba17-40dedc2c9311",
   "metadata": {},
   "source": [
    "### Задача 3\n",
    "[task_3.pdf - файл](task_3.pdf)"
   ]
  },
  {
   "cell_type": "markdown",
   "id": "5b3a9906-105a-4d60-8f3e-e7aa4b622994",
   "metadata": {},
   "source": []
  },
  {
   "cell_type": "code",
   "execution_count": null,
   "id": "db1b83e2-3b45-48b6-93e0-1e0f6e37869e",
   "metadata": {},
   "outputs": [],
   "source": []
  }
 ],
 "metadata": {
  "kernelspec": {
   "display_name": "Python 3 (ipykernel)",
   "language": "python",
   "name": "python3"
  },
  "language_info": {
   "codemirror_mode": {
    "name": "ipython",
    "version": 3
   },
   "file_extension": ".py",
   "mimetype": "text/x-python",
   "name": "python",
   "nbconvert_exporter": "python",
   "pygments_lexer": "ipython3",
   "version": "3.10.6"
  }
 },
 "nbformat": 4,
 "nbformat_minor": 5
}
