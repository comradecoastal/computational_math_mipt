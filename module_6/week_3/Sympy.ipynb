{
 "cells": [
  {
   "cell_type": "markdown",
   "id": "5e9407a3",
   "metadata": {
    "id": "5e9407a3"
   },
   "source": [
    "# Символьные вычисления на Python"
   ]
  },
  {
   "cell_type": "code",
   "execution_count": null,
   "id": "294681c0",
   "metadata": {
    "id": "294681c0",
    "outputId": "126115a0-812f-43e8-dbd2-f0bf06e62fe5",
    "tags": []
   },
   "outputs": [
    {
     "name": "stdout",
     "output_type": "stream",
     "text": [
      "√2\n"
     ]
    },
    {
     "data": {
      "image/png": "[encoded data removed]",
      "text/latex": [
       "$\\displaystyle \\left( \\sqrt{2}, \\  2\\right)$"
      ],
      "text/plain": [
       "(√2, 2)"
      ]
     },
     "execution_count": 3,
     "metadata": {},
     "output_type": "execute_result"
    }
   ],
   "source": [
    "%matplotlib inline\n",
    "import numpy as np\n",
    "import matplotlib.pyplot as plt\n",
    "import sympy as smp\n",
    "\n",
    "smp.init_printing()\n",
    "x = smp.sqrt(2) # символами\n",
    "smp.pretty_print(x) # latex\n",
    "x, x**2"
   ]
  },
  {
   "cell_type": "code",
   "execution_count": null,
   "id": "17c28af2",
   "metadata": {
    "id": "17c28af2"
   },
   "outputs": [],
   "source": [
    "# Рациональные числа\n",
    "from sympy import Rational as R"
   ]
  },
  {
   "cell_type": "code",
   "execution_count": null,
   "id": "b4185d27",
   "metadata": {
    "id": "b4185d27",
    "outputId": "998845d5-a535-44d3-c8c6-8325174c40ad"
   },
   "outputs": [
    {
     "data": {
      "image/png": "[encoded data removed]",
      "text/latex": [
       "$\\displaystyle \\left( \\frac{1}{10}, \\  \\frac{3}{4}\\right)$"
      ],
      "text/plain": [
       "(1/10, 3/4)"
      ]
     },
     "execution_count": 5,
     "metadata": {},
     "output_type": "execute_result"
    }
   ],
   "source": [
    "R(1, 10), R(3, 4)"
   ]
  },
  {
   "cell_type": "code",
   "execution_count": null,
   "id": "3c29ae7a",
   "metadata": {
    "id": "3c29ae7a",
    "outputId": "106d652d-2b8d-4c47-b28d-dbfc23d96fa3"
   },
   "outputs": [
    {
     "data": {
      "image/png": "[encoded data removed]",
      "text/latex": [
       "$\\displaystyle \\frac{141}{110}$"
      ],
      "text/plain": [
       "141\n",
       "───\n",
       "110"
      ]
     },
     "execution_count": 6,
     "metadata": {},
     "output_type": "execute_result"
    }
   ],
   "source": [
    "R(1, 10) + R(13, 11)"
   ]
  },
  {
   "cell_type": "code",
   "execution_count": null,
   "id": "17a364f9",
   "metadata": {
    "id": "17a364f9",
    "outputId": "2db51c55-f4c7-4ef9-d344-5d95a12ea729"
   },
   "outputs": [
    {
     "data": {
      "image/png": "[encoded data removed]",
      "text/latex": [
       "$\\displaystyle 1.28181818181818$"
      ],
      "text/plain": [
       "1.28181818181818"
      ]
     },
     "execution_count": 8,
     "metadata": {},
     "output_type": "execute_result"
    }
   ],
   "source": [
    "(R(1, 10) + R(13, 11)).evalf()"
   ]
  },
  {
   "cell_type": "code",
   "execution_count": null,
   "id": "20ee603a",
   "metadata": {
    "id": "20ee603a",
    "outputId": "027bd3be-8607-47bf-cb55-f5120a7fd098"
   },
   "outputs": [
    {
     "data": {
      "image/png": "[encoded data removed]",
      "text/latex": [
       "$\\displaystyle 1.4142135623731$"
      ],
      "text/plain": [
       "1.41421356237310"
      ]
     },
     "execution_count": 9,
     "metadata": {},
     "output_type": "execute_result"
    }
   ],
   "source": [
    "x.evalf()"
   ]
  },
  {
   "cell_type": "code",
   "execution_count": null,
   "id": "b5533a87",
   "metadata": {
    "id": "b5533a87",
    "outputId": "52a83752-25b0-483d-ef18-d9241fd418d4"
   },
   "outputs": [
    {
     "data": {
      "image/png": "[encoded data removed]",
      "text/latex": [
       "$\\displaystyle 3.1415926535897932384626433832795028841971693993751$"
      ],
      "text/plain": [
       "3.1415926535897932384626433832795028841971693993751"
      ]
     },
     "execution_count": 10,
     "metadata": {},
     "output_type": "execute_result"
    }
   ],
   "source": [
    "smp.pi.evalf(50)"
   ]
  },
  {
   "cell_type": "code",
   "execution_count": null,
   "id": "794b7c5d",
   "metadata": {
    "id": "794b7c5d",
    "outputId": "79f12bc2-0e2b-4ed9-b5b9-836f3d280fab"
   },
   "outputs": [
    {
     "data": {
      "image/png": "[encoded data removed]",
      "text/latex": [
       "$\\displaystyle \\left( x, \\  y\\right)$"
      ],
      "text/plain": [
       "(x, y)"
      ]
     },
     "execution_count": 11,
     "metadata": {},
     "output_type": "execute_result"
    }
   ],
   "source": [
    "# Объявление переменных\n",
    "t, x, y = smp.symbols('t x y')\n",
    "x, y"
   ]
  },
  {
   "cell_type": "code",
   "execution_count": null,
   "id": "5b4f5280",
   "metadata": {
    "id": "5b4f5280",
    "outputId": "069ff8a8-eacd-40da-8c01-931fedcd9bff"
   },
   "outputs": [
    {
     "data": {
      "text/plain": [
       "(2*x + 5*y - 3, sympy.core.add.Add, sympy.core.symbol.Symbol)"
      ]
     },
     "execution_count": 12,
     "metadata": {},
     "output_type": "execute_result"
    }
   ],
   "source": [
    "expr1 = 2*x + 5*y - 3\n",
    "expr1, type(expr1), type(x)"
   ]
  },
  {
   "cell_type": "code",
   "execution_count": null,
   "id": "831824cb",
   "metadata": {
    "id": "831824cb",
    "outputId": "96fcfe30-66cf-4a17-9cb4-25ef15cd1ce7"
   },
   "outputs": [
    {
     "data": {
      "image/png": "[encoded data removed]",
      "text/latex": [
       "$\\displaystyle 2 x + 5 y - 3$"
      ],
      "text/plain": [
       "2⋅x + 5⋅y - 3"
      ]
     },
     "execution_count": 13,
     "metadata": {},
     "output_type": "execute_result"
    }
   ],
   "source": [
    "expr1"
   ]
  },
  {
   "cell_type": "code",
   "execution_count": null,
   "id": "9fa1c94e",
   "metadata": {
    "id": "9fa1c94e",
    "outputId": "89b0be80-e804-41e5-e14b-4888224d1105"
   },
   "outputs": [
    {
     "data": {
      "image/png": "[encoded data removed]",
      "text/latex": [
       "$\\displaystyle 5 y + 1$"
      ],
      "text/plain": [
       "5⋅y + 1"
      ]
     },
     "execution_count": 14,
     "metadata": {},
     "output_type": "execute_result"
    }
   ],
   "source": [
    "# Подстановки\n",
    "expr1.subs(x, 2)"
   ]
  },
  {
   "cell_type": "code",
   "execution_count": null,
   "id": "8cdd894d",
   "metadata": {
    "id": "8cdd894d",
    "outputId": "3bc82fa3-7fa0-4dfe-f3f4-ebfb7bb0340d"
   },
   "outputs": [
    {
     "data": {
      "text/plain": [
       "(16, sympy.core.numbers.Integer)"
      ]
     },
     "execution_count": 21,
     "metadata": {},
     "output_type": "execute_result"
    }
   ],
   "source": [
    "expr1.subs(x, 2).subs(y, 3), type(expr1.subs(x, 2).subs(y, 3))"
   ]
  },
  {
   "cell_type": "code",
   "execution_count": null,
   "id": "90813b00",
   "metadata": {
    "id": "90813b00",
    "outputId": "442f6da6-b55a-4e37-e4ac-dea5e2560d35"
   },
   "outputs": [
    {
     "data": {
      "text/plain": [
       "sympy.core.numbers.Float"
      ]
     },
     "execution_count": 20,
     "metadata": {},
     "output_type": "execute_result"
    }
   ],
   "source": [
    "type(expr1.subs(x, 2).subs(y, 3).evalf())"
   ]
  },
  {
   "cell_type": "code",
   "execution_count": null,
   "id": "2000426a",
   "metadata": {
    "id": "2000426a",
    "outputId": "fb93209a-b2f5-42fe-b1ba-21647e36e77b"
   },
   "outputs": [
    {
     "data": {
      "image/png": "[encoded data removed]",
      "text/latex": [
       "$\\displaystyle \\left( \\frac{- b + \\sqrt{- 4 a c + b^{2}}}{2 a}, \\  \\frac{- b - \\sqrt{- 4 a c + b^{2}}}{2 a}\\right)$"
      ],
      "text/plain": [
       "⎛        _____________          _____________⎞\n",
       "⎜       ╱           2          ╱           2 ⎟\n",
       "⎜-b + ╲╱  -4⋅a⋅c + b    -b - ╲╱  -4⋅a⋅c + b  ⎟\n",
       "⎜─────────────────────, ─────────────────────⎟\n",
       "⎝         2⋅a                    2⋅a         ⎠"
      ]
     },
     "execution_count": 28,
     "metadata": {},
     "output_type": "execute_result"
    }
   ],
   "source": [
    "a, b, c = smp.symbols('a b c')\n",
    "root1 = (-b + smp.sqrt(b**2 - 4*a*c))/(2*a)\n",
    "root2 = (-b - smp.sqrt(b**2 - 4*a*c))/(2*a)\n",
    "root1, root2"
   ]
  },
  {
   "cell_type": "code",
   "execution_count": null,
   "id": "a10691f5",
   "metadata": {
    "id": "a10691f5",
    "outputId": "b898435d-c0da-4d48-dce0-11bbc4845b9c"
   },
   "outputs": [
    {
     "data": {
      "image/png": "[encoded data removed]",
      "text/latex": [
       "$\\displaystyle -1 + \\sqrt{2} i$"
      ],
      "text/plain": [
       "-1 + √2⋅ⅈ"
      ]
     },
     "execution_count": 29,
     "metadata": {},
     "output_type": "execute_result"
    }
   ],
   "source": [
    "root1.subs(a, 1).subs(b, 2).subs(c, 3)"
   ]
  },
  {
   "cell_type": "code",
   "execution_count": null,
   "id": "39c559b4",
   "metadata": {
    "id": "39c559b4",
    "outputId": "a6bcde1e-6c90-42e2-8636-d1a277ac6123"
   },
   "outputs": [
    {
     "data": {
      "image/png": "[encoded data removed]",
      "text/latex": [
       "$\\displaystyle i$"
      ],
      "text/plain": [
       "ⅈ"
      ]
     },
     "execution_count": 30,
     "metadata": {},
     "output_type": "execute_result"
    }
   ],
   "source": [
    "from sympy import I\n",
    "I"
   ]
  },
  {
   "cell_type": "code",
   "execution_count": null,
   "id": "c71e8c6d",
   "metadata": {
    "id": "c71e8c6d",
    "outputId": "c6893748-f2b4-41e7-8822-4330fbfcce94"
   },
   "outputs": [
    {
     "data": {
      "image/png": "[encoded data removed]",
      "text/latex": [
       "$\\displaystyle x^{3} - 3 x^{2} y + 3 x y^{2} - y^{3}$"
      ],
      "text/plain": [
       " 3      2          2    3\n",
       "x  - 3⋅x ⋅y + 3⋅x⋅y  - y "
      ]
     },
     "execution_count": 31,
     "metadata": {},
     "output_type": "execute_result"
    }
   ],
   "source": [
    "# Разложение выражений\n",
    "smp.expand((x - y)**3)"
   ]
  },
  {
   "cell_type": "code",
   "execution_count": null,
   "id": "c4e375a1",
   "metadata": {
    "id": "c4e375a1",
    "outputId": "9a326297-32f5-4524-9887-290f0bd235aa"
   },
   "outputs": [
    {
     "data": {
      "image/png": "[encoded data removed]",
      "text/latex": [
       "$\\displaystyle x^{14} - 14 x^{13} y + 91 x^{12} y^{2} - 364 x^{11} y^{3} + 1001 x^{10} y^{4} - 2002 x^{9} y^{5} + 3003 x^{8} y^{6} - 3432 x^{7} y^{7} + 3003 x^{6} y^{8} - 2002 x^{5} y^{9} + 1001 x^{4} y^{10} - 364 x^{3} y^{11} + 91 x^{2} y^{12} - 14 x y^{13} + y^{14}$"
      ],
      "text/plain": [
       " 14       13         12  2        11  3         10  4         9  5         8  \n",
       "x   - 14⋅x  ⋅y + 91⋅x  ⋅y  - 364⋅x  ⋅y  + 1001⋅x  ⋅y  - 2002⋅x ⋅y  + 3003⋅x ⋅y\n",
       "\n",
       "6         7  7         6  8         5  9         4  10        3  11       2  1\n",
       "  - 3432⋅x ⋅y  + 3003⋅x ⋅y  - 2002⋅x ⋅y  + 1001⋅x ⋅y   - 364⋅x ⋅y   + 91⋅x ⋅y \n",
       "\n",
       "2         13    14\n",
       "  - 14⋅x⋅y   + y  "
      ]
     },
     "execution_count": 32,
     "metadata": {},
     "output_type": "execute_result"
    }
   ],
   "source": [
    "smp.expand((x - y)**14)"
   ]
  },
  {
   "cell_type": "code",
   "execution_count": null,
   "id": "efe3c101",
   "metadata": {
    "id": "efe3c101",
    "outputId": "b389b4e0-d30d-4df1-cebb-236719e69d91"
   },
   "outputs": [
    {
     "data": {
      "image/png": "[encoded data removed]",
      "text/latex": [
       "$\\displaystyle \\left( \\frac{\\left(- b - \\sqrt{- 4 a c + b^{2}}\\right) \\left(- b + \\sqrt{- 4 a c + b^{2}}\\right)}{4 a^{2}}, \\  \\frac{c}{a}\\right)$"
      ],
      "text/plain": [
       "⎛⎛        _____________⎞ ⎛        _____________⎞   ⎞\n",
       "⎜⎜       ╱           2 ⎟ ⎜       ╱           2 ⎟   ⎟\n",
       "⎜⎝-b - ╲╱  -4⋅a⋅c + b  ⎠⋅⎝-b + ╲╱  -4⋅a⋅c + b  ⎠  c⎟\n",
       "⎜───────────────────────────────────────────────, ─⎟\n",
       "⎜                         2                       a⎟\n",
       "⎝                      4⋅a                         ⎠"
      ]
     },
     "execution_count": 34,
     "metadata": {},
     "output_type": "execute_result"
    }
   ],
   "source": [
    "# Упрощение выражений\n",
    "root1 * root2, smp.simplify(root1 * root2)"
   ]
  },
  {
   "cell_type": "code",
   "execution_count": null,
   "id": "cee9a165",
   "metadata": {
    "id": "cee9a165",
    "outputId": "e4e1e501-043d-46e6-9cce-1101f3b5d455"
   },
   "outputs": [
    {
     "data": {
      "image/png": "[encoded data removed]",
      "text/latex": [
       "$\\displaystyle \\left( - \\sin^{2}{\\left(x \\right)} + \\cos^{2}{\\left(x \\right)}, \\  \\cos{\\left(2 x \\right)}\\right)$"
      ],
      "text/plain": [
       "⎛     2         2             ⎞\n",
       "⎝- sin (x) + cos (x), cos(2⋅x)⎠"
      ]
     },
     "execution_count": 35,
     "metadata": {},
     "output_type": "execute_result"
    }
   ],
   "source": [
    "c2 = smp.cos(x)**2 - smp.sin(x)**2\n",
    "c2_ = smp.cos(2*x)\n",
    "c2, smp.simplify(c2) "
   ]
  },
  {
   "cell_type": "code",
   "execution_count": null,
   "id": "799a6cb8",
   "metadata": {
    "id": "799a6cb8",
    "outputId": "492a7302-8ef6-4ba5-c880-108930c3d1ae"
   },
   "outputs": [
    {
     "data": {
      "text/plain": [
       "(False, True)"
      ]
     },
     "execution_count": 37,
     "metadata": {},
     "output_type": "execute_result"
    }
   ],
   "source": [
    "c2 == c2_, c2.equals(c2)"
   ]
  },
  {
   "cell_type": "code",
   "execution_count": null,
   "id": "0c963d62",
   "metadata": {
    "id": "0c963d62",
    "outputId": "b88b2cb0-1223-4025-883b-3a64cf3515ff"
   },
   "outputs": [
    {
     "data": {
      "image/png": "[encoded data removed]",
      "text/latex": [
       "$\\displaystyle \\left[ \\frac{- b - \\sqrt{- 4 a c + b^{2}}}{2 a}, \\  \\frac{- b + \\sqrt{- 4 a c + b^{2}}}{2 a}\\right]$"
      ],
      "text/plain": [
       "⎡        _____________          _____________⎤\n",
       "⎢       ╱           2          ╱           2 ⎥\n",
       "⎢-b - ╲╱  -4⋅a⋅c + b    -b + ╲╱  -4⋅a⋅c + b  ⎥\n",
       "⎢─────────────────────, ─────────────────────⎥\n",
       "⎣         2⋅a                    2⋅a         ⎦"
      ]
     },
     "execution_count": 41,
     "metadata": {},
     "output_type": "execute_result"
    }
   ],
   "source": [
    "# Решение алгебраических уравнений\n",
    "expr2 = a * x**2 + b * x + c\n",
    "smp.solve(expr2, x)"
   ]
  },
  {
   "cell_type": "code",
   "execution_count": null,
   "id": "15a204f2",
   "metadata": {
    "id": "15a204f2",
    "outputId": "8b0ebb27-399a-4cad-ec29-471a5d05a185"
   },
   "outputs": [
    {
     "data": {
      "text/latex": [
       "$\\displaystyle \\left[ \\begin{cases} - \\frac{\\sqrt{- \\frac{2 a}{3 d} - 2 \\sqrt[3]{- \\frac{a^{3}}{108 d^{3}} + \\frac{a c}{3 d^{2}} - \\frac{b^{2}}{8 d^{2}}}}}{2} - \\frac{\\sqrt{- \\frac{4 a}{3 d} + \\frac{2 b}{d \\sqrt{- \\frac{2 a}{3 d} - 2 \\sqrt[3]{- \\frac{a^{3}}{108 d^{3}} + \\frac{a c}{3 d^{2}} - \\frac{b^{2}}{8 d^{2}}}}} + 2 \\sqrt[3]{- \\frac{a^{3}}{108 d^{3}} + \\frac{a c}{3 d^{2}} - \\frac{b^{2}}{8 d^{2}}}}}{2} & \\text{for}\\: \\frac{a^{2}}{12 d^{2}} + \\frac{c}{d} = 0 \\\\- \\frac{\\sqrt{- \\frac{2 a}{3 d} - \\frac{2 \\left(- \\frac{a^{2}}{12 d^{2}} - \\frac{c}{d}\\right)}{3 \\sqrt[3]{\\frac{a^{3}}{216 d^{3}} - \\frac{a c}{6 d^{2}} + \\frac{b^{2}}{16 d^{2}} + \\sqrt{\\frac{\\left(- \\frac{a^{2}}{12 d^{2}} - \\frac{c}{d}\\right)^{3}}{27} + \\frac{\\left(- \\frac{a^{3}}{108 d^{3}} + \\frac{a c}{3 d^{2}} - \\frac{b^{2}}{8 d^{2}}\\right)^{2}}{4}}}} + 2 \\sqrt[3]{\\frac{a^{3}}{216 d^{3}} - \\frac{a c}{6 d^{2}} + \\frac{b^{2}}{16 d^{2}} + \\sqrt{\\frac{\\left(- \\frac{a^{2}}{12 d^{2}} - \\frac{c}{d}\\right)^{3}}{27} + \\frac{\\left(- \\frac{a^{3}}{108 d^{3}} + \\frac{a c}{3 d^{2}} - \\frac{b^{2}}{8 d^{2}}\\right)^{2}}{4}}}}}{2} - \\frac{\\sqrt{- \\frac{4 a}{3 d} + \\frac{2 b}{d \\sqrt{- \\frac{2 a}{3 d} - \\frac{2 \\left(- \\frac{a^{2}}{12 d^{2}} - \\frac{c}{d}\\right)}{3 \\sqrt[3]{\\frac{a^{3}}{216 d^{3}} - \\frac{a c}{6 d^{2}} + \\frac{b^{2}}{16 d^{2}} + \\sqrt{\\frac{\\left(- \\frac{a^{2}}{12 d^{2}} - \\frac{c}{d}\\right)^{3}}{27} + \\frac{\\left(- \\frac{a^{3}}{108 d^{3}} + \\frac{a c}{3 d^{2}} - \\frac{b^{2}}{8 d^{2}}\\right)^{2}}{4}}}} + 2 \\sqrt[3]{\\frac{a^{3}}{216 d^{3}} - \\frac{a c}{6 d^{2}} + \\frac{b^{2}}{16 d^{2}} + \\sqrt{\\frac{\\left(- \\frac{a^{2}}{12 d^{2}} - \\frac{c}{d}\\right)^{3}}{27} + \\frac{\\left(- \\frac{a^{3}}{108 d^{3}} + \\frac{a c}{3 d^{2}} - \\frac{b^{2}}{8 d^{2}}\\right)^{2}}{4}}}}} + \\frac{2 \\left(- \\frac{a^{2}}{12 d^{2}} - \\frac{c}{d}\\right)}{3 \\sqrt[3]{\\frac{a^{3}}{216 d^{3}} - \\frac{a c}{6 d^{2}} + \\frac{b^{2}}{16 d^{2}} + \\sqrt{\\frac{\\left(- \\frac{a^{2}}{12 d^{2}} - \\frac{c}{d}\\right)^{3}}{27} + \\frac{\\left(- \\frac{a^{3}}{108 d^{3}} + \\frac{a c}{3 d^{2}} - \\frac{b^{2}}{8 d^{2}}\\right)^{2}}{4}}}} - 2 \\sqrt[3]{\\frac{a^{3}}{216 d^{3}} - \\frac{a c}{6 d^{2}} + \\frac{b^{2}}{16 d^{2}} + \\sqrt{\\frac{\\left(- \\frac{a^{2}}{12 d^{2}} - \\frac{c}{d}\\right)^{3}}{27} + \\frac{\\left(- \\frac{a^{3}}{108 d^{3}} + \\frac{a c}{3 d^{2}} - \\frac{b^{2}}{8 d^{2}}\\right)^{2}}{4}}}}}{2} & \\text{otherwise} \\end{cases}, \\  \\begin{cases} - \\frac{\\sqrt{- \\frac{2 a}{3 d} - 2 \\sqrt[3]{- \\frac{a^{3}}{108 d^{3}} + \\frac{a c}{3 d^{2}} - \\frac{b^{2}}{8 d^{2}}}}}{2} + \\frac{\\sqrt{- \\frac{4 a}{3 d} + \\frac{2 b}{d \\sqrt{- \\frac{2 a}{3 d} - 2 \\sqrt[3]{- \\frac{a^{3}}{108 d^{3}} + \\frac{a c}{3 d^{2}} - \\frac{b^{2}}{8 d^{2}}}}} + 2 \\sqrt[3]{- \\frac{a^{3}}{108 d^{3}} + \\frac{a c}{3 d^{2}} - \\frac{b^{2}}{8 d^{2}}}}}{2} & \\text{for}\\: \\frac{a^{2}}{12 d^{2}} + \\frac{c}{d} = 0 \\\\- \\frac{\\sqrt{- \\frac{2 a}{3 d} - \\frac{2 \\left(- \\frac{a^{2}}{12 d^{2}} - \\frac{c}{d}\\right)}{3 \\sqrt[3]{\\frac{a^{3}}{216 d^{3}} - \\frac{a c}{6 d^{2}} + \\frac{b^{2}}{16 d^{2}} + \\sqrt{\\frac{\\left(- \\frac{a^{2}}{12 d^{2}} - \\frac{c}{d}\\right)^{3}}{27} + \\frac{\\left(- \\frac{a^{3}}{108 d^{3}} + \\frac{a c}{3 d^{2}} - \\frac{b^{2}}{8 d^{2}}\\right)^{2}}{4}}}} + 2 \\sqrt[3]{\\frac{a^{3}}{216 d^{3}} - \\frac{a c}{6 d^{2}} + \\frac{b^{2}}{16 d^{2}} + \\sqrt{\\frac{\\left(- \\frac{a^{2}}{12 d^{2}} - \\frac{c}{d}\\right)^{3}}{27} + \\frac{\\left(- \\frac{a^{3}}{108 d^{3}} + \\frac{a c}{3 d^{2}} - \\frac{b^{2}}{8 d^{2}}\\right)^{2}}{4}}}}}{2} + \\frac{\\sqrt{- \\frac{4 a}{3 d} + \\frac{2 b}{d \\sqrt{- \\frac{2 a}{3 d} - \\frac{2 \\left(- \\frac{a^{2}}{12 d^{2}} - \\frac{c}{d}\\right)}{3 \\sqrt[3]{\\frac{a^{3}}{216 d^{3}} - \\frac{a c}{6 d^{2}} + \\frac{b^{2}}{16 d^{2}} + \\sqrt{\\frac{\\left(- \\frac{a^{2}}{12 d^{2}} - \\frac{c}{d}\\right)^{3}}{27} + \\frac{\\left(- \\frac{a^{3}}{108 d^{3}} + \\frac{a c}{3 d^{2}} - \\frac{b^{2}}{8 d^{2}}\\right)^{2}}{4}}}} + 2 \\sqrt[3]{\\frac{a^{3}}{216 d^{3}} - \\frac{a c}{6 d^{2}} + \\frac{b^{2}}{16 d^{2}} + \\sqrt{\\frac{\\left(- \\frac{a^{2}}{12 d^{2}} - \\frac{c}{d}\\right)^{3}}{27} + \\frac{\\left(- \\frac{a^{3}}{108 d^{3}} + \\frac{a c}{3 d^{2}} - \\frac{b^{2}}{8 d^{2}}\\right)^{2}}{4}}}}} + \\frac{2 \\left(- \\frac{a^{2}}{12 d^{2}} - \\frac{c}{d}\\right)}{3 \\sqrt[3]{\\frac{a^{3}}{216 d^{3}} - \\frac{a c}{6 d^{2}} + \\frac{b^{2}}{16 d^{2}} + \\sqrt{\\frac{\\left(- \\frac{a^{2}}{12 d^{2}} - \\frac{c}{d}\\right)^{3}}{27} + \\frac{\\left(- \\frac{a^{3}}{108 d^{3}} + \\frac{a c}{3 d^{2}} - \\frac{b^{2}}{8 d^{2}}\\right)^{2}}{4}}}} - 2 \\sqrt[3]{\\frac{a^{3}}{216 d^{3}} - \\frac{a c}{6 d^{2}} + \\frac{b^{2}}{16 d^{2}} + \\sqrt{\\frac{\\left(- \\frac{a^{2}}{12 d^{2}} - \\frac{c}{d}\\right)^{3}}{27} + \\frac{\\left(- \\frac{a^{3}}{108 d^{3}} + \\frac{a c}{3 d^{2}} - \\frac{b^{2}}{8 d^{2}}\\right)^{2}}{4}}}}}{2} & \\text{otherwise} \\end{cases}, \\  \\begin{cases} \\frac{\\sqrt{- \\frac{2 a}{3 d} - 2 \\sqrt[3]{- \\frac{a^{3}}{108 d^{3}} + \\frac{a c}{3 d^{2}} - \\frac{b^{2}}{8 d^{2}}}}}{2} - \\frac{\\sqrt{- \\frac{4 a}{3 d} - \\frac{2 b}{d \\sqrt{- \\frac{2 a}{3 d} - 2 \\sqrt[3]{- \\frac{a^{3}}{108 d^{3}} + \\frac{a c}{3 d^{2}} - \\frac{b^{2}}{8 d^{2}}}}} + 2 \\sqrt[3]{- \\frac{a^{3}}{108 d^{3}} + \\frac{a c}{3 d^{2}} - \\frac{b^{2}}{8 d^{2}}}}}{2} & \\text{for}\\: \\frac{a^{2}}{12 d^{2}} + \\frac{c}{d} = 0 \\\\\\frac{\\sqrt{- \\frac{2 a}{3 d} - \\frac{2 \\left(- \\frac{a^{2}}{12 d^{2}} - \\frac{c}{d}\\right)}{3 \\sqrt[3]{\\frac{a^{3}}{216 d^{3}} - \\frac{a c}{6 d^{2}} + \\frac{b^{2}}{16 d^{2}} + \\sqrt{\\frac{\\left(- \\frac{a^{2}}{12 d^{2}} - \\frac{c}{d}\\right)^{3}}{27} + \\frac{\\left(- \\frac{a^{3}}{108 d^{3}} + \\frac{a c}{3 d^{2}} - \\frac{b^{2}}{8 d^{2}}\\right)^{2}}{4}}}} + 2 \\sqrt[3]{\\frac{a^{3}}{216 d^{3}} - \\frac{a c}{6 d^{2}} + \\frac{b^{2}}{16 d^{2}} + \\sqrt{\\frac{\\left(- \\frac{a^{2}}{12 d^{2}} - \\frac{c}{d}\\right)^{3}}{27} + \\frac{\\left(- \\frac{a^{3}}{108 d^{3}} + \\frac{a c}{3 d^{2}} - \\frac{b^{2}}{8 d^{2}}\\right)^{2}}{4}}}}}{2} - \\frac{\\sqrt{- \\frac{4 a}{3 d} - \\frac{2 b}{d \\sqrt{- \\frac{2 a}{3 d} - \\frac{2 \\left(- \\frac{a^{2}}{12 d^{2}} - \\frac{c}{d}\\right)}{3 \\sqrt[3]{\\frac{a^{3}}{216 d^{3}} - \\frac{a c}{6 d^{2}} + \\frac{b^{2}}{16 d^{2}} + \\sqrt{\\frac{\\left(- \\frac{a^{2}}{12 d^{2}} - \\frac{c}{d}\\right)^{3}}{27} + \\frac{\\left(- \\frac{a^{3}}{108 d^{3}} + \\frac{a c}{3 d^{2}} - \\frac{b^{2}}{8 d^{2}}\\right)^{2}}{4}}}} + 2 \\sqrt[3]{\\frac{a^{3}}{216 d^{3}} - \\frac{a c}{6 d^{2}} + \\frac{b^{2}}{16 d^{2}} + \\sqrt{\\frac{\\left(- \\frac{a^{2}}{12 d^{2}} - \\frac{c}{d}\\right)^{3}}{27} + \\frac{\\left(- \\frac{a^{3}}{108 d^{3}} + \\frac{a c}{3 d^{2}} - \\frac{b^{2}}{8 d^{2}}\\right)^{2}}{4}}}}} + \\frac{2 \\left(- \\frac{a^{2}}{12 d^{2}} - \\frac{c}{d}\\right)}{3 \\sqrt[3]{\\frac{a^{3}}{216 d^{3}} - \\frac{a c}{6 d^{2}} + \\frac{b^{2}}{16 d^{2}} + \\sqrt{\\frac{\\left(- \\frac{a^{2}}{12 d^{2}} - \\frac{c}{d}\\right)^{3}}{27} + \\frac{\\left(- \\frac{a^{3}}{108 d^{3}} + \\frac{a c}{3 d^{2}} - \\frac{b^{2}}{8 d^{2}}\\right)^{2}}{4}}}} - 2 \\sqrt[3]{\\frac{a^{3}}{216 d^{3}} - \\frac{a c}{6 d^{2}} + \\frac{b^{2}}{16 d^{2}} + \\sqrt{\\frac{\\left(- \\frac{a^{2}}{12 d^{2}} - \\frac{c}{d}\\right)^{3}}{27} + \\frac{\\left(- \\frac{a^{3}}{108 d^{3}} + \\frac{a c}{3 d^{2}} - \\frac{b^{2}}{8 d^{2}}\\right)^{2}}{4}}}}}{2} & \\text{otherwise} \\end{cases}, \\  \\begin{cases} \\frac{\\sqrt{- \\frac{2 a}{3 d} - 2 \\sqrt[3]{- \\frac{a^{3}}{108 d^{3}} + \\frac{a c}{3 d^{2}} - \\frac{b^{2}}{8 d^{2}}}}}{2} + \\frac{\\sqrt{- \\frac{4 a}{3 d} - \\frac{2 b}{d \\sqrt{- \\frac{2 a}{3 d} - 2 \\sqrt[3]{- \\frac{a^{3}}{108 d^{3}} + \\frac{a c}{3 d^{2}} - \\frac{b^{2}}{8 d^{2}}}}} + 2 \\sqrt[3]{- \\frac{a^{3}}{108 d^{3}} + \\frac{a c}{3 d^{2}} - \\frac{b^{2}}{8 d^{2}}}}}{2} & \\text{for}\\: \\frac{a^{2}}{12 d^{2}} + \\frac{c}{d} = 0 \\\\\\frac{\\sqrt{- \\frac{2 a}{3 d} - \\frac{2 \\left(- \\frac{a^{2}}{12 d^{2}} - \\frac{c}{d}\\right)}{3 \\sqrt[3]{\\frac{a^{3}}{216 d^{3}} - \\frac{a c}{6 d^{2}} + \\frac{b^{2}}{16 d^{2}} + \\sqrt{\\frac{\\left(- \\frac{a^{2}}{12 d^{2}} - \\frac{c}{d}\\right)^{3}}{27} + \\frac{\\left(- \\frac{a^{3}}{108 d^{3}} + \\frac{a c}{3 d^{2}} - \\frac{b^{2}}{8 d^{2}}\\right)^{2}}{4}}}} + 2 \\sqrt[3]{\\frac{a^{3}}{216 d^{3}} - \\frac{a c}{6 d^{2}} + \\frac{b^{2}}{16 d^{2}} + \\sqrt{\\frac{\\left(- \\frac{a^{2}}{12 d^{2}} - \\frac{c}{d}\\right)^{3}}{27} + \\frac{\\left(- \\frac{a^{3}}{108 d^{3}} + \\frac{a c}{3 d^{2}} - \\frac{b^{2}}{8 d^{2}}\\right)^{2}}{4}}}}}{2} + \\frac{\\sqrt{- \\frac{4 a}{3 d} - \\frac{2 b}{d \\sqrt{- \\frac{2 a}{3 d} - \\frac{2 \\left(- \\frac{a^{2}}{12 d^{2}} - \\frac{c}{d}\\right)}{3 \\sqrt[3]{\\frac{a^{3}}{216 d^{3}} - \\frac{a c}{6 d^{2}} + \\frac{b^{2}}{16 d^{2}} + \\sqrt{\\frac{\\left(- \\frac{a^{2}}{12 d^{2}} - \\frac{c}{d}\\right)^{3}}{27} + \\frac{\\left(- \\frac{a^{3}}{108 d^{3}} + \\frac{a c}{3 d^{2}} - \\frac{b^{2}}{8 d^{2}}\\right)^{2}}{4}}}} + 2 \\sqrt[3]{\\frac{a^{3}}{216 d^{3}} - \\frac{a c}{6 d^{2}} + \\frac{b^{2}}{16 d^{2}} + \\sqrt{\\frac{\\left(- \\frac{a^{2}}{12 d^{2}} - \\frac{c}{d}\\right)^{3}}{27} + \\frac{\\left(- \\frac{a^{3}}{108 d^{3}} + \\frac{a c}{3 d^{2}} - \\frac{b^{2}}{8 d^{2}}\\right)^{2}}{4}}}}} + \\frac{2 \\left(- \\frac{a^{2}}{12 d^{2}} - \\frac{c}{d}\\right)}{3 \\sqrt[3]{\\frac{a^{3}}{216 d^{3}} - \\frac{a c}{6 d^{2}} + \\frac{b^{2}}{16 d^{2}} + \\sqrt{\\frac{\\left(- \\frac{a^{2}}{12 d^{2}} - \\frac{c}{d}\\right)^{3}}{27} + \\frac{\\left(- \\frac{a^{3}}{108 d^{3}} + \\frac{a c}{3 d^{2}} - \\frac{b^{2}}{8 d^{2}}\\right)^{2}}{4}}}} - 2 \\sqrt[3]{\\frac{a^{3}}{216 d^{3}} - \\frac{a c}{6 d^{2}} + \\frac{b^{2}}{16 d^{2}} + \\sqrt{\\frac{\\left(- \\frac{a^{2}}{12 d^{2}} - \\frac{c}{d}\\right)^{3}}{27} + \\frac{\\left(- \\frac{a^{3}}{108 d^{3}} + \\frac{a c}{3 d^{2}} - \\frac{b^{2}}{8 d^{2}}\\right)^{2}}{4}}}}}{2} & \\text{otherwise} \\end{cases}\\right]$"
      ],
      "text/plain": [
       "⎡⎧                                                                            \n",
       "⎢⎪                                                                            \n",
       "⎢⎪                                                                            \n",
       "⎢⎪                                                                            \n",
       "⎢⎪                                                                            \n",
       "⎢⎪                                                                            \n",
       "⎢⎪                                                                            \n",
       "⎢⎪                                                                            \n",
       "⎢⎪                                                                            \n",
       "⎢⎪                                                                            \n",
       "⎢⎪                                                                            \n",
       "⎢⎪                                                                            \n",
       "⎢⎪                                                                            \n",
       "⎢⎪                                                                            \n",
       "⎢⎪                                                                            \n",
       "⎢⎪                                                                            \n",
       "⎢⎪                                                                            \n",
       "⎢⎪                                                                            \n",
       "⎢⎪                                                                            \n",
       "⎢⎪                                                                            \n",
       "⎢⎪                                                                            \n",
       "⎢⎪                                                                            \n",
       "⎢⎪                                                                            \n",
       "⎢⎪                                                                            \n",
       "⎢⎨                                                                            \n",
       "⎢⎪                                                                            \n",
       "⎢⎪                       _____________________________________________________\n",
       "⎢⎪                      ╱                                                     \n",
       "⎢⎪                     ╱                                                      \n",
       "⎢⎪                    ╱                                                       \n",
       "⎢⎪                   ╱                                                    ⎛   \n",
       "⎢⎪                  ╱                                                     ⎜   \n",
       "⎢⎪                 ╱                                                    2⋅⎜- ─\n",
       "⎢⎪                ╱                                                       ⎜   \n",
       "⎢⎪               ╱          2⋅a                                           ⎝  1\n",
       "⎢⎪              ╱         - ─── - ────────────────────────────────────────────\n",
       "⎢⎪             ╱            3⋅d                _______________________________\n",
       "⎢⎪            ╱                               ╱                               \n",
       "⎢⎪           ╱                               ╱                                \n",
       "⎢⎪          ╱                               ╱                                 \n",
       "⎢⎪         ╱                               ╱                                  \n",
       "⎢⎪        ╱                               ╱                                  ╱\n",
       "⎢⎪       ╱                               ╱         3               2        ╱ \n",
       "⎢⎪      ╱                               ╱         a      a⋅c      b        ╱  \n",
       "⎢⎪     ╱                          3⋅   ╱        ────── - ──── + ───── +   ╱   \n",
       "⎢⎪    ╱                             3 ╱              3      2       2   ╲╱    \n",
       "⎢⎪  ╲╱                              ╲╱          216⋅d    6⋅d    16⋅d          \n",
       "⎢⎪- ──────────────────────────────────────────────────────────────────────────\n",
       "⎣⎩                                                                            \n",
       "\n",
       "                                                                              \n",
       "                                                                              \n",
       "                                                                              \n",
       "                                                                              \n",
       "                                                                              \n",
       "                                                                              \n",
       "                                                                              \n",
       "                                                                              \n",
       "                                                                              \n",
       "                                                                              \n",
       "                                                                              \n",
       "                                                                              \n",
       "                                                                              \n",
       "                                                                              \n",
       "                                                                              \n",
       "                                                                              \n",
       "                                                                              \n",
       "                                                                              \n",
       "                                                                              \n",
       "                                                                              \n",
       "                                                                              \n",
       "                                                                              \n",
       "                                                                              \n",
       "                                                                              \n",
       "                                                                              \n",
       "                                                                              \n",
       "______________________________________________________________________________\n",
       "                                                                ______________\n",
       "                                                               ╱              \n",
       "                                                              ╱               \n",
       "  2     ⎞                                                    ╱                \n",
       " a     c⎟                                                   ╱                 \n",
       "──── - ─⎟                                                  ╱                  \n",
       "   2   d⎟                                                 ╱         3         \n",
       "2⋅d     ⎠                                                ╱         a      a⋅c \n",
       "──────────────────────────────────────────────── + 2⋅   ╱        ────── - ────\n",
       "________________________________________________     3 ╱              3      2\n",
       "   ____________________________________________      ╲╱          216⋅d    6⋅d \n",
       "  ╱              3                           2                                \n",
       " ╱  ⎛     2     ⎞    ⎛     3              2 ⎞                                 \n",
       "╱   ⎜    a     c⎟    ⎜    a      a⋅c     b  ⎟                                 \n",
       "    ⎜- ───── - ─⎟    ⎜- ────── + ──── - ────⎟                                 \n",
       "    ⎜      2   d⎟    ⎜       3      2      2⎟                                 \n",
       "    ⎝  12⋅d     ⎠    ⎝  108⋅d    3⋅d    8⋅d ⎠                                 \n",
       "    ────────────── + ─────────────────────────                                \n",
       "          27                     4                                            \n",
       "                                                                              \n",
       "──────────────────────────────────────────────────────────────────────────────\n",
       "                                  2                                           \n",
       "\n",
       "                                                                              \n",
       "                                                                              \n",
       "                                                                              \n",
       "                                                                              \n",
       "                                                                              \n",
       "                                                                              \n",
       "                                                                              \n",
       "                                                                              \n",
       "                                                                              \n",
       "                                                                              \n",
       "                                                                              \n",
       "                                                                              \n",
       "                                                                              \n",
       "                                                                              \n",
       "                                                                              \n",
       "                                                                              \n",
       "                                                                              \n",
       "                                                                              \n",
       "                                                                              \n",
       "                                                                              \n",
       "                                                                              \n",
       "                                                                              \n",
       "                                                                              \n",
       "                                                                              \n",
       "                                                                              \n",
       "                                                                              \n",
       "__________________________________________________________________            \n",
       "_________________________________________________________________             \n",
       "                    ____________________________________________              \n",
       "                   ╱              3                           2               \n",
       "                  ╱  ⎛     2     ⎞    ⎛     3              2 ⎞                \n",
       "                 ╱   ⎜    a     c⎟    ⎜    a      a⋅c     b  ⎟                \n",
       "                ╱    ⎜- ───── - ─⎟    ⎜- ────── + ──── - ────⎟                \n",
       "      2        ╱     ⎜      2   d⎟    ⎜       3      2      2⎟                \n",
       "     b        ╱      ⎝  12⋅d     ⎠    ⎝  108⋅d    3⋅d    8⋅d ⎠                \n",
       " + ───── +   ╱       ────────────── + ─────────────────────────               \n",
       "       2   ╲╱              27                     4                           \n",
       "   16⋅d                                                                       \n",
       "                                                                              \n",
       "                                                                             ╱\n",
       "                                                                            ╱ \n",
       "                                                                           ╱  \n",
       "                                                                          ╱   \n",
       "                                                                         ╱    \n",
       "                                                                        ╱     \n",
       "                                                                       ╱      \n",
       "                                                                     ╲╱       \n",
       "────────────────────────────────────────────────────────────────── - ─────────\n",
       "                                                                              \n",
       "\n",
       "                                                                              \n",
       "                                                                              \n",
       "                                                                              \n",
       "                                                                              \n",
       "                                                                              \n",
       "                                 __________________________________________   \n",
       "                                ╱                 ________________________    \n",
       "                               ╱                 ╱      3              2      \n",
       "                              ╱     2⋅a         ╱      a      a⋅c     b       \n",
       "                             ╱    - ─── - 2⋅   ╱   - ────── + ──── - ────     \n",
       "                            ╱       3⋅d     3 ╱           3      2      2     \n",
       "                          ╲╱                ╲╱       108⋅d    3⋅d    8⋅d      \n",
       "                        - ───────────────────────────────────────────────── - \n",
       "                                                  2                           \n",
       "                                                                              \n",
       "                                                                              \n",
       "                      ________________________________________________________\n",
       "                     ╱                                                        \n",
       "                    ╱                                                         \n",
       "                   ╱                                                          \n",
       "                  ╱                                                           \n",
       "                 ╱                                                            \n",
       "                ╱                                                             \n",
       "               ╱                                                              \n",
       "              ╱          4⋅a                                                  \n",
       "             ╱         - ─── + ───────────────────────────────────────────────\n",
       "            ╱            3⋅d                          ________________________\n",
       "           ╱                                         ╱                        \n",
       "          ╱                                         ╱                         \n",
       "         ╱                                         ╱                          \n",
       "        ╱                                         ╱                           \n",
       "       ╱                                         ╱                            \n",
       "      ╱                                         ╱                             \n",
       "     ╱                                         ╱                              \n",
       "    ╱                                         ╱          2⋅a                  \n",
       "   ╱                           d⋅            ╱         - ─── - ───────────────\n",
       "  ╱                                         ╱            3⋅d                __\n",
       " ╱                                         ╱                               ╱  \n",
       "╱                                         ╱                               ╱   \n",
       "                                         ╱                               ╱    \n",
       "                                        ╱                               ╱     \n",
       "                                       ╱                               ╱      \n",
       "                                      ╱                               ╱       \n",
       "                                     ╱                               ╱        \n",
       "                                    ╱                          3⋅   ╱        ─\n",
       "                                   ╱                             3 ╱          \n",
       "                                 ╲╱                              ╲╱          2\n",
       "──────────────────────────────────────────────────────────────────────────────\n",
       "                                                                              \n",
       "\n",
       "            __________________________________________________________________\n",
       "           ╱                                                                  \n",
       "          ╱                                                                   \n",
       "         ╱     4⋅a                           2⋅b                              \n",
       "        ╱    - ─── + ─────────────────────────────────────────────────── + 2⋅ \n",
       "       ╱       3⋅d            __________________________________________     3\n",
       "      ╱                      ╱                 ________________________      ╲\n",
       "     ╱                      ╱                 ╱      3              2         \n",
       "    ╱                      ╱     2⋅a         ╱      a      a⋅c     b          \n",
       "   ╱                 d⋅   ╱    - ─── - 2⋅   ╱   - ────── + ──── - ────        \n",
       "  ╱                      ╱       3⋅d     3 ╱           3      2      2        \n",
       "╲╱                     ╲╱                ╲╱       108⋅d    3⋅d    8⋅d         \n",
       "──────────────────────────────────────────────────────────────────────────────\n",
       "                                                     2                        \n",
       "                                                                              \n",
       "                                                                              \n",
       "______________________________________________________________________________\n",
       "                                                                              \n",
       "                                                                              \n",
       "                                                                              \n",
       "                                                                              \n",
       "                                                                              \n",
       "                                                                              \n",
       "                                                                              \n",
       "                                                             2⋅b              \n",
       "──────────────────────────────────────────────────────────────────────────────\n",
       "______________________________________________________________________________\n",
       "                                                                              \n",
       "                                                                              \n",
       "                                                                              \n",
       "                         ⎛     2     ⎞                                        \n",
       "                         ⎜    a     c⎟                                        \n",
       "                       2⋅⎜- ───── - ─⎟                                        \n",
       "                         ⎜      2   d⎟                                        \n",
       "                         ⎝  12⋅d     ⎠                                        \n",
       "───────────────────────────────────────────────────────────────────────────── \n",
       "_____________________________________________________________________________ \n",
       "                                ____________________________________________  \n",
       "                               ╱              3                           2   \n",
       "                              ╱  ⎛     2     ⎞    ⎛     3              2 ⎞    \n",
       "                             ╱   ⎜    a     c⎟    ⎜    a      a⋅c     b  ⎟    \n",
       "                            ╱    ⎜- ───── - ─⎟    ⎜- ────── + ──── - ────⎟    \n",
       "  3               2        ╱     ⎜      2   d⎟    ⎜       3      2      2⎟    \n",
       " a      a⋅c      b        ╱      ⎝  12⋅d     ⎠    ⎝  108⋅d    3⋅d    8⋅d ⎠    \n",
       "───── - ──── + ───── +   ╱       ────────────── + ─────────────────────────   \n",
       "    3      2       2   ╲╱              27                     4               \n",
       "16⋅d    6⋅d    16⋅d                                                           \n",
       "──────────────────────────────────────────────────────────────────────────────\n",
       "                                                                              \n",
       "\n",
       "______________________________                                                \n",
       "     ________________________                                                 \n",
       "    ╱      3              2                                                   \n",
       "   ╱      a      a⋅c     b                                                    \n",
       "  ╱   - ────── + ──── - ────                                                  \n",
       " ╱           3      2      2                                                  \n",
       "╱       108⋅d    3⋅d    8⋅d                                                   \n",
       "                                                                              \n",
       "                                                                              \n",
       "                                                                              \n",
       "                                                                              \n",
       "                                                                              \n",
       "──────────────────────────────                                                \n",
       "                                                                              \n",
       "                                                                              \n",
       "                                                                              \n",
       "______________________________________________________________________________\n",
       "                                                                              \n",
       "                                                                              \n",
       "                                                                              \n",
       "                                                                              \n",
       "                                                                              \n",
       "                                                                              \n",
       "                                                                              \n",
       "                                                                              \n",
       "──────────────────────────────────────────────────────────────────────────────\n",
       "______________________________________________________________________________\n",
       "               _______________________________________________________________\n",
       "              ╱                                  _____________________________\n",
       "             ╱                                  ╱              3              \n",
       "            ╱                                  ╱  ⎛     2     ⎞    ⎛     3    \n",
       "           ╱                                  ╱   ⎜    a     c⎟    ⎜    a     \n",
       "          ╱                                  ╱    ⎜- ───── - ─⎟    ⎜- ────── +\n",
       "         ╱         3               2        ╱     ⎜      2   d⎟    ⎜       3  \n",
       "        ╱         a      a⋅c      b        ╱      ⎝  12⋅d     ⎠    ⎝  108⋅d   \n",
       "+ 2⋅   ╱        ────── - ──── + ───── +   ╱       ────────────── + ───────────\n",
       "    3 ╱              3      2       2   ╲╱              27                    \n",
       "    ╲╱          216⋅d    6⋅d    16⋅d                                          \n",
       "                                                                              \n",
       "                                                                              \n",
       "                                                                              \n",
       "                                                                              \n",
       "                                                                              \n",
       "                                                                              \n",
       "                                                                              \n",
       "                                                                              \n",
       "                                                                              \n",
       "──────────────────────────────────────────────────────────────────────────────\n",
       "                                                            2                 \n",
       "\n",
       "                                                                              \n",
       "                                                                              \n",
       "                                                                              \n",
       "                                                                              \n",
       "                                                                              \n",
       "                                                                              \n",
       "                                                                              \n",
       "                                                                              \n",
       "                                                                              \n",
       "                                                                              \n",
       "                                                                              \n",
       "                                                                              \n",
       "                                                                              \n",
       "                                                                              \n",
       "                                                                              \n",
       "                                                                              \n",
       "______________________________________________________________________________\n",
       "                                                                              \n",
       "                                                                              \n",
       "                                                                              \n",
       "                                                            ⎛     2     ⎞     \n",
       "                                                            ⎜    a     c⎟     \n",
       "                                                          2⋅⎜- ───── - ─⎟     \n",
       "                                                            ⎜      2   d⎟     \n",
       "                                                            ⎝  12⋅d     ⎠     \n",
       "───────────────── + ──────────────────────────────────────────────────────────\n",
       "_________________                _____________________________________________\n",
       "________________                ╱                                  ___________\n",
       "_______________                ╱                                  ╱           \n",
       "             2                ╱                                  ╱  ⎛     2   \n",
       "          2 ⎞                ╱                                  ╱   ⎜    a    \n",
       " a⋅c     b  ⎟               ╱                                  ╱    ⎜- ───── -\n",
       " ──── - ────⎟              ╱         3               2        ╱     ⎜      2  \n",
       "    2      2⎟             ╱         a      a⋅c      b        ╱      ⎝  12⋅d   \n",
       " 3⋅d    8⋅d ⎠       3⋅   ╱        ────── - ──── + ───── +   ╱       ──────────\n",
       "──────────────        3 ╱              3      2       2   ╲╱              27  \n",
       " 4                    ╲╱          216⋅d    6⋅d    16⋅d                        \n",
       "                                                                              \n",
       "                                                                              \n",
       "                                                                              \n",
       "                                                                              \n",
       "                                                                              \n",
       "                                                                              \n",
       "                                                                              \n",
       "                                                                              \n",
       "                                                                              \n",
       "                                                                              \n",
       "──────────────────────────────────────────────────────────────────────────────\n",
       "                                                                              \n",
       "\n",
       "                                                                              \n",
       "                                                                              \n",
       "                                                                              \n",
       "                                                                              \n",
       "                                                                              \n",
       "                                                                              \n",
       "                                                                              \n",
       "                                                                              \n",
       "                                                                              \n",
       "                                                                              \n",
       "                                                                              \n",
       "                                                                              \n",
       "                                                                              \n",
       "                                                                              \n",
       "                                                                              \n",
       "                                                                              \n",
       "______________________________________________________________________________\n",
       "                                                  ____________________________\n",
       "                                                 ╱                            \n",
       "                                                ╱                             \n",
       "                                               ╱                              \n",
       "                                              ╱                               \n",
       "                                             ╱                                \n",
       "                                            ╱         3               2       \n",
       "                                           ╱         a      a⋅c      b        \n",
       "────────────────────────────────── - 2⋅   ╱        ────── - ──── + ───── +   ╱\n",
       "__________________________________     3 ╱              3      2       2   ╲╱ \n",
       "_________________________________      ╲╱          216⋅d    6⋅d    16⋅d       \n",
       "   3                           2                                              \n",
       "  ⎞    ⎛     3              2 ⎞                                               \n",
       " c⎟    ⎜    a      a⋅c     b  ⎟                                               \n",
       " ─⎟    ⎜- ────── + ──── - ────⎟                                               \n",
       " d⎟    ⎜       3      2      2⎟                                               \n",
       "  ⎠    ⎝  108⋅d    3⋅d    8⋅d ⎠                                               \n",
       "──── + ─────────────────────────                                              \n",
       "                   4                                                          \n",
       "                                                                              \n",
       "                                                                              \n",
       "                                                                              \n",
       "                                                                              \n",
       "                                                                              \n",
       "                                                                              \n",
       "                                                                              \n",
       "                                                                              \n",
       "                                                                              \n",
       "                                                                              \n",
       "                                                                              \n",
       "──────────────────────────────────────────────────────────────────────────────\n",
       "                                                                              \n",
       "\n",
       "                                                                         ⎧    \n",
       "                                                                         ⎪    \n",
       "                                                                         ⎪    \n",
       "                                                                         ⎪    \n",
       "                                                                         ⎪    \n",
       "                                                                         ⎪    \n",
       "                                                                         ⎪    \n",
       "                                                                         ⎪    \n",
       "                                                                         ⎪    \n",
       "                                                                         ⎪    \n",
       "                                                             2           ⎪    \n",
       "                                                            a     c      ⎪    \n",
       "                                                      for ───── + ─ = 0  ⎪    \n",
       "                                                              2   d      ⎪    \n",
       "                                                          12⋅d           ⎪    \n",
       "                                                                         ⎪    \n",
       "____________________________________________________                     ⎪    \n",
       "___________________________________________________                      ⎪    \n",
       "      ____________________________________________                       ⎪    \n",
       "     ╱              3                           2                        ⎪    \n",
       "    ╱  ⎛     2     ⎞    ⎛     3              2 ⎞                         ⎪    \n",
       "   ╱   ⎜    a     c⎟    ⎜    a      a⋅c     b  ⎟                         ⎪    \n",
       "  ╱    ⎜- ───── - ─⎟    ⎜- ────── + ──── - ────⎟                         ⎪    \n",
       " ╱     ⎜      2   d⎟    ⎜       3      2      2⎟                         ⎪    \n",
       "╱      ⎝  12⋅d     ⎠    ⎝  108⋅d    3⋅d    8⋅d ⎠                       , ⎨    \n",
       "       ────────────── + ─────────────────────────                        ⎪    \n",
       "             27                     4                                    ⎪    \n",
       "                                                                         ⎪    \n",
       "                                                                         ⎪    \n",
       "                                                                         ⎪    \n",
       "                                                                         ⎪    \n",
       "                                                                         ⎪    \n",
       "                                                                         ⎪    \n",
       "                                                                         ⎪    \n",
       "                                                                         ⎪    \n",
       "                                                                         ⎪    \n",
       "                                                                         ⎪    \n",
       "                                                                         ⎪    \n",
       "                                                                         ⎪    \n",
       "                                                                         ⎪    \n",
       "                                                                         ⎪    \n",
       "                                                                         ⎪    \n",
       "                                                                         ⎪    \n",
       "                                                                         ⎪    \n",
       "                                                                         ⎪    \n",
       "                                                                         ⎪    \n",
       "                                                                         ⎪  ╲╱\n",
       "────────────────────────────────────────────────────      otherwise      ⎪- ──\n",
       "                                                                         ⎩    \n",
       "\n",
       "                                                                              \n",
       "                                                                              \n",
       "                                                                              \n",
       "                                                                              \n",
       "                                                                              \n",
       "                                                                              \n",
       "                                                                              \n",
       "                                                                              \n",
       "                                                                              \n",
       "                                                                              \n",
       "                                                                              \n",
       "                                                                              \n",
       "                                                                              \n",
       "                                                                              \n",
       "                                                                              \n",
       "                                                                              \n",
       "                                                                              \n",
       "                                                                              \n",
       "                                                                              \n",
       "                                                                              \n",
       "                                                                              \n",
       "                                                                              \n",
       "                                                                              \n",
       "                                                                              \n",
       "                                                                              \n",
       "                                                                              \n",
       "                   ___________________________________________________________\n",
       "                  ╱                                                           \n",
       "                 ╱                                                            \n",
       "                ╱                                                             \n",
       "               ╱                                                    ⎛     2   \n",
       "              ╱                                                     ⎜    a    \n",
       "             ╱                                                    2⋅⎜- ───── -\n",
       "            ╱                                                       ⎜      2  \n",
       "           ╱          2⋅a                                           ⎝  12⋅d   \n",
       "          ╱         - ─── - ──────────────────────────────────────────────────\n",
       "         ╱            3⋅d                _____________________________________\n",
       "        ╱                               ╱                                  ___\n",
       "       ╱                               ╱                                  ╱   \n",
       "      ╱                               ╱                                  ╱  ⎛ \n",
       "     ╱                               ╱                                  ╱   ⎜ \n",
       "    ╱                               ╱                                  ╱    ⎜-\n",
       "   ╱                               ╱         3               2        ╱     ⎜ \n",
       "  ╱                               ╱         a      a⋅c      b        ╱      ⎝ \n",
       " ╱                          3⋅   ╱        ────── - ──── + ───── +   ╱       ──\n",
       "╱                             3 ╱              3      2       2   ╲╱          \n",
       "                              ╲╱          216⋅d    6⋅d    16⋅d                \n",
       "──────────────────────────────────────────────────────────────────────────────\n",
       "                                                                              \n",
       "\n",
       "                                                                              \n",
       "                                                                              \n",
       "                                                                              \n",
       "                                                                              \n",
       "                                                                              \n",
       "                                                                              \n",
       "                                                                              \n",
       "                                                                              \n",
       "                                                                              \n",
       "                                                                              \n",
       "                                                                              \n",
       "                                                                              \n",
       "                                                                              \n",
       "                                                                              \n",
       "                                                                              \n",
       "                                                                              \n",
       "                                                                              \n",
       "                                                                              \n",
       "                                                                              \n",
       "                                                                              \n",
       "                                                                              \n",
       "                                                                              \n",
       "                                                                              \n",
       "                                                                              \n",
       "                                                                              \n",
       "                                                                              \n",
       "______________________________________________________________________________\n",
       "                                                          ____________________\n",
       "                                                         ╱                    \n",
       "                                                        ╱                     \n",
       "  ⎞                                                    ╱                      \n",
       " c⎟                                                   ╱                       \n",
       " ─⎟                                                  ╱                        \n",
       " d⎟                                                 ╱         3               \n",
       "  ⎠                                                ╱         a      a⋅c      b\n",
       "────────────────────────────────────────── + 2⋅   ╱        ────── - ──── + ───\n",
       "__________________________________________     3 ╱              3      2      \n",
       "_________________________________________      ╲╱          216⋅d    6⋅d    16⋅\n",
       "           3                           2                                      \n",
       "    2     ⎞    ⎛     3              2 ⎞                                       \n",
       "   a     c⎟    ⎜    a      a⋅c     b  ⎟                                       \n",
       " ───── - ─⎟    ⎜- ────── + ──── - ────⎟                                       \n",
       "     2   d⎟    ⎜       3      2      2⎟                                       \n",
       " 12⋅d     ⎠    ⎝  108⋅d    3⋅d    8⋅d ⎠                                       \n",
       "──────────── + ─────────────────────────                                      \n",
       "    27                     4                                                  \n",
       "                                                                              \n",
       "──────────────────────────────────────────────────────────────────────────────\n",
       "                            2                                                 \n",
       "\n",
       "                                                                              \n",
       "                                                                              \n",
       "                                                                              \n",
       "                                                                              \n",
       "                                                                              \n",
       "                                                                              \n",
       "                                                                              \n",
       "                                                                              \n",
       "                                                                              \n",
       "                                                                              \n",
       "                                                                              \n",
       "                                                                              \n",
       "                                                                              \n",
       "                                                                              \n",
       "                                                                              \n",
       "                                                                              \n",
       "                                                                              \n",
       "                                                                              \n",
       "                                                                              \n",
       "                                                                              \n",
       "                                                                              \n",
       "                                                                              \n",
       "                                                                              \n",
       "                                                                              \n",
       "                                                                              \n",
       "                                                                              \n",
       "____________________________________________________________                  \n",
       "___________________________________________________________                   \n",
       "              ____________________________________________                    \n",
       "             ╱              3                           2                     \n",
       "            ╱  ⎛     2     ⎞    ⎛     3              2 ⎞                      \n",
       "           ╱   ⎜    a     c⎟    ⎜    a      a⋅c     b  ⎟                      \n",
       "          ╱    ⎜- ───── - ─⎟    ⎜- ────── + ──── - ────⎟                      \n",
       "2        ╱     ⎜      2   d⎟    ⎜       3      2      2⎟                     ╱\n",
       "        ╱      ⎝  12⋅d     ⎠    ⎝  108⋅d    3⋅d    8⋅d ⎠                    ╱ \n",
       "── +   ╱       ────────────── + ─────────────────────────                  ╱  \n",
       " 2   ╲╱              27                     4                             ╱   \n",
       "d                                                                        ╱    \n",
       "                                                                        ╱     \n",
       "                                                                       ╱      \n",
       "                                                                      ╱       \n",
       "                                                                     ╱        \n",
       "                                                                    ╱         \n",
       "                                                                   ╱          \n",
       "                                                                  ╱           \n",
       "                                                                 ╱            \n",
       "                                                               ╲╱             \n",
       "──────────────────────────────────────────────────────────── + ───────────────\n",
       "                                                                              \n",
       "\n",
       "                                                                              \n",
       "                                                                              \n",
       "                                                                              \n",
       "                                                                              \n",
       "                                                                              \n",
       "                           __________________________________________         \n",
       "                          ╱                 ________________________          \n",
       "                         ╱                 ╱      3              2           ╱\n",
       "                        ╱     2⋅a         ╱      a      a⋅c     b           ╱ \n",
       "                       ╱    - ─── - 2⋅   ╱   - ────── + ──── - ────        ╱  \n",
       "                      ╱       3⋅d     3 ╱           3      2      2       ╱   \n",
       "                    ╲╱                ╲╱       108⋅d    3⋅d    8⋅d      ╲╱    \n",
       "                  - ───────────────────────────────────────────────── + ──────\n",
       "                                            2                                 \n",
       "                                                                              \n",
       "                                                                              \n",
       "                ______________________________________________________________\n",
       "               ╱                                                              \n",
       "              ╱                                                               \n",
       "             ╱                                                                \n",
       "            ╱                                                                 \n",
       "           ╱                                                                  \n",
       "          ╱                                                                   \n",
       "         ╱                                                                    \n",
       "        ╱          4⋅a                                                        \n",
       "       ╱         - ─── + ─────────────────────────────────────────────────────\n",
       "      ╱            3⋅d                          ______________________________\n",
       "     ╱                                         ╱                              \n",
       "    ╱                                         ╱                               \n",
       "   ╱                                         ╱                                \n",
       "  ╱                                         ╱                                 \n",
       " ╱                                         ╱                                  \n",
       "╱                                         ╱                                   \n",
       "                                         ╱                                    \n",
       "                                        ╱          2⋅a                        \n",
       "                         d⋅            ╱         - ─── - ─────────────────────\n",
       "                                      ╱            3⋅d                ________\n",
       "                                     ╱                               ╱        \n",
       "                                    ╱                               ╱         \n",
       "                                   ╱                               ╱          \n",
       "                                  ╱                               ╱           \n",
       "                                 ╱                               ╱            \n",
       "                                ╱                               ╱         3   \n",
       "                               ╱                               ╱         a    \n",
       "                              ╱                          3⋅   ╱        ────── \n",
       "                             ╱                             3 ╱              3 \n",
       "                           ╲╱                              ╲╱          216⋅d  \n",
       "──────────────────────────────────────────────────────────────────────────────\n",
       "                                                                              \n",
       "\n",
       "      ________________________________________________________________________\n",
       "     ╱                                                                       _\n",
       "    ╱                                                                       ╱ \n",
       "   ╱     4⋅a                           2⋅b                                 ╱  \n",
       "  ╱    - ─── + ─────────────────────────────────────────────────── + 2⋅   ╱   \n",
       " ╱       3⋅d            __________________________________________     3 ╱    \n",
       "╱                      ╱                 ________________________      ╲╱     \n",
       "                      ╱                 ╱      3              2               \n",
       "                     ╱     2⋅a         ╱      a      a⋅c     b                \n",
       "               d⋅   ╱    - ─── - 2⋅   ╱   - ────── + ──── - ────              \n",
       "                   ╱       3⋅d     3 ╱           3      2      2              \n",
       "                 ╲╱                ╲╱       108⋅d    3⋅d    8⋅d               \n",
       "──────────────────────────────────────────────────────────────────────────────\n",
       "                                               2                              \n",
       "                                                                              \n",
       "                                                                              \n",
       "______________________________________________________________________________\n",
       "                                                                              \n",
       "                                                                              \n",
       "                                                                              \n",
       "                                                                              \n",
       "                                                                              \n",
       "                                                                              \n",
       "                                                                              \n",
       "                                                       2⋅b                    \n",
       "──────────────────────────────────────────────────────────────────────────────\n",
       "______________________________________________________________________________\n",
       "                                                                              \n",
       "                                                                              \n",
       "                                                                              \n",
       "                   ⎛     2     ⎞                                              \n",
       "                   ⎜    a     c⎟                                              \n",
       "                 2⋅⎜- ───── - ─⎟                                              \n",
       "                   ⎜      2   d⎟                                              \n",
       "                   ⎝  12⋅d     ⎠                                              \n",
       "─────────────────────────────────────────────────────────────────────── + 2⋅  \n",
       "_______________________________________________________________________     3 \n",
       "                          ____________________________________________      ╲╱\n",
       "                         ╱              3                           2         \n",
       "                        ╱  ⎛     2     ⎞    ⎛     3              2 ⎞          \n",
       "                       ╱   ⎜    a     c⎟    ⎜    a      a⋅c     b  ⎟          \n",
       "                      ╱    ⎜- ───── - ─⎟    ⎜- ────── + ──── - ────⎟          \n",
       "            2        ╱     ⎜      2   d⎟    ⎜       3      2      2⎟          \n",
       "  a⋅c      b        ╱      ⎝  12⋅d     ⎠    ⎝  108⋅d    3⋅d    8⋅d ⎠          \n",
       "- ──── + ───── +   ╱       ────────────── + ─────────────────────────         \n",
       "     2       2   ╲╱              27                     4                     \n",
       "  6⋅d    16⋅d                                                                 \n",
       "──────────────────────────────────────────────────────────────────────────────\n",
       "                                                                              \n",
       "\n",
       "________________________                                                      \n",
       "_______________________                                                       \n",
       "     3              2                                                         \n",
       "    a      a⋅c     b                                                          \n",
       "- ────── + ──── - ────                                                        \n",
       "       3      2      2                                                        \n",
       "  108⋅d    3⋅d    8⋅d                                                         \n",
       "                                                                              \n",
       "                                                                              \n",
       "                                                                              \n",
       "                                                                              \n",
       "                                                                              \n",
       "────────────────────────                                                      \n",
       "                                                                              \n",
       "                                                                              \n",
       "                                                                              \n",
       "______________________________________________________________________________\n",
       "                                                                              \n",
       "                                                                              \n",
       "                                                                              \n",
       "                                                                              \n",
       "                                                                              \n",
       "                                                                              \n",
       "                                                                              \n",
       "                                                                              \n",
       "──────────────────────────────────────────────────────────────────────────────\n",
       "______________________________________________________________________________\n",
       "         _____________________________________________________________________\n",
       "        ╱                                  ___________________________________\n",
       "       ╱                                  ╱              3                    \n",
       "      ╱                                  ╱  ⎛     2     ⎞    ⎛     3          \n",
       "     ╱                                  ╱   ⎜    a     c⎟    ⎜    a      a⋅c  \n",
       "    ╱                                  ╱    ⎜- ───── - ─⎟    ⎜- ────── + ──── \n",
       "   ╱         3               2        ╱     ⎜      2   d⎟    ⎜       3      2 \n",
       "  ╱         a      a⋅c      b        ╱      ⎝  12⋅d     ⎠    ⎝  108⋅d    3⋅d  \n",
       " ╱        ────── - ──── + ───── +   ╱       ────────────── + ─────────────────\n",
       "╱              3      2       2   ╲╱              27                     4    \n",
       "          216⋅d    6⋅d    16⋅d                                                \n",
       "                                                                              \n",
       "                                                                              \n",
       "                                                                              \n",
       "                                                                              \n",
       "                                                                              \n",
       "                                                                              \n",
       "                                                                              \n",
       "                                                                              \n",
       "                                                                              \n",
       "──────────────────────────────────────────────────────────────────────────────\n",
       "                                                      2                       \n",
       "\n",
       "                                                                              \n",
       "                                                                              \n",
       "                                                                              \n",
       "                                                                              \n",
       "                                                                              \n",
       "                                                                              \n",
       "                                                                              \n",
       "                                                                              \n",
       "                                                                              \n",
       "                                                                              \n",
       "                                                                              \n",
       "                                                                              \n",
       "                                                                              \n",
       "                                                                              \n",
       "                                                                              \n",
       "                                                                              \n",
       "______________________________________________________________________________\n",
       "                                                                              \n",
       "                                                                              \n",
       "                                                                              \n",
       "                                                      ⎛     2     ⎞           \n",
       "                                                      ⎜    a     c⎟           \n",
       "                                                    2⋅⎜- ───── - ─⎟           \n",
       "                                                      ⎜      2   d⎟           \n",
       "                                                      ⎝  12⋅d     ⎠           \n",
       "─────────── + ────────────────────────────────────────────────────────────────\n",
       "___________                ___________________________________________________\n",
       "__________                ╱                                  _________________\n",
       "_________                ╱                                  ╱              3  \n",
       "       2                ╱                                  ╱  ⎛     2     ⎞   \n",
       "    2 ⎞                ╱                                  ╱   ⎜    a     c⎟   \n",
       "   b  ⎟               ╱                                  ╱    ⎜- ───── - ─⎟   \n",
       "- ────⎟              ╱         3               2        ╱     ⎜      2   d⎟   \n",
       "     2⎟             ╱         a      a⋅c      b        ╱      ⎝  12⋅d     ⎠   \n",
       "  8⋅d ⎠       3⋅   ╱        ────── - ──── + ───── +   ╱       ────────────── +\n",
       "────────        3 ╱              3      2       2   ╲╱              27        \n",
       "                ╲╱          216⋅d    6⋅d    16⋅d                              \n",
       "                                                                              \n",
       "                                                                              \n",
       "                                                                              \n",
       "                                                                              \n",
       "                                                                              \n",
       "                                                                              \n",
       "                                                                              \n",
       "                                                                              \n",
       "                                                                              \n",
       "                                                                              \n",
       "──────────────────────────────────────────────────────────────────────────────\n",
       "                                                                              \n",
       "\n",
       "                                                                              \n",
       "                                                                              \n",
       "                                                                              \n",
       "                                                                              \n",
       "                                                                              \n",
       "                                                                              \n",
       "                                                                              \n",
       "                                                                              \n",
       "                                                                              \n",
       "                                                                              \n",
       "                                                                              \n",
       "                                                                              \n",
       "                                                                              \n",
       "                                                                              \n",
       "                                                                              \n",
       "                                                                              \n",
       "______________________________________________________________________________\n",
       "                                            __________________________________\n",
       "                                           ╱                                  \n",
       "                                          ╱                                  ╱\n",
       "                                         ╱                                  ╱ \n",
       "                                        ╱                                  ╱  \n",
       "                                       ╱                                  ╱   \n",
       "                                      ╱         3               2        ╱    \n",
       "                                     ╱         a      a⋅c      b        ╱     \n",
       "──────────────────────────── - 2⋅   ╱        ────── - ──── + ───── +   ╱      \n",
       "____________________________     3 ╱              3      2       2   ╲╱       \n",
       "___________________________      ╲╱          216⋅d    6⋅d    16⋅d             \n",
       "                         2                                                    \n",
       " ⎛     3              2 ⎞                                                     \n",
       " ⎜    a      a⋅c     b  ⎟                                                     \n",
       " ⎜- ────── + ──── - ────⎟                                                     \n",
       " ⎜       3      2      2⎟                                                     \n",
       " ⎝  108⋅d    3⋅d    8⋅d ⎠                                                     \n",
       " ─────────────────────────                                                    \n",
       "             4                                                                \n",
       "                                                                              \n",
       "                                                                              \n",
       "                                                                              \n",
       "                                                                              \n",
       "                                                                              \n",
       "                                                                              \n",
       "                                                                              \n",
       "                                                                              \n",
       "                                                                              \n",
       "                                                                              \n",
       "                                                                              \n",
       "──────────────────────────────────────────────────────────────────────────────\n",
       "                                                                              \n",
       "\n",
       "                                                                   ⎧          \n",
       "                                                                   ⎪          \n",
       "                                                                   ⎪          \n",
       "                                                                   ⎪          \n",
       "                                                                   ⎪          \n",
       "                                                                   ⎪          \n",
       "                                                                   ⎪          \n",
       "                                                                   ⎪          \n",
       "                                                                   ⎪          \n",
       "                                                                   ⎪          \n",
       "                                                       2           ⎪          \n",
       "                                                      a     c      ⎪          \n",
       "                                                for ───── + ─ = 0  ⎪          \n",
       "                                                        2   d      ⎪          \n",
       "                                                    12⋅d           ⎪          \n",
       "                                                                   ⎪          \n",
       "______________________________________________                     ⎪          \n",
       "_____________________________________________                      ⎪          \n",
       "____________________________________________                       ⎪          \n",
       "              3                           2                        ⎪          \n",
       " ⎛     2     ⎞    ⎛     3              2 ⎞                         ⎪          \n",
       " ⎜    a     c⎟    ⎜    a      a⋅c     b  ⎟                         ⎪          \n",
       " ⎜- ───── - ─⎟    ⎜- ────── + ──── - ────⎟                         ⎪          \n",
       " ⎜      2   d⎟    ⎜       3      2      2⎟                         ⎪          \n",
       " ⎝  12⋅d     ⎠    ⎝  108⋅d    3⋅d    8⋅d ⎠                       , ⎨          \n",
       " ────────────── + ─────────────────────────                        ⎪          \n",
       "       27                     4                                    ⎪          \n",
       "                                                                   ⎪          \n",
       "                                                                   ⎪          \n",
       "                                                                   ⎪          \n",
       "                                                                   ⎪          \n",
       "                                                                   ⎪          \n",
       "                                                                   ⎪          \n",
       "                                                                   ⎪          \n",
       "                                                                   ⎪          \n",
       "                                                                   ⎪          \n",
       "                                                                   ⎪          \n",
       "                                                                   ⎪          \n",
       "                                                                   ⎪         ╱\n",
       "                                                                   ⎪        ╱ \n",
       "                                                                   ⎪       ╱  \n",
       "                                                                   ⎪      ╱   \n",
       "                                                                   ⎪     ╱    \n",
       "                                                                   ⎪    ╱     \n",
       "                                                                   ⎪   ╱      \n",
       "                                                                   ⎪  ╱       \n",
       "                                                                   ⎪╲╱        \n",
       "──────────────────────────────────────────────      otherwise      ⎪──────────\n",
       "                                                                   ⎩          \n",
       "\n",
       "                                                                              \n",
       "                                                                              \n",
       "                                                                              \n",
       "                                                                              \n",
       "                                                                              \n",
       "                                                                              \n",
       "                                                                              \n",
       "                                                                              \n",
       "                                                                              \n",
       "                                                                              \n",
       "                                                                              \n",
       "                                                                              \n",
       "                                                                              \n",
       "                                                                              \n",
       "                                                                              \n",
       "                                                                              \n",
       "                                                                              \n",
       "                                                                              \n",
       "                                                                              \n",
       "                                                                              \n",
       "                                                                              \n",
       "                                                                              \n",
       "                                                                              \n",
       "                                                                              \n",
       "                                                                              \n",
       "                                                                              \n",
       "           ___________________________________________________________________\n",
       "          ╱                                                                   \n",
       "         ╱                                                                    \n",
       "        ╱                                                                     \n",
       "       ╱                                                    ⎛     2     ⎞     \n",
       "      ╱                                                     ⎜    a     c⎟     \n",
       "     ╱                                                    2⋅⎜- ───── - ─⎟     \n",
       "    ╱                                                       ⎜      2   d⎟     \n",
       "   ╱          2⋅a                                           ⎝  12⋅d     ⎠     \n",
       "  ╱         - ─── - ──────────────────────────────────────────────────────────\n",
       " ╱            3⋅d                _____________________________________________\n",
       "╱                               ╱                                  ___________\n",
       "                               ╱                                  ╱           \n",
       "                              ╱                                  ╱  ⎛     2   \n",
       "                             ╱                                  ╱   ⎜    a    \n",
       "                            ╱                                  ╱    ⎜- ───── -\n",
       "                           ╱         3               2        ╱     ⎜      2  \n",
       "                          ╱         a      a⋅c      b        ╱      ⎝  12⋅d   \n",
       "                    3⋅   ╱        ────── - ──── + ───── +   ╱       ──────────\n",
       "                      3 ╱              3      2       2   ╲╱              27  \n",
       "                      ╲╱          216⋅d    6⋅d    16⋅d                        \n",
       "──────────────────────────────────────────────────────────────────────────────\n",
       "                                                                              \n",
       "\n",
       "                                                                              \n",
       "                                                                              \n",
       "                                                                              \n",
       "                                                                              \n",
       "                                                                              \n",
       "                                                                              \n",
       "                                                                              \n",
       "                                                                              \n",
       "                                                                              \n",
       "                                                                              \n",
       "                                                                              \n",
       "                                                                              \n",
       "                                                                              \n",
       "                                                                              \n",
       "                                                                              \n",
       "                                                                              \n",
       "                                                                              \n",
       "                                                                              \n",
       "                                                                              \n",
       "                                                                              \n",
       "                                                                              \n",
       "                                                                              \n",
       "                                                                              \n",
       "                                                                              \n",
       "                                                                              \n",
       "                                                                              \n",
       "______________________________________________________________________________\n",
       "                                                  ____________________________\n",
       "                                                 ╱                            \n",
       "                                                ╱                             \n",
       "                                               ╱                              \n",
       "                                              ╱                               \n",
       "                                             ╱                                \n",
       "                                            ╱         3               2       \n",
       "                                           ╱         a      a⋅c      b        \n",
       "────────────────────────────────── + 2⋅   ╱        ────── - ──── + ───── +   ╱\n",
       "__________________________________     3 ╱              3      2       2   ╲╱ \n",
       "_________________________________      ╲╱          216⋅d    6⋅d    16⋅d       \n",
       "   3                           2                                              \n",
       "  ⎞    ⎛     3              2 ⎞                                               \n",
       " c⎟    ⎜    a      a⋅c     b  ⎟                                               \n",
       " ─⎟    ⎜- ────── + ──── - ────⎟                                               \n",
       " d⎟    ⎜       3      2      2⎟                                               \n",
       "  ⎠    ⎝  108⋅d    3⋅d    8⋅d ⎠                                               \n",
       "──── + ─────────────────────────                                              \n",
       "                   4                                                          \n",
       "                                                                              \n",
       "──────────────────────────────────────────────────────────────────────────────\n",
       "                    2                                                         \n",
       "\n",
       "                                                                              \n",
       "                                                                              \n",
       "                                                                              \n",
       "                                                                              \n",
       "                                                                              \n",
       "                                                                              \n",
       "                                                                              \n",
       "                                                                              \n",
       "                                                                              \n",
       "                                                                              \n",
       "                                                                              \n",
       "                                                                              \n",
       "                                                                              \n",
       "                                                                              \n",
       "                                                                              \n",
       "                                                                              \n",
       "                                                                              \n",
       "                                                                              \n",
       "                                                                              \n",
       "                                                                              \n",
       "                                                                              \n",
       "                                                                              \n",
       "                                                                              \n",
       "                                                                              \n",
       "                                                                              \n",
       "                                                                             ╱\n",
       "____________________________________________________                        ╱ \n",
       "___________________________________________________                        ╱  \n",
       "      ____________________________________________                        ╱   \n",
       "     ╱              3                           2                        ╱    \n",
       "    ╱  ⎛     2     ⎞    ⎛     3              2 ⎞                        ╱     \n",
       "   ╱   ⎜    a     c⎟    ⎜    a      a⋅c     b  ⎟                       ╱      \n",
       "  ╱    ⎜- ───── - ─⎟    ⎜- ────── + ──── - ────⎟                      ╱       \n",
       " ╱     ⎜      2   d⎟    ⎜       3      2      2⎟                     ╱        \n",
       "╱      ⎝  12⋅d     ⎠    ⎝  108⋅d    3⋅d    8⋅d ⎠                    ╱         \n",
       "       ────────────── + ─────────────────────────                  ╱          \n",
       "             27                     4                             ╱           \n",
       "                                                                 ╱            \n",
       "                                                                ╱             \n",
       "                                                               ╱              \n",
       "                                                              ╱               \n",
       "                                                             ╱                \n",
       "                                                            ╱                 \n",
       "                                                           ╱                  \n",
       "                                                          ╱                   \n",
       "                                                         ╱                    \n",
       "                                                       ╲╱                     \n",
       "──────────────────────────────────────────────────── - ───────────────────────\n",
       "                                                                              \n",
       "\n",
       "                                                                            __\n",
       "                                                                           ╱  \n",
       "                                                                          ╱   \n",
       "                                                                         ╱    \n",
       "                                                                        ╱    -\n",
       "                   __________________________________________          ╱      \n",
       "                  ╱                 ________________________          ╱       \n",
       "                 ╱                 ╱      3              2           ╱        \n",
       "                ╱     2⋅a         ╱      a      a⋅c     b           ╱         \n",
       "               ╱    - ─── - 2⋅   ╱   - ────── + ──── - ────        ╱          \n",
       "              ╱       3⋅d     3 ╱           3      2      2       ╱           \n",
       "            ╲╱                ╲╱       108⋅d    3⋅d    8⋅d      ╲╱            \n",
       "            ───────────────────────────────────────────────── - ──────────────\n",
       "                                    2                                         \n",
       "                                                                              \n",
       "                                                                              \n",
       "        ______________________________________________________________________\n",
       "       ╱                                                                      \n",
       "      ╱                                                                       \n",
       "     ╱                                                                        \n",
       "    ╱                                                                         \n",
       "   ╱                                                                          \n",
       "  ╱                                                                           \n",
       " ╱                                                                            \n",
       "╱          4⋅a                                                                \n",
       "         - ─── - ─────────────────────────────────────────────────────────────\n",
       "           3⋅d                          ______________________________________\n",
       "                                       ╱                                      \n",
       "                                      ╱                                       \n",
       "                                     ╱                                        \n",
       "                                    ╱                                         \n",
       "                                   ╱                                          \n",
       "                                  ╱                                           \n",
       "                                 ╱                                            \n",
       "                                ╱          2⋅a                                \n",
       "                 d⋅            ╱         - ─── - ─────────────────────────────\n",
       "                              ╱            3⋅d                ________________\n",
       "                             ╱                               ╱                \n",
       "                            ╱                               ╱                 \n",
       "                           ╱                               ╱                  \n",
       "                          ╱                               ╱                   \n",
       "                         ╱                               ╱                    \n",
       "                        ╱                               ╱         3           \n",
       "                       ╱                               ╱         a      a⋅c   \n",
       "                      ╱                          3⋅   ╱        ────── - ──── +\n",
       "                     ╱                             3 ╱              3      2  \n",
       "                   ╲╱                              ╲╱          216⋅d    6⋅d   \n",
       "──────────────────────────────────────────────────────────────────────────────\n",
       "                                                                              \n",
       "\n",
       "______________________________________________________________________________\n",
       "                                                                     _________\n",
       "                                                                    ╱      3  \n",
       " 4⋅a                           2⋅b                                 ╱      a   \n",
       " ─── - ─────────────────────────────────────────────────── + 2⋅   ╱   - ──────\n",
       " 3⋅d            __________________________________________     3 ╱           3\n",
       "               ╱                 ________________________      ╲╱       108⋅d \n",
       "              ╱                 ╱      3              2                       \n",
       "             ╱     2⋅a         ╱      a      a⋅c     b                        \n",
       "       d⋅   ╱    - ─── - 2⋅   ╱   - ────── + ──── - ────                      \n",
       "           ╱       3⋅d     3 ╱           3      2      2                      \n",
       "         ╲╱                ╲╱       108⋅d    3⋅d    8⋅d                       \n",
       "──────────────────────────────────────────────────────────────────────────────\n",
       "                                       2                                      \n",
       "                                                                              \n",
       "                                                                              \n",
       "______________________________________________________________________________\n",
       "                                                                              \n",
       "                                                                              \n",
       "                                                                              \n",
       "                                                                              \n",
       "                                                                              \n",
       "                                                                              \n",
       "                                                                              \n",
       "                                               2⋅b                            \n",
       "──────────────────────────────────────────────────────────────────────────────\n",
       "______________________________________________________________________________\n",
       "                                                                              \n",
       "                                                                              \n",
       "                                                                             ╱\n",
       "           ⎛     2     ⎞                                                    ╱ \n",
       "           ⎜    a     c⎟                                                   ╱  \n",
       "         2⋅⎜- ───── - ─⎟                                                  ╱   \n",
       "           ⎜      2   d⎟                                                 ╱    \n",
       "           ⎝  12⋅d     ⎠                                                ╱     \n",
       "─────────────────────────────────────────────────────────────── + 2⋅   ╱      \n",
       "_______________________________________________________________     3 ╱       \n",
       "                  ____________________________________________      ╲╱        \n",
       "                 ╱              3                           2                 \n",
       "                ╱  ⎛     2     ⎞    ⎛     3              2 ⎞                  \n",
       "               ╱   ⎜    a     c⎟    ⎜    a      a⋅c     b  ⎟                  \n",
       "              ╱    ⎜- ───── - ─⎟    ⎜- ────── + ──── - ────⎟                  \n",
       "    2        ╱     ⎜      2   d⎟    ⎜       3      2      2⎟                  \n",
       "   b        ╱      ⎝  12⋅d     ⎠    ⎝  108⋅d    3⋅d    8⋅d ⎠                  \n",
       " ───── +   ╱       ────────────── + ─────────────────────────                 \n",
       "     2   ╲╱              27                     4                             \n",
       " 16⋅d                                                                         \n",
       "──────────────────────────────────────────────────────────────────────────────\n",
       "                                                                              \n",
       "\n",
       "________________                                                              \n",
       "_______________                                                               \n",
       "            2                                                                 \n",
       "   a⋅c     b                                                                  \n",
       " + ──── - ────                                                                \n",
       "      2      2                                                                \n",
       "   3⋅d    8⋅d                                                                 \n",
       "                                                                              \n",
       "                                                                              \n",
       "                                                                              \n",
       "                                                                              \n",
       "                                                                              \n",
       "────────────────                                                              \n",
       "                                                                              \n",
       "                                                                              \n",
       "                                                                              \n",
       "______________________________________________________________________________\n",
       "                                                                              \n",
       "                                                                              \n",
       "                                                                              \n",
       "                                                                              \n",
       "                                                                              \n",
       "                                                                              \n",
       "                                                                              \n",
       "                                                                              \n",
       "──────────────────────────────────────────────────────────────────────────────\n",
       "______________________________________________________________________________\n",
       " _____________________________________________________________________________\n",
       "╱                                  ___________________________________________\n",
       "                                  ╱              3                           2\n",
       "                                 ╱  ⎛     2     ⎞    ⎛     3              2 ⎞ \n",
       "                                ╱   ⎜    a     c⎟    ⎜    a      a⋅c     b  ⎟ \n",
       "                               ╱    ⎜- ───── - ─⎟    ⎜- ────── + ──── - ────⎟ \n",
       "     3               2        ╱     ⎜      2   d⎟    ⎜       3      2      2⎟ \n",
       "    a      a⋅c      b        ╱      ⎝  12⋅d     ⎠    ⎝  108⋅d    3⋅d    8⋅d ⎠ \n",
       "  ────── - ──── + ───── +   ╱       ────────────── + ─────────────────────────\n",
       "       3      2       2   ╲╱              27                     4            \n",
       "  216⋅d    6⋅d    16⋅d                                                        \n",
       "                                                                              \n",
       "                                                                              \n",
       "                                                                              \n",
       "                                                                              \n",
       "                                                                              \n",
       "                                                                              \n",
       "                                                                              \n",
       "                                                                              \n",
       "                                                                              \n",
       "──────────────────────────────────────────────────────────────────────────────\n",
       "                                              2                               \n",
       "\n",
       "                                                                              \n",
       "                                                                              \n",
       "                                                                              \n",
       "                                                                              \n",
       "                                                                              \n",
       "                                                                              \n",
       "                                                                              \n",
       "                                                                              \n",
       "                                                                              \n",
       "                                                                              \n",
       "                                                                              \n",
       "                                                                              \n",
       "                                                                              \n",
       "                                                                              \n",
       "                                                                              \n",
       "                                                                              \n",
       "______________________________________________________________________________\n",
       "                                                                              \n",
       "                                                                              \n",
       "                                                                              \n",
       "                                              ⎛     2     ⎞                   \n",
       "                                              ⎜    a     c⎟                   \n",
       "                                            2⋅⎜- ───── - ─⎟                   \n",
       "                                              ⎜      2   d⎟                   \n",
       "                                              ⎝  12⋅d     ⎠                   \n",
       "─── + ────────────────────────────────────────────────────────────────────────\n",
       "___                ___________________________________________________________\n",
       "__                ╱                                  _________________________\n",
       "_                ╱                                  ╱              3          \n",
       "                ╱                                  ╱  ⎛     2     ⎞    ⎛     3\n",
       "               ╱                                  ╱   ⎜    a     c⎟    ⎜    a \n",
       "              ╱                                  ╱    ⎜- ───── - ─⎟    ⎜- ────\n",
       "             ╱         3               2        ╱     ⎜      2   d⎟    ⎜      \n",
       "            ╱         a      a⋅c      b        ╱      ⎝  12⋅d     ⎠    ⎝  108⋅\n",
       "      3⋅   ╱        ────── - ──── + ───── +   ╱       ────────────── + ───────\n",
       "        3 ╱              3      2       2   ╲╱              27                \n",
       "        ╲╱          216⋅d    6⋅d    16⋅d                                      \n",
       "                                                                              \n",
       "                                                                              \n",
       "                                                                              \n",
       "                                                                              \n",
       "                                                                              \n",
       "                                                                              \n",
       "                                                                              \n",
       "                                                                              \n",
       "                                                                              \n",
       "                                                                              \n",
       "──────────────────────────────────────────────────────────────────────────────\n",
       "                                                                              \n",
       "\n",
       "                                                                              \n",
       "                                                                              \n",
       "                                                                              \n",
       "                                                                              \n",
       "                                                                              \n",
       "                                                                              \n",
       "                                                                              \n",
       "                                                                              \n",
       "                                                                              \n",
       "                                                                              \n",
       "                                                                              \n",
       "                                                                              \n",
       "                                                                              \n",
       "                                                                              \n",
       "                                                                              \n",
       "                                                                              \n",
       "______________________________________________________________________________\n",
       "                                    __________________________________________\n",
       "                                   ╱                                  ________\n",
       "                                  ╱                                  ╱        \n",
       "                                 ╱                                  ╱  ⎛     2\n",
       "                                ╱                                  ╱   ⎜    a \n",
       "                               ╱                                  ╱    ⎜- ────\n",
       "                              ╱         3               2        ╱     ⎜      \n",
       "                             ╱         a      a⋅c      b        ╱      ⎝  12⋅d\n",
       "──────────────────── - 2⋅   ╱        ────── - ──── + ───── +   ╱       ───────\n",
       "____________________     3 ╱              3      2       2   ╲╱              2\n",
       "___________________      ╲╱          216⋅d    6⋅d    16⋅d                     \n",
       "                 2                                                            \n",
       "              2 ⎞                                                             \n",
       "     a⋅c     b  ⎟                                                             \n",
       "── + ──── - ────⎟                                                             \n",
       " 3      2      2⎟                                                             \n",
       "d    3⋅d    8⋅d ⎠                                                             \n",
       "──────────────────                                                            \n",
       "     4                                                                        \n",
       "                                                                              \n",
       "                                                                              \n",
       "                                                                              \n",
       "                                                                              \n",
       "                                                                              \n",
       "                                                                              \n",
       "                                                                              \n",
       "                                                                              \n",
       "                                                                              \n",
       "                                                                              \n",
       "                                                                              \n",
       "──────────────────────────────────────────────────────────────────────────────\n",
       "                                                                              \n",
       "\n",
       "                                                           ⎧                  \n",
       "                                                           ⎪                  \n",
       "                                                           ⎪                  \n",
       "                                                           ⎪                  \n",
       "                                                           ⎪                  \n",
       "                                                           ⎪                  \n",
       "                                                           ⎪                  \n",
       "                                                           ⎪                  \n",
       "                                                           ⎪                  \n",
       "                                                           ⎪                  \n",
       "                                               2           ⎪                  \n",
       "                                              a     c      ⎪                  \n",
       "                                        for ───── + ─ = 0  ⎪                  \n",
       "                                                2   d      ⎪                  \n",
       "                                            12⋅d           ⎪                  \n",
       "                                                           ⎪                  \n",
       "______________________________________                     ⎪                  \n",
       "_____________________________________                      ⎪                  \n",
       "____________________________________                       ⎪                  \n",
       "      3                           2                        ⎪                  \n",
       "     ⎞    ⎛     3              2 ⎞                         ⎪                  \n",
       "    c⎟    ⎜    a      a⋅c     b  ⎟                         ⎪                  \n",
       "─ - ─⎟    ⎜- ────── + ──── - ────⎟                         ⎪                  \n",
       "2   d⎟    ⎜       3      2      2⎟                         ⎪                  \n",
       "     ⎠    ⎝  108⋅d    3⋅d    8⋅d ⎠                       , ⎨                  \n",
       "─────── + ─────────────────────────                        ⎪                  \n",
       "7                     4                                    ⎪                  \n",
       "                                                           ⎪                  \n",
       "                                                           ⎪                  \n",
       "                                                           ⎪                  \n",
       "                                                           ⎪                 ╱\n",
       "                                                           ⎪                ╱ \n",
       "                                                           ⎪               ╱  \n",
       "                                                           ⎪              ╱   \n",
       "                                                           ⎪             ╱    \n",
       "                                                           ⎪            ╱     \n",
       "                                                           ⎪           ╱      \n",
       "                                                           ⎪          ╱       \n",
       "                                                           ⎪         ╱        \n",
       "                                                           ⎪        ╱         \n",
       "                                                           ⎪       ╱          \n",
       "                                                           ⎪      ╱           \n",
       "                                                           ⎪     ╱            \n",
       "                                                           ⎪    ╱             \n",
       "                                                           ⎪   ╱              \n",
       "                                                           ⎪  ╱               \n",
       "                                                           ⎪╲╱                \n",
       "──────────────────────────────────────      otherwise      ⎪──────────────────\n",
       "                                                           ⎩                  \n",
       "\n",
       "                                                                              \n",
       "                                                                              \n",
       "                                                                              \n",
       "                                                                              \n",
       "                                                                              \n",
       "                                                                              \n",
       "                                                                              \n",
       "                                                                              \n",
       "                                                                              \n",
       "                                                                              \n",
       "                                                                              \n",
       "                                                                              \n",
       "                                                                              \n",
       "                                                                              \n",
       "                                                                              \n",
       "                                                                              \n",
       "                                                                              \n",
       "                                                                              \n",
       "                                                                              \n",
       "                                                                              \n",
       "                                                                              \n",
       "                                                                              \n",
       "                                                                              \n",
       "                                                                              \n",
       "                                                                              \n",
       "                                                                              \n",
       "   ___________________________________________________________________________\n",
       "  ╱                                                                           \n",
       " ╱                                                                            \n",
       "╱                                                                             \n",
       "                                                    ⎛     2     ⎞             \n",
       "                                                    ⎜    a     c⎟             \n",
       "                                                  2⋅⎜- ───── - ─⎟             \n",
       "                                                    ⎜      2   d⎟             \n",
       "      2⋅a                                           ⎝  12⋅d     ⎠             \n",
       "    - ─── - ──────────────────────────────────────────────────────────────────\n",
       "      3⋅d                _____________________________________________________\n",
       "                        ╱                                  ___________________\n",
       "                       ╱                                  ╱              3    \n",
       "                      ╱                                  ╱  ⎛     2     ⎞    ⎛\n",
       "                     ╱                                  ╱   ⎜    a     c⎟    ⎜\n",
       "                    ╱                                  ╱    ⎜- ───── - ─⎟    ⎜\n",
       "                   ╱         3               2        ╱     ⎜      2   d⎟    ⎜\n",
       "                  ╱         a      a⋅c      b        ╱      ⎝  12⋅d     ⎠    ⎝\n",
       "            3⋅   ╱        ────── - ──── + ───── +   ╱       ────────────── + ─\n",
       "              3 ╱              3      2       2   ╲╱              27          \n",
       "              ╲╱          216⋅d    6⋅d    16⋅d                                \n",
       "──────────────────────────────────────────────────────────────────────────────\n",
       "                                                                              \n",
       "\n",
       "                                                                              \n",
       "                                                                              \n",
       "                                                                              \n",
       "                                                                              \n",
       "                                                                              \n",
       "                                                                              \n",
       "                                                                              \n",
       "                                                                              \n",
       "                                                                              \n",
       "                                                                              \n",
       "                                                                              \n",
       "                                                                              \n",
       "                                                                              \n",
       "                                                                              \n",
       "                                                                              \n",
       "                                                                              \n",
       "                                                                              \n",
       "                                                                              \n",
       "                                                                              \n",
       "                                                                              \n",
       "                                                                              \n",
       "                                                                              \n",
       "                                                                              \n",
       "                                                                              \n",
       "                                                                              \n",
       "                                                                              \n",
       "______________________________________________________________________________\n",
       "                                          ____________________________________\n",
       "                                         ╱                                  __\n",
       "                                        ╱                                  ╱  \n",
       "                                       ╱                                  ╱  ⎛\n",
       "                                      ╱                                  ╱   ⎜\n",
       "                                     ╱                                  ╱    ⎜\n",
       "                                    ╱         3               2        ╱     ⎜\n",
       "                                   ╱         a      a⋅c      b        ╱      ⎝\n",
       "────────────────────────── + 2⋅   ╱        ────── - ──── + ───── +   ╱       ─\n",
       "__________________________     3 ╱              3      2       2   ╲╱         \n",
       "_________________________      ╲╱          216⋅d    6⋅d    16⋅d               \n",
       "                       2                                                      \n",
       "     3              2 ⎞                                                       \n",
       "    a      a⋅c     b  ⎟                                                       \n",
       "- ────── + ──── - ────⎟                                                       \n",
       "       3      2      2⎟                                                       \n",
       "  108⋅d    3⋅d    8⋅d ⎠                                                       \n",
       "────────────────────────                                                      \n",
       "           4                                                                  \n",
       "                                                                              \n",
       "──────────────────────────────────────────────────────────────────────────────\n",
       "            2                                                                 \n",
       "\n",
       "                                                                              \n",
       "                                                                              \n",
       "                                                                              \n",
       "                                                                              \n",
       "                                                                              \n",
       "                                                                              \n",
       "                                                                              \n",
       "                                                                              \n",
       "                                                                              \n",
       "                                                                              \n",
       "                                                                              \n",
       "                                                                              \n",
       "                                                                              \n",
       "                                                                              \n",
       "                                                                              \n",
       "                                                                              \n",
       "                                                                              \n",
       "                                                                             ╱\n",
       "                                                                            ╱ \n",
       "                                                                           ╱  \n",
       "                                                                          ╱   \n",
       "                                                                         ╱    \n",
       "                                                                        ╱     \n",
       "                                                                       ╱      \n",
       "                                                                      ╱       \n",
       "                                                                     ╱        \n",
       "____________________________________________                        ╱         \n",
       "___________________________________________                        ╱          \n",
       "__________________________________________                        ╱           \n",
       "            3                           2                        ╱            \n",
       "     2     ⎞    ⎛     3              2 ⎞                        ╱             \n",
       "    a     c⎟    ⎜    a      a⋅c     b  ⎟                       ╱              \n",
       "- ───── - ─⎟    ⎜- ────── + ──── - ────⎟                      ╱               \n",
       "      2   d⎟    ⎜       3      2      2⎟                     ╱                \n",
       "  12⋅d     ⎠    ⎝  108⋅d    3⋅d    8⋅d ⎠                    ╱                 \n",
       "───────────── + ─────────────────────────                  ╱                  \n",
       "     27                     4                             ╱                   \n",
       "                                                         ╱                    \n",
       "                                                        ╱                     \n",
       "                                                       ╱                      \n",
       "                                                      ╱                       \n",
       "                                                     ╱                        \n",
       "                                                    ╱                         \n",
       "                                                   ╱                          \n",
       "                                                  ╱                           \n",
       "                                                 ╱                            \n",
       "                                               ╲╱                             \n",
       "──────────────────────────────────────────── + ───────────────────────────────\n",
       "                                                                              \n",
       "\n",
       "                                                                    __________\n",
       "                                                                   ╱          \n",
       "                                                                  ╱           \n",
       "                                                                 ╱     4⋅a    \n",
       "                                                                ╱    - ─── - ─\n",
       "           __________________________________________          ╱       3⋅d    \n",
       "          ╱                 ________________________          ╱               \n",
       "         ╱                 ╱      3              2           ╱                \n",
       "        ╱     2⋅a         ╱      a      a⋅c     b           ╱                 \n",
       "       ╱    - ─── - 2⋅   ╱   - ────── + ──── - ────        ╱                 d\n",
       "      ╱       3⋅d     3 ╱           3      2      2       ╱                   \n",
       "    ╲╱                ╲╱       108⋅d    3⋅d    8⋅d      ╲╱                    \n",
       "    ───────────────────────────────────────────────── + ──────────────────────\n",
       "                            2                                                 \n",
       "                                                                              \n",
       "                                                                              \n",
       "______________________________________________________________________________\n",
       "                                                                              \n",
       "                                                                              \n",
       "                                                                              \n",
       "                                                                              \n",
       "                                                                              \n",
       "                                                                              \n",
       "                                                                              \n",
       "   4⋅a                                                                        \n",
       " - ─── - ─────────────────────────────────────────────────────────────────────\n",
       "   3⋅d                          ______________________________________________\n",
       "                               ╱                                              \n",
       "                              ╱                                               \n",
       "                             ╱                                                \n",
       "                            ╱                                                 \n",
       "                           ╱                                                  \n",
       "                          ╱                                                   \n",
       "                         ╱                                                    \n",
       "                        ╱          2⋅a                                        \n",
       "         d⋅            ╱         - ─── - ─────────────────────────────────────\n",
       "                      ╱            3⋅d                ________________________\n",
       "                     ╱                               ╱                        \n",
       "                    ╱                               ╱                         \n",
       "                   ╱                               ╱                          \n",
       "                  ╱                               ╱                           \n",
       "                 ╱                               ╱                            \n",
       "                ╱                               ╱         3               2   \n",
       "               ╱                               ╱         a      a⋅c      b    \n",
       "              ╱                          3⋅   ╱        ────── - ──── + ───── +\n",
       "             ╱                             3 ╱              3      2       2  \n",
       "           ╲╱                              ╲╱          216⋅d    6⋅d    16⋅d   \n",
       "──────────────────────────────────────────────────────────────────────────────\n",
       "                                                                              \n",
       "\n",
       "______________________________________________________________________________\n",
       "                                                             _________________\n",
       "                                                            ╱      3          \n",
       "                       2⋅b                                 ╱      a      a⋅c  \n",
       "────────────────────────────────────────────────── + 2⋅   ╱   - ────── + ──── \n",
       "        __________________________________________     3 ╱           3      2 \n",
       "       ╱                 ________________________      ╲╱       108⋅d    3⋅d  \n",
       "      ╱                 ╱      3              2                               \n",
       "     ╱     2⋅a         ╱      a      a⋅c     b                                \n",
       "⋅   ╱    - ─── - 2⋅   ╱   - ────── + ──── - ────                              \n",
       "   ╱       3⋅d     3 ╱           3      2      2                              \n",
       " ╲╱                ╲╱       108⋅d    3⋅d    8⋅d                               \n",
       "──────────────────────────────────────────────────────────────────────────────\n",
       "                               2                                              \n",
       "                                                                              \n",
       "                                                                              \n",
       "______________________________________________________________________________\n",
       "                                                                              \n",
       "                                                                              \n",
       "                                                                              \n",
       "                                                                              \n",
       "                                                                              \n",
       "                                                                              \n",
       "                                                                              \n",
       "                                       2⋅b                                    \n",
       "──────────────────────────────────────────────────────────────────────────────\n",
       "______________________________________________________________________________\n",
       "                                                                       _______\n",
       "                                                                      ╱       \n",
       "                                                                     ╱        \n",
       "   ⎛     2     ⎞                                                    ╱         \n",
       "   ⎜    a     c⎟                                                   ╱          \n",
       " 2⋅⎜- ───── - ─⎟                                                  ╱           \n",
       "   ⎜      2   d⎟                                                 ╱         3  \n",
       "   ⎝  12⋅d     ⎠                                                ╱         a   \n",
       "─────────────────────────────────────────────────────── + 2⋅   ╱        ──────\n",
       "_______________________________________________________     3 ╱              3\n",
       "          ____________________________________________      ╲╱          216⋅d \n",
       "         ╱              3                           2                         \n",
       "        ╱  ⎛     2     ⎞    ⎛     3              2 ⎞                          \n",
       "       ╱   ⎜    a     c⎟    ⎜    a      a⋅c     b  ⎟                          \n",
       "      ╱    ⎜- ───── - ─⎟    ⎜- ────── + ──── - ────⎟                          \n",
       "     ╱     ⎜      2   d⎟    ⎜       3      2      2⎟                          \n",
       "    ╱      ⎝  12⋅d     ⎠    ⎝  108⋅d    3⋅d    8⋅d ⎠                          \n",
       "   ╱       ────────────── + ─────────────────────────                         \n",
       " ╲╱              27                     4                                     \n",
       "                                                                              \n",
       "──────────────────────────────────────────────────────────────────────────────\n",
       "                                                                              \n",
       "\n",
       "________                                                                      \n",
       "_______                                                                       \n",
       "    2                                                                         \n",
       "   b                                                                          \n",
       "- ────                                                                        \n",
       "     2                                                                        \n",
       "  8⋅d                                                                         \n",
       "                                                                              \n",
       "                                                                              \n",
       "                                                                              \n",
       "                                                                              \n",
       "                                                                              \n",
       "────────                                                                      \n",
       "                                                                              \n",
       "                                                                              \n",
       "                                                                              \n",
       "______________________________________________________________________________\n",
       "                                                                              \n",
       "                                                                              \n",
       "                                                                              \n",
       "                                                                              \n",
       "                                                                              \n",
       "                                                                              \n",
       "                                                                              \n",
       "                                                                              \n",
       "───────────────────────────────────────────────────────────────────────── + ──\n",
       "_________________________________________________________________________     \n",
       "________________________________________________________________________      \n",
       "                           ____________________________________________       \n",
       "                          ╱              3                           2        \n",
       "                         ╱  ⎛     2     ⎞    ⎛     3              2 ⎞         \n",
       "                        ╱   ⎜    a     c⎟    ⎜    a      a⋅c     b  ⎟         \n",
       "                       ╱    ⎜- ───── - ─⎟    ⎜- ────── + ──── - ────⎟         \n",
       "             2        ╱     ⎜      2   d⎟    ⎜       3      2      2⎟         \n",
       "   a⋅c      b        ╱      ⎝  12⋅d     ⎠    ⎝  108⋅d    3⋅d    8⋅d ⎠       3⋅\n",
       " - ──── + ───── +   ╱       ────────────── + ─────────────────────────        \n",
       "      2       2   ╲╱              27                     4                    \n",
       "   6⋅d    16⋅d                                                                \n",
       "                                                                              \n",
       "                                                                              \n",
       "                                                                              \n",
       "                                                                              \n",
       "                                                                              \n",
       "                                                                              \n",
       "                                                                              \n",
       "                                                                              \n",
       "                                                                              \n",
       "──────────────────────────────────────────────────────────────────────────────\n",
       "                                      2                                       \n",
       "\n",
       "                                                                              \n",
       "                                                                              \n",
       "                                                                              \n",
       "                                                                              \n",
       "                                                                              \n",
       "                                                                              \n",
       "                                                                              \n",
       "                                                                              \n",
       "                                                                              \n",
       "                                                                              \n",
       "                                                                              \n",
       "                                                                              \n",
       "                                                                              \n",
       "                                                                              \n",
       "                                                                              \n",
       "                                                                              \n",
       "______________________________________________________________________________\n",
       "                                                                              \n",
       "                                                                              \n",
       "                                                                              \n",
       "                                      ⎛     2     ⎞                           \n",
       "                                      ⎜    a     c⎟                           \n",
       "                                    2⋅⎜- ───── - ─⎟                           \n",
       "                                      ⎜      2   d⎟                           \n",
       "                                      ⎝  12⋅d     ⎠                           \n",
       "──────────────────────────────────────────────────────────────────────────────\n",
       "           ___________________________________________________________________\n",
       "          ╱                                  _________________________________\n",
       "         ╱                                  ╱              3                  \n",
       "        ╱                                  ╱  ⎛     2     ⎞    ⎛     3        \n",
       "       ╱                                  ╱   ⎜    a     c⎟    ⎜    a      a⋅c\n",
       "      ╱                                  ╱    ⎜- ───── - ─⎟    ⎜- ────── + ───\n",
       "     ╱         3               2        ╱     ⎜      2   d⎟    ⎜       3      \n",
       "    ╱         a      a⋅c      b        ╱      ⎝  12⋅d     ⎠    ⎝  108⋅d    3⋅d\n",
       "   ╱        ────── - ──── + ───── +   ╱       ────────────── + ───────────────\n",
       "3 ╱              3      2       2   ╲╱              27                     4  \n",
       "╲╱          216⋅d    6⋅d    16⋅d                                              \n",
       "                                                                              \n",
       "                                                                              \n",
       "                                                                              \n",
       "                                                                              \n",
       "                                                                              \n",
       "                                                                              \n",
       "                                                                              \n",
       "                                                                              \n",
       "                                                                              \n",
       "                                                                              \n",
       "──────────────────────────────────────────────────────────────────────────────\n",
       "                                                                              \n",
       "\n",
       "                                                                              \n",
       "                                                                              \n",
       "                                                                              \n",
       "                                                                              \n",
       "                                                                              \n",
       "                                                                              \n",
       "                                                                              \n",
       "                                                                              \n",
       "                                                                              \n",
       "                                                                              \n",
       "                                                                              \n",
       "                                                                              \n",
       "                                                                              \n",
       "                                                                              \n",
       "                                                                              \n",
       "                                                                              \n",
       "______________________________________________________________________________\n",
       "                            __________________________________________________\n",
       "                           ╱                                  ________________\n",
       "                          ╱                                  ╱              3 \n",
       "                         ╱                                  ╱  ⎛     2     ⎞  \n",
       "                        ╱                                  ╱   ⎜    a     c⎟  \n",
       "                       ╱                                  ╱    ⎜- ───── - ─⎟  \n",
       "                      ╱         3               2        ╱     ⎜      2   d⎟  \n",
       "                     ╱         a      a⋅c      b        ╱      ⎝  12⋅d     ⎠  \n",
       "──────────── - 2⋅   ╱        ────── - ──── + ───── +   ╱       ────────────── \n",
       "____________     3 ╱              3      2       2   ╲╱              27       \n",
       "___________      ╲╱          216⋅d    6⋅d    16⋅d                             \n",
       "         2                                                                    \n",
       "      2 ⎞                                                                     \n",
       "     b  ⎟                                                                     \n",
       "─ - ────⎟                                                                     \n",
       "2      2⎟                                                                     \n",
       "    8⋅d ⎠                                                                     \n",
       "──────────                                                                    \n",
       "                                                                              \n",
       "                                                                              \n",
       "                                                                              \n",
       "                                                                              \n",
       "                                                                              \n",
       "                                                                              \n",
       "                                                                              \n",
       "                                                                              \n",
       "                                                                              \n",
       "                                                                              \n",
       "                                                                              \n",
       "                                                                              \n",
       "──────────────────────────────────────────────────────────────────────────────\n",
       "                                                                              \n",
       "\n",
       "                                                 ⎤\n",
       "                                                 ⎥\n",
       "                                                 ⎥\n",
       "                                                 ⎥\n",
       "                                                 ⎥\n",
       "                                                 ⎥\n",
       "                                                 ⎥\n",
       "                                                 ⎥\n",
       "                                                 ⎥\n",
       "                                                 ⎥\n",
       "                                       2         ⎥\n",
       "                                      a     c    ⎥\n",
       "                                for ───── + ─ = 0⎥\n",
       "                                        2   d    ⎥\n",
       "                                    12⋅d         ⎥\n",
       "                                                 ⎥\n",
       "______________________________                   ⎥\n",
       "_____________________________                    ⎥\n",
       "____________________________                     ⎥\n",
       "                          2                      ⎥\n",
       "  ⎛     3              2 ⎞                       ⎥\n",
       "  ⎜    a      a⋅c     b  ⎟                       ⎥\n",
       "  ⎜- ────── + ──── - ────⎟                       ⎥\n",
       "  ⎜       3      2      2⎟                       ⎥\n",
       "  ⎝  108⋅d    3⋅d    8⋅d ⎠                       ⎥\n",
       "+ ─────────────────────────                      ⎥\n",
       "              4                                  ⎥\n",
       "                                                 ⎥\n",
       "                                                 ⎥\n",
       "                                                 ⎥\n",
       "                                                 ⎥\n",
       "                                                 ⎥\n",
       "                                                 ⎥\n",
       "                                                 ⎥\n",
       "                                                 ⎥\n",
       "                                                 ⎥\n",
       "                                                 ⎥\n",
       "                                                 ⎥\n",
       "                                                 ⎥\n",
       "                                                 ⎥\n",
       "                                                 ⎥\n",
       "                                                 ⎥\n",
       "                                                 ⎥\n",
       "                                                 ⎥\n",
       "                                                 ⎥\n",
       "                                                 ⎥\n",
       "                                                 ⎥\n",
       "──────────────────────────────      otherwise    ⎥\n",
       "                                                 ⎦"
      ]
     },
     "execution_count": 44,
     "metadata": {},
     "output_type": "execute_result"
    }
   ],
   "source": [
    "d, f = smp.symbols('d, f')\n",
    "expr3 = a * x**2 + b * x + c + d*x**4\n",
    "r = smp.solve(expr3, x)\n",
    "r"
   ]
  },
  {
   "cell_type": "code",
   "execution_count": null,
   "id": "62bbdfa8",
   "metadata": {
    "id": "62bbdfa8"
   },
   "outputs": [],
   "source": [
    "# Система уравнений\n",
    "eq1 = smp.Eq(x**2 - 2*y + x**2, 1)\n",
    "eq2 = smp.Eq(y**2 + x, 1)\n",
    "r = smp.solve([eq1, eq2], [x, y])"
   ]
  },
  {
   "cell_type": "code",
   "execution_count": null,
   "id": "c157d4b0",
   "metadata": {
    "id": "c157d4b0",
    "outputId": "3fe46048-c4e5-46fd-f174-c09dca98d8b3"
   },
   "outputs": [
    {
     "data": {
      "image/png": "[encoded data removed]",
      "text/latex": [
       "$\\displaystyle \\left( 0.266821457891279 - 0.712846279496579 i, \\  -0.936956127800887 - 0.380405367095302 i\\right)$"
      ],
      "text/plain": [
       "(0.266821457891279 - 0.712846279496579⋅ⅈ, -0.936956127800887 - 0.3804053670953\n",
       "02⋅ⅈ)"
      ]
     },
     "execution_count": 51,
     "metadata": {},
     "output_type": "execute_result"
    }
   ],
   "source": [
    "r[0][0].evalf().evalf(), r[0][1].evalf()"
   ]
  },
  {
   "cell_type": "code",
   "execution_count": null,
   "id": "00652e02",
   "metadata": {
    "id": "00652e02",
    "outputId": "08c9437e-34cb-4412-eba8-62f52f3b59ca"
   },
   "outputs": [
    {
     "data": {
      "image/png": "[encoded data removed]",
      "text/latex": [
       "$\\displaystyle \\left( 0.266821457891279 - 0.712846279496579 i, \\  -0.936956127800887 + 0.380405367095302 i\\right)$"
      ],
      "text/plain": [
       "(0.266821457891279 - 0.712846279496579⋅ⅈ, -0.936956127800887 + 0.3804053670953\n",
       "02⋅ⅈ)"
      ]
     },
     "execution_count": 52,
     "metadata": {},
     "output_type": "execute_result"
    }
   ],
   "source": [
    "r[0][0].evalf().evalf(), r[1][1].evalf()"
   ]
  },
  {
   "cell_type": "code",
   "execution_count": null,
   "id": "13e6f65c",
   "metadata": {
    "id": "13e6f65c",
    "outputId": "9406570a-7b71-4b6a-f504-5863c5c06a2a"
   },
   "outputs": [
    {
     "data": {
      "image/png": "[encoded data removed]",
      "text/latex": [
       "$\\displaystyle \\left[ \\left( 1, \\  0\\right), \\  \\left( - \\frac{2 a^{2}}{a^{2} + 1} + 1, \\  - \\frac{2 a}{a^{2} + 1}\\right)\\right]$"
      ],
      "text/plain": [
       "⎡        ⎛      2             ⎞⎤\n",
       "⎢        ⎜   2⋅a        -2⋅a  ⎟⎥\n",
       "⎢(1, 0), ⎜- ────── + 1, ──────⎟⎥\n",
       "⎢        ⎜   2           2    ⎟⎥\n",
       "⎣        ⎝  a  + 1      a  + 1⎠⎦"
      ]
     },
     "execution_count": 53,
     "metadata": {},
     "output_type": "execute_result"
    }
   ],
   "source": [
    "eq3 = smp.Eq(x - a*y, 1)\n",
    "eq4 = smp.Eq(x**2 + y**2, 1)\n",
    "r = smp.solve([eq3, eq4], [x, y])\n",
    "r"
   ]
  },
  {
   "cell_type": "code",
   "execution_count": null,
   "id": "ff9448e5",
   "metadata": {
    "id": "ff9448e5",
    "outputId": "9920c673-ffcf-49dd-996e-f12cd3f9194c"
   },
   "outputs": [
    {
     "data": {
      "image/png": "[encoded data removed]",
      "text/latex": [
       "$\\displaystyle - \\frac{4}{5}$"
      ],
      "text/plain": [
       "-4/5"
      ]
     },
     "execution_count": 56,
     "metadata": {},
     "output_type": "execute_result"
    }
   ],
   "source": [
    "r[1][1].subs(a, 2)"
   ]
  },
  {
   "cell_type": "code",
   "execution_count": null,
   "id": "a4ef970d",
   "metadata": {
    "id": "a4ef970d",
    "outputId": "4bc461b8-5e7b-413f-c76f-fc632facfb4e"
   },
   "outputs": [
    {
     "data": {
      "image/png": "[encoded data removed]",
      "text/latex": [
       "$\\displaystyle \\left[ \\frac{\\pi}{2}\\right]$"
      ],
      "text/plain": [
       "⎡π⎤\n",
       "⎢─⎥\n",
       "⎣2⎦"
      ]
     },
     "execution_count": 58,
     "metadata": {},
     "output_type": "execute_result"
    }
   ],
   "source": [
    "eq5 = smp.Eq(smp.sin(x), 1)\n",
    "smp.solve(eq5, x)"
   ]
  },
  {
   "cell_type": "code",
   "execution_count": null,
   "id": "537caf26",
   "metadata": {
    "id": "537caf26",
    "outputId": "c0193da7-f929-467c-a738-f202e7f5187c"
   },
   "outputs": [
    {
     "data": {
      "text/latex": [
       "$\\displaystyle \\left\\{2 n \\pi + \\frac{\\pi}{2}\\; \\middle|\\; n \\in \\mathbb{Z}\\right\\}$"
      ],
      "text/plain": [
       "⎧        π │      ⎫\n",
       "⎨2⋅n⋅π + ─ │ n ∊ ℤ⎬\n",
       "⎩        2 │      ⎭"
      ]
     },
     "execution_count": 59,
     "metadata": {},
     "output_type": "execute_result"
    }
   ],
   "source": [
    "smp.solveset(eq5, x)"
   ]
  },
  {
   "cell_type": "code",
   "execution_count": null,
   "id": "a474e9a3",
   "metadata": {
    "id": "a474e9a3",
    "outputId": "9dbfa5d5-6a76-4412-b690-78d9e59491e6"
   },
   "outputs": [
    {
     "data": {
      "image/png": "[encoded data removed]",
      "text/latex": [
       "$\\displaystyle \\left\\{- \\frac{3 \\pi}{2}, \\frac{\\pi}{2}, \\frac{5 \\pi}{2}\\right\\}$"
      ],
      "text/plain": [
       "⎧-3⋅π   π  5⋅π⎫\n",
       "⎨─────, ─, ───⎬\n",
       "⎩  2    2   2 ⎭"
      ]
     },
     "execution_count": 61,
     "metadata": {},
     "output_type": "execute_result"
    }
   ],
   "source": [
    "smp.solveset(eq5, x, smp.Interval(-10, 10))"
   ]
  },
  {
   "cell_type": "code",
   "execution_count": null,
   "id": "9e030eb0",
   "metadata": {
    "id": "9e030eb0",
    "outputId": "933478a3-caf3-4334-d335-a4f086ae5162"
   },
   "outputs": [
    {
     "data": {
      "image/png": "[encoded data removed]",
      "text/latex": [
       "$\\displaystyle \\left\\{- \\frac{7 \\pi}{4}, - \\frac{5 \\pi}{4}, \\frac{\\pi}{4}, \\frac{3 \\pi}{4}, \\frac{9 \\pi}{4}, \\frac{11 \\pi}{4}\\right\\}$"
      ],
      "text/plain": [
       "⎧-7⋅π   -5⋅π   π  3⋅π  9⋅π  11⋅π⎫\n",
       "⎨─────, ─────, ─, ───, ───, ────⎬\n",
       "⎩  4      4    4   4    4    4  ⎭"
      ]
     },
     "execution_count": 62,
     "metadata": {},
     "output_type": "execute_result"
    }
   ],
   "source": [
    "eq6 = smp.Eq(smp.sin(x), smp.sqrt(2)/2)\n",
    "smp.solveset(eq6, x, smp.Interval(-10, 10))"
   ]
  },
  {
   "cell_type": "code",
   "execution_count": null,
   "id": "2e5c8b68",
   "metadata": {
    "id": "2e5c8b68",
    "outputId": "d2f08a18-c392-47a4-96c9-a695bb34742c"
   },
   "outputs": [
    {
     "data": {
      "image/png": "[encoded data removed]",
      "text/latex": [
       "$\\displaystyle \\left[1, 2, 3, 4, \\ldots\\right]$"
      ],
      "text/plain": [
       "[1, 2, 3, 4, …]"
      ]
     },
     "execution_count": 64,
     "metadata": {},
     "output_type": "execute_result"
    }
   ],
   "source": [
    "# Работаем с последовательностями\n",
    "smp.sequence(x, (x, 1, smp.oo))"
   ]
  },
  {
   "cell_type": "code",
   "execution_count": null,
   "id": "3058c547",
   "metadata": {
    "id": "3058c547",
    "outputId": "2787da1d-97d4-4347-b297-e2ed0b77f56e"
   },
   "outputs": [
    {
     "data": {
      "image/png": "[encoded data removed]",
      "text/latex": [
       "$\\displaystyle \\left( \\left[1, 2, 3, 4, \\ldots\\right], \\  \\left[ 1, \\  2, \\  3, \\  4, \\  5, \\  6, \\  7, \\  8, \\  9, \\  10\\right]\\right)$"
      ],
      "text/plain": [
       "([1, 2, 3, 4, …], [1, 2, 3, 4, 5, 6, 7, 8, 9, 10])"
      ]
     },
     "execution_count": 65,
     "metadata": {},
     "output_type": "execute_result"
    }
   ],
   "source": [
    "s = smp.sequence(x, (x, 1, 10))\n",
    "s, list(s)"
   ]
  },
  {
   "cell_type": "code",
   "execution_count": null,
   "id": "0799fd36",
   "metadata": {
    "id": "0799fd36",
    "outputId": "ac49436a-d71d-486d-c519-2552d25821c8"
   },
   "outputs": [
    {
     "data": {
      "image/png": "[encoded data removed]",
      "text/latex": [
       "$\\displaystyle \\left( 10, \\  55\\right)$"
      ],
      "text/plain": [
       "(10, 55)"
      ]
     },
     "execution_count": 66,
     "metadata": {},
     "output_type": "execute_result"
    }
   ],
   "source": [
    "s.length, smp.summation(s.formula, (x, 1, 10))"
   ]
  },
  {
   "cell_type": "code",
   "execution_count": null,
   "id": "97c23fae",
   "metadata": {
    "id": "97c23fae",
    "outputId": "98aeaa26-3917-4db3-89fa-1094ae5e928a"
   },
   "outputs": [
    {
     "data": {
      "image/png": "[encoded data removed]",
      "text/latex": [
       "$\\displaystyle \\left[1, \\frac{1}{4}, \\frac{1}{9}, \\frac{1}{16}, \\ldots\\right]$"
      ],
      "text/plain": [
       "[1, 1/4, 1/9, 1/16, …]"
      ]
     },
     "execution_count": 67,
     "metadata": {},
     "output_type": "execute_result"
    }
   ],
   "source": [
    "s2 = smp.SeqFormula(1/x**2, (x, 1, smp.oo))\n",
    "s2"
   ]
  },
  {
   "cell_type": "code",
   "execution_count": null,
   "id": "cd345b67",
   "metadata": {
    "id": "cd345b67",
    "outputId": "67709fb5-2c55-491a-9a5e-227adf2e1b2d"
   },
   "outputs": [
    {
     "data": {
      "image/png": "[encoded data removed]",
      "text/latex": [
       "$\\displaystyle \\frac{\\pi^{2}}{6}$"
      ],
      "text/plain": [
       " 2\n",
       "π \n",
       "──\n",
       "6 "
      ]
     },
     "execution_count": 68,
     "metadata": {},
     "output_type": "execute_result"
    }
   ],
   "source": [
    "smp.summation(s2.formula, (x, s2.start, s2.stop))"
   ]
  },
  {
   "cell_type": "code",
   "execution_count": null,
   "id": "11bf068c",
   "metadata": {
    "id": "11bf068c",
    "outputId": "aa94095b-d44e-4848-c799-b2f9c706b1e0"
   },
   "outputs": [
    {
     "data": {
      "image/png": "[encoded data removed]",
      "text/latex": [
       "$\\displaystyle \\left( 1.63498390018489, \\  1.64493406684823\\right)$"
      ],
      "text/plain": [
       "(1.63498390018489, 1.64493406684823)"
      ]
     },
     "execution_count": 71,
     "metadata": {},
     "output_type": "execute_result"
    }
   ],
   "source": [
    "smp.summation(s2.formula, (x, s2.start, 100)).evalf(), (smp.pi**2/6).evalf()"
   ]
  },
  {
   "cell_type": "code",
   "execution_count": null,
   "id": "9270e255",
   "metadata": {
    "id": "9270e255",
    "outputId": "08fc24d7-7588-4a01-e4e2-81405868f5a7"
   },
   "outputs": [
    {
     "data": {
      "image/png": "[encoded data removed]",
      "text/latex": [
       "$\\displaystyle \\left( \\infty, \\  0, \\  1\\right)$"
      ],
      "text/plain": [
       "(∞, 0, 1)"
      ]
     },
     "execution_count": 73,
     "metadata": {},
     "output_type": "execute_result"
    }
   ],
   "source": [
    "# Пределы\n",
    "smp.limit(1/x, x, 0), smp.limit(1/x, x, smp.oo), smp.limit(smp.sin(x)/x, x, 0)"
   ]
  },
  {
   "cell_type": "code",
   "execution_count": null,
   "id": "98ade7e6",
   "metadata": {
    "id": "98ade7e6",
    "outputId": "4183d5f6-6121-4931-de8e-a6e1e2d89188"
   },
   "outputs": [
    {
     "data": {
      "text/latex": [
       "$\\displaystyle \\left( \\left[\\begin{matrix}1 & 2\\\\3 & 4\\\\5 & 6\\end{matrix}\\right], \\  \\left[\\begin{matrix}7\\\\8\\end{matrix}\\right], \\  \\left[\\begin{matrix}23\\\\53\\\\83\\end{matrix}\\right]\\right)$"
      ],
      "text/plain": [
       "⎛⎡1  2⎤       ⎡23⎤⎞\n",
       "⎜⎢    ⎥  ⎡7⎤  ⎢  ⎥⎟\n",
       "⎜⎢3  4⎥, ⎢ ⎥, ⎢53⎥⎟\n",
       "⎜⎢    ⎥  ⎣8⎦  ⎢  ⎥⎟\n",
       "⎝⎣5  6⎦       ⎣83⎦⎠"
      ]
     },
     "execution_count": 78,
     "metadata": {},
     "output_type": "execute_result"
    }
   ],
   "source": [
    "# Линейная алгебра\n",
    "M = smp.Matrix([[1,2], [3,4], [5,6]])\n",
    "N = smp.Matrix([7, 8])\n",
    "M, N, M*N"
   ]
  },
  {
   "cell_type": "code",
   "execution_count": null,
   "id": "1b8ea333",
   "metadata": {
    "id": "1b8ea333",
    "outputId": "7411b3f1-e285-4814-fef7-9b1f9fa01f55"
   },
   "outputs": [
    {
     "data": {
      "image/png": "[encoded data removed]",
      "text/latex": [
       "$\\displaystyle \\frac{t^{2}}{2}$"
      ],
      "text/plain": [
       " 2\n",
       "t \n",
       "──\n",
       "2 "
      ]
     },
     "execution_count": 79,
     "metadata": {},
     "output_type": "execute_result"
    }
   ],
   "source": [
    "# Интегрирование\n",
    "smp.integrate(t, t)"
   ]
  },
  {
   "cell_type": "code",
   "execution_count": null,
   "id": "417106e7",
   "metadata": {
    "id": "417106e7",
    "outputId": "e862fb30-847c-41ed-ac18-50c331259e66"
   },
   "outputs": [
    {
     "data": {
      "image/png": "[encoded data removed]",
      "text/latex": [
       "$\\displaystyle \\frac{t^{6}}{6}$"
      ],
      "text/plain": [
       " 6\n",
       "t \n",
       "──\n",
       "6 "
      ]
     },
     "execution_count": 80,
     "metadata": {},
     "output_type": "execute_result"
    }
   ],
   "source": [
    "smp.integrate(t**5, t)"
   ]
  },
  {
   "cell_type": "code",
   "execution_count": null,
   "id": "bb075607",
   "metadata": {
    "id": "bb075607",
    "outputId": "8db8f609-8a62-4da7-a3af-f1560b62dca8"
   },
   "outputs": [
    {
     "data": {
      "image/png": "[encoded data removed]",
      "text/latex": [
       "$\\displaystyle t \\log{\\left(t \\right)}^{2} - 2 t \\log{\\left(t \\right)} + 2 t$"
      ],
      "text/plain": [
       "     2                      \n",
       "t⋅log (t) - 2⋅t⋅log(t) + 2⋅t"
      ]
     },
     "execution_count": 81,
     "metadata": {},
     "output_type": "execute_result"
    }
   ],
   "source": [
    "smp.integrate(smp.log(t)**2, t)"
   ]
  },
  {
   "cell_type": "code",
   "execution_count": null,
   "id": "b97cdbeb",
   "metadata": {
    "id": "b97cdbeb",
    "outputId": "68264a41-7d60-491d-a9b6-799a7f2320e4"
   },
   "outputs": [
    {
     "data": {
      "image/png": "[encoded data removed]",
      "text/latex": [
       "$\\displaystyle 24.9672792449031$"
      ],
      "text/plain": [
       "24.9672792449031"
      ]
     },
     "execution_count": 83,
     "metadata": {},
     "output_type": "execute_result"
    }
   ],
   "source": [
    "smp.integrate(smp.log(t)**2, (t, 1, 10)).evalf()"
   ]
  },
  {
   "cell_type": "code",
   "execution_count": null,
   "id": "40f6eab0",
   "metadata": {
    "id": "40f6eab0",
    "outputId": "7b42ff21-8bd8-4722-8d1c-17eb7b7177a3"
   },
   "outputs": [
    {
     "data": {
      "image/png": "[encoded data removed]",
      "text/latex": [
       "$\\displaystyle - e^{- t}$"
      ],
      "text/plain": [
       "  -t\n",
       "-ℯ  "
      ]
     },
     "execution_count": 84,
     "metadata": {},
     "output_type": "execute_result"
    }
   ],
   "source": [
    "smp.integrate(smp.exp(-t), t)"
   ]
  },
  {
   "cell_type": "code",
   "execution_count": null,
   "id": "162c661d",
   "metadata": {
    "id": "162c661d",
    "outputId": "66bc75d9-7d2c-4e91-bd40-ad0576c594ad"
   },
   "outputs": [
    {
     "data": {
      "image/png": "[encoded data removed]",
      "text/latex": [
       "$\\displaystyle 1$"
      ],
      "text/plain": [
       "1"
      ]
     },
     "execution_count": 86,
     "metadata": {},
     "output_type": "execute_result"
    }
   ],
   "source": [
    "smp.integrate(smp.exp(-t), (t, 0, smp.oo))"
   ]
  },
  {
   "cell_type": "code",
   "execution_count": null,
   "id": "1ba51b05",
   "metadata": {
    "id": "1ba51b05",
    "outputId": "97a8adcb-b5fe-478c-8938-5531ff776f1b"
   },
   "outputs": [
    {
     "data": {
      "image/png": "[encoded data removed]",
      "text/latex": [
       "$\\displaystyle \\frac{\\sqrt{\\pi} \\operatorname{erf}{\\left(t \\right)}}{2}$"
      ],
      "text/plain": [
       "√π⋅erf(t)\n",
       "─────────\n",
       "    2    "
      ]
     },
     "execution_count": 87,
     "metadata": {},
     "output_type": "execute_result"
    }
   ],
   "source": [
    "smp.integrate(smp.exp(-t**2), t)"
   ]
  },
  {
   "cell_type": "code",
   "execution_count": null,
   "id": "4bf5e6b2",
   "metadata": {
    "id": "4bf5e6b2",
    "outputId": "29de8e61-9c14-47c7-be9c-2675589c89d7"
   },
   "outputs": [
    {
     "data": {
      "image/png": "[encoded data removed]",
      "text/latex": [
       "$\\displaystyle \\sqrt{\\pi}$"
      ],
      "text/plain": [
       "√π"
      ]
     },
     "execution_count": 90,
     "metadata": {},
     "output_type": "execute_result"
    }
   ],
   "source": [
    "smp.integrate(smp.exp(-t**2), (t, -smp.oo, smp.oo))"
   ]
  },
  {
   "cell_type": "markdown",
   "id": "05849c92",
   "metadata": {
    "id": "05849c92"
   },
   "source": [
    "# Обыкновенные дифференциальные уравнения\n",
    "$$\\frac{dy}{dt}=e^{-t}-y(t), y(0)=1$$"
   ]
  },
  {
   "cell_type": "code",
   "execution_count": null,
   "id": "55d3e956",
   "metadata": {
    "id": "55d3e956",
    "outputId": "6d9675da-cf15-477d-fc89-6416cd968800"
   },
   "outputs": [
    {
     "data": {
      "image/png": "[encoded data removed]",
      "text/latex": [
       "$\\displaystyle \\frac{d}{d t} y{\\left(t \\right)} = - y{\\left(t \\right)} + e^{- t}$"
      ],
      "text/plain": [
       "d                   -t\n",
       "──(y(t)) = -y(t) + ℯ  \n",
       "dt                    "
      ]
     },
     "execution_count": 92,
     "metadata": {},
     "output_type": "execute_result"
    }
   ],
   "source": [
    "y = smp.Function('y')\n",
    "ode = smp.Eq(y(t).diff(t), smp.exp(-t)-y(t))\n",
    "ode"
   ]
  },
  {
   "cell_type": "code",
   "execution_count": null,
   "id": "fcb599f8",
   "metadata": {
    "id": "fcb599f8",
    "outputId": "362784d2-b65c-4609-acdd-0ddd2f376304"
   },
   "outputs": [
    {
     "data": {
      "image/png": "[encoded data removed]",
      "text/latex": [
       "$\\displaystyle y{\\left(t \\right)} = \\left(C_{1} + t\\right) e^{- t}$"
      ],
      "text/plain": [
       "                 -t\n",
       "y(t) = (C₁ + t)⋅ℯ  "
      ]
     },
     "execution_count": 94,
     "metadata": {},
     "output_type": "execute_result"
    }
   ],
   "source": [
    "sol = smp.dsolve(ode, y(t))\n",
    "sol"
   ]
  },
  {
   "cell_type": "code",
   "execution_count": null,
   "id": "cc874373",
   "metadata": {
    "id": "cc874373",
    "outputId": "525745c7-eb19-46a8-ad12-75562d231ab9"
   },
   "outputs": [
    {
     "data": {
      "image/png": "[encoded data removed]",
      "text/latex": [
       "$\\displaystyle t = C_{1}$"
      ],
      "text/plain": [
       "t = C₁"
      ]
     },
     "execution_count": 96,
     "metadata": {},
     "output_type": "execute_result"
    }
   ],
   "source": [
    "v0 = sol.subs(t, 0).subs(y(0), t)\n",
    "v0"
   ]
  },
  {
   "cell_type": "code",
   "execution_count": null,
   "id": "3d9f9c71",
   "metadata": {
    "id": "3d9f9c71",
    "outputId": "4747ea3f-67cb-4387-9560-c3c2e1289b89"
   },
   "outputs": [
    {
     "data": {
      "image/png": "[encoded data removed]",
      "text/latex": [
       "$\\displaystyle \\left( t, \\  C_{1}\\right)$"
      ],
      "text/plain": [
       "(t, C₁)"
      ]
     },
     "execution_count": 97,
     "metadata": {},
     "output_type": "execute_result"
    }
   ],
   "source": [
    "v0.lhs, v0.rhs"
   ]
  },
  {
   "cell_type": "code",
   "execution_count": null,
   "id": "7a45ecae",
   "metadata": {
    "id": "7a45ecae",
    "outputId": "8f501f19-cf1d-42cd-b724-b2b90a909827"
   },
   "outputs": [
    {
     "data": {
      "image/png": "[encoded data removed]",
      "text/latex": [
       "$\\displaystyle y{\\left(t \\right)} = \\left(C_{1} + t\\right) e^{- t}$"
      ],
      "text/plain": [
       "                 -t\n",
       "y(t) = (C₁ + t)⋅ℯ  "
      ]
     },
     "execution_count": 98,
     "metadata": {},
     "output_type": "execute_result"
    }
   ],
   "source": [
    "sol"
   ]
  },
  {
   "cell_type": "code",
   "execution_count": null,
   "id": "90dc6df0",
   "metadata": {
    "id": "90dc6df0",
    "outputId": "4960c602-a10d-4a84-b26c-01e6e24543c4"
   },
   "outputs": [
    {
     "data": {
      "image/png": "[encoded data removed]",
      "text/latex": [
       "$\\displaystyle y{\\left(t \\right)} = 2 t e^{- t}$"
      ],
      "text/plain": [
       "            -t\n",
       "y(t) = 2⋅t⋅ℯ  "
      ]
     },
     "execution_count": 100,
     "metadata": {},
     "output_type": "execute_result"
    }
   ],
   "source": [
    "ff = sol.subs(v0.rhs, v0.lhs)\n",
    "ff"
   ]
  },
  {
   "cell_type": "code",
   "execution_count": null,
   "id": "b9f56f19",
   "metadata": {
    "id": "b9f56f19",
    "outputId": "4b7e6a57-930f-447c-dcce-5fef25364650"
   },
   "outputs": [
    {
     "data": {
      "image/png": "[encoded data removed]",
      "text/latex": [
       "$\\displaystyle \\frac{2}{e}$"
      ],
      "text/plain": [
       "   -1\n",
       "2⋅ℯ  "
      ]
     },
     "execution_count": 101,
     "metadata": {},
     "output_type": "execute_result"
    }
   ],
   "source": [
    "# y(1)\n",
    "ff.rhs.subs(t,1)"
   ]
  },
  {
   "cell_type": "code",
   "execution_count": null,
   "id": "18eddd82",
   "metadata": {
    "id": "18eddd82",
    "outputId": "82390e88-3437-4acb-ee40-0d46a1475a43"
   },
   "outputs": [
    {
     "data": {
      "image/png": "[encoded data removed]",
      "text/latex": [
       "$\\displaystyle 0.735758882342885$"
      ],
      "text/plain": [
       "0.735758882342885"
      ]
     },
     "execution_count": 102,
     "metadata": {},
     "output_type": "execute_result"
    }
   ],
   "source": [
    "ff.rhs.subs(t,1).evalf()"
   ]
  },
  {
   "cell_type": "code",
   "execution_count": null,
   "id": "d4ec3d92",
   "metadata": {
    "id": "d4ec3d92",
    "outputId": "56ed8c2e-dd9a-4868-b4f1-abe8a69df9f3"
   },
   "outputs": [
    {
     "data": {
      "image/png": "[encoded data removed]",
      "text/latex": [
       "$\\displaystyle \\frac{d^{2}}{d t^{2}} y{\\left(t \\right)} = - \\omega^{2} y{\\left(t \\right)}$"
      ],
      "text/plain": [
       "  2                 \n",
       " d            2     \n",
       "───(y(t)) = -ω ⋅y(t)\n",
       "  2                 \n",
       "dt                  "
      ]
     },
     "execution_count": 104,
     "metadata": {},
     "output_type": "execute_result"
    }
   ],
   "source": [
    "y = smp.Function('y')\n",
    "omega = smp.symbols('omega')\n",
    "ode2 = smp.Eq(y(t).diff(t).diff(t), -y(t)*omega**2)\n",
    "ode2"
   ]
  },
  {
   "cell_type": "code",
   "execution_count": null,
   "id": "561d5da3",
   "metadata": {
    "id": "561d5da3",
    "outputId": "f51c7f15-9a03-4ae9-cff1-04be1920ee6b"
   },
   "outputs": [
    {
     "data": {
      "image/png": "[encoded data removed]",
      "text/latex": [
       "$\\displaystyle y{\\left(t \\right)} = C_{1} e^{- i \\omega t} + C_{2} e^{i \\omega t}$"
      ],
      "text/plain": [
       "           -ⅈ⋅ω⋅t       ⅈ⋅ω⋅t\n",
       "y(t) = C₁⋅ℯ       + C₂⋅ℯ     "
      ]
     },
     "execution_count": 105,
     "metadata": {},
     "output_type": "execute_result"
    }
   ],
   "source": [
    "smp.dsolve(ode2, y(t))"
   ]
  },
  {
   "cell_type": "code",
   "execution_count": null,
   "id": "f1ff7980",
   "metadata": {
    "id": "f1ff7980"
   },
   "outputs": [],
   "source": [
    "# Начальные условия y(0) = 0, y'(0) = 1"
   ]
  },
  {
   "cell_type": "code",
   "execution_count": null,
   "id": "c0891f4f",
   "metadata": {
    "id": "c0891f4f",
    "outputId": "40119cda-9dbc-4520-ef8f-293b64060322"
   },
   "outputs": [
    {
     "data": {
      "image/png": "[encoded data removed]",
      "text/latex": [
       "$\\displaystyle C_{1}$"
      ],
      "text/plain": [
       "C₁"
      ]
     },
     "execution_count": 108,
     "metadata": {},
     "output_type": "execute_result"
    }
   ],
   "source": [
    "smp.var ('t C1 C2 C3 C4')\n",
    "C1"
   ]
  },
  {
   "cell_type": "code",
   "execution_count": null,
   "id": "625116be",
   "metadata": {
    "id": "625116be",
    "outputId": "5b38b340-7c97-4137-9493-5cea970288c9"
   },
   "outputs": [
    {
     "data": {
      "image/png": "[encoded data removed]",
      "text/latex": [
       "$\\displaystyle \\left[ - y{\\left(t \\right)} + \\frac{d}{d t} x{\\left(t \\right)}, \\  x{\\left(t \\right)} + \\frac{d}{d t} y{\\left(t \\right)}\\right]$"
      ],
      "text/plain": [
       "⎡        d                d       ⎤\n",
       "⎢-y(t) + ──(x(t)), x(t) + ──(y(t))⎥\n",
       "⎣        dt               dt      ⎦"
      ]
     },
     "execution_count": 110,
     "metadata": {},
     "output_type": "execute_result"
    }
   ],
   "source": [
    "x = smp.Function('x')(t)\n",
    "y = smp.Function('y')(t)\n",
    "eqs = [x.diff(t)-y, y.diff(t)+x]\n",
    "eqs"
   ]
  },
  {
   "cell_type": "code",
   "execution_count": null,
   "id": "c63fe678",
   "metadata": {
    "id": "c63fe678",
    "outputId": "36bfc49e-54ae-4c2a-9458-217446d5012b"
   },
   "outputs": [
    {
     "data": {
      "image/png": "[encoded data removed]",
      "text/latex": [
       "$\\displaystyle \\left[ x{\\left(t \\right)} = C_{1} \\sin{\\left(t \\right)} + C_{2} \\cos{\\left(t \\right)}, \\  y{\\left(t \\right)} = C_{1} \\cos{\\left(t \\right)} - C_{2} \\sin{\\left(t \\right)}\\right]$"
      ],
      "text/plain": [
       "[x(t) = C₁⋅sin(t) + C₂⋅cos(t), y(t) = C₁⋅cos(t) - C₂⋅sin(t)]"
      ]
     },
     "execution_count": 111,
     "metadata": {},
     "output_type": "execute_result"
    }
   ],
   "source": [
    "sol = smp.dsolve(eqs)\n",
    "sol"
   ]
  },
  {
   "cell_type": "code",
   "execution_count": null,
   "id": "c04b72f2",
   "metadata": {
    "id": "c04b72f2",
    "outputId": "a8597385-7842-485c-bfbb-08abb26793c6"
   },
   "outputs": [
    {
     "data": {
      "image/png": "[encoded data removed]",
      "text/latex": [
       "$\\displaystyle \\left( x{\\left(t \\right)} = \\sin{\\left(t \\right)} + 2 \\cos{\\left(t \\right)}, \\  y{\\left(t \\right)} = - 2 \\sin{\\left(t \\right)} + \\cos{\\left(t \\right)}\\right)$"
      ],
      "text/plain": [
       "(x(t) = sin(t) + 2⋅cos(t), y(t) = -2⋅sin(t) + cos(t))"
      ]
     },
     "execution_count": 113,
     "metadata": {},
     "output_type": "execute_result"
    }
   ],
   "source": [
    "xx = sol[0].subs(C1, 1).subs(C2, 2)\n",
    "yy = sol[1].subs(C1, 1).subs(C2, 2)\n",
    "xx, yy"
   ]
  },
  {
   "cell_type": "code",
   "execution_count": null,
   "id": "9f5aa981",
   "metadata": {
    "id": "9f5aa981",
    "outputId": "9861e227-4150-4007-df39-0d5a5a486ea7"
   },
   "outputs": [
    {
     "data": {
      "image/png": "[encoded data removed]",
      "text/plain": [
       "<Figure size 432x288 with 1 Axes>"
      ]
     },
     "metadata": {
      "needs_background": "light"
     },
     "output_type": "display_data"
    },
    {
     "data": {
      "text/plain": [
       "<sympy.plotting.plot.Plot at 0x1c3d15f7610>"
      ]
     },
     "execution_count": 117,
     "metadata": {},
     "output_type": "execute_result"
    }
   ],
   "source": [
    "# рисуем\n",
    "smp.plot(xx.rhs, yy.rhs, (t, 0, 15), legend=True)"
   ]
  },
  {
   "cell_type": "code",
   "execution_count": null,
   "id": "137022f6",
   "metadata": {
    "id": "137022f6",
    "outputId": "84ac9c54-9dd8-437d-d911-da89d7034ccc"
   },
   "outputs": [
    {
     "data": {
      "text/plain": [
       "(2.0, numpy.float64, 1.0)"
      ]
     },
     "execution_count": 119,
     "metadata": {},
     "output_type": "execute_result"
    }
   ],
   "source": [
    "xt = smp.lambdify(t, xx.rhs, 'numpy')\n",
    "yt = smp.lambdify(t, yy.rhs, 'numpy')\n",
    "xt(0), type(xt(0)), yt(0)"
   ]
  },
  {
   "cell_type": "code",
   "execution_count": null,
   "id": "971cb44f",
   "metadata": {
    "id": "971cb44f",
    "outputId": "1c9d4654-0bb7-4f5b-e77c-8f2eb0285d01"
   },
   "outputs": [
    {
     "data": {
      "image/png": "[encoded data removed]",
      "text/plain": [
       "<Figure size 432x288 with 1 Axes>"
      ]
     },
     "metadata": {
      "needs_background": "light"
     },
     "output_type": "display_data"
    }
   ],
   "source": [
    "n = 1000\n",
    "tt = np.linspace(0, 15, n)\n",
    "plt.plot(tt, xt(tt), label='xt(t)', lw=3)\n",
    "plt.plot(tt, yt(tt), label='yt(t)', lw=3)\n",
    "plt.legend(loc='best')\n",
    "plt.xlabel('t')\n",
    "plt.ylabel('xt(t), yt(t)')\n",
    "plt.grid()"
   ]
  },
  {
   "cell_type": "code",
   "execution_count": null,
   "id": "3967efc1",
   "metadata": {
    "id": "3967efc1"
   },
   "outputs": [],
   "source": [
    "%matplotlib inline\n",
    "import numpy as np\n",
    "import matplotlib.pyplot as plt\n",
    "import sympy as smp\n",
    "\n",
    "\n",
    "# Объявление переменных\n",
    "t, x, y = smp.symbols('t x y')\n",
    "\n",
    "# Линейная алгебра\n",
    "M = smp.Matrix([[t,1], [-1,t]])\n",
    "x2, x3 = M.eigenvals()\n"
   ]
  },
  {
   "cell_type": "code",
   "execution_count": null,
   "id": "s-ahDZOKCUOx",
   "metadata": {
    "colab": {
     "base_uri": "https://localhost:8080/"
    },
    "id": "s-ahDZOKCUOx",
    "outputId": "9bb0280e-049f-4db3-ab06-317eabffa3a8"
   },
   "outputs": [
    {
     "name": "stdout",
     "output_type": "stream",
     "text": [
      "t - I t + I\n"
     ]
    }
   ],
   "source": [
    "print(x2, x3)"
   ]
  },
  {
   "cell_type": "code",
   "execution_count": null,
   "id": "OVDnvnOTDBd9",
   "metadata": {
    "id": "OVDnvnOTDBd9"
   },
   "outputs": [],
   "source": []
  }
 ],
 "metadata": {
  "colab": {
   "provenance": []
  },
  "kernelspec": {
   "display_name": "Python 3 (ipykernel)",
   "language": "python",
   "name": "python3"
  },
  "language_info": {
   "codemirror_mode": {
    "name": "ipython",
    "version": 3
   },
   "file_extension": ".py",
   "mimetype": "text/x-python",
   "name": "python",
   "nbconvert_exporter": "python",
   "pygments_lexer": "ipython3",
   "version": "3.10.6"
  }
 },
 "nbformat": 4,
 "nbformat_minor": 5
}
