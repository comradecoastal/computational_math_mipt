{
 "cells": [
  {
   "cell_type": "markdown",
   "id": "8b04f481-be49-4a65-900d-ea36e5cf1495",
   "metadata": {},
   "source": [
    "# Задача 1"
   ]
  },
  {
   "cell_type": "code",
   "execution_count": 3,
   "id": "77b16f88-6143-4031-847d-265822c8bb47",
   "metadata": {
    "tags": []
   },
   "outputs": [],
   "source": [
    "import numpy as np\n",
    "import matplotlib.pyplot as plt\n",
    "import sympy as smp\n",
    "smp.init_printing()"
   ]
  },
  {
   "cell_type": "markdown",
   "id": "0acd1b40-ebf0-488a-9014-7daa5be52f8d",
   "metadata": {},
   "source": [
    "1)"
   ]
  },
  {
   "cell_type": "code",
   "execution_count": 5,
   "id": "e66e7a82-4085-4c32-b778-575a0896f3e3",
   "metadata": {
    "tags": []
   },
   "outputs": [],
   "source": [
    "x, y = smp.symbols(\"x y\")"
   ]
  },
  {
   "cell_type": "code",
   "execution_count": 6,
   "id": "210db636-a2c5-4af6-bb3e-6b2e9bcfc113",
   "metadata": {
    "tags": []
   },
   "outputs": [
    {
     "data": {
      "image/png": "[encoded data removed]",
      "text/latex": [
       "$\\displaystyle \\frac{3}{2 x}$"
      ],
      "text/plain": [
       " 3 \n",
       "───\n",
       "2⋅x"
      ]
     },
     "execution_count": 6,
     "metadata": {},
     "output_type": "execute_result"
    }
   ],
   "source": [
    "1/x + 1/(2*x)"
   ]
  },
  {
   "cell_type": "markdown",
   "id": "a08166e0-6754-4e28-9c75-3bd73d780a1c",
   "metadata": {},
   "source": [
    "2)"
   ]
  },
  {
   "cell_type": "code",
   "execution_count": 8,
   "id": "24fe5de1-3a92-4257-b4c5-8631ff2ed1e1",
   "metadata": {
    "tags": []
   },
   "outputs": [
    {
     "data": {
      "image/png": "[encoded data removed]",
      "text/latex": [
       "$\\displaystyle 3 x^{2} + 6 x y + 3 y^{2} - \\sin{\\left(x \\right)} \\sin{\\left(y \\right)} + \\cos{\\left(x \\right)} \\cos{\\left(y \\right)}$"
      ],
      "text/plain": [
       "   2              2                                \n",
       "3⋅x  + 6⋅x⋅y + 3⋅y  - sin(x)⋅sin(y) + cos(x)⋅cos(y)"
      ]
     },
     "execution_count": 8,
     "metadata": {},
     "output_type": "execute_result"
    }
   ],
   "source": [
    "smp.expand_trig(smp.expand(3 * (x + y)**2 + smp.cos(x + y)))"
   ]
  },
  {
   "cell_type": "markdown",
   "id": "5c23029b-2533-4df8-a809-6a2c91286f6c",
   "metadata": {},
   "source": [
    "3)"
   ]
  },
  {
   "cell_type": "code",
   "execution_count": 9,
   "id": "cfeee6b2-7d66-40ae-9033-1f38a4b25902",
   "metadata": {
    "tags": []
   },
   "outputs": [
    {
     "data": {
      "image/png": "[encoded data removed]",
      "text/latex": [
       "$\\displaystyle \\left(2 \\cos^{2}{\\left(x \\right)} - 1\\right) \\cos{\\left(y \\right)} - 2 \\sin{\\left(x \\right)} \\sin{\\left(y \\right)} \\cos{\\left(x \\right)}$"
      ],
      "text/plain": [
       "⎛     2       ⎞                                \n",
       "⎝2⋅cos (x) - 1⎠⋅cos(y) - 2⋅sin(x)⋅sin(y)⋅cos(x)"
      ]
     },
     "execution_count": 9,
     "metadata": {},
     "output_type": "execute_result"
    }
   ],
   "source": [
    "smp.expand_trig(smp.cos(2*x + y))"
   ]
  },
  {
   "cell_type": "markdown",
   "id": "d30c068f-99e9-4988-ac73-7a951ae8e5fc",
   "metadata": {},
   "source": [
    "# Задача 2"
   ]
  },
  {
   "cell_type": "code",
   "execution_count": 10,
   "id": "c35bea4a-082b-4758-b62e-97826c53299f",
   "metadata": {
    "tags": []
   },
   "outputs": [
    {
     "data": {
      "image/png": "[encoded data removed]",
      "text/latex": [
       "$\\displaystyle 7.26838724295607 \\cdot 10^{134}$"
      ],
      "text/plain": [
       "7.26838724295607e+134"
      ]
     },
     "execution_count": 10,
     "metadata": {},
     "output_type": "execute_result"
    }
   ],
   "source": [
    "(smp.log(x - 3)).diff(x).evalf(subs = {x:3})"
   ]
  },
  {
   "cell_type": "code",
   "execution_count": 13,
   "id": "774e848c-f050-46af-87f3-800430d8f706",
   "metadata": {
    "tags": []
   },
   "outputs": [
    {
     "data": {
      "image/png": "[encoded data removed]",
      "text/latex": [
       "$\\displaystyle 107.441169003602$"
      ],
      "text/plain": [
       "107.441169003602"
      ]
     },
     "execution_count": 13,
     "metadata": {},
     "output_type": "execute_result"
    }
   ],
   "source": [
    "(4*x**3 - smp.cos(2*x) + 1).diff(x).evalf(subs = {x:3})"
   ]
  },
  {
   "cell_type": "markdown",
   "id": "51bc8731-618b-4720-bbdd-0b25fdd623da",
   "metadata": {},
   "source": [
    "# Задача 3"
   ]
  },
  {
   "cell_type": "code",
   "execution_count": 14,
   "id": "5b22cf9a-635e-4b6a-b077-3c7ca4222e95",
   "metadata": {
    "tags": []
   },
   "outputs": [],
   "source": [
    "f = (1/2 - x) * smp.cos(x) + smp.sin(x)"
   ]
  },
  {
   "cell_type": "code",
   "execution_count": 16,
   "id": "b74e3ef2-f1ea-4074-85a1-873d93c370c1",
   "metadata": {
    "tags": []
   },
   "outputs": [],
   "source": [
    "f_prime = f.diff(x)\n",
    "f_2prime = f_prime.diff(x)"
   ]
  },
  {
   "cell_type": "code",
   "execution_count": 23,
   "id": "b320c083-df1d-4026-8076-9e4572c4fc1e",
   "metadata": {
    "tags": []
   },
   "outputs": [
    {
     "data": {
      "image/png": "[encoded data removed]",
      "text/latex": [
       "$\\displaystyle \\left[ 0.0, \\  0.5, \\  3.14159265358979\\right]$"
      ],
      "text/plain": [
       "[0.0, 0.5, 3.14159265358979]"
      ]
     },
     "execution_count": 23,
     "metadata": {},
     "output_type": "execute_result"
    }
   ],
   "source": [
    "x_extrem = smp.solve(f_prime)\n",
    "x_extrem"
   ]
  },
  {
   "cell_type": "code",
   "execution_count": 29,
   "id": "126d65f1-13aa-49ea-9702-0b4350ed8b9b",
   "metadata": {
    "tags": []
   },
   "outputs": [
    {
     "name": "stdout",
     "output_type": "stream",
     "text": [
      "x = 0.0 : f'' = -0.500000000000000\n",
      "x = 0.500000000000000 : f'' = 0.479425538604203\n",
      "x = 3.14159265358979 : f'' = -2.64159265358979\n"
     ]
    }
   ],
   "source": [
    "for i in range(3):\n",
    "    print(\"x =\",x_extrem[i], \": f'' =\", f_2prime.evalf(subs = {x : x_extrem[i]}))  "
   ]
  },
  {
   "cell_type": "markdown",
   "id": "493e9b5a-c987-4a4f-a8f2-08ca0e019050",
   "metadata": {},
   "source": [
    "следовательно точки 0 и $\\pi$ - максимумы, а 0.5 - минимум"
   ]
  },
  {
   "cell_type": "code",
   "execution_count": 31,
   "id": "9cfff3f3-925c-4884-bc25-2cfb656f54c2",
   "metadata": {
    "tags": []
   },
   "outputs": [
    {
     "name": "stdout",
     "output_type": "stream",
     "text": [
      "x = 0.0 : f = 0.500000000000000\n",
      "x = 0.500000000000000 : f = 0.479425538604203\n",
      "x = 3.14159265358979 : f = 2.64159265358979\n"
     ]
    }
   ],
   "source": [
    "for i in range(3):\n",
    "    print(\"x =\",x_extrem[i], \": f =\", f.evalf(subs = {x : x_extrem[i]})) "
   ]
  },
  {
   "cell_type": "markdown",
   "id": "0d917026-394f-4aea-a2cd-63f264488596",
   "metadata": {},
   "source": [
    "# Задача 4"
   ]
  },
  {
   "cell_type": "code",
   "execution_count": 42,
   "id": "2fed477b-a8b9-4e02-8a55-6e4e5f7b413f",
   "metadata": {
    "tags": []
   },
   "outputs": [
    {
     "name": "stdin",
     "output_type": "stream",
     "text": [
      "Input funciton > cos(x) + x\n",
      "Input a > -1\n",
      "Input b > 1\n"
     ]
    },
    {
     "name": "stdout",
     "output_type": "stream",
     "text": [
      "f(x) = x + cos(x)\n",
      "первая производная: 1 - sin(x)\n",
      "вторая производная: -cos(x)\n",
      "Минимальное значение:  -0.459697694131860\n",
      "Максимальное значение:  pi/2\n"
     ]
    }
   ],
   "source": [
    "f = input('Input funciton >')\n",
    "a = float(input('Input a >'))\n",
    "b = float(input('Input b >'))\n",
    "\n",
    "brackets = {'[':'(', ']':')', '{':'(', '}':')'}\n",
    "for key in brackets.keys():\n",
    "    f = f.replace(key, brackets[key])\n",
    "f = smp.sympify(f)\n",
    "print('f(x) = ' + str(f))\n",
    "print('первая производная: ' + str(f.diff(x)))\n",
    "print('вторая производная: ' + str(f.diff(x, 2)))\n",
    "\n",
    "diff_1 = smp.solve(f.diff(x))\n",
    "f_min = smp.Min(f.subs(x, a), f.subs(x, b))\n",
    "f_max = smp.Max(f.subs(x, a), f.subs(x, b))\n",
    "for x_0 in diff_1:\n",
    "    f_min = smp.Min(f_min, f.subs(x, x_0))\n",
    "    f_max = smp.Max(f_max, f.subs(x, x_0))\n",
    "print('Минимальное значение: ', f_min)\n",
    "print('Максимальное значение: ', f_max)"
   ]
  },
  {
   "cell_type": "markdown",
   "id": "d32fa231-5d8c-44e6-ad29-6bf043ee13a1",
   "metadata": {},
   "source": [
    "# Задача 1"
   ]
  },
  {
   "cell_type": "code",
   "execution_count": 43,
   "id": "ab99a7ba-3c35-4fb0-8f7e-2adc2fbe69b2",
   "metadata": {
    "tags": []
   },
   "outputs": [
    {
     "data": {
      "image/png": "[encoded data removed]",
      "text/latex": [
       "$\\displaystyle 2917$"
      ],
      "text/plain": [
       "2917"
      ]
     },
     "execution_count": 43,
     "metadata": {},
     "output_type": "execute_result"
    }
   ],
   "source": [
    "smp.limit(1-4*x**3, x, -9)"
   ]
  },
  {
   "cell_type": "code",
   "execution_count": 44,
   "id": "71111770-bb78-4ff4-8173-519bce45cb27",
   "metadata": {
    "tags": []
   },
   "outputs": [
    {
     "data": {
      "image/png": "[encoded data removed]",
      "text/latex": [
       "$\\displaystyle - \\frac{7}{3}$"
      ],
      "text/plain": [
       "-7/3"
      ]
     },
     "execution_count": 44,
     "metadata": {},
     "output_type": "execute_result"
    }
   ],
   "source": [
    "smp.limit((5*x**2 - 16*x + 3) / (9 - x**2), x, 3)"
   ]
  },
  {
   "cell_type": "code",
   "execution_count": 45,
   "id": "d3b2028a-4ce6-4b91-9b30-837e5aa2c8bc",
   "metadata": {
    "tags": []
   },
   "outputs": [
    {
     "data": {
      "image/png": "[encoded data removed]",
      "text/latex": [
       "$\\displaystyle \\frac{11}{8}$"
      ],
      "text/plain": [
       "11/8"
      ]
     },
     "execution_count": 45,
     "metadata": {},
     "output_type": "execute_result"
    }
   ],
   "source": [
    "smp.limit((x*(x-5) - 24) / (x**2 - 8*x), x, 8)"
   ]
  },
  {
   "cell_type": "code",
   "execution_count": 46,
   "id": "9262e730-e376-45dc-b9e2-dc64b6d93300",
   "metadata": {
    "tags": []
   },
   "outputs": [
    {
     "data": {
      "image/png": "[encoded data removed]",
      "text/latex": [
       "$\\displaystyle 12$"
      ],
      "text/plain": [
       "12"
      ]
     },
     "execution_count": 46,
     "metadata": {},
     "output_type": "execute_result"
    }
   ],
   "source": [
    "smp.limit(((2+x)**3 - 8) / x, x, 0)"
   ]
  },
  {
   "cell_type": "code",
   "execution_count": 47,
   "id": "fb290a99-2f6b-4b8c-b1e8-8cc601624770",
   "metadata": {
    "tags": []
   },
   "outputs": [
    {
     "data": {
      "image/png": "[encoded data removed]",
      "text/latex": [
       "$\\displaystyle 4$"
      ],
      "text/plain": [
       "4"
      ]
     },
     "execution_count": 47,
     "metadata": {},
     "output_type": "execute_result"
    }
   ],
   "source": [
    "smp.limit(((1+x)**4 - 1) / x, x, 0)"
   ]
  },
  {
   "cell_type": "markdown",
   "id": "9fb24b98-89c2-4d4b-9256-e6898653aed5",
   "metadata": {},
   "source": [
    "# Задача 2"
   ]
  },
  {
   "cell_type": "code",
   "execution_count": 50,
   "id": "0fb946d8-cac2-4add-a7e4-6e871eb6e1c3",
   "metadata": {
    "tags": []
   },
   "outputs": [
    {
     "data": {
      "image/png": "[encoded data removed]",
      "text/latex": [
       "$\\displaystyle - \\frac{\\cos{\\left(\\pi x \\right)}}{\\pi}$"
      ],
      "text/plain": [
       "-cos(π⋅x) \n",
       "──────────\n",
       "    π     "
      ]
     },
     "execution_count": 50,
     "metadata": {},
     "output_type": "execute_result"
    }
   ],
   "source": [
    "smp.integrate(smp.sin(smp.pi * x), x)"
   ]
  },
  {
   "cell_type": "code",
   "execution_count": 53,
   "id": "18c4bf57-da3f-4509-a054-43215e403a5e",
   "metadata": {
    "tags": []
   },
   "outputs": [
    {
     "data": {
      "text/latex": [
       "$\\displaystyle \\begin{cases} - \\frac{2 i x^{2} \\sqrt{x - 1}}{5} - \\frac{8 i x \\sqrt{x - 1}}{15} - \\frac{16 i \\sqrt{x - 1}}{15} & \\text{for}\\: \\left|{x}\\right| > 1 \\\\- \\frac{2 x^{2} \\sqrt{1 - x}}{5} - \\frac{8 x \\sqrt{1 - x}}{15} - \\frac{16 \\sqrt{1 - x}}{15} & \\text{otherwise} \\end{cases}$"
      ],
      "text/plain": [
       "⎧       2   _______           _______          _______             \n",
       "⎪  2⋅ⅈ⋅x ⋅╲╱ x - 1    8⋅ⅈ⋅x⋅╲╱ x - 1    16⋅ⅈ⋅╲╱ x - 1              \n",
       "⎪- ──────────────── - ─────────────── - ──────────────  for │x│ > 1\n",
       "⎪         5                  15               15                   \n",
       "⎨                                                                  \n",
       "⎪        2   _______         _______        _______                \n",
       "⎪     2⋅x ⋅╲╱ 1 - x    8⋅x⋅╲╱ 1 - x    16⋅╲╱ 1 - x                 \n",
       "⎪   - ────────────── - ───────────── - ────────────      otherwise \n",
       "⎩           5                15             15                     "
      ]
     },
     "execution_count": 53,
     "metadata": {},
     "output_type": "execute_result"
    }
   ],
   "source": [
    "smp.integrate(x**2 / smp.sqrt(1-x)  , x)"
   ]
  },
  {
   "cell_type": "code",
   "execution_count": 55,
   "id": "2aea799f-1472-4707-8d0d-65926a60f733",
   "metadata": {
    "tags": []
   },
   "outputs": [
    {
     "data": {
      "image/png": "[encoded data removed]",
      "text/latex": [
       "$\\displaystyle 4.0$"
      ],
      "text/plain": [
       "0.e+0"
      ]
     },
     "execution_count": 55,
     "metadata": {},
     "output_type": "execute_result"
    }
   ],
   "source": [
    "smp.integrate(smp.tan(x**2), (x, 1, 2)).evalf()"
   ]
  },
  {
   "cell_type": "markdown",
   "id": "6731c138-8716-4a16-970c-fb5f0dec241a",
   "metadata": {},
   "source": [
    "# Задача 3"
   ]
  },
  {
   "cell_type": "code",
   "execution_count": 57,
   "id": "abf6f150-6150-4194-8a0c-46ea48f08d2c",
   "metadata": {
    "tags": []
   },
   "outputs": [
    {
     "data": {
      "text/latex": [
       "$\\displaystyle \\left[\\begin{matrix}a & 3\\\\7 & b\\end{matrix}\\right]$"
      ],
      "text/plain": [
       "⎡a  3⎤\n",
       "⎢    ⎥\n",
       "⎣7  b⎦"
      ]
     },
     "execution_count": 57,
     "metadata": {},
     "output_type": "execute_result"
    }
   ],
   "source": [
    "a, b = smp.symbols(\"a b\")\n",
    "A = smp.Matrix([[a, 3], [7, b]])\n",
    "A"
   ]
  },
  {
   "cell_type": "code",
   "execution_count": 58,
   "id": "d505e878-563d-49da-b8e5-0cf0857d79fc",
   "metadata": {
    "tags": []
   },
   "outputs": [
    {
     "data": {
      "image/png": "[encoded data removed]",
      "text/latex": [
       "$\\displaystyle \\left( \\frac{a}{2} + \\frac{b}{2} - \\frac{\\sqrt{a^{2} - 2 a b + b^{2} + 84}}{2}, \\  \\frac{a}{2} + \\frac{b}{2} + \\frac{\\sqrt{a^{2} - 2 a b + b^{2} + 84}}{2}\\right)$"
      ],
      "text/plain": [
       "⎛           ______________________             ______________________⎞\n",
       "⎜          ╱  2            2                  ╱  2            2      ⎟\n",
       "⎜a   b   ╲╱  a  - 2⋅a⋅b + b  + 84   a   b   ╲╱  a  - 2⋅a⋅b + b  + 84 ⎟\n",
       "⎜─ + ─ - ─────────────────────────, ─ + ─ + ─────────────────────────⎟\n",
       "⎝2   2               2              2   2               2            ⎠"
      ]
     },
     "execution_count": 58,
     "metadata": {},
     "output_type": "execute_result"
    }
   ],
   "source": [
    "lambda_1, lambda_2 = A.eigenvals()\n",
    "lambda_1, lambda_2"
   ]
  },
  {
   "cell_type": "code",
   "execution_count": 60,
   "id": "125a4b71-0ca5-4b32-9bbb-1331f0ec2066",
   "metadata": {
    "tags": []
   },
   "outputs": [
    {
     "data": {
      "image/png": "[encoded data removed]",
      "text/latex": [
       "$\\displaystyle \\left( 1.30958424017657, \\  10.6904157598234\\right)$"
      ],
      "text/plain": [
       "(1.30958424017657, 10.6904157598234)"
      ]
     },
     "execution_count": 60,
     "metadata": {},
     "output_type": "execute_result"
    }
   ],
   "source": [
    "lambda_1.evalf(subs = {a:5, b:7}), lambda_2.evalf(subs = {a:5, b:7})"
   ]
  },
  {
   "cell_type": "code",
   "execution_count": 68,
   "id": "2c9322ae-c43b-403e-a669-0e8a7fff0681",
   "metadata": {
    "tags": []
   },
   "outputs": [
    {
     "data": {
      "text/latex": [
       "$\\displaystyle \\left( \\left[\\begin{matrix}\\frac{a}{14} - \\frac{b}{14} - \\frac{\\sqrt{a^{2} - 2 a b + b^{2} + 84}}{14}\\\\1\\end{matrix}\\right], \\  \\left[\\begin{matrix}\\frac{a}{14} - \\frac{b}{14} + \\frac{\\sqrt{a^{2} - 2 a b + b^{2} + 84}}{14}\\\\1\\end{matrix}\\right]\\right)$"
      ],
      "text/plain": [
       "⎛⎡             ______________________⎤  ⎡             ______________________⎤⎞\n",
       "⎜⎢            ╱  2            2      ⎥  ⎢            ╱  2            2      ⎥⎟\n",
       "⎜⎢a    b    ╲╱  a  - 2⋅a⋅b + b  + 84 ⎥  ⎢a    b    ╲╱  a  - 2⋅a⋅b + b  + 84 ⎥⎟\n",
       "⎜⎢── - ── - ─────────────────────────⎥, ⎢── - ── + ─────────────────────────⎥⎟\n",
       "⎜⎢14   14               14           ⎥  ⎢14   14               14           ⎥⎟\n",
       "⎜⎢                                   ⎥  ⎢                                   ⎥⎟\n",
       "⎝⎣                 1                 ⎦  ⎣                 1                 ⎦⎠"
      ]
     },
     "execution_count": 68,
     "metadata": {},
     "output_type": "execute_result"
    }
   ],
   "source": [
    "v_1, v_2 = A.eigenvects()\n",
    "h_1 = v_1[2][0]\n",
    "h_2 = v_2[2][0]\n",
    "h_1, h_2"
   ]
  },
  {
   "cell_type": "code",
   "execution_count": 71,
   "id": "4457056f-49d9-4ad8-b0ac-0aa824ec2d81",
   "metadata": {
    "tags": []
   },
   "outputs": [
    {
     "data": {
      "image/png": "[encoded data removed]",
      "text/latex": [
       "$\\displaystyle \\frac{4}{7}$"
      ],
      "text/plain": [
       "4/7"
      ]
     },
     "execution_count": 71,
     "metadata": {},
     "output_type": "execute_result"
    }
   ],
   "source": [
    "(h_1[0] * h_2[0] + h_1[1] * h_2[1]).expand()"
   ]
  },
  {
   "cell_type": "markdown",
   "id": "095f8954-35de-4596-958c-d737c970bbd0",
   "metadata": {},
   "source": [
    "Эти вектора не перпендикулярны"
   ]
  },
  {
   "cell_type": "code",
   "execution_count": null,
   "id": "59621652-2070-4b8d-a1c2-048096e93627",
   "metadata": {},
   "outputs": [],
   "source": []
  }
 ],
 "metadata": {
  "kernelspec": {
   "display_name": "Python 3 (ipykernel)",
   "language": "python",
   "name": "python3"
  },
  "language_info": {
   "codemirror_mode": {
    "name": "ipython",
    "version": 3
   },
   "file_extension": ".py",
   "mimetype": "text/x-python",
   "name": "python",
   "nbconvert_exporter": "python",
   "pygments_lexer": "ipython3",
   "version": "3.10.6"
  }
 },
 "nbformat": 4,
 "nbformat_minor": 5
}
