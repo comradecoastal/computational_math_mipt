{
  "nbformat": 4,
  "nbformat_minor": 0,
  "metadata": {
    "colab": {
      "provenance": [],
      "collapsed_sections": [
        "uP88Z0J1ITm9",
        "fjE8gjmAIV5d",
        "S_7vFWPVUC7P",
        "BsJIVDaqIcHN",
        "YaGeWu5Goofw"
      ]
    },
    "kernelspec": {
      "name": "python3",
      "display_name": "Python 3"
    },
    "language_info": {
      "name": "python"
    }
  },
  "cells": [
    {
      "cell_type": "markdown",
      "metadata": {
        "id": "IfA62VDNINGt"
      },
      "source": [
        "##Лекция 3_2\n",
        "\n",
        "* Вариационные итерации и системы линейных уравнений\n",
        "* Итерационные методы поиска минимума функционала\n",
        "* Метод сопряженных градиентов\n",
        "* Пример применения метода сопряжённых градиентов\n",
        "* Стохастический градиентный спуск."
      ]
    },
    {
      "cell_type": "markdown",
      "metadata": {
        "id": "uP88Z0J1ITm9"
      },
      "source": [
        "##Вариационные итерации и системы линейных уравнений\n",
        "\n"
      ]
    },
    {
      "cell_type": "markdown",
      "metadata": {
        "id": "WLWbJ_aYTetp"
      },
      "source": [
        "\n",
        "Рассмотрим СЛАУ:\n",
        "\n",
        "$Ax = f$\n",
        "\n",
        "Построим функционал :\n",
        "\n",
        "$\\Phi(x) = (Ax, x) - 2(f, x) + c$\n",
        "\n",
        "Будем считать, что $(Ax, x) > 0$\n",
        "\n",
        "Если матрица $A$ не является самосопряженной, то можно рассмотреть функционал такого вида: \n",
        "\n",
        "$\\Phi(x) = (\\frac{A + A^*}{2}x, x) - 2(f, x) + c$\n",
        "\n",
        "Теорема:\n",
        "Для системы существует единственный вектор, который является решением и минимизирует функционал.\n",
        "\n",
        "Доказательство:\n",
        "\n",
        "1) Так как $A = A^* > 0$, то $detA\\neq 0 \\to \\exists  v:Av = f$.\n",
        "\n",
        "В точке минимума:\n",
        "\n",
        "$\\nabla \\Phi(x) = 2Ax - 2f = 0$\n",
        "\n",
        "Если $v$ удовлетворяет системе, то $v$ минимизирует и функционал.\n",
        "\n",
        "2) Пусть $v$ - точка минимума функционала.\n",
        "\n",
        "$\\Phi(v + \\alpha) > \\Phi(v)$\n",
        "\n",
        "$\\Phi(v + \\alpha) = (A(v + \\alpha), v + \\alpha) - 2(f, v + \\alpha) + c = $\n",
        "\n",
        "$= (Av, v) + (A\\alpha, v) + (Av, \\alpha) + (A\\alpha, \\alpha) - 2(f, v) - 2(f, \\alpha) + c = \\Phi(v) + (2Av - 2f, \\alpha) + (A\\alpha, \\alpha)$\n",
        "\n",
        "Так как $v$ - решение, то $(2Av - 2f, \\alpha) = 0$, тогда $\\Phi(v + \\alpha) > \\Phi(v)$\n"
      ]
    },
    {
      "cell_type": "markdown",
      "metadata": {
        "id": "fjE8gjmAIV5d"
      },
      "source": [
        "##Итерационные методы поиска минимума функционала\n"
      ]
    },
    {
      "cell_type": "markdown",
      "metadata": {
        "id": "8DnoXzvHUAwo"
      },
      "source": [
        "Мы показали, что минимизировать функционал равносильно решению системы. Рассмотрим способы минимизации функционала.\n",
        "\n",
        "Градиентный спуск:\n",
        "\n",
        "Градиент функции направлен в сторону максимума, следовательно антиградиент направлен в сторону минимума. Будем искать приближение в виде:\n",
        "\n",
        "$x^{(k + 1)} = x^{(k)} - \\alpha_k\\nabla\\Phi(x^{(k)})$\n",
        "\n",
        "Выбор шага влияет на скорость сходимости. Рассмотрим некоторые способы ускорения работы данного алгоритма.\n"
      ]
    },
    {
      "cell_type": "markdown",
      "metadata": {
        "id": "S_7vFWPVUC7P"
      },
      "source": [
        "\n",
        "##Метод наискорейшего спуска и метод минимальных невязок.\n",
        "\n"
      ]
    },
    {
      "cell_type": "markdown",
      "metadata": {
        "id": "9Nk27sHPUEkJ"
      },
      "source": [
        "$\\nabla\\Phi(x^{(k)}) = 2(Ax^{(k)} - f) = 2r_k$\n",
        "\n",
        "$\\nabla\\Phi(^{(k + 1)}) = (A(x^{(k)} - \\tau_kr_k), x^{(k)} - \\tau_kr_k) - 2(x^{(k)} - \\tau_kr_k, f) + c$,\n",
        "\n",
        " где $\\tau_k = 2\\alpha_k$\n",
        "\n",
        "В точке минимума: \n",
        "\n",
        "$\\frac{\\partial\\Phi}{\\partial\\tau} = -(Ar_k, x^{(k)} - \\tau_kr_k) - \\tau_k(A(x^{(k)} - \\tau_kr_k), r_k) + 2(\\tau_kr_k, f) = 0$\n",
        "\n",
        "Откуда:\n",
        "\n",
        "$\\tau_k = \\frac{(r_k, r_k)}{(Ar_k, r_k)}$\n",
        "\n",
        "Окончательно:\n",
        "\n",
        "$x^{(k+1)} = x^{(k)} - \\tau_kr_k$\n",
        "\n",
        "$\\tau_k = \\frac{(r_k, r_k)}{(Ar_k, r_k)}$\n",
        "\n",
        "Итак, итерационный процесс выглядит следующим образом: \n",
        "\n",
        "$$\n",
        "\\vec{u}^{(k+1)}=\\vec{u}^{(k)}-\\alpha_{k} \\nabla \\Phi\\left(\\vec{u}^{(k)}\\right)\n",
        "$$\n",
        "Вектор\n",
        "$$\n",
        "\\overrightarrow{r_{k}}=A \\vec{u}^{(k)}-\\vec{f}\n",
        "$$\n",
        "\n",
        "называется вектором невязки. Тогда\n",
        "\n",
        "$$\n",
        "\\nabla \\Phi\\left(\\vec{u}^{(k)}\\right)=2 \\overrightarrow{r_{k}}\n",
        "$$\n",
        "Кроме того, можно подбирать параметр таким образом, чтобы минимизировать невязку. \n",
        "\n",
        "Рассмотрим явный итерационный метод\n",
        "\n",
        "$$\n",
        "\\left(x_{k+1}-x_{k}\\right) / \\tau_{k+1}+A x_{k}=f \\Leftrightarrow x_{k+1}=x_{k}+\\tau_{k+1}{r_{k}}\n",
        "$$\n",
        "\n",
        "где параметр $\\mathrm{t}_{k+1}$ выбирается из условия минимума погрешности $\\left\\|r_{k+1}\\right\\|$ при заданной норме $\\left\\|r_{k}\\right\\| .$ Этот метод называется методом минимальных невязок.\n",
        "Найдем явное выражение для параметра $\\mathrm{t}_{k+1} .$ Получаем, \n",
        "что $r_{k}$ удовлетворяет тому же уравнению, что и погрешность $z_{k}=x_{k}-x .$ Возводя обе части уравнения  для невязки скалярно в квадрат, получаем\n",
        "\n",
        "$$\n",
        "\\left\\|r_{k+1}\\right\\|^{2}=\\left\\|{r_{k}}\\right\\|^{2}-2 \\tau_{k+1}\\left(r_{k}, A r_{k} \\right)+\\tau_{k+1}^{2}\\left\\|A r_{k}\\right\\|^{2}\n",
        "$$\n",
        "\n",
        "Отсюда видно, что $\\|r_{k+1} \\|$ достигает минимума, если\n",
        "\n",
        "$$\n",
        "\\tau_{k+1}=\\left(r_{k}, A r_{k}\\right) /\\left\\|A {r}_{k}\\right\\|^{2}\n",
        "$$\n",
        "\n",
        "\n",
        "Методы наискорейшего спуска и минимальных невязок отличаются только выбором параметра $\\alpha_{k}$ :\n",
        "\n",
        "$\\alpha_{k}=\\frac{1}{2} \\frac{\\left(\\overrightarrow{r_{k}}, \\overrightarrow{r_{k}}\\right)}{\\left(A \\overrightarrow{r_{k}}, \\overrightarrow{r_{k}}\\right)}-$ метод наискорейшего спуска;\n",
        "\n",
        "$\\alpha_{k}=\\frac{1}{2} \\frac{\\left(A \\overrightarrow{r_{k}}, \\overrightarrow{r_{k}}\\right)}{\\left(A \\overrightarrow{r_{k}}, A \\overrightarrow{r_{k}}\\right)}-$ метод минимальных невязок."
      ]
    },
    {
      "cell_type": "markdown",
      "metadata": {
        "id": "BsJIVDaqIcHN"
      },
      "source": [
        "##Метод сопряженных градиентов\n"
      ]
    },
    {
      "cell_type": "markdown",
      "metadata": {
        "id": "FTbpTnNdVC6S"
      },
      "source": [
        "В 1952-м году Хестенс и Штифель предложили эффективный метод решения задачи, который получил название метод сопряженных градиентов. Опишем вычислительную схему данного метода.\n",
        "\n",
        "\n",
        "Пусть известны все значения невязок. Будем выбирать следующее значение так, чтобы невязка была ортогональна всем предыдущим.\n",
        "\n",
        "Таким образом все невязки образуют базис. Если количество невязок равно размерности системы, то следующая невязка будет равно 0, а значит решение будет найдено. Зачастую данный процесс не доводят до точного решения.\n",
        "\n",
        "Рассмотрим базис $r^{(0)}, r^{(1)}, r^{(2)}, ..., r^{(k-1)}, Ar^{(k-1)}$. В таком базисе невязка зависит только от 3-х последних элементов :\n",
        "\n",
        "$r^{(k)} = \\gamma_{k -1}r^{(k-1)} + \\gamma_{k-2}r^{(k-2)} + \\gamma_kAr^{(k -1)}$\n",
        "\n",
        "Тогда построим итерационный процесс :\n",
        "\n",
        "$r^{(0)} = d^{(0)} = Ax^{(0)} - f$\n",
        "\n",
        "$\\alpha_k = \\frac{(r^{(k -1 )}, r^{(k-1)})}{Ad^{(k)}, d^{(k)}}$\n",
        "\n",
        "$r^{(k)} = r^{(k-1 )} - \\alpha_kAd^{(k)}$\n",
        "\n",
        "$x^{(k)} = x^{(k-1)} - \\alpha_kd^{(k)}$\n",
        "\n",
        "$\\beta_k = \\frac{(r^{(k)}, r^{(k)})}{(r^{(k-1)}, r^{(k-1)})}$\n",
        "\n",
        "$d^{(k+1 )} = r^{(k)} + \\beta_kd^{(k)}$\n",
        "\n",
        "Данный метод может накапливать ошибки из-за погрешностей вычислений и округлений.\n",
        "\n",
        "Коэффициент $\\beta_k$ называется параметром сопряженности. Каждый вариант метода сопряженных градиентов имеет свое определение этого параметра. Однако, в случае, когда $f$ - строго выпуклая квадратичная функция, а линейный поиск находит точный минимум, все варианты параметра $\\beta_k$ эквивалентны."
      ]
    },
    {
      "cell_type": "markdown",
      "source": [
        "Введем обозначение $y_k=r_{k+1}-r_k$ и перечислим различные варианты выбора параметра сопряженности $\\beta_k$ в порядке их появления:\n",
        "\n",
        "\\begin{aligned}\n",
        "\\beta_k^{H S} &=\\frac{\\left\\langle r_{k+1}, y_k\\right\\rangle}{\\left\\langle d_k, y_k\\right\\rangle} & \\text { Хестенс, Штифель } & \\text { (1952 г.) } \\\\\n",
        "\\beta_k^{F R} &=\\frac{\\left\\|r_{k+1}\\right\\|^2}{\\left\\|r_k\\right\\|^2} & \\text { Флетчер, Ривз } & \\text { (1964 г.) } \\\\\n",
        "\\beta_k^{P R} &=\\frac{\\left\\langle r_{k+1}, y_k\\right\\rangle}{\\left\\|r_k\\right\\|^2} & \\text { Полак, Рибьер } &(1969 \\text { г.) }\\\\\n",
        "\\beta_k^{C D} &=\\frac{\\left\\|r_{k+1}\\right\\|^2}{\\left\\langle-d_k, r_k\\right\\rangle} & \\text { Флетчер } & \\text { (1987 г.) }\n",
        "\\end{aligned}\n",
        "\n",
        "$$\n",
        "\\begin{aligned}\n",
        "&\\beta_k^{L S}=\\frac{\\left\\langle r_{k+1}, y_k\\right\\rangle}{\\left\\langle-d_k, r_k\\right\\rangle} & \\text { Лиу, Стори } &(1991 \\text { г.) } \\\\\n",
        "&\\beta_k^{D Y}=\\frac{\\left\\|r_{k+1}\\right\\|^2}{\\left\\langle d_k, y_k\\right\\rangle} & \\text { Дай, Юань } &(1999 \\text { г.) } \n",
        "\\end{aligned}\n",
        "$$\n",
        "\n",
        "$$\n",
        "\\beta_k^{H Z}=\\left\\langle y_k-2 d_k \\frac{\\left\\|y_k\\right\\|^2}{\\left\\langle d_k, y_k\\right\\rangle}, \\frac{r_{k+1}}{\\left\\langle d_k, y_k\\right\\rangle}\\right\\rangle \\quad \\text { Хагер, ЖКанг } \\quad \\text { (2005 г.) }\n",
        "$$"
      ],
      "metadata": {
        "id": "PmsWg5qf9f4U"
      }
    },
    {
      "cell_type": "markdown",
      "source": [
        "Будем говорить, что выполняется свойство убывания, если\n",
        "$$\n",
        "\\left\\langle r_k, d_k\\right\\rangle<0\n",
        "$$\n",
        "\n",
        "Если данное свойство нарушается, то может и не существовать $\\alpha>0$ такого, что $f\\left(x_k+\\alpha d_k\\right)<f\\left(x_k\\right)$. Чтобы бороться с этим явлением, метод сопряженных градиентов время от времени обновляют: берут текущее приближение $x_k$ в качестве начального. На практике обновление делают каждые $n$ итераций или при нарушении свойства убывания."
      ],
      "metadata": {
        "id": "piJezzc39jvE"
      }
    },
    {
      "cell_type": "markdown",
      "source": [
        "В более сложных случаях используют линейный поиск подходящего значения $α_k$. \n",
        "$\\text { Введем функцию } \\varphi(\\alpha)=Ф\\left(x_k+\\alpha d_k\\right)$ \n",
        "$$\\varphi(\\alpha) \\rightarrow \\min _{\\alpha>0}$$\n",
        "\n",
        "Отметим, что $\\varphi^{\\prime}(\\alpha)=\\left\\langle g\\left(x_k+\\alpha d_k\\right), d_k\\right\\rangle$. Перейдем к описанию различных вариантов решения этой задачи.\n",
        "\n",
        "Точный поиск. Наилучшим выбором для значения $\\alpha_k$ является первая стационарная точка функции $\\varphi(\\alpha)$ :\n",
        "$$\n",
        "\\alpha_k=\\min \\left\\{\\alpha>0 \\mid \\varphi^{\\prime}(\\alpha)=0\\right\\} .\n",
        "$$\n",
        "Тогда выполняется условие\n",
        "$$\n",
        "\\left\\langle r_{k+1}, d_k\\right\\rangle=0 .\n",
        "$$\n",
        "\n",
        "При таком выборе $\\alpha_k$ условие убывания выполняется для всех $k \\geqslant 1$. Однако использование такого поиска очень затратно и редко применяется на практике. Кроме того, условий гладкости и ограниченности целевой функции снизу недостаточно для существования стационарной точки функции $\\varphi(\\alpha)$. На практике применяется линейный поиск, основывающийся на выборе $\\alpha_k$, которое удовлетворяет некоторым условиям. Приведем пример усиленных условий Вульфа\n"
      ],
      "metadata": {
        "id": "fJnbpayzDJoj"
      }
    },
    {
      "cell_type": "markdown",
      "source": [
        "Усиленные условия Вулфа.\n",
        "$$\n",
        "\\begin{aligned}\n",
        "\\varphi(\\alpha) & \\leqslant \\varphi(0)+\\mu \\alpha\\left\\langle r_k, d_k\\right\\rangle, \\\\\n",
        "\\left|\\varphi^{\\prime}(\\alpha)\\right| & \\leqslant-\\nu\\left\\langle r_k, d_k\\right\\rangle\n",
        "\\end{aligned}\n",
        "$$\n",
        "где $0<\\mu<\\nu<1$ - фиксированные параметры."
      ],
      "metadata": {
        "id": "8PlVR_BtFP4y"
      }
    },
    {
      "cell_type": "markdown",
      "source": [
        "![image.png](data:image/png;base64,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)"
      ],
      "metadata": {
        "id": "w_NgD64-Fdg5"
      }
    },
    {
      "cell_type": "markdown",
      "metadata": {
        "id": "YaGeWu5Goofw"
      },
      "source": [
        "##Пример применения метода сопряжённых градиентов без встроенной реализации."
      ]
    },
    {
      "cell_type": "markdown",
      "metadata": {
        "id": "Qe744mJ9otE5"
      },
      "source": [
        "Приведем ещё одно из возможных построений метода.\n",
        "\n",
        "$$\n",
        "\\begin{gathered}\n",
        "\\vec{u}^{(1)}=\\left(E-\\tau_{1} A\\right) \\vec{u}^{(0)}+\\tau_{1} \\vec{f} \\\\\n",
        "\\vec{u}^{(k+1)}=\\alpha_{k+1}\\left(E-\\tau_{k+1} A\\right)\n",
        " \\vec{u}^{(k)}+\\left(1-\\alpha_{k+1}\\right) \\vec{u}^{(k-1)}+\\alpha_{k+1} \\tau_{k+1} \\vec{f}\n",
        "\\end{gathered}\n",
        "$$\n",
        "\n",
        "где\n",
        "$$\n",
        "\\alpha_{1}=1, \\quad \\alpha_{k+1}=\\left[1-\\frac{1}{\\alpha_{k}} \\frac{\\tau_{k+1}}{\\tau_{k}} \\frac{\\left(\\overrightarrow{r_{k}}, \\overrightarrow{r_{k}}\\right)}{\\left(\\vec{r}_{k-1}, \\vec{r}_{k-1}\\right)}\\right]^{-1}\n",
        "$$\n",
        "\n",
        "Ниже приведён код по итерационному процессу, построенному ранее. Попробуйте реализовать построение по последним формулам и проверить его."
      ]
    },
    {
      "cell_type": "code",
      "metadata": {
        "id": "RxE13PPGpDFZ",
        "colab": {
          "base_uri": "https://localhost:8080/"
        },
        "outputId": "5c41f718-d731-494a-bece-9d81bb306815"
      },
      "source": [
        "import numpy as np\n",
        "def cg(A, f, error = 1.0e-9):\n",
        "  n = len(f); x = np.zeros(n); r = np.copy(f);   Ar = np.zeros(n)\n",
        "  r = (A @ x) - f;   s = np.copy(r)\n",
        "  for k in range(n):\n",
        "    As = A @ s; alpha = (r @ r)/ (s @ As); q = (r @ r)\n",
        "    x = x - alpha*s; r = (A @ x) - f\n",
        "    if (r @ r) < error*error:\n",
        "      break\n",
        "    else:\n",
        "      #beta = - (r @ As)/(s @ As); s = r + beta*s\n",
        "      beta =  (r @ r)/(q); s = r + beta*s\n",
        "  return x, k\n",
        "n = 5; A = np.zeros((n,n))\n",
        "for i in range(n):\n",
        "  for j in range(n):\n",
        "    A[i,j] = 1/(i+j+1)  # матрица Гильберта\n",
        "print(A)\n",
        "f = np.zeros(n)\n",
        "for i in range(n):\n",
        "  f[i] = sum(A[i])\n",
        "print(f)\n",
        "x, k = cg(A, f)\n",
        "print(k); print(x)\n",
        "b = np.ones(n)\n",
        "print((A @ x) - f)\n",
        "print(((A @ x) - f)@((A @ x) - f))\n"
      ],
      "execution_count": 1,
      "outputs": [
        {
          "output_type": "stream",
          "name": "stdout",
          "text": [
            "[[1.         0.5        0.33333333 0.25       0.2       ]\n",
            " [0.5        0.33333333 0.25       0.2        0.16666667]\n",
            " [0.33333333 0.25       0.2        0.16666667 0.14285714]\n",
            " [0.25       0.2        0.16666667 0.14285714 0.125     ]\n",
            " [0.2        0.16666667 0.14285714 0.125      0.11111111]]\n",
            "[2.28333333 1.45       1.09285714 0.88452381 0.74563492]\n",
            "4\n",
            "[0.99997127 1.00054227 0.99764783 1.00356506 0.99825163]\n",
            "[-5.94268665e-08 -3.26530307e-08 -3.25919614e-08 -7.86358068e-09\n",
            " -2.19491758e-08]\n",
            "6.203611046624607e-15\n"
          ]
        }
      ]
    },
    {
      "cell_type": "markdown",
      "source": [
        "## Стохастический градиентный спуск."
      ],
      "metadata": {
        "id": "HHY8qKgKlBZK"
      }
    },
    {
      "cell_type": "markdown",
      "source": [
        "Проблема методов радиентного спуска, описанных выше, в том, что на больших выборках считать на каждом шаге градиент по всем имеющимся данным может быть очень вычислительно сложно. \n",
        "В стохастическом варианте градиентного спуска поправки для весов вычисляются только с учетом одного случайно взятого объекта обучающей выборки:\n",
        "\n",
        "$$\\Large w_0 \\leftarrow w_0 - \\frac{2\\eta}{\\ell} {((w_0 + w_1x_{k1} + w_2x_{k2} +  w_3x_{k3}) - y_k)}$$\n",
        "$$\\Large w_j \\leftarrow w_j - \\frac{2\\eta}{\\ell} {x_{kj}((w_0 + w_1x_{k1} + w_2x_{k2} +  w_3x_{k3}) - y_k)},\\ j \\in \\{1,2,3\\},$$\n",
        "где $k$ - случайный индекс, $k \\in \\{1, \\ldots, \\ell\\}$."
      ],
      "metadata": {
        "id": "thFmjyynuVvI"
      }
    },
    {
      "cell_type": "markdown",
      "source": [],
      "metadata": {
        "id": "z3R2TRYDucqH"
      }
    }
  ]
}