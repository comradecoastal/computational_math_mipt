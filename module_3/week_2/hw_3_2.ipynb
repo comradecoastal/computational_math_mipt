{
 "cells": [
  {
   "cell_type": "code",
   "execution_count": 1,
   "id": "dd83aa4d-09ac-487a-bf40-839c7e9c3a79",
   "metadata": {},
   "outputs": [],
   "source": [
    "import numpy as np"
   ]
  },
  {
   "cell_type": "markdown",
   "id": "b76bcc71-27cb-4bc2-a349-b583744bf02e",
   "metadata": {},
   "source": [
    "# Задача 1"
   ]
  }
 ],
 "metadata": {
  "kernelspec": {
   "display_name": "Python 3 (ipykernel)",
   "language": "python",
   "name": "python3"
  },
  "language_info": {
   "codemirror_mode": {
    "name": "ipython",
    "version": 3
   },
   "file_extension": ".py",
   "mimetype": "text/x-python",
   "name": "python",
   "nbconvert_exporter": "python",
   "pygments_lexer": "ipython3",
   "version": "3.10.6"
  }
 },
 "nbformat": 4,
 "nbformat_minor": 5
}
