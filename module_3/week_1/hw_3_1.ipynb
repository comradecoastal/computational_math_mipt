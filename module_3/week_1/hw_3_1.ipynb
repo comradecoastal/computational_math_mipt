{
 "cells": [
  {
   "cell_type": "markdown",
   "id": "f4cc9d92-2652-4250-a521-901523644c8e",
   "metadata": {},
   "source": [
    "# Задача 1"
   ]
  },
  {
   "cell_type": "code",
   "execution_count": 1,
   "id": "99a2cf3a-3cdc-4a8e-9e0d-e83daf828f3e",
   "metadata": {},
   "outputs": [],
   "source": [
    "import numpy as np\n",
    "import scipy\n",
    "import sys"
   ]
  },
  {
   "cell_type": "markdown",
   "id": "da0bc083-e3d7-4ca7-9b20-63bb3f83d4af",
   "metadata": {},
   "source": [
    "### Генератор матриц\n",
    "Генерация случайной матрцы размером $n \\times m$ с $n_\\text{diags}$ диагоналями"
   ]
  },
  {
   "cell_type": "code",
   "execution_count": 97,
   "id": "8b7f9803-53bb-4854-8de8-fb632bbc1cd1",
   "metadata": {},
   "outputs": [],
   "source": [
    "def random_diags(n, m, n_diags, lower=0, upper=1):\n",
    "    offsets = np.random.choice(np.arange(-n, m+1), size=n_diags, replace=False)\n",
    "    diagonals=[np.random.uniform(lower, upper, (n + m) - np.abs(off)) for off in offsets]\n",
    "    print(offsets)\n",
    "    A = scipy.sparse.diags(diagonals, offsets, shape=(n, m)).toarray()\n",
    "    return A\n",
    "    "
   ]
  },
  {
   "cell_type": "code",
   "execution_count": 102,
   "id": "f7a969d4-9bf6-46c2-9f94-1c57d71abc6d",
   "metadata": {},
   "outputs": [
    {
     "name": "stdout",
     "output_type": "stream",
     "text": [
      "[ 1  4 -4  3]\n"
     ]
    },
    {
     "data": {
      "text/plain": [
       "array([[0.        , 0.26193851, 0.        , 0.38924344, 0.70679589],\n",
       "       [0.        , 0.        , 0.08112348, 0.        , 0.59201631],\n",
       "       [0.        , 0.        , 0.        , 0.19237346, 0.        ],\n",
       "       [0.        , 0.        , 0.        , 0.        , 0.28126955]])"
      ]
     },
     "execution_count": 102,
     "metadata": {},
     "output_type": "execute_result"
    }
   ],
   "source": [
    "random_diags(4, 5, 4)"
   ]
  },
  {
   "cell_type": "markdown",
   "id": "4b0444eb-f168-4346-9de5-396272feb598",
   "metadata": {},
   "source": [
    " Генерация полосатой матрицы "
   ]
  },
  {
   "cell_type": "code",
   "execution_count": 123,
   "id": "461ca4bd-67d5-4b0c-b4ba-eab027580262",
   "metadata": {},
   "outputs": [],
   "source": [
    "def const_diags(n, vals, offsets):\n",
    "    diagonals = np.ones(n) * np.array(vals).reshape(-1, 1)\n",
    "    A = scipy.sparse.diags(diagonals, offsets, shape=(n, n)).toarray()\n",
    "    return A"
   ]
  },
  {
   "cell_type": "code",
   "execution_count": 124,
   "id": "851cda24-b923-4079-be70-0e1094ec5d45",
   "metadata": {},
   "outputs": [
    {
     "data": {
      "text/plain": [
       "array([[ 0.,  0., 12.,  0.,  0.,  4.],\n",
       "       [ 0.,  0.,  0., 12.,  0.,  0.],\n",
       "       [ 0.,  0.,  0.,  0., 12.,  0.],\n",
       "       [ 2.,  0.,  0.,  0.,  0., 12.],\n",
       "       [ 0.,  2.,  0.,  0.,  0.,  0.],\n",
       "       [ 0.,  0.,  2.,  0.,  0.,  0.]])"
      ]
     },
     "execution_count": 124,
     "metadata": {},
     "output_type": "execute_result"
    }
   ],
   "source": [
    "const_diags(6, [2, 12, 4], [-3, 2, 5])"
   ]
  },
  {
   "cell_type": "markdown",
   "id": "05e63841-ea25-4754-890d-a28612d8a7f4",
   "metadata": {},
   "source": [
    "Генерация возмущения $n\\times m$ не большим по модулю $|\\varepsilon|$"
   ]
  },
  {
   "cell_type": "code",
   "execution_count": 127,
   "id": "55a3595e-e9d0-433e-b10d-c2f046948d7f",
   "metadata": {},
   "outputs": [],
   "source": [
    "def perturbance(n, m, eps=0.1):\n",
    "    return np.random.uniform(-eps, eps, size=(n, m))"
   ]
  },
  {
   "cell_type": "code",
   "execution_count": 126,
   "id": "c5bbcfcb-dc2a-4d08-b181-728c6995bbef",
   "metadata": {},
   "outputs": [
    {
     "data": {
      "text/plain": [
       "array([[ 0.09170642, -0.00749935,  0.01994855, -0.09029525,  0.00938102],\n",
       "       [-0.09612545,  0.0556387 , -0.0175024 , -0.09992212,  0.03239071],\n",
       "       [ 0.07913162, -0.01437979,  0.09456612, -0.02440385,  0.09658773]])"
      ]
     },
     "execution_count": 126,
     "metadata": {},
     "output_type": "execute_result"
    }
   ],
   "source": [
    "perturbance(3, 5, 0.1)"
   ]
  },
  {
   "cell_type": "markdown",
   "id": "aa1c02cb-e16d-45df-ba8e-1f3258b5aff0",
   "metadata": {},
   "source": [
    "Генерация полосатой матрицы где диагонали заданы вектором"
   ]
  },
  {
   "cell_type": "code",
   "execution_count": 131,
   "id": "362b2a51-8e42-4c50-9abd-215ea126b3aa",
   "metadata": {},
   "outputs": [],
   "source": [
    "def vector_diags(vectors, offsets):\n",
    "    return scipy.sparse.diags(vectors, offsets).toarray()"
   ]
  },
  {
   "cell_type": "code",
   "execution_count": 132,
   "id": "8f594805-cc7d-4ce0-80f9-5e85aedc5372",
   "metadata": {},
   "outputs": [
    {
     "data": {
      "text/plain": [
       "array([[4., 0., 0., 4., 0.],\n",
       "       [0., 2., 0., 0., 8.],\n",
       "       [2., 0., 5., 0., 0.],\n",
       "       [0., 4., 0., 4., 0.],\n",
       "       [0., 0., 5., 0., 6.]])"
      ]
     },
     "execution_count": 132,
     "metadata": {},
     "output_type": "execute_result"
    }
   ],
   "source": [
    "vector_diags([[2, 4, 5], [4, 2, 5, 4, 6], [4, 8]], [-2, 0, 3])"
   ]
  },
  {
   "cell_type": "markdown",
   "id": "de03bd18-19bd-44cf-b7b3-bc4c8da0799e",
   "metadata": {},
   "source": [
    "### Сравнение методов по затраченной памяти"
   ]
  },
  {
   "cell_type": "code",
   "execution_count": 137,
   "id": "b7344bab-23b0-4f1e-bfaa-b23ef0f1893f",
   "metadata": {},
   "outputs": [
    {
     "name": "stdout",
     "output_type": "stream",
     "text": [
      "Размер матрицы А: 928\n"
     ]
    }
   ],
   "source": [
    "N = 10\n",
    "m = 3\n",
    "b = np.ones(N)\n",
    "Ap, As, An, Aw, Ae = np.ones(N), np.ones(N), np.ones(N), np.ones(N), np.ones(N)\n",
    "diagonals = [Ap, As, An, Aw, Ae]\n",
    "A = scipy.sparse.diags(diagonals, [0, -1, 1, -m, m]).toarray()\n",
    "x = scipy.linalg.solve(A, b)\n",
    "# print(A, x, sep = '\\n')\n",
    "print(\"Размер матрицы А:\",sys.getsizeof(A))"
   ]
  },
  {
   "cell_type": "code",
   "execution_count": 138,
   "id": "dce54dfd-126c-4567-ad00-024b4c5de173",
   "metadata": {},
   "outputs": [
    {
     "name": "stdout",
     "output_type": "stream",
     "text": [
      "Размер матрицы А: 688\n"
     ]
    }
   ],
   "source": [
    "N = 10 \n",
    "m = 3\n",
    "Ap, As, An, Aw, Ae = np.ones(N), np.ones(N), np.ones(N), np.ones(N), np.ones(N)\n",
    "A = np.zeros((2 * m + 1, N))\n",
    "A[0] = Ae\n",
    "A[m - 1] = An\n",
    "A[m] = Ap\n",
    "A[m + 1] = As\n",
    "A[2 * m] = Aw\n",
    "x = scipy.linalg.solve_banded((m, m), A, b)\n",
    "# print(A, x, sep = '\\n')\n",
    "print(\"Размер матрицы А:\",sys.getsizeof(A))"
   ]
  },
  {
   "cell_type": "code",
   "execution_count": 139,
   "id": "927a3f31-04a7-4aff-b536-3aa04230ece1",
   "metadata": {},
   "outputs": [
    {
     "name": "stdout",
     "output_type": "stream",
     "text": [
      "Размер матрицы А: 48\n"
     ]
    }
   ],
   "source": [
    "import sys as ss\n",
    "import scipy\n",
    "import numpy as np\n",
    "from scipy.sparse.linalg import spsolve\n",
    "N = 10\n",
    "m = 3\n",
    "Ap, As, An, Aw, Ae = np.ones(N), np.ones(N), np.ones(N), np.ones(N), np.ones(N)\n",
    "diagonals = [Ap, As, An, Aw, Ae]\n",
    "A = scipy.sparse.diags(diagonals, [0, -1, 1, -m, m])\n",
    "# x = spsolve(A,b)\n",
    "\n",
    "# убрали .toarray() - чтобы сохранить разреженную форму\n",
    "\n",
    "# https://docs.scipy.org/doc/scipy/reference/sparse.linalg.html#module-scipy.sparse.linalg \n",
    "\n",
    "# print(A, x, sep = '\\n')\n",
    "print(\"Размер матрицы А:\",sys.getsizeof(A))"
   ]
  },
  {
   "cell_type": "markdown",
   "id": "f31ed20b-355c-42b4-a578-1e730311b990",
   "metadata": {},
   "source": [
    "Видим, что разреженная матрица scipy тратит наименьшее количество памяти"
   ]
  },
  {
   "cell_type": "code",
   "execution_count": 163,
   "id": "8061e4bb-935c-4f77-a629-71868bb7d4b1",
   "metadata": {},
   "outputs": [],
   "source": [
    "from scipy.sparse.linalg import spsolve\n",
    "\n",
    "def generate_method_1(N, m):\n",
    "    b = np.ones(N)\n",
    "    Ap, As, An, Aw, Ae = np.ones(N), np.ones(N), np.ones(N), np.ones(N), np.ones(N)\n",
    "    diagonals = [Ap, As, An, Aw, Ae]\n",
    "    A = scipy.sparse.diags(diagonals, [0, -1, 1, -m, m]).toarray()\n",
    "    x = scipy.linalg.solve(A, b)\n",
    "    return x\n",
    "\n",
    "def generate_method_2(N, m):\n",
    "    Ap, As, An, Aw, Ae = np.ones(N), np.ones(N), np.ones(N), np.ones(N), np.ones(N)\n",
    "    A = np.zeros((2 * m + 1, N))\n",
    "    A[0] = Ae\n",
    "    A[m - 1] = An\n",
    "    A[m] = Ap\n",
    "    A[m + 1] = As\n",
    "    A[2 * m] = Aw\n",
    "    x = scipy.linalg.solve_banded((m, m), A, b)\n",
    "    return x\n",
    "\n",
    "def generate_method_3(N, m):\n",
    "    Ap, As, An, Aw, Ae = np.ones(N), np.ones(N), np.ones(N), np.ones(N), np.ones(N)\n",
    "    diagonals = [Ap, As, An, Aw, Ae]\n",
    "    A = scipy.sparse.diags(diagonals, [0, -1, 1, -m, m], format=\"csc\")\n",
    "    x = spsolve(A,b)\n",
    "    return x"
   ]
  },
  {
   "cell_type": "code",
   "execution_count": 142,
   "id": "4e04199f-93a0-4eb2-ac31-f1f54dd13298",
   "metadata": {},
   "outputs": [
    {
     "name": "stdout",
     "output_type": "stream",
     "text": [
      "233 µs ± 11.4 µs per loop (mean ± std. dev. of 7 runs, 1,000 loops each)\n"
     ]
    }
   ],
   "source": [
    "%%timeit\n",
    "generate_method_1(10, 3)"
   ]
  },
  {
   "cell_type": "code",
   "execution_count": 143,
   "id": "70b246f2-f8af-4d79-8d0c-a91cdceaa9a6",
   "metadata": {},
   "outputs": [
    {
     "name": "stdout",
     "output_type": "stream",
     "text": [
      "34.4 µs ± 1.38 µs per loop (mean ± std. dev. of 7 runs, 10,000 loops each)\n"
     ]
    }
   ],
   "source": [
    "%%timeit\n",
    "generate_method_2(10, 3)"
   ]
  },
  {
   "cell_type": "code",
   "execution_count": 164,
   "id": "5c591593-d64d-460c-8f29-86c0a4ab23c1",
   "metadata": {},
   "outputs": [
    {
     "name": "stdout",
     "output_type": "stream",
     "text": [
      "306 µs ± 15 µs per loop (mean ± std. dev. of 7 runs, 1,000 loops each)\n"
     ]
    }
   ],
   "source": [
    "%%timeit\n",
    "generate_method_3(10, 3)"
   ]
  },
  {
   "cell_type": "markdown",
   "id": "6122f205-4c9b-4f6d-9354-51cff0bba78c",
   "metadata": {},
   "source": [
    "Видим, что метод 2 быстрее всего   \n",
    "Третий метод работет медленно, так как ожидает, что решение $A\\mathbf{x} = \\mathbf{b}$ будет резреженным, каким оно не является"
   ]
  },
  {
   "cell_type": "markdown",
   "id": "1e66621f-d577-4db7-98f1-42d6f73f821f",
   "metadata": {},
   "source": [
    "# Задача 2"
   ]
  },
  {
   "cell_type": "code",
   "execution_count": 220,
   "id": "7d7a09da-8ea9-4313-8c20-bb114491ec7a",
   "metadata": {},
   "outputs": [],
   "source": [
    "def jacobi_method(A, b, eps=1e-10, max_iter=1000):\n",
    "    D = np.diag(np.diagonal(A))\n",
    "    B = np.linalg.inv(D) @ (D - A)\n",
    "    c = np.linalg.inv(D) @ b\n",
    "    x = np.random.uniform(size=b.size)\n",
    "    for i in range(max_iter):\n",
    "        x_new = B @ x + c\n",
    "        delta = np.linalg.norm(x_new - x)\n",
    "        x = x_new\n",
    "        if delta < eps:\n",
    "            break\n",
    "    return x, B"
   ]
  },
  {
   "cell_type": "code",
   "execution_count": 222,
   "id": "0e1df595-0396-4321-af6d-89a059e195a8",
   "metadata": {},
   "outputs": [
    {
     "name": "stdout",
     "output_type": "stream",
     "text": [
      "[0.69672484 0.96309808 0.27772153 0.23362646 0.84567205 0.22421247\n",
      " 0.6889063  0.15349464 0.20359814 0.06759889]\n",
      "[0.69672484 0.96309808 0.27772153 0.23362646 0.84567205 0.22421247\n",
      " 0.6889063  0.15349464 0.20359814 0.06759889]\n",
      "[0.69672484 0.96309808 0.27772153 0.23362646 0.84567205 0.22421247\n",
      " 0.6889063  0.15349464 0.20359814 0.06759889]\n",
      "Норма матрцы B: 0.34773284944641697\n",
      "Решения равны: True\n"
     ]
    }
   ],
   "source": [
    "rnd = np.random. RandomState (13)\n",
    "n=10\n",
    "A= rnd.uniform (size=(n,n))+np.diag([15]*n)\n",
    "b= rnd.uniform (size=n)\n",
    "\n",
    "x_np = np.linalg.solve(A, b)\n",
    "x_jac, B = jacobi_method(A, b)\n",
    "print(b)\n",
    "print(A @ x_np)\n",
    "print(A @ x_jac)\n",
    "print(\"Норма матрцы B:\", np.linalg.norm(B))\n",
    "print(\"Решения равны:\", np.allclose(x_np, x_jac))"
   ]
  },
  {
   "cell_type": "markdown",
   "id": "eeadfb01-e7e9-4ef8-8225-a660f43b73b0",
   "metadata": {},
   "source": [
    "Начём менять величину диагонали"
   ]
  },
  {
   "cell_type": "code",
   "execution_count": 241,
   "id": "fa33f505-b911-4a40-be5b-60369b56f3f5",
   "metadata": {},
   "outputs": [
    {
     "name": "stdout",
     "output_type": "stream",
     "text": [
      "[10  9  8  7  6  5  4  3  2]\n",
      "[True, True, True, True, True, True, False, False, False]\n",
      "[0.53888879 0.59763031 0.61053472 0.81756322 0.80279358 0.99569646\n",
      " 1.27114896 1.49130283 2.21531429]\n"
     ]
    }
   ],
   "source": [
    "rnd = np.random. RandomState (1234)\n",
    "n = 10\n",
    "vals = np.arange(10, 1, -1)\n",
    "print(vals)\n",
    "norms = np.zeros(vals.size)\n",
    "conv = []\n",
    "\n",
    "for i in range(vals.size):\n",
    "    A = rnd.uniform (size=(n,n))+np.diag([vals[i]]*n)\n",
    "    b = rnd.uniform (size=n)\n",
    "    x_np = np.linalg.solve(A, b)\n",
    "    x_jac, B = jacobi_method(A, b)\n",
    "    conv.append(np.allclose(x_np, x_jac))\n",
    "    norms[i] = np.linalg.norm(B)\n",
    "    \n",
    "print(conv)\n",
    "print(norms)"
   ]
  },
  {
   "cell_type": "markdown",
   "id": "7ba827ab-e5e8-484b-86c7-7585050da718",
   "metadata": {},
   "source": [
    "Видим, что сходимость разрушается, когда номрма матрицы $B$ больше 1"
   ]
  },
  {
   "cell_type": "markdown",
   "id": "fcbcb4f9-f795-47fb-8fe9-1d1f8dadb525",
   "metadata": {},
   "source": [
    "# Задача 5"
   ]
  },
  {
   "cell_type": "code",
   "execution_count": 243,
   "id": "04f4adc8-e5a7-4204-a840-a6ffc4410d9d",
   "metadata": {},
   "outputs": [],
   "source": [
    "from scipy.linalg import block_diag\n",
    "\n",
    "n = 5\n",
    "\n",
    "# Диагональный блок\n",
    "a = np.zeros((n-1, n-1))\n",
    "\n",
    "idx = np.arange(n-1)\n",
    "\n",
    "a[idx, idx] = -4\n",
    "a[idx[:-1], idx[:-1]+1] = 1\n",
    "a[idx[1:], idx[1:]-1] = 1\n",
    "\n",
    "# собираем блочно-диагональную `m`\n",
    "m = block_diag(a, a, a, a, a)\n",
    "\n",
    "# заполняем \"крылья\"\n",
    "idx = np.arange(m.shape[0])\n",
    "\n",
    "m[idx[:-n+1], idx[:-n+1] + n-1] = 1\n",
    "m[idx[n-1:], idx[n-1:] - n+1] = 1\n",
    "\n",
    "b = np.zeros(m.shape[0])\n",
    "b[m.shape[0]//2] = -1"
   ]
  },
  {
   "cell_type": "code",
   "execution_count": 272,
   "id": "cedde5f3-861c-43e2-9c31-c33e49ba7107",
   "metadata": {},
   "outputs": [],
   "source": [
    "def seidel(A, b, eps=1e-10, max_iter=1000):\n",
    "    D = np.diag(np.diag(A))\n",
    "    L = np.tril(A, -1)\n",
    "    U = np.triu(A, 1)\n",
    "    x = np.random.uniform(size=b.size)\n",
    "    B = np.linalg.inv(L + D)\n",
    "    c = B @ b\n",
    "    n = 0\n",
    "    for i in range(max_iter):\n",
    "        n += 1\n",
    "        x_new = - B @ U @ x + c\n",
    "        delta = np.linalg.norm(x_new - x)\n",
    "        x = x_new\n",
    "        if delta < eps:\n",
    "            break\n",
    "    return x, n\n",
    "    "
   ]
  },
  {
   "cell_type": "code",
   "execution_count": 273,
   "id": "619254c5-a352-4a17-a8f2-fa69e9aad651",
   "metadata": {},
   "outputs": [
    {
     "name": "stdout",
     "output_type": "stream",
     "text": [
      "True\n",
      "[0.02602508 0.05134394 0.06553918 0.03890999 0.05275637 0.1138115\n",
      " 0.17190279 0.09010077 0.07118891 0.1792429  0.4181597  0.14959031\n",
      " 0.05275637 0.1138115  0.17190279 0.09010077 0.02602508 0.05134394\n",
      " 0.06553918 0.03890999]\n",
      "[0.02602508 0.05134394 0.06553918 0.03890999 0.05275637 0.1138115\n",
      " 0.17190279 0.09010077 0.07118891 0.1792429  0.4181597  0.14959031\n",
      " 0.05275637 0.1138115  0.17190279 0.09010077 0.02602508 0.05134394\n",
      " 0.06553918 0.03890999]\n"
     ]
    }
   ],
   "source": [
    "x_sei, n = seidel(m, b)\n",
    "x_np = np.linalg.solve(m, b)\n",
    "print(np.allclose(x_sei, x_np))\n",
    "print(x_sei)\n",
    "print(x_np)"
   ]
  },
  {
   "cell_type": "markdown",
   "id": "3d96b600-b2c2-4aff-89b0-03b9eb53b9f2",
   "metadata": {},
   "source": [
    "Метод сходится"
   ]
  },
  {
   "cell_type": "code",
   "execution_count": 286,
   "id": "6f7b254c-97a1-4c25-8f9c-a8fedac3e89a",
   "metadata": {},
   "outputs": [
    {
     "data": {
      "image/png": "[encoded data removed]",
      "text/plain": [
       "<Figure size 432x288 with 1 Axes>"
      ]
     },
     "metadata": {
      "needs_background": "light"
     },
     "output_type": "display_data"
    }
   ],
   "source": [
    "import matplotlib.pyplot as plt\n",
    "\n",
    "epses = np.logspace(0, -20, 10)\n",
    "n = np.zeros(epses.size)\n",
    "for i in range(n.size):\n",
    "    _, n[i] = seidel(m, b, eps=epses[i])\n",
    "\n",
    "plt.plot(epses, n)\n",
    "plt.xscale(\"log\")"
   ]
  },
  {
   "cell_type": "markdown",
   "id": "5ab3c336-ce81-4c97-864e-202b7fbca064",
   "metadata": {},
   "source": [
    "Видим, что количество итераций $n$ зависит от лограифма точности $\\varepsilon$"
   ]
  },
  {
   "cell_type": "markdown",
   "id": "9c08acc8-9ab7-4b75-9d20-67e199c4a9ff",
   "metadata": {},
   "source": [
    "# Задача 6"
   ]
  },
  {
   "cell_type": "code",
   "execution_count": 289,
   "id": "5cf07a9c-7125-4cf4-a855-d29a6992ba3a",
   "metadata": {},
   "outputs": [],
   "source": [
    "import numba as nb"
   ]
  },
  {
   "cell_type": "code",
   "execution_count": 306,
   "id": "0a29779b-15aa-48e3-9cf7-62f034cd292a",
   "metadata": {},
   "outputs": [
    {
     "name": "stderr",
     "output_type": "stream",
     "text": [
      "/tmp/ipykernel_7139/1303884613.py:9: NumbaPerformanceWarning: \u001b[1m\u001b[1m'@' is faster on contiguous arrays, called on (array(float64, 2d, F), array(float64, 1d, A))\u001b[0m\u001b[0m\n",
      "  c = B @ b\n",
      "/home/coastal/.local/lib/python3.10/site-packages/numba/core/typing/npydecl.py:913: NumbaPerformanceWarning: \u001b[1m'@' is faster on contiguous arrays, called on (array(float64, 2d, F), array(float64, 1d, A))\u001b[0m\n",
      "  warnings.warn(NumbaPerformanceWarning(msg))\n"
     ]
    }
   ],
   "source": [
    "@nb.njit(nb.float64[:](nb.float64[:, :], nb.float64[:], nb.float64, nb.int32))\n",
    "def seidel_numba(A, b, eps=1e-10, max_iter=1000):\n",
    "    b = b\n",
    "    D = np.diag(np.diag(A))\n",
    "    L = np.tril(A, -1)\n",
    "    U = np.triu(A, 1)\n",
    "    x = np.ones(b.shape)\n",
    "    B = np.linalg.inv(L + D)\n",
    "    c = B @ b\n",
    "    for i in range(max_iter):\n",
    "        x_new = - B @ U @ x + c\n",
    "        delta = np.linalg.norm(x_new - x)\n",
    "        x = x_new\n",
    "        if delta < eps:\n",
    "            break\n",
    "    return x"
   ]
  },
  {
   "cell_type": "code",
   "execution_count": 309,
   "id": "688f2361-8c3a-4e94-86f6-1ee81995f53e",
   "metadata": {},
   "outputs": [
    {
     "name": "stdout",
     "output_type": "stream",
     "text": [
      "170 µs ± 5.9 µs per loop (mean ± std. dev. of 7 runs, 10,000 loops each)\n"
     ]
    }
   ],
   "source": [
    "%%timeit\n",
    "seidel_numba(m, b, 1e-10, 1000)"
   ]
  },
  {
   "cell_type": "code",
   "execution_count": 310,
   "id": "72b98deb-656f-49b6-86e0-d0c69d751603",
   "metadata": {},
   "outputs": [
    {
     "name": "stdout",
     "output_type": "stream",
     "text": [
      "1.65 ms ± 39.3 µs per loop (mean ± std. dev. of 7 runs, 1,000 loops each)\n"
     ]
    }
   ],
   "source": [
    "%%timeit\n",
    "seidel(m, b)"
   ]
  },
  {
   "cell_type": "markdown",
   "id": "78258460-c365-4457-9302-dd2b23e37eb5",
   "metadata": {},
   "source": [
    "Видим, что ускоренный метод в два раза быстрее"
   ]
  },
  {
   "cell_type": "code",
   "execution_count": null,
   "id": "00a6fafe-0b7c-4f75-b9f1-af5fe6fee4d1",
   "metadata": {},
   "outputs": [],
   "source": []
  }
 ],
 "metadata": {
  "kernelspec": {
   "display_name": "Python 3 (ipykernel)",
   "language": "python",
   "name": "python3"
  },
  "language_info": {
   "codemirror_mode": {
    "name": "ipython",
    "version": 3
   },
   "file_extension": ".py",
   "mimetype": "text/x-python",
   "name": "python",
   "nbconvert_exporter": "python",
   "pygments_lexer": "ipython3",
   "version": "3.10.6"
  }
 },
 "nbformat": 4,
 "nbformat_minor": 5
}
