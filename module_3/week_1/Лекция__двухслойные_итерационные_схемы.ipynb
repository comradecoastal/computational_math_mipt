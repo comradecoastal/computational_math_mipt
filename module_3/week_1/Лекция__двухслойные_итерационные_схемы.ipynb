{
 "cells": [
  {
   "cell_type": "markdown",
   "metadata": {
    "id": "REiUFM6RB7Bj"
   },
   "source": [
    "## Лекция 4:\n",
    "# Двухслойные итерационные схемы. \n",
    "* Общая идея методов\n",
    "* Метод Якоби\n",
    "* Метод Зейделя (с примерами кода)\n",
    "* Методы неполной релаксации\n",
    "* Пример (применение формул методов для матриц 2*2)\n",
    "* Ускорение МПИ*"
   ]
  },
  {
   "cell_type": "markdown",
   "metadata": {
    "id": "m_QjTjMYJqkh"
   },
   "source": [
    "Канонический вид двухслойных схем: \n",
    "\n",
    "$R_{k}\\frac{x^{k+1} - x^{k}}{\\tau^{k}} + Ax^{k} = f$\n",
    "\n",
    "Двухслойные схемы - схемы, использующие для вычисления нового значения $x^{k + 1}$ только значения $x^{k}$\n"
   ]
  },
  {
   "cell_type": "markdown",
   "metadata": {
    "id": "guZJsmZCl_vM"
   },
   "source": [
    "## Общая идея методов\n"
   ]
  },
  {
   "cell_type": "markdown",
   "metadata": {
    "id": "NygciN_fmG6B"
   },
   "source": [
    "Итерационные методы определяются матрицей перехода R (её ещё называют матрицей Якоби). В этих методах часто используют разложение матрицы в сумму диагональной, верхней треугольной и нижней треугольной, так как к треугольным матрицам легко найти обратные (это позволяет вывести относительно простые формулы для матрицы перехода).\n",
    "\n",
    "Преимущества итерационных методов:\n",
    "- требуют хранения в памяти машины не всей\n",
    "матрицы системы, а лишь нескольких векторов\n",
    "с n компонентами;\n",
    "- Погрешности окончательных результатов при\n",
    "использовании итерационных методов не\n",
    "накапливаются, поскольку точность\n",
    "вычислений в каждой итерации определяется\n",
    "результатами предыдущей итерации и\n",
    "практически не зависит от ранее выполненных\n",
    "вычислений.\n",
    "- Большие системы уравнений на практике успешно можно решать только итерационными методами.\n"
   ]
  },
  {
   "cell_type": "markdown",
   "metadata": {
    "id": "8NSaCSxxKwqm"
   },
   "source": [
    "## Метод Якоби\n"
   ]
  },
  {
   "cell_type": "markdown",
   "metadata": {
    "id": "A2820KANViha"
   },
   "source": [
    "Запишем СЛАУ в координатном виде:\n",
    "\n",
    "$\\begin{cases}\n",
    "a_{11}x_{1} + a_{12}x_{2} + ... + a_{1n}x_{n} = f_{1} \\\\\n",
    "a_{21}x_{1} + a_{22}x_{2} + ... + a_{2n}x_{n} = f_{2} \\\\\n",
    "... \\\\\n",
    "a_{n1}x_{1} + a_{n2}x_{2} + ... + a_{nn}x_{n} = f_{n} \\\\\n",
    "\\end{cases}$\n",
    "\n",
    "Из каждого уравнения будем находить 1 новое приближение переменной $x_{i}$. Тогда получим:\n",
    "\n",
    "$\\begin{cases}\n",
    "x_{1}^{(s+1)} =\\frac{1}{a_{11}}(f_{1} - \\sum\\limits_{j = 2}^{n}a_{1j}x_{j}^{(s)}) \\\\\n",
    "x_{i}^{(s+1)} =\\frac{1}{a_{ii}}(f_{i} - \\sum\\limits_{j = 1}^{i-1}a_{ij}x_{j}^{(s)} + \\sum\\limits_{j = i + 1}^{n}a_{ij}x_{j}^{(s)}) \\\\\n",
    "\\end{cases}$\n",
    "\n",
    "Запишем все это в матричном виде, для этого представим матрицу $A$ в виде суммы 3-х матриц:\n",
    "\n",
    "$A = L + D + U$, где \n",
    "\n",
    "$L = \\begin{bmatrix} 0 & 0 & \\cdots & 0 \\\\ a_{21} & 0 & \\cdots & 0 \\\\ \\vdots & \\vdots & \\ddots & \\vdots \\\\ a_{n1} & a_{n2} & \\cdots & 0 \\\\ \\end{bmatrix}$, \n",
    "$D = \\begin{bmatrix} a_{11} & 0 & \\cdots & 0 \\\\ 0 & a_{22} & \\cdots & 0 \\\\ \\vdots & \\vdots & \\ddots & \\vdots \\\\ 0 & 0 & \\cdots & a_{nn} \\\\ \\end{bmatrix}$, \n",
    "$L = \\begin{bmatrix} 0 & a_{12} & \\cdots & a_{1n} \\\\ 0 & 0 & \\cdots & a_{2n} \\\\ \\vdots & \\vdots & \\ddots & \\vdots \\\\ 0 & 0 & \\cdots & 0 \\\\ \\end{bmatrix}$\n",
    "\n",
    "Тогда получим:\n",
    "\n",
    "$Lx^{(s)} + Dx^{(s + 1)} + Ux^{(s)} = f$\n",
    "\n",
    "$Dx^{(s + 1)} = -(L + U)x^{(s)} + f$\n",
    "\n",
    "$x^{(s+1)} = -D^{-1}(L + U)x^{(s)} + D^{-1}f$\n",
    "\n",
    "Таким образом, мы можем проводить МПИ с матрицей $R = -D^{-1}(L + U)$.\n",
    "\n",
    "\n",
    "\n",
    "Теорема:\n",
    "Метод Якоби сходится тогда и только тогда, когда все значения $\\lambda$, определяемые уравнением :\n",
    "\n",
    "$det\\begin{bmatrix}\n",
    "\\lambda a_{11} & a_{12} & \\dots & a_{1n} \\\\\n",
    " a_{21} & \\lambda a_{22} & \\dots & a_{2n} \\\\\n",
    "\\dots & \\dots & \\dots & \\dots \\\\\n",
    "a_{n1} & a_{n2} & \\dots & \\lambda a_{nn} \\\\\n",
    "\\end{bmatrix} = 0$\n",
    "\n",
    "по модулю меньше единицы.\n",
    "\n",
    "Рассмотрим матрицу перехода $R = -D^{-1}(L + U)$. \n",
    "По теореме о сходимости МПИ : $\\rho(R) < 1$\n",
    "\n",
    "Вычислим спектральный радиус: \n",
    "\n",
    "$det(R - \\lambda E) = det(-D^{-1}(L + U + \\lambda D)) = det(-D^{-1})det(L + U +\\lambda D) = 0$\n",
    "\n",
    "Откуда $det(L + U + \\lambda D) = 0$"
   ]
  },
  {
   "cell_type": "markdown",
   "metadata": {
    "id": "yRH_srwUK34Y"
   },
   "source": [
    "## Метод Зейделя\n"
   ]
  },
  {
   "cell_type": "markdown",
   "metadata": {
    "id": "igqOe_-SV3u5"
   },
   "source": [
    "В методе учитываются вычисленные ранее на данном шаге итерации компоненты решения - в этом его отличие от метода Якоби:\n",
    "\n",
    "$\\begin{cases}\n",
    "a_{11}x_{1}^{(s+1)} + a_{12}x_{2}^{(s)} + ... + a_{1n}x_{n}^{(s)} = f_{1} \\\\\n",
    "a_{21}x_{1}^{(s+1)} + a_{22}x_{2}^{(s+1)} + ... + a_{2n}x_{n}^{(s)} = f_{2} \\\\\n",
    "... \\\\\n",
    "a_{n1}x_{1}^{(s+1)} + a_{n2}x_{2}^{(s+1)} + ... + a_{nn}x_{n}^{(s+1)} = f_{n} \\\\\n",
    "\\end{cases}$\n",
    "\n",
    "Или:\n",
    "\n",
    "$\\begin{cases}\n",
    "x_{1}^{(s+1)} =\\frac{1}{a_{11}}(f_{1} - \\sum\\limits_{j = 2}^{n}a_{1j}x_{j}^{(s)}) \\\\\n",
    "x_{i}^{(s+1)} =\\frac{1}{a_{ii}}(f_{i} - \\sum\\limits_{j = 1}^{i-1}a_{ij}x_{j}^{(s+1)} + \\sum\\limits_{j = i + 1}^{n}a_{ij}x_{j}^{(s)}) \\\\\n",
    "\\end{cases}$\n",
    "\n",
    "Запишем в матричном виде: \n",
    "\n",
    "$(L + D)x^{(s+1)} + Ux^{(s)} = f$\n",
    "\n",
    "$x^{(s+1)} = -(L + D)^{-1}Ux^{(s)} + (L + D)^{-1}f$\n",
    "\n",
    "Теорема:\n",
    "Метод Зейделя сходится тогда и только тогда, когда все значения $\\lambda$, определяемые уравнением :\n",
    "\n",
    "$det\\begin{bmatrix}\n",
    "\\lambda a_{11} & a_{12} & \\dots & a_{1n} \\\\\n",
    "\\lambda a_{21} & \\lambda a_{22} & \\dots & a_{2n} \\\\\n",
    "\\dots & \\dots & \\dots & \\dots \\\\\n",
    "\\lambda a_{n1} & \\lambda a_{n2} & \\dots & \\lambda a_{nn} \\\\\n",
    "\\end{bmatrix} = 0$\n",
    "\n",
    "по модулю меньше единицы.\n",
    "\n",
    "Рассмотрим матрицу перехода $R = -(L + D)^{-1}U$. \n",
    "По теореме о сходимости МПИ : $\\rho(R) < 1$\n",
    "\n",
    "Вычислим спектральный радиус: \n",
    "\n",
    "$det(R - \\lambda E) = det(-(L + D)^{-1}(U + \\lambda (L + D)) = det(-(L + D)^{-1})det(U +\\lambda (L + D) = 0$\n",
    "\n",
    "Откуда $det(U + \\lambda (L + D)) = 0$"
   ]
  },
  {
   "cell_type": "code",
   "execution_count": null,
   "metadata": {
    "colab": {
     "base_uri": "https://localhost:8080/"
    },
    "id": "WBLK69eyVvGC",
    "outputId": "e80188c8-92c7-49c1-9602-9504d41a276c"
   },
   "outputs": [
    {
     "name": "stdout",
     "output_type": "stream",
     "text": [
      "[[ 2.  -1.5  0.   0.   0.   0.   0.   0.   0.   0. ]\n",
      " [-0.5  2.  -1.5  0.   0.   0.   0.   0.   0.   0. ]\n",
      " [ 0.  -0.5  2.  -1.5  0.   0.   0.   0.   0.   0. ]\n",
      " [ 0.   0.  -0.5  2.  -1.5  0.   0.   0.   0.   0. ]\n",
      " [ 0.   0.   0.  -0.5  2.  -1.5  0.   0.   0.   0. ]\n",
      " [ 0.   0.   0.   0.  -0.5  2.  -1.5  0.   0.   0. ]\n",
      " [ 0.   0.   0.   0.   0.  -0.5  2.  -1.5  0.   0. ]\n",
      " [ 0.   0.   0.   0.   0.   0.  -0.5  2.  -1.5  0. ]\n",
      " [ 0.   0.   0.   0.   0.   0.   0.  -0.5  2.  -1.5]\n",
      " [ 0.   0.   0.   0.   0.   0.   0.   0.  -0.5  2. ]]\n",
      "[0.5 0.  0.  0.  0.  0.  0.  0.  0.  1.5]\n",
      "[1. 1. 1. 1. 1. 1. 1. 1. 1. 1.]\n",
      "66\n"
     ]
    }
   ],
   "source": [
    "import numpy as np\n",
    "def seidel_matrix(A, f, error = 1.0e-9):\n",
    "  n = len(f); x = np.zeros(n); r = np.copy(f)\n",
    "  for k in range(10001):\n",
    "    for i in range(n):\n",
    "      x[i] = x[i] + (f[i] - (A[i,:] @ x))/A[i,i]\n",
    "    r = f - (A @ x)\n",
    "    if (r @ r) < error**2:\n",
    "      return x, k\n",
    "  print('Seidel method failed to converge')\n",
    "  return -1\n",
    "\n",
    "def seidel_not_matrix2(alpha, f, error = 1.0e-9):\n",
    "  n = len(f); x = np.zeros(n); r, q = np.copy(f), np.copy(x)\n",
    "  a1, a2, a3 = -1 + alpha, 2, -1 - alpha\n",
    "  for k in range(10001):\n",
    "    x[0] = x[0] + 0.5*(f[0] - a2*x[0] - a3*x[1])\n",
    "    for i in range(1, n - 1):\n",
    "      x[i] = x[i] + 0.5*(f[i] - a2*x[i] - a3*x[i+1] - a1*x[i-1])\n",
    "    x[n-1] = x[n-1] + 0.5*(f[n-1] - a2*x[n-1] - a1*x[n-2])\n",
    "    # q = Ax\n",
    "    q[0] = - a2*x[0] - a3*x[1]\n",
    "    for i in range(1, n - 1):\n",
    "      q[i] = - a2*x[i] - a3*x[i+1] - a1*x[i-1]\n",
    "    q[n-1] = - a2*x[n-1] - a1*x[n-2]\n",
    "    r = f - (A @ x)\n",
    "    if (r @ r) < error**2:\n",
    "      return x, k\n",
    "  print('Seidel method failed to converge')\n",
    "  return -1\n",
    "\n",
    "n = 10; alpha = 0.5; A = np.zeros((n,n)); f = np.zeros(n)\n",
    "f[0], f[n-1] = 1 - alpha, 1 + alpha\n",
    "for i in range(n):\n",
    "  A[i,i] = 2\n",
    "  if i > 0:\n",
    "    A[i, i-1] = -1 + alpha\n",
    "  if i < n - 1:\n",
    "    A[i, i+1] = -1 - alpha\n",
    "print(A, f, sep = '\\n');  x, n_iter = seidel_not_matrix2(alpha, f)\n",
    "print(x, n_iter, sep = '\\n')"
   ]
  },
  {
   "cell_type": "code",
   "execution_count": null,
   "metadata": {
    "colab": {
     "base_uri": "https://localhost:8080/"
    },
    "id": "jatdbxbz2har",
    "outputId": "4f47c93f-788e-4e23-b4b7-f4593c78601f"
   },
   "outputs": [
    {
     "name": "stdout",
     "output_type": "stream",
     "text": [
      "[[ 2.  -1.5  0.   0.   0.   0.   0.   0.   0.   0. ]\n",
      " [-0.5  2.  -1.5  0.   0.   0.   0.   0.   0.   0. ]\n",
      " [ 0.  -0.5  2.  -1.5  0.   0.   0.   0.   0.   0. ]\n",
      " [ 0.   0.  -0.5  2.  -1.5  0.   0.   0.   0.   0. ]\n",
      " [ 0.   0.   0.  -0.5  2.  -1.5  0.   0.   0.   0. ]\n",
      " [ 0.   0.   0.   0.  -0.5  2.  -1.5  0.   0.   0. ]\n",
      " [ 0.   0.   0.   0.   0.  -0.5  2.  -1.5  0.   0. ]\n",
      " [ 0.   0.   0.   0.   0.   0.  -0.5  2.  -1.5  0. ]\n",
      " [ 0.   0.   0.   0.   0.   0.   0.  -0.5  2.  -1.5]\n",
      " [ 0.   0.   0.   0.   0.   0.   0.   0.  -0.5  2. ]]\n",
      "[1. 1. 1. 1. 1. 1. 1. 1. 1. 1.]\n",
      "67\n"
     ]
    }
   ],
   "source": [
    "'''\n",
    "Матричный вариант можно улучшить, если заменять циклы\n",
    "матричными операциями. \n",
    "Кроме того, для нашей задачи нужно вообще обойтись без матриц.\n",
    "Эффективно использовать разреженные матрицы, и специальные способы\n",
    "работы с ними в scipy.\n",
    "'''\n",
    "\n",
    "import numpy as np\n",
    "def seidel(A, f, error = 1.0e-9): # матричный вариант\n",
    "  n = len(f)\n",
    "  x = np.zeros(n)\n",
    "  r = np.copy(f)\n",
    "  for k in range(1, 10001):\n",
    "    '''y = f - (A @ x)\n",
    "    y = y/(np.diag(A))\n",
    "    x = x + y     - не эквивалентно ''' \n",
    "    for i in range(n):\n",
    "      x[i] = x[i] + (f[i] - np.dot(A[i,0:n], x[0:n]))/A[i,i]\n",
    "    r = f - (A @ x)\n",
    "    '''for i in range(n):\n",
    "      r[i] = f[i] - np.dot(A[i,0:n], x[0:n])'''\n",
    "    if np.dot(r,r) < error**2:\n",
    "      return x, k\n",
    "  print('method failed to converge')\n",
    "  return -1\n",
    "n = 10; alpha = 0.5\n",
    "A = np.zeros((n,n))\n",
    "for i in range(n):\n",
    "  A[i,i] = 2\n",
    "  if i > 0:\n",
    "    A[i,i-1] = -1 + alpha\n",
    "  if i < n - 1:\n",
    "    A[i,i+1] = -1 - alpha\n",
    "print(A)\n",
    "f = np.zeros(n); f[0] = 1 - alpha; f[n-1] = 1 + alpha\n",
    "x, n_iter = seidel(A, f)\n",
    "print(x, n_iter, sep = '\\n')\n"
   ]
  },
  {
   "cell_type": "code",
   "execution_count": null,
   "metadata": {
    "colab": {
     "base_uri": "https://localhost:8080/"
    },
    "id": "oeAD5XUm84hd",
    "outputId": "6f03a5a8-9d34-428d-a864-3a1c016cd555"
   },
   "outputs": [
    {
     "name": "stdout",
     "output_type": "stream",
     "text": [
      "[1. 1. 1. 1. 1. 1. 1. 1. 1. 1.]\n",
      "67\n"
     ]
    }
   ],
   "source": [
    "def matrix_dot(A1, A2, A3, x):\n",
    "  n = len(x)\n",
    "  q = np.zeros(n)\n",
    "  q[0] = A2*x[0] + A3*x[1]\n",
    "  for i in range(1, n-1):\n",
    "    q[i] = A1*x[i-1] + A2*x[i] + A3*x[i+1]\n",
    "  q[n - 1] = A1*x[n-2] + A2*x[n-1]\n",
    "  return q\n",
    "\n",
    "def seidel_not_matrix(alpha, f, error = 1.0e-9): # матричный вариант\n",
    "  n = len(f)\n",
    "  x = np.zeros(n)\n",
    "  r = np.copy(f)\n",
    "  A1 = -1 + alpha\n",
    "  A2 = 2\n",
    "  A3 = -1 - alpha\n",
    "  for k in range(1, 10001):\n",
    "    x[0] = x[0] + (f[0] - A2*x[0] - A3*x[1])/A2\n",
    "    for i in range(1, n-1):\n",
    "      q = A1*x[i-1] + A2*x[i] + A3*x[i+1]\n",
    "      x[i] = x[i] + (f[i] - q)/A2\n",
    "    q = A1*x[n-2] + A2*x[n-1]\n",
    "    x[n - 1] = x[n - 1] + (f[n - 1] - q)/A2\n",
    "    for i in range(n):\n",
    "      r = f - matrix_dot(A1, A2, A3, x)\n",
    "    if np.dot(r,r) < error**2:\n",
    "      return x, k\n",
    "  print('method failed to converge')\n",
    "  return -1\n",
    "n = 10; alpha = 0.5\n",
    "f = np.zeros(n); f[0] = 1 - alpha; f[n-1] = 1 + alpha\n",
    "x, n_iter = seidel_not_matrix(alpha, f)\n",
    "print(x, n_iter, sep = '\\n')"
   ]
  },
  {
   "cell_type": "markdown",
   "metadata": {
    "id": "KFrsCjyXVA0C"
   },
   "source": [
    "##Методы неполной релаксации\n"
   ]
  },
  {
   "cell_type": "markdown",
   "metadata": {
    "id": "01hwRvZYWCwS"
   },
   "source": [
    "Пусть $z_i^{(k + 1)}$ - $i$-я компонента $k + 1$ приближения Зейделя, тогда:\n",
    "\n",
    "$x_i^{(k + 1)} = x_i^{(k)} + \\omega (z_i^{(k + 1)} - x_i^{(k)})$\n",
    "\n",
    "При $\\omega = 1$ получается метод Зейделя. Метод при $\\omega \\in(0, 1)$ называют методом нижней релаксации. Если $\\omega \\in(1, 2)$ - методом верхней релаксации.\n",
    "\n",
    "$x_i^{(k + 1)} = (1 - \\omega)x_i^{(k)} + \\omega z_i^{(k +1 )}$\n",
    "\n",
    "Рассмотрим матричную запись данного метода: \n",
    "\n",
    "$(L + \\omega D)\\frac{x^{(k + 1)} - x^{(k)}}{\\omega} + Ax^{(k)} = f$\n",
    "\n",
    "Теорема:\n",
    "Пусть матрица $A = A^* > 0$, тогда метод релаксации сходится $\\forall\\omega \\in(0, 2)$\n",
    "\n",
    "При каких $\\omega$ метод сходится быстрее? В общем случае на этот вопрос нет универсального ответа, однако математиками было рассмотрено много частных случаев.\n",
    "\n",
    "Рассмотрим один важный класс задач, для которого найдена такая $\\omega$.\n",
    "\n",
    "Пусть $P$ - матрица перестановок такая, что :\n",
    "\n",
    "$PAP^\\top = \\begin{bmatrix} D1 & T_{12} \\\\ T_{21} & D2 \\end{bmatrix}$\n",
    "Где $D_i$ диагольная матрица.\n",
    "\n",
    "Для таких задач $\\omega_{\\text(опт)} = \\frac{1}{1 + \\sqrt(1 - \\rho^2(R))}$\n",
    "\n",
    "Тут $R$ - матрица перехода Якоби итерационного метода ($\\rho(R)$ - спектральный радиус, то есть наибольшее по модулю собственное число):\n",
    "$$\n",
    "\\begin{gathered}\n",
    "\\vec{x}=R \\vec{x}+\\vec{F} \n",
    "\\end{gathered}\n",
    "$$"
   ]
  },
  {
   "cell_type": "markdown",
   "metadata": {
    "id": "qg67gGDGY4ZZ"
   },
   "source": [
    "##Пример\n"
   ]
  },
  {
   "cell_type": "markdown",
   "metadata": {
    "id": "1_vOaSxrZGvA"
   },
   "source": [
    "$$\n",
    "\\left\\{\\begin{array}{l}\n",
    "2 x_{1}+x_{2}=1 \\\\\n",
    "x_{1}+2 x_{2}=-1\n",
    "\\end{array}\\right.\n",
    "$$\n",
    "Точное решение системы имеет вид:\n",
    "$$\n",
    "\\vec{x}^{*}=\\left(\\begin{array}{c}\n",
    "1 \\\\\n",
    "-1\n",
    "\\end{array}\\right)\n",
    "$$\n",
    "Решим систему уравнений методами Якоби, Зейделя и ПВР.\n",
    "Тогда для метода Якоби получим:\n",
    "$$\n",
    "\\left\\{\\begin{array}{l}\n",
    "x_{1}^{(s+1)}=-0,5 x_{2}^{(s)}+0,5 \\\\\n",
    "x_{2}^{(s+1)}=-0,5 x_{1}^{(s)}-0,5\n",
    "\\end{array}\\right.\n",
    "$$\n",
    "Для метода Зейделя:\n",
    "$$\n",
    "\\left\\{\\begin{array}{l}\n",
    "x_{1}^{(s+1)}=-0,5 x_{2}^{(s)}+0,5 \\\\\n",
    "x_{2}^{(s+1)}=-0,5 x_{1}^{(s+1)}-0,5\n",
    "\\end{array}\\right.\n",
    "$$\n",
    "Для метода ПВР:\n",
    "$$\n",
    "\\left\\{\\begin{array}{l}\n",
    "x_{1}^{(s+1)}=(1-\\omega) x_{1}^{(s)}+\\omega\\left(-0,5 x_{2}^{(s)}+0,5\\right) \\\\\n",
    "x_{2}^{(s+1)}=(1-\\omega) x_{2}^{(s)}+\\omega\\left(-0,5 x_{1}^{(s+1)}-0,5\\right)\n",
    "\\end{array}\\right.\n",
    "$$\n",
    "где значение параметра было выбрано $\\omega=1,1$.\n",
    "Для каждого метода рассмотрим три итерации. Тогда получим следующие значения:\n",
    "\n",
    "![image.png](data:image/png;base64,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)  \n",
    "\n",
    "Из таблицы видно, что метод ПВР сходится быстрее, чем методы Якоби и Зейделя. Вспомним, что для системы, в которой переменные можно разделить на два класса так, чтобы каждое уравнение связывало элемент одного класса с элементами другого, можно найти оптимальное значение параметра $\\omega_{\\text {опт }}$. Для систем уравнений с двумя переменными такое разделение выполняется всегда. Таким образом, при условии сходимости метода Якоби для системы второго порядка всегда можно найти оптимальное значение параметра.\n",
    "\n",
    "Рассмотрим, чему равен спектральный радиус матрицы перехода для метода Якоби.\n",
    "$$\n",
    "\\begin{gathered}\n",
    "\\vec{x}=R \\vec{x}+\\vec{F} \\\\\n",
    "R_{\\text {Якоби }}=\\left(\\begin{array}{cc}\n",
    "0 & -0,5 \\\\\n",
    "-0,5 & 0\n",
    "\\end{array}\\right) \\\\\n",
    "\\lambda\\left(R_{\\text {Якоби }}\\right)=\\pm \\frac{1}{2}, \\quad \\Rightarrow \\quad \\rho\\left(R_{\\text {Якоби }}\\right)=\\frac{1}{2}\n",
    "\\end{gathered}\n",
    "$$\n",
    "Тогда для метода ПВР получим:\n",
    "$$\n",
    "\\omega_{\\text {опт }}=\\frac{2}{1-\\sqrt{1-\\left(\\frac{1}{2}\\right)^{2}}} \\approx 1,07\n",
    "$$\n",
    "Именно поэтому значение $\\omega$ было выбрано равным $1,1 .$"
   ]
  },
  {
   "cell_type": "markdown",
   "metadata": {
    "id": "NlDCfOWDK5ZY"
   },
   "source": [
    "##Метод Чебышева ускорения МПИ*\n"
   ]
  },
  {
   "cell_type": "markdown",
   "metadata": {
    "id": "EwC0TskPWTVR"
   },
   "source": [
    "Рассмотрим СЛАУ:\n",
    "\n",
    "$Ax = f$\n",
    "\n",
    "Пусть СЛАУ привели к виду: \n",
    "\n",
    "$x = Rx + F$\n",
    "\n",
    "Рассмотрим метод простых итераций, который сходится к точному решению:\n",
    "\n",
    "$x^{(s+1)} = Rx^{(s)} + F$\n",
    "\n",
    "$x^{(s+1)} \\rightarrow x^{(*)}$\n",
    "\n",
    "Рассмотрим известную последовательность приближений $x^{(0)}, x^{(1)}, x^{(2)} ... x^{(m)}$. На основе данной последовательности построим новое приближение:\n",
    "\n",
    "$y_m = \\sum\\limits_{i = 0}^{m}\\gamma_{im}x^{(i)}$\n",
    "\n",
    "Если $x^{(0)} = x^{(1)} = x^{(2)} = ... = x^{(m)} = x^{(*)}$, тогда :\n",
    "\n",
    "$\\sum\\limits_{i = 0}^{m}\\gamma_{im} = 1$\n",
    "\n",
    "Рассмотрим погрешности системы: \n",
    "\n",
    "$\\begin{cases}\n",
    "x^{(m)} = Rx^{(m-1)} + F \\\\\n",
    "x^{(*)} = Rx^{(*)} + F \\\\\n",
    "\\end{cases}$\n",
    "\n",
    "$\\delta^{(m)} = R(x^{(m-1)} - x^{(*)})$\n",
    "\n",
    "Тогда: \n",
    "\n",
    "$\\widetilde\\delta = y_m - x^{(*)} = \\sum\\limits_{i = 0}^{m}\\gamma_{im}x^{(i)} - x^{(*)} = \\sum\\limits_{i = 1}^{m}\\gamma_{im}(x^{(i)} - x^{(*)}) = \\sum\\limits_{i = 1}^{m}\\gamma_{im}(Rx^{(m-1)} - Rx^{(*)}) = P_m(R)(x^{(0)} - x^{(*)})$\n",
    "\n",
    "Где $P_m(R) = \\sum\\limits_{i = 1}^{m}\\gamma_{im}R^i$.\n"
   ]
  },
  {
   "cell_type": "markdown",
   "metadata": {
    "id": "doIeQkZa9Q9h"
   },
   "source": [
    "Многочлены Чебышева.\n",
    "\n",
    "Многочленами Чебышева называют:\n",
    "\n",
    "$T_{n + 1}(x) = 2xT_{n}(x) - T_(n - 1)(x)$\n",
    "\n",
    "$T_0(x) = 1 , T_1(x) = x$\n",
    "\n",
    "Все многочлены определены на отрезке $[-1; 1]$ и для всех выполняется $max(|T_n|)=1$.\n",
    "\n",
    "Среди всех многочленов, значения которых на отрезке [-1,1] не превосходят по модулю 1, многочлен Чебышёва имеет наибольший старший коэффициент, наибольшее значение в любой точке за пределами этого отрезка, а нули многочлена Чебышева являются оптимальными узлами во многих вычислительных схемах.\n",
    "\n",
    "Приведенным многочленом Чебышева назовем $\\overline T_n(x) = 2^{1 - n}T_n(x)$\n",
    "\n",
    "Рассмотрим многочлены вида:\n",
    "\n",
    "$P_m(x) = \\frac{T_m(\\frac{x}{\\rho})}{T_m(\\frac{1}{\\rho})}$\n",
    "\n",
    "Для такого многочлена выполняется :\n",
    "* Он определен от $-\\rho$ до $\\rho$\n",
    "* $P_m(1) = 1$\n",
    "\n",
    "Рассмотрим $\\rho = 1 + \\varepsilon$, тогда :\n",
    "\n",
    "$P_m(x)\\leq \\frac{1}{T_m(1 + \\varepsilon)}$\n",
    "\n",
    "$P_m(x) = \\frac{1}{T_m(\\frac{1}{\\rho})}T_m(\\frac{x}{\\rho})$\n",
    "\n",
    "Обозначим $\\mu_m = \\frac{1}{T_m(\\frac{1}{\\rho})}$, тогда \n",
    "\n",
    "$\\mu_m = \\frac{2}{\\rho\\mu_{m-1}} - \\frac{1}{\\mu_{m-2}}$\n",
    "\n",
    "Рассмотрим, как поменяется решение :\n",
    "\n",
    "$y_m - x^* = P_m(R)(x^{(0)} - x^*) = \\mu_mT_m(\\frac{R}{\\rho})(x^{(0)} - x^*) = \n",
    "\\mu_m(\\frac{2}{\\rho}R(x^{(m - 1)} - x^*)\\frac{1}{\\mu_{m-1}} - (x^{(m - 2)} - x^*)\\frac{1}{\\mu_{m-2}} )$\n",
    "\n",
    "Приведем выражение к виду : \n",
    "\n",
    "$y_m = \\frac{2\\mu_m}{\\mu_{m-1}}\\frac{R}{\\rho}x^{(m-1)} - \\frac{\\mu_m}{\\mu_{m-2}}x^{(m-2)} + dm$, где $dm = x^*(1 -  \\frac{2\\mu_m}{\\mu_{m-1}}\\frac{R}{\\rho} + \\frac{\\mu_m}{\\mu_{m-2}}) $\n",
    "\n",
    "Для $x^*$ выполняется уравнение $x^* = Rx^* + F$, откуда $Rx^* = x^* - F$, тогда:\n",
    "\n",
    "$dm = \\mu_m(\\frac{1}{\\mu_m} - \\frac{2}{\\rho\\mu_{m-1}} - \\frac{1}{\\mu_{m-2}})x^* + 2\\frac{\\mu_m}{\\mu_{m -1 }}F$\n",
    "\n",
    "В силу ранее полученных выражений первая скобка равна 0.\n",
    "\n",
    "В итоге получаем итерационный процесс :\n",
    "\n",
    "$\\begin{cases}\n",
    "\\mu_0 = 1, \\mu_1 = \\rho \\\\\n",
    "y_0 = x^{(0)}, y_1 = Rx^{(0)} + F \\\\\n",
    "\\mu_m = (\\frac{2}{\\rho\\mu_{m - 1 }} - \\frac{1}{\\mu_{m-2}})^{-1} \\\\\n",
    "y_m = \\frac{2\\mu_m}{\\rho\\mu_{m-1}}Ry_{m-1} - \\frac{\\mu_m}{\\mu_{m-2}}Ry_{m-2} + \\frac{2\\mu_m}{\\rho\\mu_{m-2}}F\n",
    "\\end{cases}$\n",
    "\n",
    "В данном ускорении используются все предыдущие вычисления, но в итоговой формуле только с предыдущих 2-х шагов. Данный алгоритм является трехслойным."
   ]
  }
 ],
 "metadata": {
  "colab": {
   "collapsed_sections": [],
   "provenance": []
  },
  "kernelspec": {
   "display_name": "Python 3 (ipykernel)",
   "language": "python",
   "name": "python3"
  },
  "language_info": {
   "codemirror_mode": {
    "name": "ipython",
    "version": 3
   },
   "file_extension": ".py",
   "mimetype": "text/x-python",
   "name": "python",
   "nbconvert_exporter": "python",
   "pygments_lexer": "ipython3",
   "version": "3.10.6"
  }
 },
 "nbformat": 4,
 "nbformat_minor": 4
}
