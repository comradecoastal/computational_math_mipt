{
 "cells": [
  {
   "cell_type": "code",
   "execution_count": 1,
   "id": "05cc947c-abcf-4fce-b2cc-4d925ee56f40",
   "metadata": {
    "tags": []
   },
   "outputs": [],
   "source": [
    "import numpy as np"
   ]
  },
  {
   "cell_type": "markdown",
   "id": "972a44ef-d228-4235-9886-fb2078133bda",
   "metadata": {},
   "source": [
    "# Задание 1 "
   ]
  },
  {
   "cell_type": "code",
   "execution_count": 6,
   "id": "b8fa5913-7dbc-4dd9-9dee-a864d0af002e",
   "metadata": {
    "tags": []
   },
   "outputs": [],
   "source": [
    "def gauss_2(a, b):\n",
    "    r\"\"\"Return nodes and weights for a two-point Gauss quadrature on [a, b].\n",
    "    \n",
    "    Parameters\n",
    "    ----------\n",
    "    a, b : float\n",
    "       Boundaries of the integration interval\n",
    "       \n",
    "    Returns\n",
    "    -------\n",
    "    x1, x2, w1, w2 : float\n",
    "       Nodes and weights of the quadrature.\n",
    "    \"\"\"\n",
    "    # YOUR CODE HERE\n",
    "    \n",
    "    wo_1, wo_2 = 1, 1\n",
    "    xo_1, xo_2 = -0.577350269, 0.577350269\n",
    "    x_1 = (a + b) / 2 + (b - a) * xo_1 / 2\n",
    "    x_2 = (a + b) / 2 + (b - a) * xo_2 / 2\n",
    "    w_1 = (b - a) * wo_1 / 2\n",
    "    w_2 = (b - a) * wo_2 / 2\n",
    "    \n",
    "    return x_1, x_2, w_1, w_2"
   ]
  },
  {
   "cell_type": "code",
   "execution_count": 7,
   "id": "90f25eb8-4d68-4ffe-9049-fa55c556b920",
   "metadata": {
    "tags": []
   },
   "outputs": [],
   "source": [
    "from numpy.testing import assert_allclose\n",
    "\n",
    "x1, x2, w1, w2 = gauss_2(0, 1)\n",
    "\n",
    "def f(x, n): \n",
    "    return x**n\n",
    "\n",
    "for n in [0, 1, 2, 3]:\n",
    "    assert_allclose(w1*f(x1, n=n) + w2*f(x2, n=n),\n",
    "                    1./(n+1), atol=1e-14)"
   ]
  },
  {
   "cell_type": "markdown",
   "id": "7784171e-172a-4649-bcfd-b29c1d5608c8",
   "metadata": {},
   "source": []
  }
 ],
 "metadata": {
  "kernelspec": {
   "display_name": "Python 3 (ipykernel)",
   "language": "python",
   "name": "python3"
  },
  "language_info": {
   "codemirror_mode": {
    "name": "ipython",
    "version": 3
   },
   "file_extension": ".py",
   "mimetype": "text/x-python",
   "name": "python",
   "nbconvert_exporter": "python",
   "pygments_lexer": "ipython3",
   "version": "3.10.6"
  }
 },
 "nbformat": 4,
 "nbformat_minor": 5
}
