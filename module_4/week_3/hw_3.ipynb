{
 "cells": [
  {
   "cell_type": "markdown",
   "id": "ad961587-d4fe-4e69-a08b-96b8752c4eca",
   "metadata": {},
   "source": [
    "# Задание 1"
   ]
  },
  {
   "cell_type": "markdown",
   "id": "44f19085-d379-4bb1-802a-d403a5dc1d76",
   "metadata": {
    "id": "ULPY4l7WmBrW"
   },
   "source": [
    "Используем метод для вычисления силы взаимного притяжения Луны и Земли. Для простоты предположим, что плотности Земли и Луны не зависят от координат и возьмем их средние значения. Для проведения численного эксперимента нам понадобятся следующие физические величины:\n",
    "\n",
    "$$\n",
    "\\begin{aligned}\n",
    "& G=6.67 \\cdot 10^{-11} \\frac{\\mathrm{H} \\cdot \\mathrm{м}^2}{\\text { кг }}-\\text { гравитационная постоянная; } \\\\\n",
    "& m_1=6 \\cdot 10^{24} \\mathrm{ кг }-\\text { масса Земли; } \\\\\n",
    "& m_2=7.35 \\cdot 10^{22} \\text { кг }-\\text { масса Луны; } \\\\\n",
    "& r=384467000 \\mathrm{ м}-\\text { pacстояние между Луной и Землей; } \\\\\n",
    "& \\rho_1=5520 \\frac{\\mathrm{ кг }}{\\mathrm{м}^3}-\\text { средняя плотность Земли; } \\\\\n",
    "& \\rho_2=3346 \\frac{\\mathrm{кг}}{\\mathrm{м}^3}-\\text { средняя плотность Луны; } \\\\\n",
    "& R_1=6367000 \\mathrm{м}-\\text { радиус Земли; } \\\\\n",
    "& R_2=1737000 \\mathrm{м}-\\text { радиус Луны. }\n",
    "\\end{aligned}\n",
    "$$\n",
    "\n",
    "Поскольку тела сферические со сферически симметричной функцией плотности (константой), то объекты можно рассматривать как точечные и вычислить их силу притяжения по формуле:\n",
    "\n",
    "$$\n",
    "F=G \\frac{m_1 \\cdot m_2}{r^2},\n",
    "$$\n",
    "\n",
    "где $m_1$ и $m_2$ массы точечных объектов. Это значение будем использовать для сравнения с результатами вычислений с помощью метода Монте-Карло. По формуле  находим значение силы\n",
    "\n",
    "$$\n",
    "F=1.98997 \\cdot 10^{20} \\mathrm{H} .\n",
    "$$\n",
    "\n",
    "Результаты вычислений этой силы с помощью метода Монте-Карло и аналитически сравнить между собой. Построить график зависимости ошибки от числа итераций в логарифмическом масштабе , сделать вывод об асимптотике ошибки.\n"
   ]
  },
  {
   "cell_type": "markdown",
   "id": "a151107e-2f33-4f8c-a94f-432a61f56cf3",
   "metadata": {
    "id": "FYPnro2SGC00"
   },
   "source": [
    "$$ \\underset{V_1}{\\iiint} \\underset{V_2}{\\iiint} G \\frac{\\rho_1 \\rho_2}{|\\bar{r} - \\bar{r}'|^3} (\\bar{r} - \\bar{r}') d^3 \\bar{r} d^3 \\bar{r}' $$"
   ]
  },
  {
   "cell_type": "code",
   "execution_count": 20,
   "id": "07908bf0-e6dd-4d28-8472-e382d83b0ab7",
   "metadata": {
    "executionInfo": {
     "elapsed": 607,
     "status": "ok",
     "timestamp": 1676616830605,
     "user": {
      "displayName": "Coastal",
      "userId": "06636131027998241700"
     },
     "user_tz": -180
    },
    "id": "zPS1UvsrGAst",
    "tags": []
   },
   "outputs": [],
   "source": [
    "import numpy as np\n",
    "import scipy.constants as spc\n",
    "\n",
    "def differential_force_vector(r_1, r_2):\n",
    "    G = spc.G\n",
    "    rho_1 = 5520\n",
    "    rho_2 = 3346\n",
    "    return G * rho_1 * rho_2 / np.linalg.norm(r_1 - r_2) ** 3 * (r_1 - r_2)"
   ]
  },
  {
   "cell_type": "code",
   "execution_count": 21,
   "id": "47962de4-1c29-426a-aca8-c1e6cd92cdc3",
   "metadata": {
    "colab": {
     "background_save": true,
     "base_uri": "https://localhost:8080/"
    },
    "executionInfo": {
     "elapsed": 14,
     "status": "ok",
     "timestamp": 1676617301883,
     "user": {
      "displayName": "Coastal",
      "userId": "06636131027998241700"
     },
     "user_tz": -180
    },
    "id": "x7WCkKzMJsY9",
    "tags": []
   },
   "outputs": [
    {
     "name": "stdout",
     "output_type": "stream",
     "text": [
      "Сила притяжения в Н: 1.9794170382255188e+20\n"
     ]
    }
   ],
   "source": [
    "N = 1000\n",
    "count = 0\n",
    "force_sum = np.zeros(3)\n",
    "\n",
    "earth_radius = 6367000\n",
    "moon_radius  = 1737000\n",
    "distance   = 384467000\n",
    "\n",
    "for _ in range(N):\n",
    "    r_1 = np.random.uniform(low=-1, high=1, size=3)\n",
    "    r_2 = np.random.uniform(low=-1, high=1, size=3)\n",
    "    if (np.linalg.norm(r_1) <= 1) and (np.linalg.norm(r_2) <= 1) :\n",
    "        count += 1\n",
    "        r_1 = r_1 * earth_radius\n",
    "        r_2 = np.array([distance, 0, 0]) + r_2 * moon_radius\n",
    "        force_sum += differential_force_vector(r_1, r_2)\n",
    "\n",
    "delta_volume = (4 * np.pi / 3) ** 2 * (earth_radius * moon_radius) ** 3 / count\n",
    "force = force_sum * delta_volume\n",
    "\n",
    "print(\"Сила притяжения в Н:\", np.linalg.norm(force))"
   ]
  },
  {
   "cell_type": "code",
   "execution_count": null,
   "id": "9f997b22-bc10-4424-8a3e-97f40bb210ef",
   "metadata": {},
   "outputs": [],
   "source": []
  }
 ],
 "metadata": {
  "kernelspec": {
   "display_name": "Python 3 (ipykernel)",
   "language": "python",
   "name": "python3"
  },
  "language_info": {
   "codemirror_mode": {
    "name": "ipython",
    "version": 3
   },
   "file_extension": ".py",
   "mimetype": "text/x-python",
   "name": "python",
   "nbconvert_exporter": "python",
   "pygments_lexer": "ipython3",
   "version": "3.10.6"
  }
 },
 "nbformat": 4,
 "nbformat_minor": 5
}
