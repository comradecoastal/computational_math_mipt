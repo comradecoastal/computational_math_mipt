{
 "cells": [
  {
   "cell_type": "markdown",
   "metadata": {
    "id": "ITmPuAt9PAO4"
   },
   "source": [
    "# Уравнение Пуассона и уравнение теплопроводности. Метод простых итераций."
   ]
  },
  {
   "cell_type": "code",
   "execution_count": null,
   "metadata": {
    "id": "KQegWA4bPAO9"
   },
   "outputs": [],
   "source": [
    "import numpy as np\n",
    "import matplotlib as ml\n",
    "import matplotlib.pyplot as pp"
   ]
  },
  {
   "cell_type": "code",
   "execution_count": null,
   "metadata": {
    "id": "fUt2bB0hPAO_"
   },
   "outputs": [],
   "source": [
    "%matplotlib inline"
   ]
  },
  {
   "cell_type": "markdown",
   "metadata": {
    "id": "w0hRwLerPAPA"
   },
   "source": [
    "* http://ipython.org/ipython-doc/stable/notebook/notebook.html#plotting"
   ]
  },
  {
   "cell_type": "markdown",
   "metadata": {
    "id": "TZyO9ZiiPAPL"
   },
   "source": [
    "##1 Решаем уравнение Пуассона"
   ]
  },
  {
   "cell_type": "markdown",
   "metadata": {
    "id": "jdH4qPA_PAPL"
   },
   "source": [
    "Мы хотим решить уравнение Пуассона,\n",
    "\n",
    "$$\\frac{\\partial^2 u}{\\partial x^2} + \\frac{\\partial^2 u}{\\partial y^2} = 0$$\n",
    "\n",
    "в $[0,1] \\times [0,1]$ квадратная область с граничными условиями\n",
    "\n",
    "$$u(x,0) = x, \\quad u(x,1) = x - 1, \\quad u(0,y) = -y, \\quad u(1,y) = 1 - y.$$\n",
    "\n",
    "Мы будем использовать конечно-разностное представление низшего порядка\n",
    "\n",
    "$$\\frac{\\partial^2 u}{\\partial x^2}(x_i,y_j)\n",
    "\\simeq \\frac{1}{\\Delta x} \\left( \\frac{\\partial u}{\\partial x}(x_{i+1},y_j) - \\frac{\\partial u}{\\partial x}(x_{i-1},y_j) \\right) \\\\\n",
    "\\simeq \\frac{1}{\\Delta x} \\left( \\frac{1}{\\Delta x} \\left( u(x_{i+1},y_j) - u(x_i,y_j) \\right)\n",
    "- \\frac{1}{\\Delta x} \\left( u(x_{i},y_j) - u(x_{i-1},y_j) \\right) \\right)$$\n",
    "\n",
    "Отсюда получаем\n",
    "\n",
    "$$\\frac{\\partial^2 u}{\\partial x^2} + \\frac{\\partial^2 u}{\\partial y^2} \\simeq \\left( \\frac{1}{\\Delta^2}(u_{i+1,j} + u_{i-1,j} + u_{i,j+1} + u_{i,j-1} - 4u_{i,j}) \\right)$$"
   ]
  },
  {
   "cell_type": "markdown",
   "metadata": {
    "id": "zjdfkVStQcg4"
   },
   "source": [
    "Метод простых итераций Якоби, он же процесс усреднения Либмана, или метод средних арифметических \n",
    "\n",
    "$$\n",
    "u_{i, j}^{(n+1)}=\\frac{1}{4}\\left(u_{i+1, j}^{(n)}+u_{i-1, j}^{(n)}+u_{i, j+1}^{(n)}+u_{i, j-1}^{(n)}-h^2 f\\left(x_i^{(n)}, y_j^{(n)}\\right) \\mid, n=0,1,2, \\ldots\\right. \n",
    "$$\n",
    "\n",
    "Для получения начальных приближений можно указать два способа:\n",
    "\n",
    "1. значения во внутренних узлах получают путем интерполирования, использующего известные граничные условия;\n",
    "\n",
    "2. составляют систему конечно-разностных уравнений для сетки с более крупным шагом и решают ее методом исключения, а затем полученные значения интерполируют на узлы данной сетки.\n",
    "\n",
    "Для любого шага $h$ процесс Либмана сходится к точному решению независимо от выбора начальных значений, потому что выполнено условие диагонального преобладания матрицы СЛАУ.  "
   ]
  },
  {
   "cell_type": "markdown",
   "metadata": {
    "id": "3XWBsY17PAPM"
   },
   "source": [
    "###1.1 Прямое решение."
   ]
  },
  {
   "cell_type": "markdown",
   "metadata": {
    "id": "7JF4haZ1PAPN"
   },
   "source": [
    "Самый прямой подход состоит в том, чтобы решить линейную систему напрямую:"
   ]
  },
  {
   "cell_type": "code",
   "execution_count": null,
   "metadata": {
    "id": "Y_2VvrEgPAPO"
   },
   "outputs": [],
   "source": [
    "def boundary(grid):\n",
    "    x = np.linspace(0,1,len(grid))\n",
    "    \n",
    "    grid[0,:]  = np.interp(x,[0,1],[0,1])\n",
    "    grid[:,-1] = np.interp(x,[0,1],[1,0])\n",
    "    grid[-1,:] = np.interp(x,[0,1],[-1,0])\n",
    "    grid[:,0]  = np.interp(x,[0,1],[0,-1])"
   ]
  },
  {
   "cell_type": "code",
   "execution_count": null,
   "metadata": {
    "id": "Vv7x7KHQPAPO"
   },
   "outputs": [],
   "source": [
    "def poisson_direct(gridsize,set_boundary):\n",
    "    A = np.zeros(shape=(gridsize,gridsize,gridsize,gridsize),dtype='d')\n",
    "    b = np.zeros(shape=(gridsize,gridsize),dtype='d')\n",
    "    \n",
    "    dx = 1.0 / (gridsize - 1)\n",
    "    \n",
    "    # discretized differential operator\n",
    "    for i in range(1,gridsize-1):\n",
    "        for j in range(1,gridsize-1):\n",
    "            A[i,j,i-1,j] = A[i,j,i+1,j] = A[i,j,i,j-1] = A[i,j,i,j+1] = 1/dx**2\n",
    "            A[i,j,i,j] = -4/dx**2\n",
    "    \n",
    "    # boundary conditions\n",
    "    for i in range(0,gridsize):\n",
    "        A[0,i,0,i] = A[-1,i,-1,i] = A[i,0,i,0] = A[i,-1,i,-1] = 1\n",
    "    \n",
    "    # set the boundary values on the right side\n",
    "    set_boundary(b)\n",
    "    \n",
    "    return np.linalg.tensorsolve(A,b)"
   ]
  },
  {
   "cell_type": "code",
   "execution_count": null,
   "metadata": {
    "id": "O6Pf-IOCPAPO"
   },
   "outputs": [],
   "source": [
    "sol = poisson_direct(25,boundary)"
   ]
  },
  {
   "cell_type": "markdown",
   "metadata": {
    "id": "z3Tmwe59PAPP"
   },
   "source": [
    "Чтобы показать решение, нам нужно соединить обычную интерпретацию матрицы (строка, столбец, сверху и слева) с идеей построения на декартовой плоскости."
   ]
  },
  {
   "cell_type": "code",
   "execution_count": null,
   "metadata": {
    "colab": {
     "base_uri": "https://localhost:8080/",
     "height": 282
    },
    "id": "8rtINfe6PAPP",
    "outputId": "3c8d2ab9-94f3-4fd7-ee0d-5bdcb415877c"
   },
   "outputs": [
    {
     "data": {
      "text/plain": [
       "<matplotlib.image.AxesImage at 0x7f802fc850a0>"
      ]
     },
     "execution_count": 40,
     "metadata": {},
     "output_type": "execute_result"
    },
    {
     "data": {
      "image/png": "[encoded data removed]",
      "text/plain": [
       "<Figure size 432x288 with 1 Axes>"
      ]
     },
     "metadata": {
      "needs_background": "light"
     },
     "output_type": "display_data"
    }
   ],
   "source": [
    "pp.imshow(sol.T,cmap=ml.cm.Blues,interpolation='none',origin='lower')"
   ]
  },
  {
   "cell_type": "markdown",
   "metadata": {
    "id": "xJ256N56PAPQ"
   },
   "source": [
    "Превратите это в функцию, которую мы будем использовать снова."
   ]
  },
  {
   "cell_type": "code",
   "execution_count": null,
   "metadata": {
    "id": "HOWqMab7PAPQ"
   },
   "outputs": [],
   "source": [
    "def showsol(sol):\n",
    "    pp.imshow(sol.T,cmap=ml.cm.Blues,interpolation='none',origin='lower')"
   ]
  },
  {
   "cell_type": "code",
   "execution_count": null,
   "metadata": {
    "colab": {
     "base_uri": "https://localhost:8080/",
     "height": 267
    },
    "id": "nk-6xZD2PAPQ",
    "outputId": "a8f83d2d-01d4-4e51-f3f6-9a4414de437c"
   },
   "outputs": [
    {
     "data": {
      "image/png": "[encoded data removed]",
      "text/plain": [
       "<Figure size 432x288 with 1 Axes>"
      ]
     },
     "metadata": {
      "needs_background": "light"
     },
     "output_type": "display_data"
    }
   ],
   "source": [
    "showsol(poisson_direct(51,boundary))"
   ]
  },
  {
   "cell_type": "markdown",
   "metadata": {
    "id": "QtAYfGN1PAPR"
   },
   "source": [
    "Насколько быстро работает?"
   ]
  },
  {
   "cell_type": "code",
   "execution_count": null,
   "metadata": {
    "colab": {
     "base_uri": "https://localhost:8080/"
    },
    "id": "x09SK4cXPAPR",
    "outputId": "5b006cd0-994a-4977-ea15-94aaa7b87182"
   },
   "outputs": [
    {
     "name": "stdout",
     "output_type": "stream",
     "text": [
      "1.68 s ± 315 ms per loop (mean ± std. dev. of 7 runs, 1 loop each)\n"
     ]
    }
   ],
   "source": [
    "%timeit poisson_direct(65,boundary)"
   ]
  },
  {
   "cell_type": "markdown",
   "metadata": {
    "id": "qcvlwIDJPAPR"
   },
   "source": [
    "### 1.2 Решение итерациями."
   ]
  },
  {
   "cell_type": "markdown",
   "metadata": {
    "id": "pMh5MfnePAPR"
   },
   "source": [
    "Попробуем итерационный метод: решим уравнение Пуассона, превратив его в уравнение диффузии \n",
    "\n",
    "$$\\frac{\\partial u}{\\partial t} = \\frac{\\partial^2 u}{\\partial x^2} + \\frac{\\partial^2 u}{\\partial y^2}$$\n",
    "\n",
    "и решим его  с помощью прямого пространственно-временного дифференцирования (FTCS)\n",
    "\n",
    "$$u^{n+1}_{i,j} = u^{n}_{i,j} + \\frac{\\Delta t}{\\Delta^2}(u^{n}_{i+1,j} + u^{n}_{i-1,j} + u^{n}_{i,j+1} + u^{n}_{i,j-1} - 4u^n_{i,j})$$\n",
    "\n",
    "с наибольшим стабильным устойчивым шагом по времени $\\Delta t = \\Delta^2/4$ [1]\n",
    "\n",
    "$$u^{n+1}_{i,j} = \\frac{1}{4}(u^{n}_{i+1,j} + u^{n}_{i-1,j} + u^{n}_{i,j+1} + u^{n}_{i,j-1}),$$\n",
    "\n",
    "что сводится к замене каждого значения сетки средним значением его ближайших соседей.\n",
    "\n",
    "[1] Анализ устойчивости по фон Нейману_ схемы FTCS основан на решении эволюции _коэффициента усиления_ $\\xi(k)$ для режимов вида $u^n_j = \\xi^n e^{i k j \\Delta x}$ ."
   ]
  },
  {
   "cell_type": "code",
   "execution_count": null,
   "metadata": {
    "id": "qmqlJHt-PAPS"
   },
   "outputs": [],
   "source": [
    "def jacobi(grid):\n",
    "    newgrid = np.zeros(shape=grid.shape,dtype=grid.dtype)\n",
    "\n",
    "    # apply evolution operator\n",
    "    newgrid[1:-1,1:-1] = 0.25 * (grid[1:-1,:-2] + grid[1:-1,2:] +\n",
    "                                 grid[:-2,1:-1] + grid[2:,1:-1])\n",
    "\n",
    "    # copy boundary conditions\n",
    "    newgrid[0,:]  = grid[0,:]\n",
    "    newgrid[-1,:] = grid[-1,:]\n",
    "    newgrid[:,0]  = grid[:,0]\n",
    "    newgrid[:,-1] = grid[:,-1]\n",
    "    \n",
    "    return newgrid"
   ]
  },
  {
   "cell_type": "markdown",
   "metadata": {
    "id": "QBSYBuIHPAPS"
   },
   "source": [
    "Мы начинаем со случайной конфигурации, применяем граничные условия и повторяем."
   ]
  },
  {
   "cell_type": "code",
   "execution_count": null,
   "metadata": {
    "id": "ozWupZJsPAPS"
   },
   "outputs": [],
   "source": [
    "def initgrid(gridsize):\n",
    "    x = np.random.randn(gridsize,gridsize)\n",
    "    boundary(x)\n",
    "    \n",
    "    return x"
   ]
  },
  {
   "cell_type": "code",
   "execution_count": null,
   "metadata": {
    "colab": {
     "base_uri": "https://localhost:8080/",
     "height": 873
    },
    "id": "DXn082FXPAPS",
    "outputId": "046d0335-0825-4c95-d2e9-d830a4e0ed9a"
   },
   "outputs": [
    {
     "data": {
      "image/png": "[encoded data removed]",
      "text/plain": [
       "<Figure size 864x864 with 15 Axes>"
      ]
     },
     "metadata": {
      "needs_background": "light"
     },
     "output_type": "display_data"
    }
   ],
   "source": [
    "x = initgrid(25)\n",
    "\n",
    "pp.figure(figsize=(12,12))\n",
    "\n",
    "for i in range(300):    \n",
    "    if i % 20 == 0:\n",
    "        pp.subplot(4,4,i//20+1)\n",
    "        showsol(x)\n",
    "        pp.title('iter = %s' % i)\n",
    "        \n",
    "    x = jacobi(x)\n",
    "\n",
    "pp.tight_layout()"
   ]
  },
  {
   "cell_type": "markdown",
   "metadata": {
    "id": "UQci0-IMPAPT"
   },
   "source": [
    "На самом деле интереснее наблюдать за эволюцией ошибки, которую мы определяем как норму повторного решения минус точное (прямое) решение. "
   ]
  },
  {
   "cell_type": "code",
   "execution_count": null,
   "metadata": {
    "colab": {
     "base_uri": "https://localhost:8080/",
     "height": 281
    },
    "id": "9iuGa-lzPAPT",
    "outputId": "8752d99a-c960-4fbb-bbff-2e07ff368dcb"
   },
   "outputs": [
    {
     "data": {
      "image/png": "[encoded data removed]",
      "text/plain": [
       "<Figure size 432x288 with 1 Axes>"
      ]
     },
     "metadata": {
      "needs_background": "light"
     },
     "output_type": "display_data"
    }
   ],
   "source": [
    "x = initgrid(25)\n",
    "sol = poisson_direct(25,boundary)\n",
    "\n",
    "err_jacobi = []\n",
    "\n",
    "for i in range(1000):    \n",
    "    err_jacobi.append((i,np.linalg.norm(x - sol)))\n",
    "            \n",
    "    x = jacobi(x)\n",
    "\n",
    "err_jacobi = np.array(err_jacobi)\n",
    "    \n",
    "pp.semilogy(err_jacobi[:,0],err_jacobi[:,1])\n",
    "pp.title('Error after iteration: Jacobi averaging');"
   ]
  },
  {
   "cell_type": "code",
   "execution_count": null,
   "metadata": {
    "colab": {
     "base_uri": "https://localhost:8080/"
    },
    "id": "nQvi8njQPAPT",
    "outputId": "3e9348a8-f134-48c3-cf94-0a4ce6914792"
   },
   "outputs": [
    {
     "name": "stdout",
     "output_type": "stream",
     "text": [
      "27.9 ms ± 719 µs per loop (mean ± std. dev. of 7 runs, 10 loops each)\n"
     ]
    }
   ],
   "source": [
    "%%timeit\n",
    "\n",
    "x = initgrid(65)\n",
    "\n",
    "for i in range(1000):    \n",
    "    x = jacobi(x)"
   ]
  },
  {
   "cell_type": "markdown",
   "metadata": {
    "id": "4r8HksTXPAPT"
   },
   "source": [
    "Давайте рассмотрим решение с помощью классического метода Гаусса-Зейделя"
   ]
  },
  {
   "cell_type": "code",
   "execution_count": null,
   "metadata": {
    "id": "5A1es1AFPAPU"
   },
   "outputs": [],
   "source": [
    "def gauss_seidel(grid):\n",
    "    newgrid = grid.copy()\n",
    "    \n",
    "    for i in range(1,newgrid.shape[0]-1):\n",
    "        for j in range(1,newgrid.shape[1]-1):\n",
    "            newgrid[i,j] = 0.25 * (newgrid[i,j+1] + newgrid[i,j-1] +\n",
    "                                   newgrid[i+1,j] + newgrid[i-1,j])\n",
    "    \n",
    "    return newgrid"
   ]
  },
  {
   "cell_type": "code",
   "execution_count": null,
   "metadata": {
    "colab": {
     "base_uri": "https://localhost:8080/",
     "height": 281
    },
    "id": "OiCh657pPAPU",
    "outputId": "315a135f-e4e5-48ab-9bf6-a9b04631f10c"
   },
   "outputs": [
    {
     "data": {
      "image/png": "[encoded data removed]",
      "text/plain": [
       "<Figure size 432x288 with 1 Axes>"
      ]
     },
     "metadata": {
      "needs_background": "light"
     },
     "output_type": "display_data"
    }
   ],
   "source": [
    "x = initgrid(25)\n",
    "sol = poisson_direct(25,boundary)\n",
    "\n",
    "err_gs = []\n",
    "\n",
    "for i in range(1000):    \n",
    "    err_gs.append((i,np.linalg.norm(x - sol)))\n",
    "            \n",
    "    x = gauss_seidel(x)\n",
    "\n",
    "err_gs = np.array(err_gs)\n",
    "    \n",
    "pp.semilogy(err_jacobi[:,0],err_jacobi[:,1])\n",
    "pp.semilogy(err_gs[:,0],err_gs[:,1])\n",
    "\n",
    "pp.title('Error after iteration: Jacobi and Gauss-Seidel averaging')\n",
    "pp.legend(['Jacobi','Gauss-Seidel']);"
   ]
  },
  {
   "cell_type": "markdown",
   "metadata": {
    "id": "6e4Y9OnbPAPU"
   },
   "source": [
    "Скорость сходимости задается наибольшим собственным значением матрицы итерации, известной как спектральный радиус. Это $1-\\pi^2/(2J^2)$ для Якоби, $1 - \\pi^2/J^2$ для Гаусса–Зейделя.\n",
    "\n",
    "Для Якоби количество итераций для уменьшения ошибки в $10^{-p}$ раз равно $\\simeq p J^2/2$, а для Гаусса–Зейделя — $p J^2/4$."
   ]
  },
  {
   "cell_type": "markdown",
   "metadata": {
    "id": "kTqyJSVzPAPU"
   },
   "source": [
    "\n",
    "Циклы Python значительно замедляют работу Гаусса-Зейделя..."
   ]
  },
  {
   "cell_type": "code",
   "execution_count": null,
   "metadata": {
    "colab": {
     "base_uri": "https://localhost:8080/"
    },
    "id": "UYAZFhprPAPV",
    "outputId": "efcb5605-40ba-4edf-c717-74f36035c10d"
   },
   "outputs": [
    {
     "name": "stdout",
     "output_type": "stream",
     "text": [
      "4.35 s ± 226 ms per loop (mean ± std. dev. of 7 runs, 1 loop each)\n"
     ]
    }
   ],
   "source": [
    "%%timeit\n",
    "\n",
    "x = initgrid(65)\n",
    "\n",
    "for i in range(1000):    \n",
    "    x = gauss_seidel(x)"
   ]
  },
  {
   "cell_type": "markdown",
   "metadata": {
    "id": "HNAcI1KqPAPV"
   },
   "source": [
    "Мы можем значительно ускорить его, используя **Cython** (по сути, Python, скомпилированный в C, с объявленными типами для эффективности).\n",
    "\n",
    "* http://cython.org\n",
    "* IPython `cythonmagic` расширение, которое автоматически компилирует код Cython и загружает функции в текущую сессию Python: http://ipython.org/ipython-doc/stable/config/extensions/cythonmagic.html\n",
    "\n",
    "https://colab.research.google.com/drive/1oXcSCor9mH72N8NVeYX4Sl2jD0UWII2n#scrollTo=-WnbuIkZMpU-    Getting started with Cython "
   ]
  },
  {
   "cell_type": "code",
   "execution_count": null,
   "metadata": {
    "id": "HlLWiMfbPAPV"
   },
   "outputs": [],
   "source": [
    "%load_ext cython"
   ]
  },
  {
   "cell_type": "code",
   "execution_count": null,
   "metadata": {
    "id": "yl2AnY8iPAPV"
   },
   "outputs": [],
   "source": [
    "%%cython\n",
    "\n",
    "import numpy\n",
    "cimport numpy\n",
    "\n",
    "def gauss_seidel_fast(grid):\n",
    "    cdef numpy.ndarray[numpy.double_t,ndim=2] newgrid = grid.copy()\n",
    "    cdef int i,j\n",
    "    \n",
    "    for i in range(1,newgrid.shape[0]-1):\n",
    "        for j in range(1,newgrid.shape[1]-1):\n",
    "            newgrid[i,j] = 0.25 * (newgrid[i,j+1] + newgrid[i,j-1] +\n",
    "                                   newgrid[i+1,j] + newgrid[i-1,j])\n",
    "    \n",
    "    return newgrid"
   ]
  },
  {
   "cell_type": "code",
   "execution_count": null,
   "metadata": {
    "colab": {
     "base_uri": "https://localhost:8080/"
    },
    "id": "k7NejnPMPAPV",
    "outputId": "e98c5676-0f5c-413e-8178-a605fe345548"
   },
   "outputs": [
    {
     "name": "stdout",
     "output_type": "stream",
     "text": [
      "30.5 ms ± 883 µs per loop (mean ± std. dev. of 7 runs, 10 loops each)\n"
     ]
    }
   ],
   "source": [
    "%%timeit\n",
    "\n",
    "x = initgrid(65)\n",
    "\n",
    "for i in range(1000):    \n",
    "    x = gauss_seidel_fast(x)"
   ]
  },
  {
   "cell_type": "markdown",
   "metadata": {
    "id": "QPYebQ8_WAuV"
   },
   "source": [
    "## 2. Решаем уравнение теплопроводности."
   ]
  },
  {
   "cell_type": "markdown",
   "metadata": {
    "id": "j_efKcemWdyP"
   },
   "source": [
    "$$\n",
    "u_t=u_{x x}+u_{y y}+f(x, y)  \n",
    "$$\n",
    "\n",
    "Начальное условие\n",
    "\n",
    "$$\n",
    "u(t=0, x, y)=u_0(x, y)=0 \n",
    "$$\n",
    "\n",
    "И добавляются граничные условия.\n",
    "\n",
    "Простейший алгоритм заключается в следующем: \n",
    "\n",
    "-  считаем производную по времени во всех точках, вычислив правую часть уравнения с помощью численного дифференцирования\n",
    "\n",
    "-  вычисляем первое приближение $u(x,y)$ в следующий момент времени, добавив производную по времени, умноженную на шаг по времени\n",
    "\n",
    "-  вычисляем снова  производную по времени \n",
    "\n",
    "-  используем эту производную по времени, чтобы поставить и решить краевую задачу, получив второе приближение $u(x,y)$ \n",
    "\n",
    "- повторяем шаг алгоритма\n",
    "\n",
    "\n",
    "Впрочем, в методе простых итераций постпуают ещё проще, не вводя двух разных приближений $u(x,y)$  в один и тот же момент времени: \n",
    "\n",
    "-  считаем производную по времени во всех точках, вычислив правую часть уравнения с помощью численного дифференцирования\n",
    "\n",
    "-  вычисляем  $u(x,y)$ в следующий момент времени, добавив производную по времени, умноженную на шаг по времени\n",
    "\n",
    "- повторяем шаг алгоритма\n",
    "\n",
    "Оба метода работают довольно медленно. Более быстрый способ мы изучим на следующем семинаре. \n",
    "\n"
   ]
  },
  {
   "cell_type": "markdown",
   "metadata": {
    "id": "6J2C067HeX5D"
   },
   "source": [
    "## 3.  Задания для самостоятельного решения. "
   ]
  },
  {
   "cell_type": "markdown",
   "metadata": {
    "id": "xvWCxC44edub"
   },
   "source": [
    "### 1. Уравнение Пуассона."
   ]
  },
  {
   "cell_type": "markdown",
   "metadata": {
    "id": "KcjeRwkde1p6"
   },
   "source": [
    "Требуется решить двумерное уравнение Пуассона: $u_{x x}+u_{y y}=f(x, y)$, на многосвязной области интегрирования с нулевым начальным приближением и различными граничными условиями первого или второго типа.  \n",
    "\n",
    "Граничные условия берем из папки D3, документ  Laba_task.\n",
    "\n",
    "Можно решить как на Питоне, так и с помощью программы в папке. \n"
   ]
  },
  {
   "cell_type": "markdown",
   "metadata": {
    "id": "1vwZCjqKfivF"
   },
   "source": [
    "### 2. Уравнение теплопроводности."
   ]
  },
  {
   "cell_type": "markdown",
   "metadata": {
    "id": "KVh2his3fn38"
   },
   "source": [
    "Требуется решить двумерное уравнение параболического типа: $u_t=u_{x x}+u_{y y}+f(x, y)$, на многосвязной области интегрирования с нулевым начальным условием $u(t=0, x, y)=u_0(x, y)=0$ и различными граничными условиями первого или второго типа. \n",
    "\n",
    "Граничные условия берем из папки D4, документ Laba_task.\n",
    "\n",
    "Можно решить как на Питоне, так и с помощью программы в папке.\n",
    "\n",
    "**Указание.**\n",
    "\n",
    "Граничное условие на производную вдоль нормали можно следующим образом задать:\n",
    "\n",
    "\\begin{gathered}\n",
    "\\frac{\\partial \\varphi}{\\partial \\vec{n}}=0 \\\\\n",
    "\\frac{\\partial \\varphi}{\\partial \\vec{n}}=(\\operatorname{grad\\varphi }, \\vec{n}) \\\\\n",
    "\\vec{n}=\\frac{\\left(x-x_0, y-y_0\\right)}{\\sqrt{\\left(x-x_0\\right)^2+\\left(y-y_0\\right)^2}} \\\\\n",
    "\\operatorname{grad\\varphi }=\\left(\\frac{\\partial \\varphi}{\\partial x}, \\frac{\\partial \\varphi}{\\partial y}\\right) \\\\\n",
    "\\frac{\\partial \\varphi}{\\partial x} \\simeq\\left(\\varphi_{i+1, j}-\\varphi_{i, j}\\right) \\frac{1}{\\Delta x} \\\\\n",
    "\\frac{\\partial \\varphi}{\\partial y} \\approx\\left(\\varphi_{i, j+1}-\\varphi_{i, j}\\right) \\cdot \\frac{1}{\\Delta y}\n",
    "\\end{gathered} \n",
    "\n",
    "Отсюда применительно к нашей задаче на границе круга будем писать:\n",
    "\n",
    "\\begin{aligned}\n",
    "& \\left(u_{i, j}-u_{i+1, j}\\right) / h * n_x+\\left(u_{i, j}-u_{i, j+1}\\right) / h * n_y=0 \\\\\n",
    "& u_{i, j}=u_{i+1, j} \\cdot n_x+u_{i, j+1} \\cdot n_y\n",
    "\\end{aligned}\n",
    "\n",
    "Граничными точками будем называть такие, для которых внутри круга нет хотя бы одной из 4 соседних. Например, для точки (i, j) соседними будем называть точки  (i+1, j), (i, j+1), (i-1, j), (i, j-1). "
   ]
  }
 ],
 "metadata": {
  "colab": {
   "provenance": []
  },
  "gpuClass": "standard",
  "kernelspec": {
   "display_name": "Python 3 (ipykernel)",
   "language": "python",
   "name": "python3"
  },
  "language_info": {
   "codemirror_mode": {
    "name": "ipython",
    "version": 3
   },
   "file_extension": ".py",
   "mimetype": "text/x-python",
   "name": "python",
   "nbconvert_exporter": "python",
   "pygments_lexer": "ipython3",
   "version": "3.10.6"
  }
 },
 "nbformat": 4,
 "nbformat_minor": 4
}
