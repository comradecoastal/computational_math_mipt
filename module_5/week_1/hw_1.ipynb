{
 "cells": [
  {
   "cell_type": "markdown",
   "id": "15a88df5-dd8b-4c13-b10b-810587fcc8a2",
   "metadata": {
    "tags": []
   },
   "source": [
    "# Задание 1\n",
    "Решить краевую задачу:\n",
    "\n",
    "$$\n",
    "\\begin{aligned}\n",
    "&y^{\\prime \\prime}+(1-4 x) y^{\\prime}+8 y=5, \\quad 0<x<1 \\\\\n",
    "&y^{\\prime}(0)-y(0)=0 ; \\quad y(1)=0\n",
    "\\end{aligned}\n",
    "$$ \n"
   ]
  },
  {
   "cell_type": "code",
   "execution_count": 2,
   "id": "89b6596c-6ef3-4ba6-83bc-84a1432fef6e",
   "metadata": {
    "tags": []
   },
   "outputs": [],
   "source": [
    "import numpy as np\n",
    "import matplotlib.pyplot as plt\n",
    "\n",
    "from scipy.integrate import solve_ivp\n",
    "from scipy.optimize import newton\n",
    "from scipy.optimize import root\n",
    "\n",
    "from scipy import interpolate\n",
    "from scipy import integrate"
   ]
  },
  {
   "cell_type": "code",
   "execution_count": 6,
   "id": "1061f48f-2f83-48e3-9298-db1312db3bd5",
   "metadata": {
    "tags": []
   },
   "outputs": [
    {
     "data": {
      "text/plain": [
       "  message: The solver successfully reached the end of the integration interval.\n",
       "  success: True\n",
       "   status: 0\n",
       "        t: [ 0.000e+00  1.736e-02  1.086e-01  2.104e-01  3.266e-01\n",
       "             4.604e-01  6.142e-01  7.877e-01  9.765e-01  1.000e+00]\n",
       "        y: [[ 0.000e+00 -1.232e-03 ...  9.523e-01  9.757e-01]\n",
       "            [-1.167e-01 -2.607e-02 ...  1.017e+00  9.757e-01]]\n",
       "      sol: None\n",
       " t_events: None\n",
       " y_events: None\n",
       "     nfev: 56\n",
       "     njev: 0\n",
       "      nlu: 0"
      ]
     },
     "execution_count": 6,
     "metadata": {},
     "output_type": "execute_result"
    }
   ],
   "source": [
    "def function(x, y):\n",
    "    return y[1], 5 - 8 * y[0] - y[1] * (3 - 4 * x) \n",
    "\n",
    "result_1 = solve_ivp(function, (0, 1), [0, 0], rtol=1e-10)\n",
    "result_2 = solve_ivp(function, (0, 1), [0, 1], rtol=1e-10)\n",
    "\n",
    "b_1 = result_1.y[1][result_1.y[1].shape[0] - 1] - result_1.y[0][result_1.y[0].shape[0] - 1]\n",
    "b_2 = result_2.y[1][result_2.y[1].shape[0] - 1] - result_2.y[0][result_2.y[0].shape[0] - 1]\n",
    "\n",
    "# b_1 = result_1.y[0, -1]\n",
    "# b_2 = result_2.y[0, -1]\n",
    "\n",
    "l = -b_1 / (b_2 - b_1)\n",
    "result = solve_ivp(function, (0, 1), [0, l], rtol=1e-5)\n",
    "\n",
    "result"
   ]
  },
  {
   "cell_type": "code",
   "execution_count": 7,
   "id": "a7b3dc32-6c72-4fd9-8c40-4886f2c31d24",
   "metadata": {
    "tags": []
   },
   "outputs": [
    {
     "data": {
      "image/png": "[encoded data removed]",
      "text/plain": [
       "<Figure size 640x480 with 1 Axes>"
      ]
     },
     "metadata": {},
     "output_type": "display_data"
    }
   ],
   "source": [
    "plt.plot(result.t, result.y[0,:], label='solution')\n",
    "plt.legend()\n",
    "plt.grid(True)\n",
    "plt.show()"
   ]
  },
  {
   "cell_type": "markdown",
   "id": "1a23475a-ca95-4117-812e-e57875ac9411",
   "metadata": {},
   "source": [
    "# Задание 2"
   ]
  },
  {
   "cell_type": "code",
   "execution_count": 8,
   "id": "a6b6ddbd-9dea-4a54-8ae3-a88bb313d4a9",
   "metadata": {
    "tags": []
   },
   "outputs": [
    {
     "data": {
      "text/plain": [
       "  message: The solver successfully reached the end of the integration interval.\n",
       "  success: True\n",
       "   status: 0\n",
       "        t: [ 0.000e+00  2.212e-02  9.992e-02  1.882e-01  2.980e-01\n",
       "             4.352e-01  6.100e-01  8.378e-01  1.116e+00  1.427e+00\n",
       "             1.571e+00]\n",
       "        y: [[ 3.000e+00  2.793e+00 ... -1.801e-01 -3.333e-01]\n",
       "            [ 2.000e+00  1.876e+00 ...  1.124e+00  1.182e+00]]\n",
       "      sol: None\n",
       " t_events: None\n",
       " y_events: None\n",
       "     nfev: 62\n",
       "     njev: 0\n",
       "      nlu: 0"
      ]
     },
     "execution_count": 8,
     "metadata": {},
     "output_type": "execute_result"
    }
   ],
   "source": [
    "def eqation(t, y):\n",
    "    return -1 - y[0]**2, t * np.cos(t) - y[0] * y[1]\n",
    "\n",
    "result = solve_ivp(eqation, (0, np.pi / 2), [3, 2], rtol=1e-5)\n",
    "result"
   ]
  },
  {
   "cell_type": "code",
   "execution_count": 9,
   "id": "d82b2096-f879-4a6f-a4ae-4e1781e2f013",
   "metadata": {
    "tags": []
   },
   "outputs": [
    {
     "name": "stdout",
     "output_type": "stream",
     "text": [
      "0.17536030999279117\n",
      "1.123198450036044\n"
     ]
    }
   ],
   "source": [
    "a_0 = result.y[0][-1]\n",
    "a_1 = result.y[1][-1]\n",
    "b_0 = -5\n",
    "b_1 = 2\n",
    "\n",
    "print((b_1 - a_1) / (a_0 - b_0))           # y(pi/2)\n",
    "print((b_0 * a_1 - b_1 * a_0) / (b_0 - a_0))       # dy(pi/2)/dx"
   ]
  },
  {
   "cell_type": "markdown",
   "id": "7bd30539-48f5-4c7e-8097-c84bead9872a",
   "metadata": {},
   "source": [
    "Видим, что условия соваладают"
   ]
  },
  {
   "cell_type": "markdown",
   "id": "45091cba-f6f1-4524-bb70-f5605a1cdc0c",
   "metadata": {},
   "source": [
    "# Задание 3"
   ]
  },
  {
   "cell_type": "code",
   "execution_count": 10,
   "id": "8cff6cbd-0556-4534-9880-8d551882e4b1",
   "metadata": {
    "tags": []
   },
   "outputs": [],
   "source": [
    "def f(x):\n",
    "    return 1 + np.exp(-3*(x-5)**2)\n",
    "  \n",
    "def Poisson(s, steps=1000):\n",
    "    phi = lambda x, p: np.array([p[1], np.exp(p[0]) - f(x)])\n",
    "    sol = integrate.solve_ivp(phi, (0, 10), [0, s], t_eval=np.linspace(0, 10, steps))\n",
    "    yls = sol.y[0,-1]\n",
    "    phi = interpolate.splrep(sol.t, sol.y[0,:])\n",
    "\n",
    "    plt.plot(sol.t, sol.y[0,:])\n",
    "    solYU = integrate.solve_ivp(lambda x, Y, a1, a2, a3: np.array([Y[1], np.exp(interpolate.splev(x, (a1, a2, a3)))*Y[0]]),\n",
    "                                (0, 10), [0, 1], t_eval=np.linspace(0, 10, steps), args=(phi))\n",
    "    Yls = solYU.y[0,-1]\n",
    "    return s - yls/Yls"
   ]
  },
  {
   "cell_type": "code",
   "execution_count": 11,
   "id": "0ef32819-254f-4164-8732-5913f98086ab",
   "metadata": {
    "tags": []
   },
   "outputs": [
    {
     "name": "stdout",
     "output_type": "stream",
     "text": [
      "4 0.006520073423840416\n"
     ]
    },
    {
     "data": {
      "image/png": "[encoded data removed]",
      "text/plain": [
       "<Figure size 640x480 with 1 Axes>"
      ]
     },
     "metadata": {},
     "output_type": "display_data"
    }
   ],
   "source": [
    "s = 0.0065\n",
    "s_prev = 0\n",
    "n = 0\n",
    "while abs(s - s_prev) > 1e-10:\n",
    "    s_prev = s\n",
    "    s = Poisson(s_prev)\n",
    "    n += 1\n",
    "\n",
    "print(n, s)"
   ]
  },
  {
   "cell_type": "markdown",
   "id": "35f311e9-bd5d-4641-9d0e-a5ae995ee375",
   "metadata": {},
   "source": [
    "# Задание 4"
   ]
  },
  {
   "cell_type": "code",
   "execution_count": 13,
   "id": "6fc580f7-b437-4aee-9dd0-be6918154b1b",
   "metadata": {
    "tags": []
   },
   "outputs": [],
   "source": [
    "def function(phi, n, h):\n",
    "    G = np.zeros_like(phi)\n",
    "    G[0] = phi[1] - 2 * phi[0] - h**2 * (np.e**(phi[0]) - (1 + np.e**(-3*((0+1)*h - 5)**2)))\n",
    "    for i in range(1, n - 3):\n",
    "        G[i] =  phi[i+1] - 2 * phi[i] + phi[i-1] - h**2 * (np.e**(phi[i]) - (1 + np.e**(-3*((i+1)*h - 5)**2)))\n",
    "    G[n-3] = phi[n-4] - 2 * phi[n-3] - h**2 * (np.e**(phi[n-3]) - (1 + np.e**(-3*((n-3+1)*h - 5)**2)))\n",
    "    return G"
   ]
  },
  {
   "cell_type": "code",
   "execution_count": 14,
   "id": "3dd6d574-019c-45e1-81d9-1ab016f60068",
   "metadata": {
    "tags": []
   },
   "outputs": [
    {
     "name": "stdout",
     "output_type": "stream",
     "text": [
      "Необходимо операций: 107\n"
     ]
    }
   ],
   "source": [
    "h = 0.1\n",
    "n = int(10/h)\n",
    "\n",
    "x0 = np.zeros(n-2)\n",
    "res = root(lambda x: function(x, n, h), x0, tol=1e-10)\n",
    "print(\"Необходимо операций:\", res.nfev)"
   ]
  },
  {
   "cell_type": "code",
   "execution_count": null,
   "id": "38769e19-babd-40ce-89c9-2e0ddf0559b9",
   "metadata": {},
   "outputs": [],
   "source": []
  }
 ],
 "metadata": {
  "kernelspec": {
   "display_name": "Python 3 (ipykernel)",
   "language": "python",
   "name": "python3"
  },
  "language_info": {
   "codemirror_mode": {
    "name": "ipython",
    "version": 3
   },
   "file_extension": ".py",
   "mimetype": "text/x-python",
   "name": "python",
   "nbconvert_exporter": "python",
   "pygments_lexer": "ipython3",
   "version": "3.10.6"
  }
 },
 "nbformat": 4,
 "nbformat_minor": 5
}
