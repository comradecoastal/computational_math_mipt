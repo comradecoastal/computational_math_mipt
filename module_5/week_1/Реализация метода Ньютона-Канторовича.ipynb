{
  "nbformat": 4,
  "nbformat_minor": 0,
  "metadata": {
    "colab": {
      "provenance": []
    },
    "kernelspec": {
      "name": "python3",
      "display_name": "Python 3"
    },
    "language_info": {
      "name": "python"
    }
  },
  "cells": [
    {
      "cell_type": "markdown",
      "source": [
        "## Пункт 1"
      ],
      "metadata": {
        "id": "951ubSNUxqxP"
      }
    },
    {
      "cell_type": "markdown",
      "source": [
        "Требуется решить краевую задачу\n",
        "$$\n",
        "\\begin{gathered}\n",
        "-\\ddot{x}+f(t, x, \\dot{x})=0, \\\\\n",
        "x(a)=\\alpha_{0}, \\quad x(b)=\\alpha_{1} .\n",
        "\\end{gathered}\n",
        "$$\n",
        "\n",
        "\n",
        " $-\\ddot{x}=\\left(\\dot{x}^{2}+1\\right) /\\left(1+t^{2}\\right), \n",
        " x(0)=0, x(1)=-1 / 2$. \n",
        " \n",
        " Точное решение: $x^{*}(t)=-t^{2} / 2$.  "
      ],
      "metadata": {
        "id": "SG8iWJu_pOAc"
      }
    },
    {
      "cell_type": "markdown",
      "source": [
        "Выпишем формулы метода Ньютона-Канторовича.\n",
        "\n",
        "$$\n",
        "\\begin{gathered}\n",
        "-\\ddot{x}_{n+1}+f_{x}^{\\prime}\\left(t, x_{0}(t), \\dot{x}_{0}(t)\\right) x_{n+1}+f_{\\dot{x}}^{\\prime}\\left(t, x_{0}(t), \\dot{x}_{0}(t)\\right) \\dot{x}_{n+1}= \\\\\n",
        "f_{x}^{\\prime}\\left(t, x_{0}(t), \\dot{x}_{0}(t)\\right) x_{n}(t)+f_{\\dot{x}}^{\\prime}\\left(t, x_{0}(t), \\dot{x}_{0}(t)\\right) \\dot{x}_{n}(t)-f\\left(t, x_{n}(t), \\dot{x}_{n}(t)\\right) \\\\\n",
        "x_{n+1}(a)=\\alpha_{0}, \\quad x_{n+1}(b)=\\alpha_{1}\n",
        "\\end{gathered}\n",
        "$$\n",
        "\n",
        "В качестве начального приближения $x_{0}(t)$ можно взять линейную функцию $G(t)$, удовлетворяющую краевым условиям .\n",
        "\n",
        "$G(t) = \\alpha_{0} + (t - a)(\\alpha_{1} - \\alpha_{0})/( b - a) $\n",
        "\n",
        "\n",
        "Возникает серия $(\\mathrm{n}=0,1,2, \\ldots)$ линейных задач вида\n",
        "\n",
        "\n",
        "$$\n",
        "\\begin{gathered}\n",
        "p(t) \\ddot{x}_{n+1}+q(t) \\dot{x}_{n+1}+r(t) x_{n+1}=\\tilde{g}\\left(t, x_{n}(t), \\dot{x}_{n}(t)\\right) \\\\\n",
        "x_{n+1}(a)=\\alpha_{0}, x_{n+1}(b)=\\alpha_{1}\n",
        "\\end{gathered}\n",
        "$$ "
      ],
      "metadata": {
        "id": "vrxl41xLpc_a"
      }
    },
    {
      "cell_type": "markdown",
      "source": [
        "$$\n",
        "\\begin{gathered}\n",
        "f(t, x, \\dot{x})=  -\\left(\\dot{x}^{2}+1\\right) /\\left(1+t^{2}\\right), \\\\\n",
        "f_{x}^{\\prime}\\left(t, x_{0}(t), \\dot{x}_{0}(t)\\right) = 0, \\\\\n",
        "f_{\\dot{x}}^{\\prime}\\left(t, x_{0}(t), \\dot{x}_{0}(t)\\right) = -2\\dot{x}_{0}(t) /\\left(1+t^{2}\\right), \\\\\n",
        "x_{0}(t) = -t/2,  \\\\\n",
        "\\dot{x}_{0}(t) = -1/2, \\\\\n",
        "f_{\\dot{x}}^{\\prime}\\left(t, x_{0}(t), \\dot{x}_{0}(t)\\right) = 1 /\\left(1+t^{2}\\right), \\\\\n",
        "\\\\\n",
        "-\\ddot{x}_{n+1}+\\dot{x}_{n+1}/\\left(1+t^{2}\\right) =\\dot{x}_{n}/\\left(1+t^{2}\\right) + \\left(\\dot{x}_{n}^{2}+1\\right) /\\left(1+t^{2}\\right), \\\\\n",
        "x_{n+1}(0)=0, \\quad x_{n+1}(1)=-1/2\n",
        "\\end{gathered}\n",
        "$$\n",
        "\n"
      ],
      "metadata": {
        "id": "fyEDodL6rEla"
      }
    },
    {
      "cell_type": "markdown",
      "source": [
        "## Пункт 2"
      ],
      "metadata": {
        "id": "_07dwjbFx4S3"
      }
    },
    {
      "cell_type": "markdown",
      "source": [
        "Сведем полученную задачу к задаче с нулевыми краевыми условиями.\n",
        "\n",
        "$$\n",
        "\\begin{gathered}\n",
        "x_{n+1}(t)=y_{n+1}(t) - t/2, \\quad x_{n+1}(1)=-1/2\n",
        "\\end{gathered}\n",
        "$$\n",
        "\n",
        "Получаем новую краевую задачу:  \n",
        "\n",
        "$$\n",
        "\\begin{gathered}\n",
        "\\\\\n",
        "-\\ddot{y}_{n+1}+\\dot{y}_{n+1}/\\left(1+t^{2}\\right) - 0.5/\\left(1+t^{2}\\right)=\\dot{x}_{n}/\\left(1+t^{2}\\right) + \\left(\\dot{x}_{n}^{2}+1\\right) /\\left(1+t^{2}\\right), \\\\\n",
        "y_{n+1}(0)=0, \\quad y_{n+1}(1)=0\n",
        "\\end{gathered}\n",
        "$$"
      ],
      "metadata": {
        "id": "WosCIeQ8x8fu"
      }
    },
    {
      "cell_type": "markdown",
      "source": [
        "## Пункт 3\n",
        "\n",
        "\n"
      ],
      "metadata": {
        "id": "218bNhypzbJ3"
      }
    },
    {
      "cell_type": "markdown",
      "source": [
        "Перепишем краевую задачу в виде\n",
        "\n",
        "$$\n",
        "\\begin{gathered}\n",
        "\\\\\n",
        "-\\ddot{y}_{n+1}+\\dot{y}_{n+1}/\\left(1+t^{2}\\right) =\\dot{y}_{n}/\\left(1+t^{2}\\right) + \\left((\\dot{y}_{n}-0.5)^{2}+1\\right) /\\left(1+t^{2}\\right), \\\\\n",
        "\\\\\n",
        "\\\\\n",
        "-\\ddot{y}_{n+1}+\\dot{y}_{n+1}/\\left(1+t^{2}\\right) = \\left(\\dot{y}_{n}^{2}+1.25\\right) /\\left(1+t^{2}\\right),\\\\\n",
        "y_{n+1}(0)=0, \\quad y_{n+1}(1)=0\n",
        "\\end{gathered}\n",
        "$$\n",
        "\n",
        "В качестве первого приближения берем сумму по синусам:\n",
        "\n",
        "$$\n",
        "y^{N}(t)=\\sum_{k=1}^{N} a_{k} e_{k}(t) = \\sum_{k=1}^{N} a_{k} sin(\\pi k t)\n",
        "$$\n",
        "\n",
        "Используем метод Галеркина.  \n",
        "\n",
        "$$\n",
        "\\sum_{k=1}^{N} a_{k} \\int_{a}^{b}\\left[p(t) \\ddot{e}_{k}(t)+q(t) \\dot{e}_{k}(t)+r(t) e_{k}(t)\\right] e_{j}(t) d t=\\int_{a}^{b} g_{n}(t) e_{j}(t) d t ,\\\\\n",
        "\\\\\n",
        "p(t) = -1 ;\\  \\  q(t) = 1/\\left(1+t^{2}\\right) ; \\  \\ r(t) = 0\\\\\n",
        "g_{n}(t)=   \\left(\\dot{y}_{n}^{2}+1.25\\right) /\\left(1+t^{2}\\right),\\\\\n",
        "$$"
      ],
      "metadata": {
        "id": "hn73ASJxzece"
      }
    },
    {
      "cell_type": "markdown",
      "source": [
        "Подставляя значения функций и параметров в формулу, получаем систему уравнений\n",
        "\n",
        "$$\n",
        "\\\\\n",
        "\\sum_{k=1}^{N} a_{k} \\int_{0}^{1}\\left[(\\pi k )^{2}sin(\\pi k t)+(\\pi k )cos(\\pi k t)/\\left(1+t^{2}\\right)\\right] sin(\\pi j t) d t \\\\\n",
        "=\\int_{0}^{1}  \\left(\\dot{y}_{n}^{2}+1.25\\right) sin(\\pi j t) /\\left(1+t^{2}\\right)  d t ,\\\\ \\\\\n",
        "\\\\\n",
        "y_{0}(t)= 0 \\\\\n",
        "g_{0}(t)=   \\left(1.25\\right) /\\left(1+t^{2}\\right),\\\\\n",
        "\\\\\n",
        "j = 1,...,N\\\\\n",
        "$$\n",
        "\n"
      ],
      "metadata": {
        "id": "p5FDgcys4pZH"
      }
    },
    {
      "cell_type": "markdown",
      "source": [
        "Составим программу, которая вычисляет матрицу и вектор правой части этой системы уравнений для первого приближения.\n",
        "Обозначим матрицу системы как M.\n",
        "\n",
        "При  $j \\neq k$ :\n",
        "\n",
        "$$\n",
        "M_{jk} =  \\int_{0}^{1}\\left[(\\pi k )cos(\\pi k t)/\\left(1+t^{2}\\right)\\right] sin(\\pi j t) d t \\\\ \\\\\n",
        "$$\n",
        "\n",
        "При  $j = k$ :\n",
        "\n",
        "$$\n",
        "M_{jj} = 0.5(\\pi j )^{2}+ \\int_{0}^{1}\\left[(\\pi j )cos(\\pi j t)/\\left(1+t^{2}\\right)\\right] sin(\\pi j t) d t \\\\ \\\\\n",
        "$$\n",
        "\n",
        "Правую часть системы уравнений обозначим как вектор b.\n",
        "$$\n",
        "b_j=\\int_{0}^{1}  \\left(1.25\\right) sin(\\pi j t) /\\left(1+t^{2}\\right)  d t ,\\\\\n",
        "$$\n",
        "\n",
        "Здесь k и j пробегают значения от 1 до N,  а в Питоне массивы нумеруют с нуля. Поэтому будем в индексах массивов вычитать 1."
      ],
      "metadata": {
        "id": "_uuVsP6Q7w0M"
      }
    },
    {
      "cell_type": "code",
      "source": [
        "import numpy as np\n",
        "from scipy import integrate\n",
        "import matplotlib.pyplot as plt\n",
        "\n",
        "\n",
        "def f(x, j, k, pi):\n",
        "    return np.cos(pi*k*x)*np.sin(pi*j*x)/(x*x + 1)\n",
        "N = 10\n",
        "M = np.zeros((N, N)) ; b = np.zeros(N)\n",
        "pi = 3.14159265358979323846\n",
        "for j in range(1, N+1):\n",
        "  for k in range(1, N+1):\n",
        "    f2 = lambda t: np.cos(pi*k*t)*np.sin(pi*j*t)/(t*t + 1)\n",
        "    M[j-1, k-1], err  = integrate.quad(f2, 0.0, 1.0)\n",
        "    M[j-1, k-1]= pi*k*M[j-1, k-1]\n",
        "    if j == k:\n",
        "      M[j-1, k-1] += 0.5*((pi*k)**2)\n",
        "\n",
        "#print(M)\n",
        "for j in range(1, N+1):\n",
        "  f3 = lambda t: 1.25*np.sin(pi*j*t)/(t*t + 1)\n",
        "  b[j - 1], err = integrate.quad(f3, 0.0, 1.0)\n",
        "#print(b)\n",
        "\n",
        "ak = np.linalg.solve(M, b); # print(ak)\n",
        "y1 = np.zeros(1001);  #  значения в точках  0, 0.001, 0.002, ..., 1.000\n",
        "x1 = np.zeros(1001);\n",
        "for j in range(1001):\n",
        "  t = j*0.001\n",
        "  for i in  range(1,N+1):\n",
        "    y1[j] += ak[i-1]*np.sin(pi*i*t)\n",
        "    x1[j] = y1[j] - t*0.5\n",
        "\n",
        "print(x1)\n",
        "tx = np.arange(0.0,  1.001, 0.001)\n",
        "fig = plt.figure()\n",
        "plt.plot(tx, y1)\n",
        "\n",
        "plt.show()"
      ],
      "metadata": {
        "colab": {
          "base_uri": "https://localhost:8080/",
          "height": 301
        },
        "id": "WS7-3z2U0TjA",
        "outputId": "882e0e84-6c2c-42c6-a62b-fef18a1049c3"
      },
      "execution_count": null,
      "outputs": [
        {
          "output_type": "stream",
          "name": "stdout",
          "text": [
            "[ 0.00000000e+00 -5.16426056e-05 -1.03301512e-04 ... -4.98088760e-01\n",
            " -4.99044371e-01 -5.00000000e-01]\n"
          ]
        },
        {
          "output_type": "display_data",
          "data": {
            "text/plain": [
              "<Figure size 432x288 with 1 Axes>"
            ],
            "image/png": "[encoded data removed]"
          },
          "metadata": {
            "needs_background": "light"
          }
        }
      ]
    },
    {
      "cell_type": "markdown",
      "source": [
        "Теперь считаем второе приближение.  Отличие только в правой части системы уравнений. \n",
        "\n",
        "$$\n",
        "b_j=\\int_{0}^{1}  \\left(1.25 + \\dot{y}_{1}^{2}\\right) sin(\\pi j t) /\\left(1+t^{2}\\right)  d t ,\\\\\n",
        "$$\n",
        "\n",
        "Нужно вычислить производную от первого приближения, чтобы подставить в интеграл. Лучше всего это сделать не конечными разностями, а аналитически, используя сумму ряда. Это значит, что коэффициенты ряда нужно будет умножить на $\\pi*k$, а вместо синусов использовать косинусы."
      ],
      "metadata": {
        "id": "lw83dDKEem8j"
      }
    },
    {
      "cell_type": "code",
      "source": [
        "print(ak)"
      ],
      "metadata": {
        "colab": {
          "base_uri": "https://localhost:8080/"
        },
        "id": "2eRLPE3YhyuU",
        "outputId": "b13d7dbf-a79e-4e4a-dd4a-3c6a54ea098a"
      },
      "execution_count": null,
      "outputs": [
        {
          "output_type": "stream",
          "name": "stdout",
          "text": [
            "[ 1.24250107e-01 -2.85066101e-04  3.96334910e-03 -7.38880575e-05\n",
            "  8.51557685e-04 -2.32879999e-05  3.09762589e-04 -1.05635312e-05\n",
            "  1.45392724e-04 -6.74384683e-06]\n"
          ]
        }
      ]
    },
    {
      "cell_type": "code",
      "source": [
        "def fy1(t):\n",
        "  s = 0\n",
        "  for k in range(1, len(ak)+1):\n",
        "    s += ak[k-1]*pi*k*np.cos(pi*k*t)\n",
        "  return s\n",
        "\n",
        "tx = np.arange(0.0,  1.001, 0.001)\n",
        "y11 = np.zeros(1001)\n",
        "for i in range(1001):\n",
        "  y11[i] = fy1(tx[i])\n",
        "plt.plot(tx, y11)"
      ],
      "metadata": {
        "colab": {
          "base_uri": "https://localhost:8080/",
          "height": 283
        },
        "id": "KiGYK-40IjWK",
        "outputId": "dd263d4b-dcd3-4813-e78f-d22861eb8487"
      },
      "execution_count": null,
      "outputs": [
        {
          "output_type": "execute_result",
          "data": {
            "text/plain": [
              "[<matplotlib.lines.Line2D at 0x7fbe2a3c4f10>]"
            ]
          },
          "metadata": {},
          "execution_count": 94
        },
        {
          "output_type": "display_data",
          "data": {
            "text/plain": [
              "<Figure size 432x288 with 1 Axes>"
            ],
            "image/png": "[encoded data removed]"
          },
          "metadata": {
            "needs_background": "light"
          }
        }
      ]
    },
    {
      "cell_type": "code",
      "source": [
        "b2 = np.zeros(N)\n",
        "for j in range(1, N+1):\n",
        "  fb = lambda t: (1.25+(fy1(t)**2)  )*np.sin(pi*j*t)/(t*t + 1)\n",
        "  b2[j - 1], err = integrate.quad(fb, 0.0, 1.0)"
      ],
      "metadata": {
        "id": "RbNS9q2biwu3"
      },
      "execution_count": null,
      "outputs": []
    },
    {
      "cell_type": "code",
      "source": [
        "ak2 = np.linalg.solve(M, b2)\n",
        "y2 = np.zeros(1001);  #  значения в точках  0, 0.001, 0.002, ..., 1.000\n",
        "x2 = np.zeros(1001);\n",
        "for j in range(1001):\n",
        "  t = j*0.001\n",
        "  for i in  range(1,N+1):\n",
        "    y2[j] += ak2[i-1]*np.sin(pi*i*t)\n",
        "    x2[j] = y2[j] - t*0.5\n",
        "\n",
        "tx = np.arange(0.0,  1.001, 0.001)\n",
        "fig = plt.figure()\n",
        "plt.plot(tx, y2)\n",
        "\n",
        "plt.show()"
      ],
      "metadata": {
        "colab": {
          "base_uri": "https://localhost:8080/",
          "height": 265
        },
        "id": "OYuwo7DBk_ur",
        "outputId": "b8ddbd8b-df7c-48b9-e5d3-6093adaee337"
      },
      "execution_count": null,
      "outputs": [
        {
          "output_type": "display_data",
          "data": {
            "text/plain": [
              "<Figure size 432x288 with 1 Axes>"
            ],
            "image/png": "[encoded data removed]"
          },
          "metadata": {
            "needs_background": "light"
          }
        }
      ]
    },
    {
      "cell_type": "markdown",
      "source": [
        "Выведем теперь первое приближение x1(t) и погрешность - максимальную абсолютную и максимальную относительную."
      ],
      "metadata": {
        "id": "wOZ0vaL-pXrv"
      }
    },
    {
      "cell_type": "code",
      "source": [
        "tx = np.arange(0.0,  1.001, 0.001)\n",
        "fig = plt.figure()\n",
        "plt.plot(tx, x1)\n",
        "\n",
        "plt.show()\n",
        "\n",
        "err = 0\n",
        "for i in range(len(tx)):\n",
        "  t = i*0.001\n",
        "  err = max(err, abs(x1[i] + 0.5*t*t))\n",
        "print('максимальная абсолютная погрешность первого приближения ',  err)\n",
        "err = 0\n",
        "for i in range(1, len(tx)):\n",
        "  t = i*0.001\n",
        "  err = max(err, (abs(x1[i] + 0.5*t*t))/0.5*t*t)\n",
        "print('максимальная относительная погрешность первого приближения ', 100*err, ' %')"
      ],
      "metadata": {
        "colab": {
          "base_uri": "https://localhost:8080/",
          "height": 301
        },
        "id": "Hy6BoXmDlYWF",
        "outputId": "7d0af370-8c52-413e-dbb6-3707d360dd13"
      },
      "execution_count": null,
      "outputs": [
        {
          "output_type": "display_data",
          "data": {
            "text/plain": [
              "<Figure size 432x288 with 1 Axes>"
            ],
            "image/png": "[encoded data removed]"
          },
          "metadata": {
            "needs_background": "light"
          }
        },
        {
          "output_type": "stream",
          "name": "stdout",
          "text": [
            "максимальная абсолютная погрешность первого приближения  0.004232735601696194\n",
            "максимальная относительная погрешность первого приближения  0.4208003392700022  %\n"
          ]
        }
      ]
    },
    {
      "cell_type": "markdown",
      "source": [
        "Теперь во втором приближении."
      ],
      "metadata": {
        "id": "zEGl9eJlq2I_"
      }
    },
    {
      "cell_type": "code",
      "source": [
        "tx = np.arange(0.0,  1.001, 0.001)\n",
        "fig = plt.figure()\n",
        "plt.plot(tx, x2)\n",
        "\n",
        "plt.show()\n",
        "\n",
        "err = 0\n",
        "for i in range(len(tx)):\n",
        "  t = i*0.001\n",
        "  err = max(err, abs(x2[i] + 0.5*t*t))\n",
        "print('максимальная абсолютная погрешность второго приближения ',  err)\n",
        "err = 0\n",
        "for i in range(1, len(tx)):\n",
        "  t = i*0.001\n",
        "  err = max(err, (abs(x2[i] + 0.5*t*t))/0.5*t*t)\n",
        "print('максимальная относительная погрешность второго приближения ', 100*err, ' %')\n"
      ],
      "metadata": {
        "colab": {
          "base_uri": "https://localhost:8080/",
          "height": 301
        },
        "id": "XQi5C6_nprvy",
        "outputId": "35236bbf-4cd6-4781-8b44-ba58b18372bd"
      },
      "execution_count": null,
      "outputs": [
        {
          "output_type": "display_data",
          "data": {
            "text/plain": [
              "<Figure size 432x288 with 1 Axes>"
            ],
            "image/png": "[encoded data removed]"
          },
          "metadata": {
            "needs_background": "light"
          }
        },
        {
          "output_type": "stream",
          "name": "stdout",
          "text": [
            "максимальная абсолютная погрешность второго приближения  0.00031925355827197555\n",
            "максимальная относительная погрешность второго приближения  0.05349027452891125  %\n"
          ]
        }
      ]
    },
    {
      "cell_type": "code",
      "source": [],
      "metadata": {
        "id": "s3JN-soYrEnH"
      },
      "execution_count": null,
      "outputs": []
    }
  ]
}